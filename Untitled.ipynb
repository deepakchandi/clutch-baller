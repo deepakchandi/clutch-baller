{
 "cells": [
  {
   "cell_type": "code",
   "execution_count": 1,
   "metadata": {},
   "outputs": [],
   "source": [
    "import pandas as pd\n",
    "import numpy as np"
   ]
  },
  {
   "cell_type": "code",
   "execution_count": 2,
   "metadata": {},
   "outputs": [],
   "source": [
    "df = pd.read_csv('/Users/deepak/Desktop/NBA_Data/Every_Season_Data/[2005-2006]-combined-stats.csv')"
   ]
  },
  {
   "cell_type": "code",
   "execution_count": 16,
   "metadata": {},
   "outputs": [
    {
     "name": "stdout",
     "output_type": "stream",
     "text": [
      "<class 'pandas.core.frame.DataFrame'>\n",
      "RangeIndex: 591352 entries, 0 to 591351\n",
      "Data columns (total 44 columns):\n",
      "game_id           591352 non-null object\n",
      "data_set          591352 non-null object\n",
      "date              591352 non-null object\n",
      "a1                591352 non-null object\n",
      "a2                591352 non-null object\n",
      "a3                591352 non-null object\n",
      "a4                591352 non-null object\n",
      "a5                591352 non-null object\n",
      "h1                591352 non-null object\n",
      "h2                591352 non-null object\n",
      "h3                591352 non-null object\n",
      "h4                591352 non-null object\n",
      "h5                591352 non-null object\n",
      "period            591352 non-null int64\n",
      "away_score        591352 non-null int64\n",
      "home_score        591352 non-null int64\n",
      "remaining_time    591352 non-null object\n",
      "elapsed           591352 non-null object\n",
      "play_length       591352 non-null object\n",
      "play_id           591352 non-null int64\n",
      "team              536776 non-null object\n",
      "event_type        591352 non-null object\n",
      "assist            53747 non-null object\n",
      "away              2291 non-null object\n",
      "home              2291 non-null object\n",
      "block             12265 non-null object\n",
      "entered           51518 non-null object\n",
      "left              51518 non-null object\n",
      "num               69229 non-null float64\n",
      "opponent          59877 non-null object\n",
      "outof             69229 non-null float64\n",
      "player            536899 non-null object\n",
      "points            276328 non-null float64\n",
      "possession        2168 non-null object\n",
      "reason            99609 non-null object\n",
      "result            276328 non-null object\n",
      "steal             18677 non-null object\n",
      "type              591352 non-null object\n",
      "shot_distance     207099 non-null float64\n",
      "original_x        207099 non-null float64\n",
      "original_y        207099 non-null float64\n",
      "converted_x       207099 non-null float64\n",
      "converted_y       207099 non-null float64\n",
      "description       577328 non-null object\n",
      "dtypes: float64(8), int64(4), object(32)\n",
      "memory usage: 198.5+ MB\n"
     ]
    }
   ],
   "source": [
    "df.info()"
   ]
  },
  {
   "cell_type": "code",
   "execution_count": 3,
   "metadata": {},
   "outputs": [],
   "source": [
    "regular_season = df[df['data_set']=='2005-2006 Regular Season']"
   ]
  },
  {
   "cell_type": "code",
   "execution_count": 4,
   "metadata": {},
   "outputs": [],
   "source": [
    "playoffs= df[df['data_set']=='2006 Playoff']"
   ]
  },
  {
   "cell_type": "code",
   "execution_count": 5,
   "metadata": {},
   "outputs": [],
   "source": [
    "fourth_quarter = (regular_season[regular_season['period']>=4]) #| (regular_season_4th[regular_season_4th['remaining_time'] < '00:02:00'])"
   ]
  },
  {
   "cell_type": "code",
   "execution_count": 6,
   "metadata": {},
   "outputs": [],
   "source": [
    "fourth_quarter = fourth_quarter.drop(['a1', 'a2', 'a3','a4','a5','h1','h2','h3','h4','h5', 'play_length', 'entered', 'left', 'possession', 'shot_distance', 'original_x', 'original_y', 'converted_x', 'converted_y'], axis = 1)\n"
   ]
  },
  {
   "cell_type": "code",
   "execution_count": 7,
   "metadata": {},
   "outputs": [],
   "source": [
    "fourth_quarter['pts_difference'] = fourth_quarter['away_score']-fourth_quarter['home_score']"
   ]
  },
  {
   "cell_type": "code",
   "execution_count": 8,
   "metadata": {},
   "outputs": [],
   "source": [
    "fourth_quarter = fourth_quarter[fourth_quarter['pts_difference']>=-7]\n",
    "fourth_quarter = fourth_quarter[fourth_quarter['pts_difference']<=7]"
   ]
  },
  {
   "cell_type": "code",
   "execution_count": 9,
   "metadata": {},
   "outputs": [
    {
     "data": {
      "text/plain": [
       "array([4, 5, 6, 7])"
      ]
     },
     "execution_count": 9,
     "metadata": {},
     "output_type": "execute_result"
    }
   ],
   "source": [
    "fourth_quarter['period'].unique()"
   ]
  },
  {
   "cell_type": "code",
   "execution_count": 13,
   "metadata": {},
   "outputs": [],
   "source": [
    "regular_season_5min = fourth_quarter[(fourth_quarter['remaining_time'] < '00:05:00')] #| (regular_season_4th[regular_season_4th['period']>=5])]"
   ]
  },
  {
   "cell_type": "code",
   "execution_count": 26,
   "metadata": {},
   "outputs": [
    {
     "data": {
      "text/plain": [
       "776"
      ]
     },
     "execution_count": 26,
     "metadata": {},
     "output_type": "execute_result"
    }
   ],
   "source": [
    "regular_season_5min['game_id'].value_counts()"
   ]
  },
  {
   "cell_type": "code",
   "execution_count": 15,
   "metadata": {},
   "outputs": [
    {
     "name": "stdout",
     "output_type": "stream",
     "text": [
      "<class 'pandas.core.frame.DataFrame'>\n",
      "Int64Index: 39022 entries, 400 to 551271\n",
      "Data columns (total 26 columns):\n",
      "game_id           39022 non-null object\n",
      "data_set          39022 non-null object\n",
      "date              39022 non-null object\n",
      "period            39022 non-null int64\n",
      "away_score        39022 non-null int64\n",
      "home_score        39022 non-null int64\n",
      "remaining_time    39022 non-null object\n",
      "elapsed           39022 non-null object\n",
      "play_id           39022 non-null int64\n",
      "team              33620 non-null object\n",
      "event_type        39022 non-null object\n",
      "assist            2433 non-null object\n",
      "away              75 non-null object\n",
      "home              75 non-null object\n",
      "block             692 non-null object\n",
      "num               6367 non-null float64\n",
      "opponent          4423 non-null object\n",
      "outof             6367 non-null float64\n",
      "player            33629 non-null object\n",
      "points            17519 non-null float64\n",
      "reason            6129 non-null object\n",
      "result            17519 non-null object\n",
      "steal             865 non-null object\n",
      "type              39022 non-null object\n",
      "description       38258 non-null object\n",
      "pts_difference    39022 non-null int64\n",
      "dtypes: float64(3), int64(5), object(18)\n",
      "memory usage: 8.0+ MB\n"
     ]
    }
   ],
   "source": [
    "regular_season_5min.info()"
   ]
  },
  {
   "cell_type": "code",
   "execution_count": 218,
   "metadata": {},
   "outputs": [
    {
     "data": {
      "text/plain": [
       "697"
      ]
     },
     "execution_count": 218,
     "metadata": {},
     "output_type": "execute_result"
    }
   ],
   "source": [
    "regular_season_2min['game_id'].value_counts().count()"
   ]
  },
  {
   "cell_type": "code",
   "execution_count": 241,
   "metadata": {},
   "outputs": [],
   "source": [
    "x= regular_season_2min[~regular_season_2min.type.str.contains('foul')]\n",
    "#df[~df.C.str.contains(\"XYZ\")]\n",
    "\n",
    "\n",
    "# x= regular_season_2min.ix[regular_season_2min['type']=='s.foul']\n",
    "# x= regular_season_2min.ix[regular_season_2min['type']=='sub']\n",
    "# x= regular_season_2min.ix[regular_season_2min['type']=='timeout: regular']"
   ]
  },
  {
   "cell_type": "code",
   "execution_count": 242,
   "metadata": {},
   "outputs": [],
   "source": [
    "x= x[~x.type.str.contains('sub')]"
   ]
  },
  {
   "cell_type": "code",
   "execution_count": 243,
   "metadata": {},
   "outputs": [],
   "source": [
    "x= x[~x.type.str.contains('timeout')]"
   ]
  },
  {
   "cell_type": "code",
   "execution_count": null,
   "metadata": {},
   "outputs": [],
   "source": []
  }
 ],
 "metadata": {
  "kernelspec": {
   "display_name": "Python 3",
   "language": "python",
   "name": "python3"
  },
  "language_info": {
   "codemirror_mode": {
    "name": "ipython",
    "version": 3
   },
   "file_extension": ".py",
   "mimetype": "text/x-python",
   "name": "python",
   "nbconvert_exporter": "python",
   "pygments_lexer": "ipython3",
   "version": "3.6.5"
  }
 },
 "nbformat": 4,
 "nbformat_minor": 2
}
