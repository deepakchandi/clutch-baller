{
 "cells": [
  {
   "cell_type": "code",
   "execution_count": 1,
   "metadata": {},
   "outputs": [],
   "source": [
    "import pandas as pd\n",
    "import numpy as np\n",
    "from numpy import inf\n",
    "import matplotlib.pyplot as plt\n",
    "import seaborn as sns\n",
    "%load_ext autoreload\n",
    "%autoreload 2\n",
    "\n",
    "from sklearn.ensemble import RandomForestClassifier, GradientBoostingClassifier\n",
    "from sklearn.metrics import accuracy_score, recall_score, precision_score, f1_score, precision_recall_curve\n",
    "\n",
    "\n",
    "from xgboost import XGBClassifier\n",
    "\n",
    "import itertools\n",
    "import random\n",
    "\n",
    "pd.set_option('display.max_columns', None)\n",
    "pd.set_option('display.max_rows', None)\n",
    "\n",
    "import practice_code as pc\n",
    "import individual_stats as ind\n",
    "\n",
    "from sklearn.model_selection import train_test_split, GridSearchCV\n",
    "\n",
    "import warnings\n",
    "warnings.filterwarnings('ignore')"
   ]
  },
  {
   "cell_type": "code",
   "execution_count": 2,
   "metadata": {},
   "outputs": [],
   "source": [
    "clutch_time = pd.read_csv('CSV Files/clutch_time.csv')"
   ]
  },
  {
   "cell_type": "code",
   "execution_count": 3,
   "metadata": {},
   "outputs": [],
   "source": [
    "clutch_time = pc.replace_nan(clutch_time)\n",
    "clutch_time['total_blocks'] = (clutch_time['block'] != '')*1\n",
    "clutch_time['assist_count'] = (clutch_time['assist'] != '')*1"
   ]
  },
  {
   "cell_type": "code",
   "execution_count": 4,
   "metadata": {},
   "outputs": [],
   "source": [
    "reg = pd.read_csv('CSV Files/data_for_ids.csv')"
   ]
  },
  {
   "cell_type": "code",
   "execution_count": 5,
   "metadata": {},
   "outputs": [],
   "source": [
    "ids = ind.add_ids(reg)"
   ]
  },
  {
   "cell_type": "code",
   "execution_count": null,
   "metadata": {},
   "outputs": [],
   "source": []
  },
  {
   "cell_type": "markdown",
   "metadata": {},
   "source": [
    "# Train_target (2015-2016 season)"
   ]
  },
  {
   "cell_type": "code",
   "execution_count": 6,
   "metadata": {},
   "outputs": [],
   "source": [
    "train_target= clutch_time[clutch_time['data_set'] == '2015-2016 Regular Season']"
   ]
  },
  {
   "cell_type": "code",
   "execution_count": 7,
   "metadata": {},
   "outputs": [],
   "source": [
    "stats_train_target = ind.object_to_int(train_target, 'points')\n",
    "assists = ind.assist_stats(stats_train_target)\n",
    "blks = ind.blk_stats(stats_train_target)\n",
    "names = ind.player_names(stats_train_target)\n",
    "train_target_stats = ind.merge_all(names, blks, assists, stats_train_target)\n",
    "train_target_stats = ind.get_per_game_stats(train_target_stats)\n",
    "train_target_stats = ind.merge_ids(train_target_stats, ids)"
   ]
  },
  {
   "cell_type": "code",
   "execution_count": 8,
   "metadata": {},
   "outputs": [],
   "source": [
    "train_target_stats = ind.add_league_avg(train_target_stats)\n"
   ]
  },
  {
   "cell_type": "code",
   "execution_count": 9,
   "metadata": {},
   "outputs": [],
   "source": [
    "turnover_data = pd.read_csv('CSV Files/reg_turnovers.csv')"
   ]
  },
  {
   "cell_type": "markdown",
   "metadata": {},
   "source": [
    "# Train data (2004-2015)"
   ]
  },
  {
   "cell_type": "code",
   "execution_count": 10,
   "metadata": {},
   "outputs": [],
   "source": [
    "train_clutch = clutch_time[clutch_time['data_set'] != '2015-2016 Regular Season']"
   ]
  },
  {
   "cell_type": "code",
   "execution_count": 11,
   "metadata": {},
   "outputs": [],
   "source": [
    "train_clutch_time = pc.replace_nan(train_clutch)\n",
    "train_clutch_time['total_blocks'] = (train_clutch_time['block'] != '')*1\n",
    "train_clutch_time['assist_count'] = (train_clutch_time['assist'] != '')*1"
   ]
  },
  {
   "cell_type": "code",
   "execution_count": 12,
   "metadata": {},
   "outputs": [],
   "source": [
    "player_stats_clutch = ind.object_to_int(train_clutch_time, 'points')\n",
    "assists = ind.assist_stats(player_stats_clutch)\n",
    "blks = ind.blk_stats(player_stats_clutch)\n",
    "names = ind.player_names(player_stats_clutch)\n",
    "train_clutch_stats = ind.merge_all(names, blks, assists, player_stats_clutch)\n",
    "train_clutch_stats = ind.get_per_game_stats(train_clutch_stats)\n",
    "train_clutch_stats = ind.merge_ids(train_clutch_stats, ids)"
   ]
  },
  {
   "cell_type": "code",
   "execution_count": 13,
   "metadata": {},
   "outputs": [],
   "source": [
    "train_clutch_stats = ind.add_league_avg(train_clutch_stats)\n"
   ]
  },
  {
   "cell_type": "markdown",
   "metadata": {},
   "source": [
    "# Test target (clutch or not in 2016-2017 season)"
   ]
  },
  {
   "cell_type": "code",
   "execution_count": 14,
   "metadata": {},
   "outputs": [],
   "source": [
    "test_target = pd.read_csv('Test_data/first_test.csv')"
   ]
  },
  {
   "cell_type": "code",
   "execution_count": 15,
   "metadata": {},
   "outputs": [],
   "source": [
    "test_target = test_target.drop('id', axis =1)\n",
    "test_target = ind.merge_ids(test_target, ids)\n",
    "test_target = ind.add_league_avg(test_target)"
   ]
  },
  {
   "cell_type": "markdown",
   "metadata": {},
   "source": [
    "# X_test data"
   ]
  },
  {
   "cell_type": "code",
   "execution_count": 16,
   "metadata": {},
   "outputs": [],
   "source": [
    "test_clutch_time = pc.replace_nan(clutch_time)\n",
    "test_clutch_time['total_blocks'] = (test_clutch_time['block'] != '')*1\n",
    "test_clutch_time['assist_count'] = (test_clutch_time['assist'] != '')*1"
   ]
  },
  {
   "cell_type": "code",
   "execution_count": 17,
   "metadata": {},
   "outputs": [],
   "source": [
    "player_stats_test = ind.object_to_int(test_clutch_time, 'points')\n",
    "assists = ind.assist_stats(player_stats_test)\n",
    "blks = ind.blk_stats(player_stats_test)\n",
    "names = ind.player_names(player_stats_test)\n",
    "test_clutch_stats = ind.merge_all(names, blks, assists, player_stats_test)\n",
    "test_clutch_stats = ind.get_per_game_stats(test_clutch_stats)\n",
    "test_clutch_stats = ind.merge_ids(test_clutch_stats, ids)"
   ]
  },
  {
   "cell_type": "code",
   "execution_count": 18,
   "metadata": {
    "scrolled": true
   },
   "outputs": [],
   "source": [
    "test_clutch_stats = ind.add_league_avg(test_clutch_stats)"
   ]
  },
  {
   "cell_type": "markdown",
   "metadata": {},
   "source": [
    "# import csv files for turnovers and ejections"
   ]
  },
  {
   "cell_type": "markdown",
   "metadata": {},
   "source": [
    "### Keep al the ejections from total game sbecause if they are ejected they cant comebacck"
   ]
  },
  {
   "cell_type": "code",
   "execution_count": 19,
   "metadata": {},
   "outputs": [],
   "source": [
    "turnover_data = turnover_data[turnover_data['data_set']!= '2015-2016 Regular Season']"
   ]
  },
  {
   "cell_type": "code",
   "execution_count": 20,
   "metadata": {},
   "outputs": [],
   "source": [
    "turnover_data['pts_difference'] = turnover_data['away_score'] - turnover_data['home_score']"
   ]
  },
  {
   "cell_type": "code",
   "execution_count": 21,
   "metadata": {},
   "outputs": [],
   "source": [
    "turnover_data = pc.clutch_moment(turnover_data)"
   ]
  },
  {
   "cell_type": "code",
   "execution_count": 22,
   "metadata": {},
   "outputs": [],
   "source": [
    "x = turnover_data.groupby('player').count()\n",
    "turnover_data = x[['event_type']]\n",
    "turnover_data.reset_index(level=0, inplace=True)\n",
    "turnover_data = turnover_data.rename(columns={'event_type':'total_turnovers'})"
   ]
  },
  {
   "cell_type": "markdown",
   "metadata": {},
   "source": [
    "# merge these to train data"
   ]
  },
  {
   "cell_type": "code",
   "execution_count": 23,
   "metadata": {},
   "outputs": [],
   "source": [
    "train_clutch_stats = pd.merge(train_clutch_stats,turnover_data,on='player', how = 'left')\n"
   ]
  },
  {
   "cell_type": "code",
   "execution_count": 24,
   "metadata": {},
   "outputs": [],
   "source": [
    "train_clutch_stats = train_clutch_stats.fillna(0)"
   ]
  },
  {
   "cell_type": "code",
   "execution_count": 25,
   "metadata": {},
   "outputs": [],
   "source": [
    "train_clutch_stats['TPG'] = round(train_clutch_stats['total_turnovers'] / train_clutch_stats['total_games'],2)"
   ]
  },
  {
   "cell_type": "markdown",
   "metadata": {},
   "source": [
    "# get TO and ejection data for train target"
   ]
  },
  {
   "cell_type": "code",
   "execution_count": 26,
   "metadata": {},
   "outputs": [],
   "source": [
    "turnover_data = pd.read_csv('CSV Files/reg_turnovers.csv')"
   ]
  },
  {
   "cell_type": "code",
   "execution_count": 27,
   "metadata": {},
   "outputs": [],
   "source": [
    "target_turnover_data = turnover_data[turnover_data['data_set'] == '2015-2016 Regular Season']"
   ]
  },
  {
   "cell_type": "code",
   "execution_count": 28,
   "metadata": {},
   "outputs": [],
   "source": [
    "target_turnover_data['pts_difference'] = target_turnover_data['away_score'] - target_turnover_data['home_score']"
   ]
  },
  {
   "cell_type": "code",
   "execution_count": 29,
   "metadata": {},
   "outputs": [],
   "source": [
    "target_turnover_data = pc.clutch_moment(target_turnover_data)"
   ]
  },
  {
   "cell_type": "code",
   "execution_count": 30,
   "metadata": {},
   "outputs": [],
   "source": [
    "x = target_turnover_data.groupby('player').count()\n",
    "target_turnover_data = x[['event_type']]\n",
    "target_turnover_data.reset_index(level=0, inplace=True)\n",
    "target_turnover = target_turnover_data.rename(columns={'event_type':'total_turnovers'})"
   ]
  },
  {
   "cell_type": "code",
   "execution_count": 31,
   "metadata": {},
   "outputs": [],
   "source": [
    "train_target_stats = pd.merge(train_target_stats,target_turnover,on='player', how = 'left')\n",
    "train_target_stats = train_target_stats.fillna(0)\n",
    "train_target_stats['TPG'] = round(train_target_stats['total_turnovers'] / train_target_stats['total_games'],2)"
   ]
  },
  {
   "cell_type": "markdown",
   "metadata": {},
   "source": [
    "# Do the same for x_test aka clutch time"
   ]
  },
  {
   "cell_type": "code",
   "execution_count": 32,
   "metadata": {},
   "outputs": [],
   "source": [
    "turnover_data = pd.read_csv('CSV Files/reg_turnovers.csv')"
   ]
  },
  {
   "cell_type": "code",
   "execution_count": 33,
   "metadata": {},
   "outputs": [],
   "source": [
    "turnover_data['pts_difference'] = turnover_data['away_score'] - turnover_data['home_score']\n",
    "turnover_data = pc.clutch_moment(turnover_data)"
   ]
  },
  {
   "cell_type": "code",
   "execution_count": 34,
   "metadata": {},
   "outputs": [],
   "source": [
    "x = turnover_data.groupby('player').count()\n",
    "turnover_data = x[['event_type']]\n",
    "turnover_data.reset_index(level=0, inplace=True)\n",
    "turnover_data = turnover_data.rename(columns={'event_type':'total_turnovers'})"
   ]
  },
  {
   "cell_type": "code",
   "execution_count": 35,
   "metadata": {},
   "outputs": [],
   "source": [
    "test_clutch_stats = pd.merge(test_clutch_stats,turnover_data,on='player', how = 'left')\n",
    "test_clutch_stats = test_clutch_stats.fillna(0)\n",
    "test_clutch_stats['TPG'] = round(test_clutch_stats['total_turnovers'] / test_clutch_stats['total_games'],2)"
   ]
  },
  {
   "cell_type": "markdown",
   "metadata": {},
   "source": [
    "# And for the test target"
   ]
  },
  {
   "cell_type": "code",
   "execution_count": 36,
   "metadata": {},
   "outputs": [],
   "source": [
    "test_target = pd.read_csv('Every_Season_Data/[2016-2017]-combined-stats.csv')\n",
    "turnovers = test_target[test_target['event_type'].str.contains('urnover')]\n",
    "turnovers['pts_difference'] = turnovers['away_score'] - turnovers['home_score']\n",
    "turnovers = pc.clutch_moment(turnovers)\n",
    "x = turnovers.groupby('player').count()\n",
    "turnovers = x[['event_type']]\n",
    "turnovers.reset_index(level=0, inplace=True)\n",
    "turnovers = turnovers.rename(columns={'event_type':'total_turnovers'})"
   ]
  },
  {
   "cell_type": "code",
   "execution_count": 37,
   "metadata": {},
   "outputs": [],
   "source": [
    "test_target = pd.read_csv('Every_Season_Data/[2016-2017]-combined-stats.csv')"
   ]
  },
  {
   "cell_type": "code",
   "execution_count": 38,
   "metadata": {},
   "outputs": [],
   "source": [
    "test_target =  pc.add_columns(test_target)"
   ]
  },
  {
   "cell_type": "code",
   "execution_count": 39,
   "metadata": {},
   "outputs": [],
   "source": [
    "col_to_remove = ['a1', 'a2', 'a3','a4','a5','h1','h2','h3','h4','h5', 'play_length', 'entered', 'left', 'possession', 'shot_distance', 'original_x', 'original_y', 'converted_x', 'converted_y', 'num', 'away', 'home', 'outof', 'opponent', 'reason', 'elapsed', 'play_id']"
   ]
  },
  {
   "cell_type": "code",
   "execution_count": 40,
   "metadata": {},
   "outputs": [],
   "source": [
    "test_target = pc.replace_nan(test_target)\n",
    "test_target = pc.remove_col(test_target, col_to_remove)\n",
    "test_target = pc.remove_junk_rows(test_target, 'event_type')\n",
    "regu, poffs = pc.regular_or_playoffs(test_target, 'data_set')"
   ]
  },
  {
   "cell_type": "code",
   "execution_count": 41,
   "metadata": {},
   "outputs": [],
   "source": [
    "clutch = pc.clutch_moment(regu)\n",
    "clutch = pc.remove_not_imp_games(clutch, 'game_id')"
   ]
  },
  {
   "cell_type": "code",
   "execution_count": 42,
   "metadata": {},
   "outputs": [],
   "source": [
    "clutch = ind.object_to_int(clutch, 'points')\n",
    "ast = ind.assist_stats(clutch)\n",
    "blk = ind.blk_stats(clutch)\n",
    "nme = ind.player_names(clutch)\n",
    "clutch = ind.merge_all(nme, blk, ast, clutch)"
   ]
  },
  {
   "cell_type": "code",
   "execution_count": 43,
   "metadata": {},
   "outputs": [],
   "source": [
    "test_target = ind.get_per_game_stats(clutch)\n",
    "test_target = ind.merge_ids(test_target, ids)"
   ]
  },
  {
   "cell_type": "code",
   "execution_count": 44,
   "metadata": {},
   "outputs": [],
   "source": [
    "test_target = ind.add_league_avg(test_target)\n"
   ]
  },
  {
   "cell_type": "code",
   "execution_count": 45,
   "metadata": {},
   "outputs": [],
   "source": [
    "target = pd.merge(test_target,turnovers,on='player', how = 'left')\n",
    "target = target.fillna(0)\n",
    "target['TPG'] = round(target['total_turnovers'] / target['total_games'],2)"
   ]
  },
  {
   "cell_type": "code",
   "execution_count": null,
   "metadata": {},
   "outputs": [],
   "source": []
  },
  {
   "cell_type": "markdown",
   "metadata": {},
   "source": [
    "# Add clutch scores"
   ]
  },
  {
   "cell_type": "code",
   "execution_count": 46,
   "metadata": {},
   "outputs": [],
   "source": [
    "train_target_stats = ind.add_scores(train_target_stats)\n",
    "target = ind.add_scores(target)\n",
    "train_clutch_stats = ind.add_scores(train_clutch_stats)\n",
    "test_clutch_stats = ind.add_scores(test_clutch_stats)"
   ]
  },
  {
   "cell_type": "code",
   "execution_count": 47,
   "metadata": {
    "scrolled": true
   },
   "outputs": [],
   "source": [
    "train_target_stats = ind.is_clutch(train_target_stats)\n",
    "target = ind.is_clutch(target)\n",
    "train_clutch_stats = ind.is_clutch(train_clutch_stats)\n",
    "test_clutch_stats = ind.is_clutch(test_clutch_stats)"
   ]
  },
  {
   "cell_type": "code",
   "execution_count": null,
   "metadata": {},
   "outputs": [],
   "source": []
  },
  {
   "cell_type": "markdown",
   "metadata": {},
   "source": [
    "# making sure that i have same players in y_train and x_train"
   ]
  },
  {
   "cell_type": "code",
   "execution_count": 48,
   "metadata": {},
   "outputs": [],
   "source": [
    "players = train_target_stats[['player']]\n",
    "train_clutch_stats = train_clutch_stats.merge(players, on='player')\n"
   ]
  },
  {
   "cell_type": "code",
   "execution_count": 49,
   "metadata": {},
   "outputs": [],
   "source": [
    "\n",
    "x = train_clutch_stats[['player']]\n",
    "train_target_stats = train_target_stats.merge(x, on='player')"
   ]
  },
  {
   "cell_type": "markdown",
   "metadata": {},
   "source": [
    "# gotta get the same players in x_test and y_test"
   ]
  },
  {
   "cell_type": "code",
   "execution_count": 50,
   "metadata": {},
   "outputs": [],
   "source": [
    "d = target[['player']]\n",
    "test_clutch_stats = test_clutch_stats.merge(d, on='player')"
   ]
  },
  {
   "cell_type": "code",
   "execution_count": 51,
   "metadata": {},
   "outputs": [],
   "source": [
    "\n",
    "y = test_clutch_stats[['player']]\n",
    "target = target.merge(y, on='player')"
   ]
  },
  {
   "cell_type": "markdown",
   "metadata": {},
   "source": [
    "# GradientBoost"
   ]
  },
  {
   "cell_type": "code",
   "execution_count": 52,
   "metadata": {},
   "outputs": [],
   "source": [
    "\n",
    "y_trainGB = train_target_stats['is_clutch']\n",
    "x_trainGB = train_clutch_stats.drop(['FT_missed','3pt%', 'ORPG','total_games',\n",
    "    'easy_shot%','total_shots', '2fg_attempts', 'Dunk/Layup_attempts', '3pt_shots',\n",
    "    'assist_count', 'APG', 'clutch_score', 'is_clutch', 'total_blocks', '2pt_fg_made', \n",
    "'Dunk/Layup', 'shots_made', 'BPG',\n",
    "    'FT%','league_all_shot_avg', 'league_2pt_avg', 'league_3pt_avg',\n",
    "       'league_hard2pt_avg', 'league_easy2pt_avg', 'league_ft%','player', 'player_id'], axis = 1)"
   ]
  },
  {
   "cell_type": "code",
   "execution_count": 53,
   "metadata": {},
   "outputs": [],
   "source": [
    "\n",
    "y_testGB = target['is_clutch']\n",
    "x_testGB = test_clutch_stats.drop(['FT_missed','3pt%', 'ORPG','total_games',\n",
    "    'easy_shot%','total_shots', '2fg_attempts', 'Dunk/Layup_attempts', '3pt_shots',\n",
    "    'assist_count', 'APG', 'clutch_score', 'is_clutch', 'total_blocks', '2pt_fg_made', \n",
    "'Dunk/Layup', 'shots_made', 'BPG',\n",
    "    'FT%','league_all_shot_avg', 'league_2pt_avg', 'league_3pt_avg',\n",
    "       'league_hard2pt_avg', 'league_easy2pt_avg', 'league_ft%','player', 'player_id'], axis = 1)"
   ]
  },
  {
   "cell_type": "code",
   "execution_count": 179,
   "metadata": {},
   "outputs": [],
   "source": [
    "model= GradientBoostingClassifier(learning_rate=0.23, max_depth=4, min_samples_leaf=9, n_estimators=1000)\n",
    "modelGB.fit(x_trainGB, y_trainGB)\n",
    "predGB= modelGB.predict(x_testGB)\n"
   ]
  },
  {
   "cell_type": "code",
   "execution_count": 180,
   "metadata": {},
   "outputs": [
    {
     "data": {
      "text/plain": [
       "0.7923076923076923"
      ]
     },
     "execution_count": 180,
     "metadata": {},
     "output_type": "execute_result"
    }
   ],
   "source": [
    "accuracy_score(y_testGB, predGB)"
   ]
  },
  {
   "cell_type": "code",
   "execution_count": 181,
   "metadata": {},
   "outputs": [
    {
     "data": {
      "text/plain": [
       "0.34615384615384615"
      ]
     },
     "execution_count": 181,
     "metadata": {},
     "output_type": "execute_result"
    }
   ],
   "source": [
    "precision_score(y_testGB, predGB)"
   ]
  },
  {
   "cell_type": "code",
   "execution_count": 182,
   "metadata": {},
   "outputs": [
    {
     "data": {
      "text/plain": [
       "0.1956521739130435"
      ]
     },
     "execution_count": 182,
     "metadata": {},
     "output_type": "execute_result"
    }
   ],
   "source": [
    "recall_score(y_testGB, predGB)"
   ]
  },
  {
   "cell_type": "code",
   "execution_count": 183,
   "metadata": {},
   "outputs": [
    {
     "data": {
      "text/plain": [
       "0.25"
      ]
     },
     "execution_count": 183,
     "metadata": {},
     "output_type": "execute_result"
    }
   ],
   "source": [
    "f1_score(y_testGB, predGB)"
   ]
  },
  {
   "cell_type": "code",
   "execution_count": 141,
   "metadata": {},
   "outputs": [
    {
     "data": {
      "text/plain": [
       "array([0.06313131, 0.02937665, 0.02974387, 0.05694093, 0.04742873,\n",
       "       0.12566684, 0.05329238, 0.03351955, 0.08095178, 0.04053322,\n",
       "       0.00226643, 0.04216265, 0.1042387 , 0.03141539, 0.02225065,\n",
       "       0.05978321, 0.1042021 , 0.07309559])"
      ]
     },
     "execution_count": 141,
     "metadata": {},
     "output_type": "execute_result"
    }
   ],
   "source": [
    "importances = modelGB.feature_importances_\n",
    "importances"
   ]
  },
  {
   "cell_type": "markdown",
   "metadata": {},
   "source": [
    "# Grid Search for graident boost"
   ]
  },
  {
   "cell_type": "code",
   "execution_count": 77,
   "metadata": {},
   "outputs": [],
   "source": [
    "parameters = {'learning_rate': [.23], 'n_estimators': [ 1000, 1040], 'max_depth': [4], \n",
    "              'min_samples_leaf':[9]}"
   ]
  },
  {
   "cell_type": "code",
   "execution_count": 78,
   "metadata": {},
   "outputs": [
    {
     "data": {
      "text/plain": [
       "GridSearchCV(cv=10, error_score='raise',\n",
       "       estimator=GradientBoostingClassifier(criterion='friedman_mse', init=None,\n",
       "              learning_rate=0.1, loss='deviance', max_depth=3,\n",
       "              max_features=None, max_leaf_nodes=None,\n",
       "              min_impurity_decrease=0.0, min_impurity_split=None,\n",
       "              min_samples_leaf=1, min_samples_split=2,\n",
       "              min_weight_fraction_leaf=0.0, n_estimators=100,\n",
       "              presort='auto', random_state=None, subsample=1.0, verbose=0,\n",
       "              warm_start=False),\n",
       "       fit_params=None, iid=True, n_jobs=1,\n",
       "       param_grid={'learning_rate': [0.23], 'n_estimators': [1000, 1040], 'max_depth': [4], 'min_samples_leaf': [9]},\n",
       "       pre_dispatch='2*n_jobs', refit=True, return_train_score='warn',\n",
       "       scoring='f1', verbose=0)"
      ]
     },
     "execution_count": 78,
     "metadata": {},
     "output_type": "execute_result"
    }
   ],
   "source": [
    "gbc = GridSearchCV(GradientBoostingClassifier(), parameters, cv=10, scoring='f1')\n",
    "gbc.fit(x_trainGB, y_trainGB)"
   ]
  },
  {
   "cell_type": "code",
   "execution_count": 79,
   "metadata": {},
   "outputs": [
    {
     "data": {
      "text/plain": [
       "{'learning_rate': 0.23,\n",
       " 'max_depth': 4,\n",
       " 'min_samples_leaf': 9,\n",
       " 'n_estimators': 1040}"
      ]
     },
     "execution_count": 79,
     "metadata": {},
     "output_type": "execute_result"
    }
   ],
   "source": [
    "gbc.best_params_"
   ]
  },
  {
   "cell_type": "code",
   "execution_count": 80,
   "metadata": {},
   "outputs": [
    {
     "data": {
      "text/plain": [
       "0.25339251589251593"
      ]
     },
     "execution_count": 80,
     "metadata": {},
     "output_type": "execute_result"
    }
   ],
   "source": [
    "gbc.best_score_"
   ]
  },
  {
   "cell_type": "markdown",
   "metadata": {},
   "source": [
    "# Grid Search XGB"
   ]
  },
  {
   "cell_type": "code",
   "execution_count": 246,
   "metadata": {},
   "outputs": [],
   "source": [
    "params={'max_depth': [3],'learning_rate': [.24,.25,.26], \n",
    "        'n_estimators': [170,160], 'min_child_weight':[2]}"
   ]
  },
  {
   "cell_type": "code",
   "execution_count": 247,
   "metadata": {},
   "outputs": [
    {
     "data": {
      "text/plain": [
       "GridSearchCV(cv=10, error_score='raise',\n",
       "       estimator=XGBClassifier(base_score=0.5, booster='gbtree', colsample_bylevel=1,\n",
       "       colsample_bytree=1, gamma=0, learning_rate=0.1, max_delta_step=0,\n",
       "       max_depth=3, min_child_weight=1, missing=None, n_estimators=100,\n",
       "       n_jobs=1, nthread=None, objective='binary:logistic', random_state=0,\n",
       "       reg_alpha=0, reg_lambda=1, scale_pos_weight=1, seed=None,\n",
       "       silent=True, subsample=1),\n",
       "       fit_params=None, iid=True, n_jobs=1,\n",
       "       param_grid={'max_depth': [3], 'learning_rate': [0.24, 0.25, 0.26], 'n_estimators': [170, 160], 'min_child_weight': [2]},\n",
       "       pre_dispatch='2*n_jobs', refit=True, return_train_score='warn',\n",
       "       scoring='f1', verbose=0)"
      ]
     },
     "execution_count": 247,
     "metadata": {},
     "output_type": "execute_result"
    }
   ],
   "source": [
    "XGB = GridSearchCV(XGBClassifier(), params, cv= 10, scoring='f1')\n",
    "XGB.fit(x_trainX, y_trainX)"
   ]
  },
  {
   "cell_type": "code",
   "execution_count": 248,
   "metadata": {},
   "outputs": [
    {
     "data": {
      "text/plain": [
       "{'learning_rate': 0.25,\n",
       " 'max_depth': 3,\n",
       " 'min_child_weight': 2,\n",
       " 'n_estimators': 160}"
      ]
     },
     "execution_count": 248,
     "metadata": {},
     "output_type": "execute_result"
    }
   ],
   "source": [
    "XGB.best_params_"
   ]
  },
  {
   "cell_type": "code",
   "execution_count": 249,
   "metadata": {
    "scrolled": true
   },
   "outputs": [
    {
     "data": {
      "text/plain": [
       "0.2918416793416793"
      ]
     },
     "execution_count": 249,
     "metadata": {},
     "output_type": "execute_result"
    }
   ],
   "source": [
    "XGB.best_score_"
   ]
  },
  {
   "cell_type": "code",
   "execution_count": null,
   "metadata": {},
   "outputs": [],
   "source": [
    ".29184\n",
    "{'learning_rate': 0.25,\n",
    " 'max_depth': 3,\n",
    " 'min_child_weight': 2,\n",
    " 'n_estimators': 150}"
   ]
  },
  {
   "cell_type": "code",
   "execution_count": null,
   "metadata": {},
   "outputs": [],
   "source": [
    ".26396\n",
    "\n",
    "'learning_rate': 0.1,\n",
    " 'max_depth': 5,\n",
    " 'min_child_weight': 3,\n",
    " 'n_estimators': 10}"
   ]
  },
  {
   "cell_type": "markdown",
   "metadata": {},
   "source": [
    "# XGBoost"
   ]
  },
  {
   "cell_type": "code",
   "execution_count": 204,
   "metadata": {},
   "outputs": [],
   "source": [
    "x_trainX = train_clutch_stats.drop(['FT_missed','3pt%', 'ORPG','total_games',\n",
    "    'easy_shot%','total_shots', '2fg_attempts', 'Dunk/Layup_attempts', '3pt_shots',\n",
    "    'assist_count', 'APG', 'clutch_score', 'is_clutch', 'total_blocks', '2pt_fg_made', \n",
    "'Dunk/Layup', 'shots_made', 'BPG',\n",
    "    'FT%','league_all_shot_avg', 'league_2pt_avg', 'league_3pt_avg',\n",
    "       'league_hard2pt_avg', 'league_easy2pt_avg', 'league_ft%','player', 'player_id'], axis = 1)\n",
    "y_trainX = train_target_stats['is_clutch']\n"
   ]
  },
  {
   "cell_type": "code",
   "execution_count": 205,
   "metadata": {},
   "outputs": [],
   "source": [
    "x_testX = test_clutch_stats.drop(['FT_missed', 'APG',\n",
    "    '3pt%', 'ORPG','total_games',\n",
    "    'easy_shot%','total_shots', '2fg_attempts', 'Dunk/Layup_attempts', '3pt_shots',\n",
    "    'assist_count',\n",
    "    'clutch_score', 'is_clutch', 'total_blocks', '2pt_fg_made', \n",
    "'Dunk/Layup', 'shots_made', 'BPG',\n",
    "    'FT%','league_all_shot_avg', 'league_2pt_avg', 'league_3pt_avg',\n",
    "       'league_hard2pt_avg', 'league_easy2pt_avg', 'league_ft%','player', 'player_id'],axis =1)\n",
    "y_testX = target['is_clutch']"
   ]
  },
  {
   "cell_type": "code",
   "execution_count": 285,
   "metadata": {},
   "outputs": [
    {
     "name": "stdout",
     "output_type": "stream",
     "text": [
      "recall: 0.21739%\n",
      "f1: 0.25641%\n",
      "Accuracy: 0.77692%\n",
      "precision: 0.31250%\n"
     ]
    }
   ],
   "source": [
    "modelX = XGBClassifier(learning_rate=.2, max_depth=3, n_estimators=150, min_child_weight=1)\n",
    "#modelX = XGBClassifier()\n",
    "modelX.fit(x_trainX, y_trainX)\n",
    "y_predX=modelX.predict(x_testX)\n",
    "print(\"recall: %.5f%%\" % recall_score(y_testX, y_predX))\n",
    "print(\"f1: %.5f%%\" % f1_score(y_testX, y_predX))\n",
    "print(\"Accuracy: %.5f%%\" % accuracy_score(y_testX, y_predX))\n",
    "print(\"precision: %.5f%%\" % precision_score(y_testX, y_predX))"
   ]
  },
  {
   "cell_type": "code",
   "execution_count": 197,
   "metadata": {},
   "outputs": [
    {
     "data": {
      "text/plain": [
       "array([0.05078125, 0.01757812, 0.02929688, 0.05273438, 0.04101562,\n",
       "       0.14257812, 0.04101562, 0.04882812, 0.09960938, 0.06835938,\n",
       "       0.015625  , 0.05859375, 0.09570312, 0.04492188, 0.00195312,\n",
       "       0.0625    , 0.0859375 , 0.04296875], dtype=float32)"
      ]
     },
     "execution_count": 197,
     "metadata": {},
     "output_type": "execute_result"
    }
   ],
   "source": [
    "x = modelX.feature_importances_\n",
    "x"
   ]
  },
  {
   "cell_type": "code",
   "execution_count": 198,
   "metadata": {},
   "outputs": [
    {
     "data": {
      "image/png": "[encoded data removed]",
      "text/plain": [
       "<Figure size 864x576 with 1 Axes>"
      ]
     },
     "metadata": {},
     "output_type": "display_data"
    }
   ],
   "source": [
    "ig, axs = plt.subplots(1,0, figsize=(12,8))\n",
    "(pd.Series(x, index=x_testX.columns)\n",
    "   .nlargest(38)\n",
    "   .plot(kind='barh'));"
   ]
  },
  {
   "cell_type": "code",
   "execution_count": null,
   "metadata": {},
   "outputs": [],
   "source": []
  },
  {
   "cell_type": "markdown",
   "metadata": {},
   "source": [
    "# Baseline model \n",
    "## Looks at all the shots and if your shooting% is above league avg yu are clutch "
   ]
  },
  {
   "cell_type": "code",
   "execution_count": 95,
   "metadata": {
    "scrolled": true
   },
   "outputs": [],
   "source": [
    "x_train = train_clutch_stats.drop(['player', 'player_id'],axis = 1)\n",
    "y_train = train_target_stats['is_clutch']\n",
    "y_test = target['is_clutch']\n",
    "x_test = test_clutch_stats.drop(['player', 'player_id'],axis = 1)"
   ]
  },
  {
   "cell_type": "code",
   "execution_count": 96,
   "metadata": {},
   "outputs": [],
   "source": [
    "model= GradientBoostingClassifier()\n",
    "fit = model.fit(x_train, y_train)\n",
    "pred= fit.predict(x_test)"
   ]
  },
  {
   "cell_type": "code",
   "execution_count": 97,
   "metadata": {},
   "outputs": [
    {
     "data": {
      "text/plain": [
       "0.15217391304347827"
      ]
     },
     "execution_count": 97,
     "metadata": {},
     "output_type": "execute_result"
    }
   ],
   "source": [
    "recall_score(y_test, pred)"
   ]
  },
  {
   "cell_type": "code",
   "execution_count": 98,
   "metadata": {
    "scrolled": true
   },
   "outputs": [
    {
     "data": {
      "text/plain": [
       "0.19178082191780824"
      ]
     },
     "execution_count": 98,
     "metadata": {},
     "output_type": "execute_result"
    }
   ],
   "source": [
    "f1_score(y_test, pred)"
   ]
  },
  {
   "cell_type": "code",
   "execution_count": 99,
   "metadata": {},
   "outputs": [
    {
     "data": {
      "text/plain": [
       "0.7730769230769231"
      ]
     },
     "execution_count": 99,
     "metadata": {},
     "output_type": "execute_result"
    }
   ],
   "source": [
    "accuracy_score(y_test, pred)"
   ]
  },
  {
   "cell_type": "code",
   "execution_count": 100,
   "metadata": {},
   "outputs": [
    {
     "data": {
      "text/plain": [
       "0.25925925925925924"
      ]
     },
     "execution_count": 100,
     "metadata": {},
     "output_type": "execute_result"
    }
   ],
   "source": [
    "precision_score(y_test, pred)"
   ]
  },
  {
   "cell_type": "code",
   "execution_count": null,
   "metadata": {},
   "outputs": [],
   "source": []
  },
  {
   "cell_type": "markdown",
   "metadata": {},
   "source": [
    "# Final test data"
   ]
  },
  {
   "cell_type": "code",
   "execution_count": 145,
   "metadata": {
    "collapsed": true
   },
   "outputs": [
    {
     "name": "stderr",
     "output_type": "stream",
     "text": [
      "b'Skipping line 34257: expected 44 fields, saw 46\\nSkipping line 34258: expected 44 fields, saw 46\\nSkipping line 34259: expected 44 fields, saw 46\\nSkipping line 34260: expected 44 fields, saw 46\\nSkipping line 34261: expected 44 fields, saw 46\\nSkipping line 34262: expected 44 fields, saw 46\\nSkipping line 34263: expected 44 fields, saw 46\\nSkipping line 34264: expected 44 fields, saw 46\\nSkipping line 34265: expected 44 fields, saw 46\\nSkipping line 34266: expected 44 fields, saw 46\\nSkipping line 34267: expected 44 fields, saw 46\\nSkipping line 34268: expected 44 fields, saw 46\\nSkipping line 34269: expected 44 fields, saw 46\\nSkipping line 34270: expected 44 fields, saw 46\\nSkipping line 34271: expected 44 fields, saw 46\\nSkipping line 34272: expected 44 fields, saw 46\\nSkipping line 34273: expected 44 fields, saw 46\\nSkipping line 34274: expected 44 fields, saw 46\\nSkipping line 34275: expected 44 fields, saw 46\\nSkipping line 34276: expected 44 fields, saw 46\\nSkipping line 34277: expected 44 fields, saw 46\\nSkipping line 34278: expected 44 fields, saw 46\\nSkipping line 34279: expected 44 fields, saw 46\\nSkipping line 34280: expected 44 fields, saw 46\\nSkipping line 34281: expected 44 fields, saw 46\\nSkipping line 34282: expected 44 fields, saw 46\\nSkipping line 34283: expected 44 fields, saw 46\\nSkipping line 34284: expected 44 fields, saw 46\\nSkipping line 34285: expected 44 fields, saw 46\\nSkipping line 34286: expected 44 fields, saw 46\\nSkipping line 34287: expected 44 fields, saw 46\\nSkipping line 34288: expected 44 fields, saw 46\\nSkipping line 34289: expected 44 fields, saw 46\\nSkipping line 34290: expected 44 fields, saw 46\\nSkipping line 34291: expected 44 fields, saw 46\\nSkipping line 34292: expected 44 fields, saw 46\\nSkipping line 34293: expected 44 fields, saw 46\\nSkipping line 34294: expected 44 fields, saw 46\\nSkipping line 34295: expected 44 fields, saw 46\\nSkipping line 34296: expected 44 fields, saw 46\\nSkipping line 34297: expected 44 fields, saw 46\\nSkipping line 34298: expected 44 fields, saw 46\\nSkipping line 34299: expected 44 fields, saw 46\\nSkipping line 34300: expected 44 fields, saw 46\\nSkipping line 34301: expected 44 fields, saw 46\\nSkipping line 34302: expected 44 fields, saw 46\\nSkipping line 34303: expected 44 fields, saw 46\\nSkipping line 34304: expected 44 fields, saw 46\\nSkipping line 34305: expected 44 fields, saw 46\\nSkipping line 34306: expected 44 fields, saw 46\\nSkipping line 34307: expected 44 fields, saw 46\\nSkipping line 34308: expected 44 fields, saw 46\\nSkipping line 34309: expected 44 fields, saw 46\\nSkipping line 34310: expected 44 fields, saw 46\\nSkipping line 34311: expected 44 fields, saw 46\\nSkipping line 34312: expected 44 fields, saw 46\\nSkipping line 34313: expected 44 fields, saw 46\\nSkipping line 34314: expected 44 fields, saw 46\\nSkipping line 34315: expected 44 fields, saw 46\\nSkipping line 34316: expected 44 fields, saw 46\\nSkipping line 34317: expected 44 fields, saw 46\\nSkipping line 34318: expected 44 fields, saw 46\\nSkipping line 34319: expected 44 fields, saw 46\\nSkipping line 34320: expected 44 fields, saw 46\\nSkipping line 34321: expected 44 fields, saw 46\\nSkipping line 34322: expected 44 fields, saw 46\\nSkipping line 34323: expected 44 fields, saw 46\\nSkipping line 34324: expected 44 fields, saw 46\\nSkipping line 34325: expected 44 fields, saw 46\\nSkipping line 34326: expected 44 fields, saw 46\\nSkipping line 34327: expected 44 fields, saw 46\\nSkipping line 34328: expected 44 fields, saw 46\\nSkipping line 34329: expected 44 fields, saw 46\\nSkipping line 34330: expected 44 fields, saw 46\\nSkipping line 34331: expected 44 fields, saw 46\\nSkipping line 34332: expected 44 fields, saw 46\\nSkipping line 34333: expected 44 fields, saw 46\\nSkipping line 34334: expected 44 fields, saw 46\\nSkipping line 34335: expected 44 fields, saw 46\\nSkipping line 34336: expected 44 fields, saw 46\\nSkipping line 34337: expected 44 fields, saw 46\\nSkipping line 34338: expected 44 fields, saw 46\\nSkipping line 34339: expected 44 fields, saw 46\\nSkipping line 34340: expected 44 fields, saw 46\\nSkipping line 34341: expected 44 fields, saw 46\\nSkipping line 34342: expected 44 fields, saw 46\\nSkipping line 34343: expected 44 fields, saw 46\\nSkipping line 34344: expected 44 fields, saw 46\\nSkipping line 34345: expected 44 fields, saw 46\\nSkipping line 34346: expected 44 fields, saw 46\\nSkipping line 34347: expected 44 fields, saw 46\\nSkipping line 34348: expected 44 fields, saw 46\\nSkipping line 34349: expected 44 fields, saw 46\\nSkipping line 34350: expected 44 fields, saw 46\\nSkipping line 34351: expected 44 fields, saw 46\\nSkipping line 34352: expected 44 fields, saw 46\\nSkipping line 34353: expected 44 fields, saw 46\\nSkipping line 34354: expected 44 fields, saw 46\\nSkipping line 34355: expected 44 fields, saw 46\\nSkipping line 34356: expected 44 fields, saw 46\\nSkipping line 34357: expected 44 fields, saw 46\\nSkipping line 34358: expected 44 fields, saw 46\\nSkipping line 34359: expected 44 fields, saw 46\\nSkipping line 34360: expected 44 fields, saw 46\\nSkipping line 34361: expected 44 fields, saw 46\\nSkipping line 34362: expected 44 fields, saw 46\\nSkipping line 34363: expected 44 fields, saw 46\\nSkipping line 34364: expected 44 fields, saw 46\\nSkipping line 34365: expected 44 fields, saw 46\\nSkipping line 34366: expected 44 fields, saw 46\\nSkipping line 34367: expected 44 fields, saw 46\\nSkipping line 34368: expected 44 fields, saw 46\\nSkipping line 34369: expected 44 fields, saw 46\\nSkipping line 34370: expected 44 fields, saw 46\\nSkipping line 34371: expected 44 fields, saw 46\\nSkipping line 34372: expected 44 fields, saw 46\\nSkipping line 34373: expected 44 fields, saw 46\\nSkipping line 34374: expected 44 fields, saw 46\\nSkipping line 34375: expected 44 fields, saw 46\\nSkipping line 34376: expected 44 fields, saw 46\\nSkipping line 34377: expected 44 fields, saw 46\\nSkipping line 34378: expected 44 fields, saw 46\\nSkipping line 34379: expected 44 fields, saw 46\\nSkipping line 34380: expected 44 fields, saw 46\\nSkipping line 34381: expected 44 fields, saw 46\\nSkipping line 34382: expected 44 fields, saw 46\\nSkipping line 34383: expected 44 fields, saw 46\\nSkipping line 34384: expected 44 fields, saw 46\\nSkipping line 34385: expected 44 fields, saw 46\\nSkipping line 34386: expected 44 fields, saw 46\\nSkipping line 34387: expected 44 fields, saw 46\\nSkipping line 34388: expected 44 fields, saw 46\\nSkipping line 34389: expected 44 fields, saw 46\\nSkipping line 34390: expected 44 fields, saw 46\\nSkipping line 34391: expected 44 fields, saw 46\\nSkipping line 34392: expected 44 fields, saw 46\\nSkipping line 34393: expected 44 fields, saw 46\\nSkipping line 34394: expected 44 fields, saw 46\\nSkipping line 34395: expected 44 fields, saw 46\\nSkipping line 34396: expected 44 fields, saw 46\\nSkipping line 34397: expected 44 fields, saw 46\\nSkipping line 34398: expected 44 fields, saw 46\\nSkipping line 34399: expected 44 fields, saw 46\\nSkipping line 34400: expected 44 fields, saw 46\\nSkipping line 34401: expected 44 fields, saw 46\\nSkipping line 34402: expected 44 fields, saw 46\\nSkipping line 34403: expected 44 fields, saw 46\\nSkipping line 34404: expected 44 fields, saw 46\\nSkipping line 34405: expected 44 fields, saw 46\\nSkipping line 34406: expected 44 fields, saw 46\\nSkipping line 34407: expected 44 fields, saw 46\\nSkipping line 34408: expected 44 fields, saw 46\\nSkipping line 34409: expected 44 fields, saw 46\\nSkipping line 34410: expected 44 fields, saw 46\\nSkipping line 34411: expected 44 fields, saw 46\\nSkipping line 34412: expected 44 fields, saw 46\\nSkipping line 34413: expected 44 fields, saw 46\\nSkipping line 34414: expected 44 fields, saw 46\\nSkipping line 34415: expected 44 fields, saw 46\\nSkipping line 34416: expected 44 fields, saw 46\\nSkipping line 34417: expected 44 fields, saw 46\\nSkipping line 34418: expected 44 fields, saw 46\\nSkipping line 34419: expected 44 fields, saw 46\\nSkipping line 34420: expected 44 fields, saw 46\\nSkipping line 34421: expected 44 fields, saw 46\\nSkipping line 34422: expected 44 fields, saw 46\\nSkipping line 34423: expected 44 fields, saw 46\\nSkipping line 34424: expected 44 fields, saw 46\\nSkipping line 34425: expected 44 fields, saw 46\\nSkipping line 34426: expected 44 fields, saw 46\\nSkipping line 34427: expected 44 fields, saw 46\\nSkipping line 34428: expected 44 fields, saw 46\\nSkipping line 34429: expected 44 fields, saw 46\\nSkipping line 34430: expected 44 fields, saw 46\\nSkipping line 34431: expected 44 fields, saw 46\\nSkipping line 34432: expected 44 fields, saw 46\\nSkipping line 34433: expected 44 fields, saw 46\\nSkipping line 34434: expected 44 fields, saw 46\\nSkipping line 34435: expected 44 fields, saw 46\\nSkipping line 34436: expected 44 fields, saw 46\\nSkipping line 34437: expected 44 fields, saw 46\\nSkipping line 34438: expected 44 fields, saw 46\\nSkipping line 34439: expected 44 fields, saw 46\\nSkipping line 34440: expected 44 fields, saw 46\\nSkipping line 34441: expected 44 fields, saw 46\\nSkipping line 34442: expected 44 fields, saw 46\\nSkipping line 34443: expected 44 fields, saw 46\\nSkipping line 34444: expected 44 fields, saw 46\\nSkipping line 34445: expected 44 fields, saw 46\\nSkipping line 34446: expected 44 fields, saw 46\\nSkipping line 34447: expected 44 fields, saw 46\\nSkipping line 34448: expected 44 fields, saw 46\\nSkipping line 34449: expected 44 fields, saw 46\\nSkipping line 34450: expected 44 fields, saw 46\\nSkipping line 34451: expected 44 fields, saw 46\\nSkipping line 34452: expected 44 fields, saw 46\\nSkipping line 34453: expected 44 fields, saw 46\\nSkipping line 34454: expected 44 fields, saw 46\\nSkipping line 34455: expected 44 fields, saw 46\\nSkipping line 34456: expected 44 fields, saw 46\\nSkipping line 34457: expected 44 fields, saw 46\\nSkipping line 34458: expected 44 fields, saw 46\\nSkipping line 34459: expected 44 fields, saw 46\\nSkipping line 34460: expected 44 fields, saw 46\\nSkipping line 34461: expected 44 fields, saw 46\\nSkipping line 34462: expected 44 fields, saw 46\\nSkipping line 34463: expected 44 fields, saw 46\\nSkipping line 34464: expected 44 fields, saw 46\\nSkipping line 34465: expected 44 fields, saw 46\\nSkipping line 34466: expected 44 fields, saw 46\\nSkipping line 34467: expected 44 fields, saw 46\\nSkipping line 34468: expected 44 fields, saw 46\\nSkipping line 34469: expected 44 fields, saw 46\\nSkipping line 34470: expected 44 fields, saw 46\\nSkipping line 34471: expected 44 fields, saw 46\\nSkipping line 34472: expected 44 fields, saw 46\\nSkipping line 34473: expected 44 fields, saw 46\\nSkipping line 34474: expected 44 fields, saw 46\\nSkipping line 34475: expected 44 fields, saw 46\\nSkipping line 34476: expected 44 fields, saw 46\\nSkipping line 34477: expected 44 fields, saw 46\\nSkipping line 34478: expected 44 fields, saw 46\\nSkipping line 34479: expected 44 fields, saw 46\\nSkipping line 34480: expected 44 fields, saw 46\\nSkipping line 34481: expected 44 fields, saw 46\\nSkipping line 34482: expected 44 fields, saw 46\\nSkipping line 34483: expected 44 fields, saw 46\\nSkipping line 34484: expected 44 fields, saw 46\\nSkipping line 34485: expected 44 fields, saw 46\\nSkipping line 34486: expected 44 fields, saw 46\\nSkipping line 34487: expected 44 fields, saw 46\\nSkipping line 34488: expected 44 fields, saw 46\\nSkipping line 34489: expected 44 fields, saw 46\\nSkipping line 34490: expected 44 fields, saw 46\\nSkipping line 34491: expected 44 fields, saw 46\\nSkipping line 34492: expected 44 fields, saw 46\\nSkipping line 34493: expected 44 fields, saw 46\\nSkipping line 34494: expected 44 fields, saw 46\\nSkipping line 34495: expected 44 fields, saw 46\\nSkipping line 34496: expected 44 fields, saw 46\\nSkipping line 34497: expected 44 fields, saw 46\\nSkipping line 34498: expected 44 fields, saw 46\\nSkipping line 34499: expected 44 fields, saw 46\\nSkipping line 34500: expected 44 fields, saw 46\\nSkipping line 34501: expected 44 fields, saw 46\\nSkipping line 34502: expected 44 fields, saw 46\\nSkipping line 34503: expected 44 fields, saw 46\\nSkipping line 34504: expected 44 fields, saw 46\\nSkipping line 34505: expected 44 fields, saw 46\\nSkipping line 34506: expected 44 fields, saw 46\\nSkipping line 34507: expected 44 fields, saw 46\\nSkipping line 34508: expected 44 fields, saw 46\\nSkipping line 34509: expected 44 fields, saw 46\\nSkipping line 34510: expected 44 fields, saw 46\\nSkipping line 34511: expected 44 fields, saw 46\\nSkipping line 34512: expected 44 fields, saw 46\\nSkipping line 34513: expected 44 fields, saw 46\\nSkipping line 34514: expected 44 fields, saw 46\\nSkipping line 34515: expected 44 fields, saw 46\\nSkipping line 34516: expected 44 fields, saw 46\\nSkipping line 34517: expected 44 fields, saw 46\\nSkipping line 34518: expected 44 fields, saw 46\\nSkipping line 34519: expected 44 fields, saw 46\\nSkipping line 34520: expected 44 fields, saw 46\\nSkipping line 34521: expected 44 fields, saw 46\\nSkipping line 34522: expected 44 fields, saw 46\\nSkipping line 34523: expected 44 fields, saw 46\\nSkipping line 34524: expected 44 fields, saw 46\\nSkipping line 34525: expected 44 fields, saw 46\\nSkipping line 34526: expected 44 fields, saw 46\\nSkipping line 34527: expected 44 fields, saw 46\\nSkipping line 34528: expected 44 fields, saw 46\\nSkipping line 34529: expected 44 fields, saw 46\\nSkipping line 34530: expected 44 fields, saw 46\\nSkipping line 34531: expected 44 fields, saw 46\\nSkipping line 34532: expected 44 fields, saw 46\\nSkipping line 34533: expected 44 fields, saw 46\\nSkipping line 34534: expected 44 fields, saw 46\\nSkipping line 34535: expected 44 fields, saw 46\\nSkipping line 34536: expected 44 fields, saw 46\\nSkipping line 34537: expected 44 fields, saw 46\\nSkipping line 34538: expected 44 fields, saw 46\\nSkipping line 34539: expected 44 fields, saw 46\\nSkipping line 34540: expected 44 fields, saw 46\\nSkipping line 34541: expected 44 fields, saw 46\\nSkipping line 34542: expected 44 fields, saw 46\\nSkipping line 34543: expected 44 fields, saw 46\\nSkipping line 34544: expected 44 fields, saw 46\\nSkipping line 34545: expected 44 fields, saw 46\\nSkipping line 34546: expected 44 fields, saw 46\\nSkipping line 34547: expected 44 fields, saw 46\\nSkipping line 34548: expected 44 fields, saw 46\\nSkipping line 34549: expected 44 fields, saw 46\\nSkipping line 34550: expected 44 fields, saw 46\\nSkipping line 34551: expected 44 fields, saw 46\\nSkipping line 34552: expected 44 fields, saw 46\\nSkipping line 34553: expected 44 fields, saw 46\\nSkipping line 34554: expected 44 fields, saw 46\\nSkipping line 34555: expected 44 fields, saw 46\\nSkipping line 34556: expected 44 fields, saw 46\\nSkipping line 34557: expected 44 fields, saw 46\\nSkipping line 34558: expected 44 fields, saw 46\\nSkipping line 34559: expected 44 fields, saw 46\\nSkipping line 34560: expected 44 fields, saw 46\\nSkipping line 34561: expected 44 fields, saw 46\\nSkipping line 34562: expected 44 fields, saw 46\\nSkipping line 34563: expected 44 fields, saw 46\\nSkipping line 34564: expected 44 fields, saw 46\\nSkipping line 34565: expected 44 fields, saw 46\\nSkipping line 34566: expected 44 fields, saw 46\\nSkipping line 34567: expected 44 fields, saw 46\\nSkipping line 34568: expected 44 fields, saw 46\\nSkipping line 34569: expected 44 fields, saw 46\\nSkipping line 34570: expected 44 fields, saw 46\\nSkipping line 34571: expected 44 fields, saw 46\\nSkipping line 34572: expected 44 fields, saw 46\\nSkipping line 34573: expected 44 fields, saw 46\\nSkipping line 34574: expected 44 fields, saw 46\\nSkipping line 34575: expected 44 fields, saw 46\\nSkipping line 34576: expected 44 fields, saw 46\\nSkipping line 34577: expected 44 fields, saw 46\\nSkipping line 34578: expected 44 fields, saw 46\\nSkipping line 34579: expected 44 fields, saw 46\\nSkipping line 34580: expected 44 fields, saw 46\\nSkipping line 34581: expected 44 fields, saw 46\\nSkipping line 34582: expected 44 fields, saw 46\\nSkipping line 34583: expected 44 fields, saw 46\\nSkipping line 34584: expected 44 fields, saw 46\\nSkipping line 34585: expected 44 fields, saw 46\\nSkipping line 34586: expected 44 fields, saw 46\\nSkipping line 34587: expected 44 fields, saw 46\\nSkipping line 34588: expected 44 fields, saw 46\\nSkipping line 34589: expected 44 fields, saw 46\\nSkipping line 34590: expected 44 fields, saw 46\\nSkipping line 34591: expected 44 fields, saw 46\\nSkipping line 34592: expected 44 fields, saw 46\\nSkipping line 34593: expected 44 fields, saw 46\\nSkipping line 34594: expected 44 fields, saw 46\\nSkipping line 34595: expected 44 fields, saw 46\\nSkipping line 34596: expected 44 fields, saw 46\\nSkipping line 34597: expected 44 fields, saw 46\\nSkipping line 34598: expected 44 fields, saw 46\\nSkipping line 34599: expected 44 fields, saw 46\\nSkipping line 34600: expected 44 fields, saw 46\\nSkipping line 34601: expected 44 fields, saw 46\\nSkipping line 34602: expected 44 fields, saw 46\\nSkipping line 34603: expected 44 fields, saw 46\\nSkipping line 34604: expected 44 fields, saw 46\\nSkipping line 34605: expected 44 fields, saw 46\\nSkipping line 34606: expected 44 fields, saw 46\\nSkipping line 34607: expected 44 fields, saw 46\\nSkipping line 34608: expected 44 fields, saw 46\\nSkipping line 34609: expected 44 fields, saw 46\\nSkipping line 34610: expected 44 fields, saw 46\\nSkipping line 34611: expected 44 fields, saw 46\\nSkipping line 34612: expected 44 fields, saw 46\\nSkipping line 34613: expected 44 fields, saw 46\\nSkipping line 34614: expected 44 fields, saw 46\\nSkipping line 34615: expected 44 fields, saw 46\\nSkipping line 34616: expected 44 fields, saw 46\\nSkipping line 34617: expected 44 fields, saw 46\\nSkipping line 34618: expected 44 fields, saw 46\\nSkipping line 34619: expected 44 fields, saw 46\\nSkipping line 34620: expected 44 fields, saw 46\\nSkipping line 34621: expected 44 fields, saw 46\\nSkipping line 34622: expected 44 fields, saw 46\\nSkipping line 34623: expected 44 fields, saw 46\\nSkipping line 34624: expected 44 fields, saw 46\\nSkipping line 34625: expected 44 fields, saw 46\\nSkipping line 34626: expected 44 fields, saw 46\\nSkipping line 34627: expected 44 fields, saw 46\\nSkipping line 34628: expected 44 fields, saw 46\\nSkipping line 34629: expected 44 fields, saw 46\\nSkipping line 34630: expected 44 fields, saw 46\\nSkipping line 34631: expected 44 fields, saw 46\\nSkipping line 34632: expected 44 fields, saw 46\\nSkipping line 34633: expected 44 fields, saw 46\\nSkipping line 34634: expected 44 fields, saw 46\\nSkipping line 34635: expected 44 fields, saw 46\\nSkipping line 34636: expected 44 fields, saw 46\\nSkipping line 34637: expected 44 fields, saw 46\\nSkipping line 34638: expected 44 fields, saw 46\\nSkipping line 34639: expected 44 fields, saw 46\\nSkipping line 34640: expected 44 fields, saw 46\\nSkipping line 34641: expected 44 fields, saw 46\\nSkipping line 34642: expected 44 fields, saw 46\\nSkipping line 34643: expected 44 fields, saw 46\\nSkipping line 34644: expected 44 fields, saw 46\\nSkipping line 34645: expected 44 fields, saw 46\\nSkipping line 34646: expected 44 fields, saw 46\\nSkipping line 34647: expected 44 fields, saw 46\\nSkipping line 34648: expected 44 fields, saw 46\\nSkipping line 34649: expected 44 fields, saw 46\\nSkipping line 34650: expected 44 fields, saw 46\\nSkipping line 34651: expected 44 fields, saw 46\\nSkipping line 34652: expected 44 fields, saw 46\\nSkipping line 34653: expected 44 fields, saw 46\\nSkipping line 34654: expected 44 fields, saw 46\\nSkipping line 34655: expected 44 fields, saw 46\\nSkipping line 34656: expected 44 fields, saw 46\\nSkipping line 34657: expected 44 fields, saw 46\\nSkipping line 34658: expected 44 fields, saw 46\\nSkipping line 34659: expected 44 fields, saw 46\\nSkipping line 34660: expected 44 fields, saw 46\\nSkipping line 34661: expected 44 fields, saw 46\\nSkipping line 34662: expected 44 fields, saw 46\\nSkipping line 34663: expected 44 fields, saw 46\\nSkipping line 34664: expected 44 fields, saw 46\\nSkipping line 34665: expected 44 fields, saw 46\\nSkipping line 34666: expected 44 fields, saw 46\\nSkipping line 34667: expected 44 fields, saw 46\\nSkipping line 34668: expected 44 fields, saw 46\\nSkipping line 34669: expected 44 fields, saw 46\\nSkipping line 34670: expected 44 fields, saw 46\\nSkipping line 34671: expected 44 fields, saw 46\\nSkipping line 34672: expected 44 fields, saw 46\\nSkipping line 34673: expected 44 fields, saw 46\\nSkipping line 34674: expected 44 fields, saw 46\\nSkipping line 34675: expected 44 fields, saw 46\\nSkipping line 34676: expected 44 fields, saw 46\\nSkipping line 34677: expected 44 fields, saw 46\\nSkipping line 34678: expected 44 fields, saw 46\\nSkipping line 34679: expected 44 fields, saw 46\\nSkipping line 34680: expected 44 fields, saw 46\\nSkipping line 34681: expected 44 fields, saw 46\\nSkipping line 34682: expected 44 fields, saw 46\\nSkipping line 34683: expected 44 fields, saw 46\\nSkipping line 34684: expected 44 fields, saw 46\\nSkipping line 34685: expected 44 fields, saw 46\\nSkipping line 34686: expected 44 fields, saw 46\\nSkipping line 34687: expected 44 fields, saw 46\\nSkipping line 34688: expected 44 fields, saw 46\\nSkipping line 34689: expected 44 fields, saw 46\\nSkipping line 34690: expected 44 fields, saw 46\\nSkipping line 34691: expected 44 fields, saw 46\\nSkipping line 34692: expected 44 fields, saw 46\\nSkipping line 34693: expected 44 fields, saw 46\\nSkipping line 34694: expected 44 fields, saw 46\\nSkipping line 34695: expected 44 fields, saw 46\\nSkipping line 34696: expected 44 fields, saw 46\\nSkipping line 34697: expected 44 fields, saw 46\\nSkipping line 34698: expected 44 fields, saw 46\\nSkipping line 34699: expected 44 fields, saw 46\\nSkipping line 34700: expected 44 fields, saw 46\\nSkipping line 34701: expected 44 fields, saw 46\\nSkipping line 34702: expected 44 fields, saw 46\\nSkipping line 34703: expected 44 fields, saw 46\\nSkipping line 34704: expected 44 fields, saw 46\\nSkipping line 34705: expected 44 fields, saw 46\\nSkipping line 34706: expected 44 fields, saw 46\\nSkipping line 34707: expected 44 fields, saw 46\\nSkipping line 34708: expected 44 fields, saw 46\\nSkipping line 34709: expected 44 fields, saw 46\\nSkipping line 34710: expected 44 fields, saw 46\\nSkipping line 34711: expected 44 fields, saw 46\\nSkipping line 34712: expected 44 fields, saw 46\\nSkipping line 34713: expected 44 fields, saw 46\\nSkipping line 34714: expected 44 fields, saw 46\\nSkipping line 34715: expected 44 fields, saw 46\\nSkipping line 34716: expected 44 fields, saw 46\\nSkipping line 34717: expected 44 fields, saw 46\\nSkipping line 34718: expected 44 fields, saw 46\\nSkipping line 34719: expected 44 fields, saw 46\\nSkipping line 34720: expected 44 fields, saw 46\\nSkipping line 34721: expected 44 fields, saw 46\\nSkipping line 34722: expected 44 fields, saw 46\\nSkipping line 34723: expected 44 fields, saw 46\\nSkipping line 34724: expected 44 fields, saw 46\\nSkipping line 34725: expected 44 fields, saw 46\\nSkipping line 34726: expected 44 fields, saw 46\\nSkipping line 34727: expected 44 fields, saw 46\\nSkipping line 34728: expected 44 fields, saw 46\\nSkipping line 34729: expected 44 fields, saw 46\\nSkipping line 34730: expected 44 fields, saw 46\\nSkipping line 34731: expected 44 fields, saw 46\\nSkipping line 34732: expected 44 fields, saw 46\\nSkipping line 34733: expected 44 fields, saw 46\\nSkipping line 34734: expected 44 fields, saw 46\\nSkipping line 34735: expected 44 fields, saw 46\\nSkipping line 34736: expected 44 fields, saw 46\\nSkipping line 34737: expected 44 fields, saw 46\\nSkipping line 34738: expected 44 fields, saw 46\\nSkipping line 34739: expected 44 fields, saw 46\\nSkipping line 34740: expected 44 fields, saw 46\\nSkipping line 34741: expected 44 fields, saw 46\\nSkipping line 34742: expected 44 fields, saw 46\\n'\n"
     ]
    }
   ],
   "source": [
    "final_test = pd.read_csv('Every_Season_Data/[2017-2018]-combined-stats.csv', error_bad_lines=False)"
   ]
  },
  {
   "cell_type": "code",
   "execution_count": 146,
   "metadata": {},
   "outputs": [],
   "source": [
    "final_test = pc.add_columns(final_test)\n",
    "final_test = pc.remove_junk_rows(final_test, 'event_type')\n",
    "col_to_remove = ['a1', 'a2', 'a3','a4','a5','h1','h2','h3','h4','h5', 'play_length', 'entered', 'left', 'possession', 'shot_distance', 'original_x', 'original_y', 'converted_x', 'converted_y', 'num', 'away', 'home', 'outof', 'opponent', 'reason', 'elapsed', 'play_id']\n",
    "final_test = pc.remove_col(final_test, col_to_remove)\n",
    "final_test = pc.replace_nan(final_test)\n",
    "final_regular_season, final_playoffs = pc.regular_or_playoffs(final_test, 'data_set')\n",
    "final_clutch = pc.clutch_moment(final_regular_season)\n",
    "final_clutch = pc.remove_not_imp_games(final_clutch, 'game_id')"
   ]
  },
  {
   "cell_type": "code",
   "execution_count": 147,
   "metadata": {},
   "outputs": [],
   "source": [
    "final_clutch['total_blocks'] = (final_clutch['block'] != '')*1\n",
    "final_clutch['assist_count'] = (final_clutch['assist'] != '')*1"
   ]
  },
  {
   "cell_type": "code",
   "execution_count": 150,
   "metadata": {
    "scrolled": true
   },
   "outputs": [],
   "source": [
    "test_stats_clutch = ind.change_objects(final_clutch)"
   ]
  },
  {
   "cell_type": "code",
   "execution_count": 151,
   "metadata": {
    "scrolled": true
   },
   "outputs": [],
   "source": [
    "assists = ind.assist_stats(test_stats_clutch)\n",
    "blks = ind.blk_stats(test_stats_clutch)\n",
    "names = ind.player_names(test_stats_clutch)\n",
    "names = ind.player_names(test_stats_clutch)\n",
    "full_test_clutch_stats = ind.merge_all(names, blks, assists, test_stats_clutch)\n",
    "full_test_clutch_stats = ind.get_per_game_stats(full_test_clutch_stats)\n",
    "full_test_clutch_stats = ind.merge_ids(full_test_clutch_stats, ids)"
   ]
  },
  {
   "cell_type": "code",
   "execution_count": 152,
   "metadata": {},
   "outputs": [],
   "source": [
    "full_test_clutch_stats = ind.add_league_avg(full_test_clutch_stats)"
   ]
  },
  {
   "cell_type": "code",
   "execution_count": 153,
   "metadata": {
    "collapsed": true
   },
   "outputs": [
    {
     "name": "stderr",
     "output_type": "stream",
     "text": [
      "b'Skipping line 34257: expected 44 fields, saw 46\\nSkipping line 34258: expected 44 fields, saw 46\\nSkipping line 34259: expected 44 fields, saw 46\\nSkipping line 34260: expected 44 fields, saw 46\\nSkipping line 34261: expected 44 fields, saw 46\\nSkipping line 34262: expected 44 fields, saw 46\\nSkipping line 34263: expected 44 fields, saw 46\\nSkipping line 34264: expected 44 fields, saw 46\\nSkipping line 34265: expected 44 fields, saw 46\\nSkipping line 34266: expected 44 fields, saw 46\\nSkipping line 34267: expected 44 fields, saw 46\\nSkipping line 34268: expected 44 fields, saw 46\\nSkipping line 34269: expected 44 fields, saw 46\\nSkipping line 34270: expected 44 fields, saw 46\\nSkipping line 34271: expected 44 fields, saw 46\\nSkipping line 34272: expected 44 fields, saw 46\\nSkipping line 34273: expected 44 fields, saw 46\\nSkipping line 34274: expected 44 fields, saw 46\\nSkipping line 34275: expected 44 fields, saw 46\\nSkipping line 34276: expected 44 fields, saw 46\\nSkipping line 34277: expected 44 fields, saw 46\\nSkipping line 34278: expected 44 fields, saw 46\\nSkipping line 34279: expected 44 fields, saw 46\\nSkipping line 34280: expected 44 fields, saw 46\\nSkipping line 34281: expected 44 fields, saw 46\\nSkipping line 34282: expected 44 fields, saw 46\\nSkipping line 34283: expected 44 fields, saw 46\\nSkipping line 34284: expected 44 fields, saw 46\\nSkipping line 34285: expected 44 fields, saw 46\\nSkipping line 34286: expected 44 fields, saw 46\\nSkipping line 34287: expected 44 fields, saw 46\\nSkipping line 34288: expected 44 fields, saw 46\\nSkipping line 34289: expected 44 fields, saw 46\\nSkipping line 34290: expected 44 fields, saw 46\\nSkipping line 34291: expected 44 fields, saw 46\\nSkipping line 34292: expected 44 fields, saw 46\\nSkipping line 34293: expected 44 fields, saw 46\\nSkipping line 34294: expected 44 fields, saw 46\\nSkipping line 34295: expected 44 fields, saw 46\\nSkipping line 34296: expected 44 fields, saw 46\\nSkipping line 34297: expected 44 fields, saw 46\\nSkipping line 34298: expected 44 fields, saw 46\\nSkipping line 34299: expected 44 fields, saw 46\\nSkipping line 34300: expected 44 fields, saw 46\\nSkipping line 34301: expected 44 fields, saw 46\\nSkipping line 34302: expected 44 fields, saw 46\\nSkipping line 34303: expected 44 fields, saw 46\\nSkipping line 34304: expected 44 fields, saw 46\\nSkipping line 34305: expected 44 fields, saw 46\\nSkipping line 34306: expected 44 fields, saw 46\\nSkipping line 34307: expected 44 fields, saw 46\\nSkipping line 34308: expected 44 fields, saw 46\\nSkipping line 34309: expected 44 fields, saw 46\\nSkipping line 34310: expected 44 fields, saw 46\\nSkipping line 34311: expected 44 fields, saw 46\\nSkipping line 34312: expected 44 fields, saw 46\\nSkipping line 34313: expected 44 fields, saw 46\\nSkipping line 34314: expected 44 fields, saw 46\\nSkipping line 34315: expected 44 fields, saw 46\\nSkipping line 34316: expected 44 fields, saw 46\\nSkipping line 34317: expected 44 fields, saw 46\\nSkipping line 34318: expected 44 fields, saw 46\\nSkipping line 34319: expected 44 fields, saw 46\\nSkipping line 34320: expected 44 fields, saw 46\\nSkipping line 34321: expected 44 fields, saw 46\\nSkipping line 34322: expected 44 fields, saw 46\\nSkipping line 34323: expected 44 fields, saw 46\\nSkipping line 34324: expected 44 fields, saw 46\\nSkipping line 34325: expected 44 fields, saw 46\\nSkipping line 34326: expected 44 fields, saw 46\\nSkipping line 34327: expected 44 fields, saw 46\\nSkipping line 34328: expected 44 fields, saw 46\\nSkipping line 34329: expected 44 fields, saw 46\\nSkipping line 34330: expected 44 fields, saw 46\\nSkipping line 34331: expected 44 fields, saw 46\\nSkipping line 34332: expected 44 fields, saw 46\\nSkipping line 34333: expected 44 fields, saw 46\\nSkipping line 34334: expected 44 fields, saw 46\\nSkipping line 34335: expected 44 fields, saw 46\\nSkipping line 34336: expected 44 fields, saw 46\\nSkipping line 34337: expected 44 fields, saw 46\\nSkipping line 34338: expected 44 fields, saw 46\\nSkipping line 34339: expected 44 fields, saw 46\\nSkipping line 34340: expected 44 fields, saw 46\\nSkipping line 34341: expected 44 fields, saw 46\\nSkipping line 34342: expected 44 fields, saw 46\\nSkipping line 34343: expected 44 fields, saw 46\\nSkipping line 34344: expected 44 fields, saw 46\\nSkipping line 34345: expected 44 fields, saw 46\\nSkipping line 34346: expected 44 fields, saw 46\\nSkipping line 34347: expected 44 fields, saw 46\\nSkipping line 34348: expected 44 fields, saw 46\\nSkipping line 34349: expected 44 fields, saw 46\\nSkipping line 34350: expected 44 fields, saw 46\\nSkipping line 34351: expected 44 fields, saw 46\\nSkipping line 34352: expected 44 fields, saw 46\\nSkipping line 34353: expected 44 fields, saw 46\\nSkipping line 34354: expected 44 fields, saw 46\\nSkipping line 34355: expected 44 fields, saw 46\\nSkipping line 34356: expected 44 fields, saw 46\\nSkipping line 34357: expected 44 fields, saw 46\\nSkipping line 34358: expected 44 fields, saw 46\\nSkipping line 34359: expected 44 fields, saw 46\\nSkipping line 34360: expected 44 fields, saw 46\\nSkipping line 34361: expected 44 fields, saw 46\\nSkipping line 34362: expected 44 fields, saw 46\\nSkipping line 34363: expected 44 fields, saw 46\\nSkipping line 34364: expected 44 fields, saw 46\\nSkipping line 34365: expected 44 fields, saw 46\\nSkipping line 34366: expected 44 fields, saw 46\\nSkipping line 34367: expected 44 fields, saw 46\\nSkipping line 34368: expected 44 fields, saw 46\\nSkipping line 34369: expected 44 fields, saw 46\\nSkipping line 34370: expected 44 fields, saw 46\\nSkipping line 34371: expected 44 fields, saw 46\\nSkipping line 34372: expected 44 fields, saw 46\\nSkipping line 34373: expected 44 fields, saw 46\\nSkipping line 34374: expected 44 fields, saw 46\\nSkipping line 34375: expected 44 fields, saw 46\\nSkipping line 34376: expected 44 fields, saw 46\\nSkipping line 34377: expected 44 fields, saw 46\\nSkipping line 34378: expected 44 fields, saw 46\\nSkipping line 34379: expected 44 fields, saw 46\\nSkipping line 34380: expected 44 fields, saw 46\\nSkipping line 34381: expected 44 fields, saw 46\\nSkipping line 34382: expected 44 fields, saw 46\\nSkipping line 34383: expected 44 fields, saw 46\\nSkipping line 34384: expected 44 fields, saw 46\\nSkipping line 34385: expected 44 fields, saw 46\\nSkipping line 34386: expected 44 fields, saw 46\\nSkipping line 34387: expected 44 fields, saw 46\\nSkipping line 34388: expected 44 fields, saw 46\\nSkipping line 34389: expected 44 fields, saw 46\\nSkipping line 34390: expected 44 fields, saw 46\\nSkipping line 34391: expected 44 fields, saw 46\\nSkipping line 34392: expected 44 fields, saw 46\\nSkipping line 34393: expected 44 fields, saw 46\\nSkipping line 34394: expected 44 fields, saw 46\\nSkipping line 34395: expected 44 fields, saw 46\\nSkipping line 34396: expected 44 fields, saw 46\\nSkipping line 34397: expected 44 fields, saw 46\\nSkipping line 34398: expected 44 fields, saw 46\\nSkipping line 34399: expected 44 fields, saw 46\\nSkipping line 34400: expected 44 fields, saw 46\\nSkipping line 34401: expected 44 fields, saw 46\\nSkipping line 34402: expected 44 fields, saw 46\\nSkipping line 34403: expected 44 fields, saw 46\\nSkipping line 34404: expected 44 fields, saw 46\\nSkipping line 34405: expected 44 fields, saw 46\\nSkipping line 34406: expected 44 fields, saw 46\\nSkipping line 34407: expected 44 fields, saw 46\\nSkipping line 34408: expected 44 fields, saw 46\\nSkipping line 34409: expected 44 fields, saw 46\\nSkipping line 34410: expected 44 fields, saw 46\\nSkipping line 34411: expected 44 fields, saw 46\\nSkipping line 34412: expected 44 fields, saw 46\\nSkipping line 34413: expected 44 fields, saw 46\\nSkipping line 34414: expected 44 fields, saw 46\\nSkipping line 34415: expected 44 fields, saw 46\\nSkipping line 34416: expected 44 fields, saw 46\\nSkipping line 34417: expected 44 fields, saw 46\\nSkipping line 34418: expected 44 fields, saw 46\\nSkipping line 34419: expected 44 fields, saw 46\\nSkipping line 34420: expected 44 fields, saw 46\\nSkipping line 34421: expected 44 fields, saw 46\\nSkipping line 34422: expected 44 fields, saw 46\\nSkipping line 34423: expected 44 fields, saw 46\\nSkipping line 34424: expected 44 fields, saw 46\\nSkipping line 34425: expected 44 fields, saw 46\\nSkipping line 34426: expected 44 fields, saw 46\\nSkipping line 34427: expected 44 fields, saw 46\\nSkipping line 34428: expected 44 fields, saw 46\\nSkipping line 34429: expected 44 fields, saw 46\\nSkipping line 34430: expected 44 fields, saw 46\\nSkipping line 34431: expected 44 fields, saw 46\\nSkipping line 34432: expected 44 fields, saw 46\\nSkipping line 34433: expected 44 fields, saw 46\\nSkipping line 34434: expected 44 fields, saw 46\\nSkipping line 34435: expected 44 fields, saw 46\\nSkipping line 34436: expected 44 fields, saw 46\\nSkipping line 34437: expected 44 fields, saw 46\\nSkipping line 34438: expected 44 fields, saw 46\\nSkipping line 34439: expected 44 fields, saw 46\\nSkipping line 34440: expected 44 fields, saw 46\\nSkipping line 34441: expected 44 fields, saw 46\\nSkipping line 34442: expected 44 fields, saw 46\\nSkipping line 34443: expected 44 fields, saw 46\\nSkipping line 34444: expected 44 fields, saw 46\\nSkipping line 34445: expected 44 fields, saw 46\\nSkipping line 34446: expected 44 fields, saw 46\\nSkipping line 34447: expected 44 fields, saw 46\\nSkipping line 34448: expected 44 fields, saw 46\\nSkipping line 34449: expected 44 fields, saw 46\\nSkipping line 34450: expected 44 fields, saw 46\\nSkipping line 34451: expected 44 fields, saw 46\\nSkipping line 34452: expected 44 fields, saw 46\\nSkipping line 34453: expected 44 fields, saw 46\\nSkipping line 34454: expected 44 fields, saw 46\\nSkipping line 34455: expected 44 fields, saw 46\\nSkipping line 34456: expected 44 fields, saw 46\\nSkipping line 34457: expected 44 fields, saw 46\\nSkipping line 34458: expected 44 fields, saw 46\\nSkipping line 34459: expected 44 fields, saw 46\\nSkipping line 34460: expected 44 fields, saw 46\\nSkipping line 34461: expected 44 fields, saw 46\\nSkipping line 34462: expected 44 fields, saw 46\\nSkipping line 34463: expected 44 fields, saw 46\\nSkipping line 34464: expected 44 fields, saw 46\\nSkipping line 34465: expected 44 fields, saw 46\\nSkipping line 34466: expected 44 fields, saw 46\\nSkipping line 34467: expected 44 fields, saw 46\\nSkipping line 34468: expected 44 fields, saw 46\\nSkipping line 34469: expected 44 fields, saw 46\\nSkipping line 34470: expected 44 fields, saw 46\\nSkipping line 34471: expected 44 fields, saw 46\\nSkipping line 34472: expected 44 fields, saw 46\\nSkipping line 34473: expected 44 fields, saw 46\\nSkipping line 34474: expected 44 fields, saw 46\\nSkipping line 34475: expected 44 fields, saw 46\\nSkipping line 34476: expected 44 fields, saw 46\\nSkipping line 34477: expected 44 fields, saw 46\\nSkipping line 34478: expected 44 fields, saw 46\\nSkipping line 34479: expected 44 fields, saw 46\\nSkipping line 34480: expected 44 fields, saw 46\\nSkipping line 34481: expected 44 fields, saw 46\\nSkipping line 34482: expected 44 fields, saw 46\\nSkipping line 34483: expected 44 fields, saw 46\\nSkipping line 34484: expected 44 fields, saw 46\\nSkipping line 34485: expected 44 fields, saw 46\\nSkipping line 34486: expected 44 fields, saw 46\\nSkipping line 34487: expected 44 fields, saw 46\\nSkipping line 34488: expected 44 fields, saw 46\\nSkipping line 34489: expected 44 fields, saw 46\\nSkipping line 34490: expected 44 fields, saw 46\\nSkipping line 34491: expected 44 fields, saw 46\\nSkipping line 34492: expected 44 fields, saw 46\\nSkipping line 34493: expected 44 fields, saw 46\\nSkipping line 34494: expected 44 fields, saw 46\\nSkipping line 34495: expected 44 fields, saw 46\\nSkipping line 34496: expected 44 fields, saw 46\\nSkipping line 34497: expected 44 fields, saw 46\\nSkipping line 34498: expected 44 fields, saw 46\\nSkipping line 34499: expected 44 fields, saw 46\\nSkipping line 34500: expected 44 fields, saw 46\\nSkipping line 34501: expected 44 fields, saw 46\\nSkipping line 34502: expected 44 fields, saw 46\\nSkipping line 34503: expected 44 fields, saw 46\\nSkipping line 34504: expected 44 fields, saw 46\\nSkipping line 34505: expected 44 fields, saw 46\\nSkipping line 34506: expected 44 fields, saw 46\\nSkipping line 34507: expected 44 fields, saw 46\\nSkipping line 34508: expected 44 fields, saw 46\\nSkipping line 34509: expected 44 fields, saw 46\\nSkipping line 34510: expected 44 fields, saw 46\\nSkipping line 34511: expected 44 fields, saw 46\\nSkipping line 34512: expected 44 fields, saw 46\\nSkipping line 34513: expected 44 fields, saw 46\\nSkipping line 34514: expected 44 fields, saw 46\\nSkipping line 34515: expected 44 fields, saw 46\\nSkipping line 34516: expected 44 fields, saw 46\\nSkipping line 34517: expected 44 fields, saw 46\\nSkipping line 34518: expected 44 fields, saw 46\\nSkipping line 34519: expected 44 fields, saw 46\\nSkipping line 34520: expected 44 fields, saw 46\\nSkipping line 34521: expected 44 fields, saw 46\\nSkipping line 34522: expected 44 fields, saw 46\\nSkipping line 34523: expected 44 fields, saw 46\\nSkipping line 34524: expected 44 fields, saw 46\\nSkipping line 34525: expected 44 fields, saw 46\\nSkipping line 34526: expected 44 fields, saw 46\\nSkipping line 34527: expected 44 fields, saw 46\\nSkipping line 34528: expected 44 fields, saw 46\\nSkipping line 34529: expected 44 fields, saw 46\\nSkipping line 34530: expected 44 fields, saw 46\\nSkipping line 34531: expected 44 fields, saw 46\\nSkipping line 34532: expected 44 fields, saw 46\\nSkipping line 34533: expected 44 fields, saw 46\\nSkipping line 34534: expected 44 fields, saw 46\\nSkipping line 34535: expected 44 fields, saw 46\\nSkipping line 34536: expected 44 fields, saw 46\\nSkipping line 34537: expected 44 fields, saw 46\\nSkipping line 34538: expected 44 fields, saw 46\\nSkipping line 34539: expected 44 fields, saw 46\\nSkipping line 34540: expected 44 fields, saw 46\\nSkipping line 34541: expected 44 fields, saw 46\\nSkipping line 34542: expected 44 fields, saw 46\\nSkipping line 34543: expected 44 fields, saw 46\\nSkipping line 34544: expected 44 fields, saw 46\\nSkipping line 34545: expected 44 fields, saw 46\\nSkipping line 34546: expected 44 fields, saw 46\\nSkipping line 34547: expected 44 fields, saw 46\\nSkipping line 34548: expected 44 fields, saw 46\\nSkipping line 34549: expected 44 fields, saw 46\\nSkipping line 34550: expected 44 fields, saw 46\\nSkipping line 34551: expected 44 fields, saw 46\\nSkipping line 34552: expected 44 fields, saw 46\\nSkipping line 34553: expected 44 fields, saw 46\\nSkipping line 34554: expected 44 fields, saw 46\\nSkipping line 34555: expected 44 fields, saw 46\\nSkipping line 34556: expected 44 fields, saw 46\\nSkipping line 34557: expected 44 fields, saw 46\\nSkipping line 34558: expected 44 fields, saw 46\\nSkipping line 34559: expected 44 fields, saw 46\\nSkipping line 34560: expected 44 fields, saw 46\\nSkipping line 34561: expected 44 fields, saw 46\\nSkipping line 34562: expected 44 fields, saw 46\\nSkipping line 34563: expected 44 fields, saw 46\\nSkipping line 34564: expected 44 fields, saw 46\\nSkipping line 34565: expected 44 fields, saw 46\\nSkipping line 34566: expected 44 fields, saw 46\\nSkipping line 34567: expected 44 fields, saw 46\\nSkipping line 34568: expected 44 fields, saw 46\\nSkipping line 34569: expected 44 fields, saw 46\\nSkipping line 34570: expected 44 fields, saw 46\\nSkipping line 34571: expected 44 fields, saw 46\\nSkipping line 34572: expected 44 fields, saw 46\\nSkipping line 34573: expected 44 fields, saw 46\\nSkipping line 34574: expected 44 fields, saw 46\\nSkipping line 34575: expected 44 fields, saw 46\\nSkipping line 34576: expected 44 fields, saw 46\\nSkipping line 34577: expected 44 fields, saw 46\\nSkipping line 34578: expected 44 fields, saw 46\\nSkipping line 34579: expected 44 fields, saw 46\\nSkipping line 34580: expected 44 fields, saw 46\\nSkipping line 34581: expected 44 fields, saw 46\\nSkipping line 34582: expected 44 fields, saw 46\\nSkipping line 34583: expected 44 fields, saw 46\\nSkipping line 34584: expected 44 fields, saw 46\\nSkipping line 34585: expected 44 fields, saw 46\\nSkipping line 34586: expected 44 fields, saw 46\\nSkipping line 34587: expected 44 fields, saw 46\\nSkipping line 34588: expected 44 fields, saw 46\\nSkipping line 34589: expected 44 fields, saw 46\\nSkipping line 34590: expected 44 fields, saw 46\\nSkipping line 34591: expected 44 fields, saw 46\\nSkipping line 34592: expected 44 fields, saw 46\\nSkipping line 34593: expected 44 fields, saw 46\\nSkipping line 34594: expected 44 fields, saw 46\\nSkipping line 34595: expected 44 fields, saw 46\\nSkipping line 34596: expected 44 fields, saw 46\\nSkipping line 34597: expected 44 fields, saw 46\\nSkipping line 34598: expected 44 fields, saw 46\\nSkipping line 34599: expected 44 fields, saw 46\\nSkipping line 34600: expected 44 fields, saw 46\\nSkipping line 34601: expected 44 fields, saw 46\\nSkipping line 34602: expected 44 fields, saw 46\\nSkipping line 34603: expected 44 fields, saw 46\\nSkipping line 34604: expected 44 fields, saw 46\\nSkipping line 34605: expected 44 fields, saw 46\\nSkipping line 34606: expected 44 fields, saw 46\\nSkipping line 34607: expected 44 fields, saw 46\\nSkipping line 34608: expected 44 fields, saw 46\\nSkipping line 34609: expected 44 fields, saw 46\\nSkipping line 34610: expected 44 fields, saw 46\\nSkipping line 34611: expected 44 fields, saw 46\\nSkipping line 34612: expected 44 fields, saw 46\\nSkipping line 34613: expected 44 fields, saw 46\\nSkipping line 34614: expected 44 fields, saw 46\\nSkipping line 34615: expected 44 fields, saw 46\\nSkipping line 34616: expected 44 fields, saw 46\\nSkipping line 34617: expected 44 fields, saw 46\\nSkipping line 34618: expected 44 fields, saw 46\\nSkipping line 34619: expected 44 fields, saw 46\\nSkipping line 34620: expected 44 fields, saw 46\\nSkipping line 34621: expected 44 fields, saw 46\\nSkipping line 34622: expected 44 fields, saw 46\\nSkipping line 34623: expected 44 fields, saw 46\\nSkipping line 34624: expected 44 fields, saw 46\\nSkipping line 34625: expected 44 fields, saw 46\\nSkipping line 34626: expected 44 fields, saw 46\\nSkipping line 34627: expected 44 fields, saw 46\\nSkipping line 34628: expected 44 fields, saw 46\\nSkipping line 34629: expected 44 fields, saw 46\\nSkipping line 34630: expected 44 fields, saw 46\\nSkipping line 34631: expected 44 fields, saw 46\\nSkipping line 34632: expected 44 fields, saw 46\\nSkipping line 34633: expected 44 fields, saw 46\\nSkipping line 34634: expected 44 fields, saw 46\\nSkipping line 34635: expected 44 fields, saw 46\\nSkipping line 34636: expected 44 fields, saw 46\\nSkipping line 34637: expected 44 fields, saw 46\\nSkipping line 34638: expected 44 fields, saw 46\\nSkipping line 34639: expected 44 fields, saw 46\\nSkipping line 34640: expected 44 fields, saw 46\\nSkipping line 34641: expected 44 fields, saw 46\\nSkipping line 34642: expected 44 fields, saw 46\\nSkipping line 34643: expected 44 fields, saw 46\\nSkipping line 34644: expected 44 fields, saw 46\\nSkipping line 34645: expected 44 fields, saw 46\\nSkipping line 34646: expected 44 fields, saw 46\\nSkipping line 34647: expected 44 fields, saw 46\\nSkipping line 34648: expected 44 fields, saw 46\\nSkipping line 34649: expected 44 fields, saw 46\\nSkipping line 34650: expected 44 fields, saw 46\\nSkipping line 34651: expected 44 fields, saw 46\\nSkipping line 34652: expected 44 fields, saw 46\\nSkipping line 34653: expected 44 fields, saw 46\\nSkipping line 34654: expected 44 fields, saw 46\\nSkipping line 34655: expected 44 fields, saw 46\\nSkipping line 34656: expected 44 fields, saw 46\\nSkipping line 34657: expected 44 fields, saw 46\\nSkipping line 34658: expected 44 fields, saw 46\\nSkipping line 34659: expected 44 fields, saw 46\\nSkipping line 34660: expected 44 fields, saw 46\\nSkipping line 34661: expected 44 fields, saw 46\\nSkipping line 34662: expected 44 fields, saw 46\\nSkipping line 34663: expected 44 fields, saw 46\\nSkipping line 34664: expected 44 fields, saw 46\\nSkipping line 34665: expected 44 fields, saw 46\\nSkipping line 34666: expected 44 fields, saw 46\\nSkipping line 34667: expected 44 fields, saw 46\\nSkipping line 34668: expected 44 fields, saw 46\\nSkipping line 34669: expected 44 fields, saw 46\\nSkipping line 34670: expected 44 fields, saw 46\\nSkipping line 34671: expected 44 fields, saw 46\\nSkipping line 34672: expected 44 fields, saw 46\\nSkipping line 34673: expected 44 fields, saw 46\\nSkipping line 34674: expected 44 fields, saw 46\\nSkipping line 34675: expected 44 fields, saw 46\\nSkipping line 34676: expected 44 fields, saw 46\\nSkipping line 34677: expected 44 fields, saw 46\\nSkipping line 34678: expected 44 fields, saw 46\\nSkipping line 34679: expected 44 fields, saw 46\\nSkipping line 34680: expected 44 fields, saw 46\\nSkipping line 34681: expected 44 fields, saw 46\\nSkipping line 34682: expected 44 fields, saw 46\\nSkipping line 34683: expected 44 fields, saw 46\\nSkipping line 34684: expected 44 fields, saw 46\\nSkipping line 34685: expected 44 fields, saw 46\\nSkipping line 34686: expected 44 fields, saw 46\\nSkipping line 34687: expected 44 fields, saw 46\\nSkipping line 34688: expected 44 fields, saw 46\\nSkipping line 34689: expected 44 fields, saw 46\\nSkipping line 34690: expected 44 fields, saw 46\\nSkipping line 34691: expected 44 fields, saw 46\\nSkipping line 34692: expected 44 fields, saw 46\\nSkipping line 34693: expected 44 fields, saw 46\\nSkipping line 34694: expected 44 fields, saw 46\\nSkipping line 34695: expected 44 fields, saw 46\\nSkipping line 34696: expected 44 fields, saw 46\\nSkipping line 34697: expected 44 fields, saw 46\\nSkipping line 34698: expected 44 fields, saw 46\\nSkipping line 34699: expected 44 fields, saw 46\\nSkipping line 34700: expected 44 fields, saw 46\\nSkipping line 34701: expected 44 fields, saw 46\\nSkipping line 34702: expected 44 fields, saw 46\\nSkipping line 34703: expected 44 fields, saw 46\\nSkipping line 34704: expected 44 fields, saw 46\\nSkipping line 34705: expected 44 fields, saw 46\\nSkipping line 34706: expected 44 fields, saw 46\\nSkipping line 34707: expected 44 fields, saw 46\\nSkipping line 34708: expected 44 fields, saw 46\\nSkipping line 34709: expected 44 fields, saw 46\\nSkipping line 34710: expected 44 fields, saw 46\\nSkipping line 34711: expected 44 fields, saw 46\\nSkipping line 34712: expected 44 fields, saw 46\\nSkipping line 34713: expected 44 fields, saw 46\\nSkipping line 34714: expected 44 fields, saw 46\\nSkipping line 34715: expected 44 fields, saw 46\\nSkipping line 34716: expected 44 fields, saw 46\\nSkipping line 34717: expected 44 fields, saw 46\\nSkipping line 34718: expected 44 fields, saw 46\\nSkipping line 34719: expected 44 fields, saw 46\\nSkipping line 34720: expected 44 fields, saw 46\\nSkipping line 34721: expected 44 fields, saw 46\\nSkipping line 34722: expected 44 fields, saw 46\\nSkipping line 34723: expected 44 fields, saw 46\\nSkipping line 34724: expected 44 fields, saw 46\\nSkipping line 34725: expected 44 fields, saw 46\\nSkipping line 34726: expected 44 fields, saw 46\\nSkipping line 34727: expected 44 fields, saw 46\\nSkipping line 34728: expected 44 fields, saw 46\\nSkipping line 34729: expected 44 fields, saw 46\\nSkipping line 34730: expected 44 fields, saw 46\\nSkipping line 34731: expected 44 fields, saw 46\\nSkipping line 34732: expected 44 fields, saw 46\\nSkipping line 34733: expected 44 fields, saw 46\\nSkipping line 34734: expected 44 fields, saw 46\\nSkipping line 34735: expected 44 fields, saw 46\\nSkipping line 34736: expected 44 fields, saw 46\\nSkipping line 34737: expected 44 fields, saw 46\\nSkipping line 34738: expected 44 fields, saw 46\\nSkipping line 34739: expected 44 fields, saw 46\\nSkipping line 34740: expected 44 fields, saw 46\\nSkipping line 34741: expected 44 fields, saw 46\\nSkipping line 34742: expected 44 fields, saw 46\\n'\n"
     ]
    }
   ],
   "source": [
    "final_tos = pd.read_csv('Every_Season_Data/[2017-2018]-combined-stats.csv', error_bad_lines=False)\n",
    "final_turnovers = final_tos[final_tos['event_type'].str.contains('urnover')]\n",
    "final_turnovers['pts_difference'] = final_turnovers['away_score'] - final_turnovers['home_score']\n",
    "final_turnovers = pc.clutch_moment(final_turnovers)\n",
    "x = final_turnovers.groupby('player').count()\n",
    "final_turnovers = x[['event_type']]\n",
    "final_turnovers.reset_index(level=0, inplace=True)\n",
    "final_turnovers = final_turnovers.rename(columns={'event_type':'total_turnovers'})"
   ]
  },
  {
   "cell_type": "code",
   "execution_count": 154,
   "metadata": {},
   "outputs": [],
   "source": [
    "full_test_clutch_stats = pd.merge(full_test_clutch_stats, final_turnovers, on='player', how = 'left')\n",
    "full_test_clutch_stats = full_test_clutch_stats.fillna(0)\n",
    "full_test_clutch_stats['TPG'] = round(full_test_clutch_stats['total_turnovers'] / full_test_clutch_stats['total_games'],2)"
   ]
  },
  {
   "cell_type": "code",
   "execution_count": 155,
   "metadata": {},
   "outputs": [],
   "source": [
    "full_test_clutch_stats = ind.add_scores(full_test_clutch_stats)\n",
    "\n",
    "full_test_clutch_stats = ind.is_clutch(full_test_clutch_stats)"
   ]
  },
  {
   "cell_type": "markdown",
   "metadata": {},
   "source": [
    "# Final X_train"
   ]
  },
  {
   "cell_type": "code",
   "execution_count": 156,
   "metadata": {},
   "outputs": [],
   "source": [
    "final_train = ind.object_to_int(clutch_time, 'points')\n",
    "assists = ind.assist_stats(final_train)\n",
    "blks = ind.blk_stats(final_train)\n",
    "names = ind.player_names(final_train)\n",
    "final_train_stats = ind.merge_all(names, blks, assists, final_train)\n",
    "final_train_stats = ind.get_per_game_stats(final_train_stats)\n",
    "final_train_stats = ind.merge_ids(final_train_stats, ids)"
   ]
  },
  {
   "cell_type": "code",
   "execution_count": 157,
   "metadata": {},
   "outputs": [],
   "source": [
    "final_train_tos = pd.read_csv('CSV Files/clutch_time.csv', error_bad_lines=False)\n",
    "final_train_turnovers = final_train_tos[final_train_tos['event_type'].str.contains('urnover')]\n",
    "final_train_turnovers['pts_difference'] = final_train_turnovers['away_score'] - final_train_turnovers['home_score']\n",
    "final_train_turnovers = pc.clutch_moment(final_train_turnovers)\n",
    "x = final_train_turnovers.groupby('player').count()\n",
    "final_train_turnovers = x[['event_type']]\n",
    "final_train_turnovers.reset_index(level=0, inplace=True)\n",
    "final_train_turnovers = final_train_turnovers.rename(columns={'event_type':'total_turnovers'})"
   ]
  },
  {
   "cell_type": "code",
   "execution_count": 158,
   "metadata": {},
   "outputs": [],
   "source": [
    "final_train_stats = ind.add_league_avg(final_train_stats)\n",
    "final_train_stats = pd.merge(final_train_stats,turnovers,on='player', how = 'left')\n",
    "final_train_stats = final_train_stats.fillna(0)\n",
    "final_train_stats['TPG'] = round(final_train_stats['total_turnovers'] / final_train_stats['total_games'],2)"
   ]
  },
  {
   "cell_type": "code",
   "execution_count": 159,
   "metadata": {},
   "outputs": [],
   "source": [
    "final_train_stats = ind.add_scores(final_train_stats)\n",
    "final_train_stats = ind.is_clutch(final_train_stats)"
   ]
  },
  {
   "cell_type": "code",
   "execution_count": null,
   "metadata": {},
   "outputs": [],
   "source": []
  },
  {
   "cell_type": "markdown",
   "metadata": {},
   "source": [
    "# Final X-test"
   ]
  },
  {
   "cell_type": "code",
   "execution_count": 160,
   "metadata": {},
   "outputs": [],
   "source": [
    "x_test = pd.read_csv('CSV Files/final_x_test.csv')"
   ]
  },
  {
   "cell_type": "code",
   "execution_count": 161,
   "metadata": {},
   "outputs": [],
   "source": [
    "x_test = pc.replace_nan(x_test)"
   ]
  },
  {
   "cell_type": "code",
   "execution_count": 162,
   "metadata": {},
   "outputs": [],
   "source": [
    "x_test['total_blocks'] = (x_test['block'] != '')*1\n",
    "x_test['assist_count'] = (x_test['assist'] != '')*1"
   ]
  },
  {
   "cell_type": "code",
   "execution_count": 163,
   "metadata": {},
   "outputs": [],
   "source": [
    "x_test['points'].replace(to_replace='', value= -1, inplace=True)"
   ]
  },
  {
   "cell_type": "code",
   "execution_count": 164,
   "metadata": {},
   "outputs": [],
   "source": [
    "assists = ind.assist_stats(x_test)\n",
    "blks = ind.blk_stats(x_test)\n",
    "names = ind.player_names(x_test)\n",
    "x_test_clutch_stats = ind.merge_all(names, blks, assists, x_test)\n",
    "x_test_clutch_stats = ind.get_per_game_stats(x_test_clutch_stats)\n",
    "x_test_clutch_stats = ind.merge_ids(x_test_clutch_stats, ids)"
   ]
  },
  {
   "cell_type": "code",
   "execution_count": 165,
   "metadata": {},
   "outputs": [],
   "source": [
    "x_test_clutch_stats = ind.add_league_avg(x_test_clutch_stats)"
   ]
  },
  {
   "cell_type": "code",
   "execution_count": 166,
   "metadata": {},
   "outputs": [],
   "source": [
    "to_data = pd.read_csv('CSV Files/final_test_tos.csv')"
   ]
  },
  {
   "cell_type": "code",
   "execution_count": 167,
   "metadata": {},
   "outputs": [],
   "source": [
    "to_data['pts_difference'] = to_data['away_score'] - to_data['home_score']\n",
    "to_data = pc.clutch_moment(to_data)\n",
    "x = to_data.groupby('player').count()\n",
    "final_X_turnovers = x[['event_type']]\n",
    "final_X_turnovers.reset_index(level=0, inplace=True)\n",
    "final_X_turnovers = final_X_turnovers.rename(columns={'event_type':'total_turnovers'})"
   ]
  },
  {
   "cell_type": "code",
   "execution_count": 168,
   "metadata": {},
   "outputs": [],
   "source": [
    "x_test_clutch_stats = pd.merge(x_test_clutch_stats, final_X_turnovers, on='player', how = 'left')\n",
    "x_test_clutch_stats = x_test_clutch_stats.fillna(0)\n",
    "x_test_clutch_stats['TPG'] = round(x_test_clutch_stats['total_turnovers'] / x_test_clutch_stats['total_games'],2)"
   ]
  },
  {
   "cell_type": "code",
   "execution_count": 169,
   "metadata": {},
   "outputs": [],
   "source": [
    "x_test_clutch_stats = ind.add_scores(x_test_clutch_stats)\n",
    "\n",
    "x_test_clutch_stats = ind.is_clutch(x_test_clutch_stats)"
   ]
  },
  {
   "cell_type": "markdown",
   "metadata": {},
   "source": [
    "# Final test"
   ]
  },
  {
   "cell_type": "code",
   "execution_count": 170,
   "metadata": {},
   "outputs": [],
   "source": [
    "players = x_test_clutch_stats[['player']]\n",
    "full_test_clutch_stats = full_test_clutch_stats.merge(players, on='player')\n",
    "\n",
    "x = full_test_clutch_stats[['player']]\n",
    "x_test_clutch_stats = x_test_clutch_stats.merge(x, on='player')"
   ]
  },
  {
   "cell_type": "code",
   "execution_count": 171,
   "metadata": {},
   "outputs": [],
   "source": [
    "d = target[['player']]\n",
    "final_train_stats = final_train_stats.merge(d, on='player')\n",
    "\n",
    "y = final_train_stats[['player']]\n",
    "target = target.merge(y, on='player')"
   ]
  },
  {
   "cell_type": "code",
   "execution_count": 172,
   "metadata": {},
   "outputs": [],
   "source": [
    "x_testF = x_test_clutch_stats.drop(['APG',\n",
    "    'FT_missed','3pt%', 'ORPG','total_games',\n",
    "    'easy_shot%','total_shots', '2fg_attempts', 'Dunk/Layup_attempts', '3pt_shots',\n",
    "    'assist_count','clutch_score', 'is_clutch', 'total_blocks', '2pt_fg_made', \n",
    "'Dunk/Layup', 'shots_made', 'BPG',\n",
    "    'FT%','league_all_shot_avg', 'league_2pt_avg', 'league_3pt_avg',\n",
    "       'league_hard2pt_avg', 'league_easy2pt_avg', 'league_ft%','player', 'player_id'], axis = 1)\n",
    "x_trainF = final_train_stats.drop(['APG',\n",
    "    'FT_missed','3pt%', 'ORPG','total_games',\n",
    "    'easy_shot%','total_shots', '2fg_attempts', 'Dunk/Layup_attempts', '3pt_shots',\n",
    "    'assist_count',\n",
    "    'clutch_score', 'is_clutch', 'total_blocks', '2pt_fg_made', \n",
    "'Dunk/Layup', 'shots_made', 'BPG',\n",
    "    'FT%','league_all_shot_avg', 'league_2pt_avg', 'league_3pt_avg',\n",
    "       'league_hard2pt_avg', 'league_easy2pt_avg', 'league_ft%','player', 'player_id'], axis = 1)"
   ]
  },
  {
   "cell_type": "code",
   "execution_count": 173,
   "metadata": {},
   "outputs": [],
   "source": [
    "y_testF = full_test_clutch_stats['is_clutch']\n",
    "y_trainF = target['is_clutch']"
   ]
  },
  {
   "cell_type": "code",
   "execution_count": 184,
   "metadata": {},
   "outputs": [],
   "source": [
    "model= GradientBoostingClassifier(learning_rate=0.23, max_depth=4, min_samples_leaf=9, n_estimators=1000)\n",
    "model.fit(x_trainF, y_trainF)\n",
    "predF= model.predict(x_testF)"
   ]
  },
  {
   "cell_type": "code",
   "execution_count": 185,
   "metadata": {},
   "outputs": [
    {
     "data": {
      "text/plain": [
       "0.7115384615384616"
      ]
     },
     "execution_count": 185,
     "metadata": {},
     "output_type": "execute_result"
    }
   ],
   "source": [
    "accuracy_score(y_testF, predF)"
   ]
  },
  {
   "cell_type": "code",
   "execution_count": 186,
   "metadata": {},
   "outputs": [
    {
     "data": {
      "text/plain": [
       "0.2857142857142857"
      ]
     },
     "execution_count": 186,
     "metadata": {},
     "output_type": "execute_result"
    }
   ],
   "source": [
    "recall_score(y_testF, predF)"
   ]
  },
  {
   "cell_type": "code",
   "execution_count": 187,
   "metadata": {},
   "outputs": [
    {
     "data": {
      "text/plain": [
       "0.2718446601941748"
      ]
     },
     "execution_count": 187,
     "metadata": {},
     "output_type": "execute_result"
    }
   ],
   "source": [
    "f1_score(y_testF, predF)"
   ]
  },
  {
   "cell_type": "code",
   "execution_count": 188,
   "metadata": {},
   "outputs": [
    {
     "data": {
      "text/plain": [
       "0.25925925925925924"
      ]
     },
     "execution_count": 188,
     "metadata": {},
     "output_type": "execute_result"
    }
   ],
   "source": [
    "precision_score(y_testF, predF)"
   ]
  },
  {
   "cell_type": "code",
   "execution_count": 622,
   "metadata": {
    "collapsed": true
   },
   "outputs": [
    {
     "data": {
      "text/plain": [
       "<matplotlib.axes._subplots.AxesSubplot at 0x7f24738256d8>"
      ]
     },
     "execution_count": 622,
     "metadata": {},
     "output_type": "execute_result"
    },
    {
     "data": {
      "image/png": "[encoded data removed]",
      "text/plain": [
       "<Figure size 864x576 with 1 Axes>"
      ]
     },
     "metadata": {},
     "output_type": "display_data"
    }
   ],
   "source": [
    "ig, axs = plt.subplots(1,0, figsize=(12,8))\n",
    "(pd.Series(model.feature_importances_, index=x_testF.columns)\n",
    "   .nlargest(36)\n",
    "   .plot(kind='barh'))"
   ]
  },
  {
   "cell_type": "code",
   "execution_count": null,
   "metadata": {},
   "outputs": [],
   "source": []
  },
  {
   "cell_type": "code",
   "execution_count": 110,
   "metadata": {},
   "outputs": [],
   "source": [
    "parameters = {'learning_rate': [.25], 'n_estimators': [400, 410, 390], \n",
    "              'max_depth': [1], 'min_samples_leaf': [3]}"
   ]
  },
  {
   "cell_type": "code",
   "execution_count": 191,
   "metadata": {},
   "outputs": [
    {
     "name": "stdout",
     "output_type": "stream",
     "text": [
      "recall: 0.32653%\n",
      "f1: 0.33333%\n",
      "Accuracy: 0.75385%\n",
      "precision: 0.34043%\n"
     ]
    }
   ],
   "source": [
    "modelFX = XGBClassifier(learning_rate=.2, n_estimators=150, max_depth=3, min_child_weight=1)\n",
    "modelFX.fit(x_trainF, y_trainF)\n",
    "y_predFX=modelFX.predict(x_testF)\n",
    "print(\"recall: %.5f%%\" % recall_score(y_testF, y_predFX))\n",
    "print(\"f1: %.5f%%\" % f1_score(y_testF, y_predFX))\n",
    "print(\"Accuracy: %.5f%%\" % accuracy_score(y_testF, y_predFX))\n",
    "print(\"precision: %.5f%%\" % precision_score(y_testF, y_predFX))"
   ]
  },
  {
   "cell_type": "code",
   "execution_count": 199,
   "metadata": {},
   "outputs": [
    {
     "data": {
      "text/plain": [
       "array([0.01134215, 0.08506616, 0.02646503, 0.03780719, 0.06238185,\n",
       "       0.05293006, 0.06427221, 0.01890359, 0.09640832, 0.05860113,\n",
       "       0.05860113, 0.03024575, 0.11720227, 0.02646503, 0.05671078,\n",
       "       0.06805293, 0.06616257, 0.06238185], dtype=float32)"
      ]
     },
     "execution_count": 199,
     "metadata": {},
     "output_type": "execute_result"
    }
   ],
   "source": [
    "modelFX.feature_importances_"
   ]
  },
  {
   "cell_type": "code",
   "execution_count": null,
   "metadata": {},
   "outputs": [],
   "source": [
    "#top 18   \n",
    "'shots_missed', '3pt', '2pt_med/hard', 'med/hard_attempts', 'FT_made',\n",
    "       'off_rebound', 'total_rebound', 'shooting%', 'RPG', '2pt%',\n",
    "       'med/hard_fg%', 'total_turnovers', 'TPG', '3pt_score', 'Hard_2Score',\n",
    "       'Easy_2Score', 'FT_score', 'total_score'"
   ]
  },
  {
   "cell_type": "markdown",
   "metadata": {},
   "source": [
    "# Final outcome!"
   ]
  },
  {
   "cell_type": "markdown",
   "metadata": {},
   "source": [
    "My baseline scores were: F1 = 19.18%, Recall: 15.22, Precision: 25.93.\n",
    "With my model i was able to beat the base line score and my final numbers were: F1 33.33%, Recall: 32.65%, Precision: 34.04%."
   ]
  },
  {
   "cell_type": "markdown",
   "metadata": {},
   "source": [
    "Players shooting percentage tends to drop 5-6% in the clutch momentsm which are when the game is within 6 points and with 2 minutes to play. Clutch players are the ones who take more shots then the league average in that time and have a better shooting% then the league and as well as a clutch score that is better than the league average. There are 25-35 players each year that tend to be clutch and my model predicts if they will be clutch next year by looking at the previous years stats adn it tends to do better than just saying that they will be clutch next year if they were clutch this year."
   ]
  },
  {
   "cell_type": "code",
   "execution_count": null,
   "metadata": {},
   "outputs": [],
   "source": []
  }
 ],
 "metadata": {
  "kernelspec": {
   "display_name": "Python 3",
   "language": "python",
   "name": "python3"
  },
  "language_info": {
   "codemirror_mode": {
    "name": "ipython",
    "version": 3
   },
   "file_extension": ".py",
   "mimetype": "text/x-python",
   "name": "python",
   "nbconvert_exporter": "python",
   "pygments_lexer": "ipython3",
   "version": "3.6.5"
  }
 },
 "nbformat": 4,
 "nbformat_minor": 2
}
