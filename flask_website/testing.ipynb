{
 "cells": [
  {
   "cell_type": "code",
   "execution_count": 1,
   "metadata": {},
   "outputs": [],
   "source": [
    "import pandas as pd\n",
    "import numpy as np\n",
    "\n",
    "pd.set_option('display.max_columns', None)\n",
    "pd.set_option('display.max_rows', None)\n",
    "\n",
    "import warnings\n",
    "warnings.filterwarnings('ignore')\n",
    "import code_for_flask\n",
    "import pickle"
   ]
  },
  {
   "cell_type": "code",
   "execution_count": 2,
   "metadata": {},
   "outputs": [],
   "source": [
    "df = pd.read_csv('stats_for_flask')"
   ]
  },
  {
   "cell_type": "code",
   "execution_count": 3,
   "metadata": {},
   "outputs": [],
   "source": [
    "years = pd.read_csv('clutch_years.csv')"
   ]
  },
  {
   "cell_type": "code",
   "execution_count": 8,
   "metadata": {},
   "outputs": [],
   "source": [
    "d = years[['player','years_played', 'clutch_years']]"
   ]
  },
  {
   "cell_type": "code",
   "execution_count": 4,
   "metadata": {},
   "outputs": [],
   "source": [
    "df = df.sort_values('player')"
   ]
  },
  {
   "cell_type": "code",
   "execution_count": 9,
   "metadata": {},
   "outputs": [],
   "source": [
    "x = pd.merge(df, d, on='player', how='left')"
   ]
  },
  {
   "cell_type": "code",
   "execution_count": 16,
   "metadata": {},
   "outputs": [],
   "source": [
    "def player_stat(name1, name2):\n",
    "    player1 = (x.loc[x['player'] == name1]) \n",
    "    player2 = (x.loc[x['player'] == name2])\n",
    "    both = pd.merge(player1,player2, how = 'outer')\n",
    "    both = both.T\n",
    "    both.reset_index(level=0, inplace=True)\n",
    "    both.columns = both.iloc[0]\n",
    "    stats = both.reindex(both.index.drop(0))\n",
    "    stats = stats.rename(columns={'player':' '})\n",
    "    stats = stats.set_index(' ')\n",
    "    stats = stats.drop(['shots_made', '2pt_made', '3pt_made', 'FT_made'])\n",
    "    return stats"
   ]
  },
  {
   "cell_type": "code",
   "execution_count": 21,
   "metadata": {},
   "outputs": [],
   "source": [
    "y = code_for_flask.player_stat('Chris Paul', 'Steve Nash', x)"
   ]
  },
  {
   "cell_type": "code",
   "execution_count": 34,
   "metadata": {},
   "outputs": [],
   "source": [
    "x.to_csv('data_for flask.csv', encoding='utf-8', index=False)"
   ]
  },
  {
   "cell_type": "code",
   "execution_count": 36,
   "metadata": {},
   "outputs": [],
   "source": [
    "h = pd.read_csv('data_for flask.csv')"
   ]
  },
  {
   "cell_type": "code",
   "execution_count": 37,
   "metadata": {},
   "outputs": [
    {
     "data": {
      "text/html": [
       "<div>\n",
       "<style scoped>\n",
       "    .dataframe tbody tr th:only-of-type {\n",
       "        vertical-align: middle;\n",
       "    }\n",
       "\n",
       "    .dataframe tbody tr th {\n",
       "        vertical-align: top;\n",
       "    }\n",
       "\n",
       "    .dataframe thead th {\n",
       "        text-align: right;\n",
       "    }\n",
       "</style>\n",
       "<table border=\"1\" class=\"dataframe\">\n",
       "  <thead>\n",
       "    <tr style=\"text-align: right;\">\n",
       "      <th></th>\n",
       "      <th>player</th>\n",
       "      <th>total_games</th>\n",
       "      <th>shots_made</th>\n",
       "      <th>total_shots</th>\n",
       "      <th>shooting%</th>\n",
       "      <th>2pt_made</th>\n",
       "      <th>2pt_attempts</th>\n",
       "      <th>2pt%</th>\n",
       "      <th>3pt_made</th>\n",
       "      <th>3pt_attempts</th>\n",
       "      <th>3pt%</th>\n",
       "      <th>FT_made</th>\n",
       "      <th>FT_Attempts</th>\n",
       "      <th>FT%</th>\n",
       "      <th>total_assists</th>\n",
       "      <th>total_blocks</th>\n",
       "      <th>off_rebound</th>\n",
       "      <th>is_clutch</th>\n",
       "      <th>years_played</th>\n",
       "      <th>clutch_years</th>\n",
       "    </tr>\n",
       "  </thead>\n",
       "  <tbody>\n",
       "    <tr>\n",
       "      <th>0</th>\n",
       "      <td>A.J. Price</td>\n",
       "      <td>16</td>\n",
       "      <td>11</td>\n",
       "      <td>28</td>\n",
       "      <td>39.29</td>\n",
       "      <td>8</td>\n",
       "      <td>18</td>\n",
       "      <td>44.44</td>\n",
       "      <td>3</td>\n",
       "      <td>10</td>\n",
       "      <td>30.00</td>\n",
       "      <td>3</td>\n",
       "      <td>3</td>\n",
       "      <td>100.00</td>\n",
       "      <td>3</td>\n",
       "      <td>2</td>\n",
       "      <td>1</td>\n",
       "      <td>0.0</td>\n",
       "      <td>4</td>\n",
       "      <td>0.0</td>\n",
       "    </tr>\n",
       "    <tr>\n",
       "      <th>1</th>\n",
       "      <td>Aaron Brooks</td>\n",
       "      <td>109</td>\n",
       "      <td>58</td>\n",
       "      <td>174</td>\n",
       "      <td>33.33</td>\n",
       "      <td>41</td>\n",
       "      <td>103</td>\n",
       "      <td>39.81</td>\n",
       "      <td>17</td>\n",
       "      <td>71</td>\n",
       "      <td>23.94</td>\n",
       "      <td>91</td>\n",
       "      <td>111</td>\n",
       "      <td>81.98</td>\n",
       "      <td>12</td>\n",
       "      <td>19</td>\n",
       "      <td>8</td>\n",
       "      <td>0.0</td>\n",
       "      <td>9</td>\n",
       "      <td>1.0</td>\n",
       "    </tr>\n",
       "    <tr>\n",
       "      <th>2</th>\n",
       "      <td>Aaron Gordon</td>\n",
       "      <td>34</td>\n",
       "      <td>13</td>\n",
       "      <td>32</td>\n",
       "      <td>40.62</td>\n",
       "      <td>8</td>\n",
       "      <td>17</td>\n",
       "      <td>47.06</td>\n",
       "      <td>5</td>\n",
       "      <td>15</td>\n",
       "      <td>33.33</td>\n",
       "      <td>16</td>\n",
       "      <td>19</td>\n",
       "      <td>84.21</td>\n",
       "      <td>9</td>\n",
       "      <td>2</td>\n",
       "      <td>10</td>\n",
       "      <td>0.0</td>\n",
       "      <td>4</td>\n",
       "      <td>0.0</td>\n",
       "    </tr>\n",
       "    <tr>\n",
       "      <th>3</th>\n",
       "      <td>Aaron Gray</td>\n",
       "      <td>14</td>\n",
       "      <td>4</td>\n",
       "      <td>6</td>\n",
       "      <td>66.67</td>\n",
       "      <td>4</td>\n",
       "      <td>6</td>\n",
       "      <td>66.67</td>\n",
       "      <td>0</td>\n",
       "      <td>0</td>\n",
       "      <td>0.00</td>\n",
       "      <td>6</td>\n",
       "      <td>11</td>\n",
       "      <td>54.55</td>\n",
       "      <td>2</td>\n",
       "      <td>0</td>\n",
       "      <td>8</td>\n",
       "      <td>0.0</td>\n",
       "      <td>6</td>\n",
       "      <td>0.0</td>\n",
       "    </tr>\n",
       "    <tr>\n",
       "      <th>4</th>\n",
       "      <td>Aaron Harrison</td>\n",
       "      <td>2</td>\n",
       "      <td>0</td>\n",
       "      <td>2</td>\n",
       "      <td>0.00</td>\n",
       "      <td>0</td>\n",
       "      <td>0</td>\n",
       "      <td>0.00</td>\n",
       "      <td>0</td>\n",
       "      <td>2</td>\n",
       "      <td>0.00</td>\n",
       "      <td>2</td>\n",
       "      <td>3</td>\n",
       "      <td>66.67</td>\n",
       "      <td>0</td>\n",
       "      <td>0</td>\n",
       "      <td>0</td>\n",
       "      <td>0.0</td>\n",
       "      <td>1</td>\n",
       "      <td>0.0</td>\n",
       "    </tr>\n",
       "  </tbody>\n",
       "</table>\n",
       "</div>"
      ],
      "text/plain": [
       "           player  total_games  shots_made  total_shots  shooting%  2pt_made  \\\n",
       "0      A.J. Price           16          11           28      39.29         8   \n",
       "1    Aaron Brooks          109          58          174      33.33        41   \n",
       "2    Aaron Gordon           34          13           32      40.62         8   \n",
       "3      Aaron Gray           14           4            6      66.67         4   \n",
       "4  Aaron Harrison            2           0            2       0.00         0   \n",
       "\n",
       "   2pt_attempts   2pt%  3pt_made  3pt_attempts   3pt%  FT_made  FT_Attempts  \\\n",
       "0            18  44.44         3            10  30.00        3            3   \n",
       "1           103  39.81        17            71  23.94       91          111   \n",
       "2            17  47.06         5            15  33.33       16           19   \n",
       "3             6  66.67         0             0   0.00        6           11   \n",
       "4             0   0.00         0             2   0.00        2            3   \n",
       "\n",
       "      FT%  total_assists  total_blocks  off_rebound  is_clutch  years_played  \\\n",
       "0  100.00              3             2            1        0.0             4   \n",
       "1   81.98             12            19            8        0.0             9   \n",
       "2   84.21              9             2           10        0.0             4   \n",
       "3   54.55              2             0            8        0.0             6   \n",
       "4   66.67              0             0            0        0.0             1   \n",
       "\n",
       "   clutch_years  \n",
       "0           0.0  \n",
       "1           1.0  \n",
       "2           0.0  \n",
       "3           0.0  \n",
       "4           0.0  "
      ]
     },
     "execution_count": 37,
     "metadata": {},
     "output_type": "execute_result"
    }
   ],
   "source": [
    "h.head()"
   ]
  },
  {
   "cell_type": "code",
   "execution_count": 23,
   "metadata": {},
   "outputs": [],
   "source": [
    "pickle.dump(code_for_flask.player_stat, open('comparison.p', 'wb'))"
   ]
  },
  {
   "cell_type": "code",
   "execution_count": 29,
   "metadata": {},
   "outputs": [],
   "source": [
    "g = pickle.load(open('comparison.p', 'rb'))"
   ]
  },
  {
   "cell_type": "code",
   "execution_count": 30,
   "metadata": {},
   "outputs": [
    {
     "data": {
      "text/plain": [
       "<function code_for_flask.player_stat(name1, name2, df)>"
      ]
     },
     "execution_count": 30,
     "metadata": {},
     "output_type": "execute_result"
    }
   ],
   "source": [
    "g"
   ]
  },
  {
   "cell_type": "code",
   "execution_count": null,
   "metadata": {},
   "outputs": [],
   "source": []
  }
 ],
 "metadata": {
  "kernelspec": {
   "display_name": "Python 3",
   "language": "python",
   "name": "python3"
  },
  "language_info": {
   "codemirror_mode": {
    "name": "ipython",
    "version": 3
   },
   "file_extension": ".py",
   "mimetype": "text/x-python",
   "name": "python",
   "nbconvert_exporter": "python",
   "pygments_lexer": "ipython3",
   "version": "3.6.5"
  }
 },
 "nbformat": 4,
 "nbformat_minor": 2
}
