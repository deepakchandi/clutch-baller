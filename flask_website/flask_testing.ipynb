{
 "cells": [
  {
   "cell_type": "code",
   "execution_count": 3,
   "metadata": {},
   "outputs": [],
   "source": [
    "import pandas as pd\n",
    "import numpy as np\n",
    "\n",
    "pd.set_option('display.max_columns', None)\n",
    "pd.set_option('display.max_rows', None)\n",
    "\n",
    "\n",
    "import warnings\n",
    "warnings.filterwarnings('ignore')\n",
    "import code_for_flask\n",
    "import pickle"
   ]
  },
  {
   "cell_type": "code",
   "execution_count": 31,
   "metadata": {},
   "outputs": [],
   "source": [
    "df = pd.read_csv('stats_for_flask')"
   ]
  },
  {
   "cell_type": "code",
   "execution_count": 32,
   "metadata": {},
   "outputs": [],
   "source": [
    "df['is_clutch'].replace([0,1],['No','Yes'],inplace=True)"
   ]
  },
  {
   "cell_type": "code",
   "execution_count": 33,
   "metadata": {},
   "outputs": [],
   "source": [
    "x = df[['player', 'is_clutch']]"
   ]
  },
  {
   "cell_type": "code",
   "execution_count": 9,
   "metadata": {},
   "outputs": [],
   "source": [
    "def player_stat(name1, name2):\n",
    "    player1 = (df.loc[df['player'] == name1]) \n",
    "    player2 = (df.loc[df['player'] == name2])\n",
    "    both = pd.merge(player1,player2, how = 'outer')\n",
    "    both = both.T\n",
    "    both.reset_index(level=0, inplace=True)\n",
    "    both.columns = both.iloc[0]\n",
    "    stats = both.reindex(both.index.drop(0))\n",
    "    stats = stats.rename(columns={'player':' '})\n",
    "    stats = stats.set_index(' ')\n",
    "    stats = stats.drop(['shots_made', '2pt_made', '3pt_made', 'FT_made'])\n",
    "    return stats"
   ]
  },
  {
   "cell_type": "code",
   "execution_count": null,
   "metadata": {},
   "outputs": [],
   "source": []
  },
  {
   "cell_type": "code",
   "execution_count": null,
   "metadata": {},
   "outputs": [],
   "source": []
  },
  {
   "cell_type": "code",
   "execution_count": null,
   "metadata": {},
   "outputs": [],
   "source": []
  },
  {
   "cell_type": "code",
   "execution_count": 24,
   "metadata": {},
   "outputs": [],
   "source": [
    "x = pickle.load(open('comparison.p', 'rb'))"
   ]
  },
  {
   "cell_type": "code",
   "execution_count": 27,
   "metadata": {},
   "outputs": [
    {
     "data": {
      "text/html": [
       "<div>\n",
       "<style scoped>\n",
       "    .dataframe tbody tr th:only-of-type {\n",
       "        vertical-align: middle;\n",
       "    }\n",
       "\n",
       "    .dataframe tbody tr th {\n",
       "        vertical-align: top;\n",
       "    }\n",
       "\n",
       "    .dataframe thead th {\n",
       "        text-align: right;\n",
       "    }\n",
       "</style>\n",
       "<table border=\"1\" class=\"dataframe\">\n",
       "  <thead>\n",
       "    <tr style=\"text-align: right;\">\n",
       "      <th></th>\n",
       "      <th>Steve Nash</th>\n",
       "      <th>Chris Paul</th>\n",
       "    </tr>\n",
       "    <tr>\n",
       "      <th></th>\n",
       "      <th></th>\n",
       "      <th></th>\n",
       "    </tr>\n",
       "  </thead>\n",
       "  <tbody>\n",
       "    <tr>\n",
       "      <th>total_games</th>\n",
       "      <td>199</td>\n",
       "      <td>308</td>\n",
       "    </tr>\n",
       "    <tr>\n",
       "      <th>total_shots</th>\n",
       "      <td>343</td>\n",
       "      <td>532</td>\n",
       "    </tr>\n",
       "    <tr>\n",
       "      <th>shooting%</th>\n",
       "      <td>44.02</td>\n",
       "      <td>38.16</td>\n",
       "    </tr>\n",
       "    <tr>\n",
       "      <th>2pt_attempts</th>\n",
       "      <td>208</td>\n",
       "      <td>416</td>\n",
       "    </tr>\n",
       "    <tr>\n",
       "      <th>2pt%</th>\n",
       "      <td>50</td>\n",
       "      <td>43.27</td>\n",
       "    </tr>\n",
       "    <tr>\n",
       "      <th>3pt_attempts</th>\n",
       "      <td>135</td>\n",
       "      <td>116</td>\n",
       "    </tr>\n",
       "    <tr>\n",
       "      <th>3pt%</th>\n",
       "      <td>34.81</td>\n",
       "      <td>19.83</td>\n",
       "    </tr>\n",
       "    <tr>\n",
       "      <th>FT_Attempts</th>\n",
       "      <td>277</td>\n",
       "      <td>437</td>\n",
       "    </tr>\n",
       "    <tr>\n",
       "      <th>FT%</th>\n",
       "      <td>88.81</td>\n",
       "      <td>85.81</td>\n",
       "    </tr>\n",
       "    <tr>\n",
       "      <th>total_assists</th>\n",
       "      <td>28</td>\n",
       "      <td>26</td>\n",
       "    </tr>\n",
       "    <tr>\n",
       "      <th>total_blocks</th>\n",
       "      <td>8</td>\n",
       "      <td>28</td>\n",
       "    </tr>\n",
       "    <tr>\n",
       "      <th>off_rebound</th>\n",
       "      <td>8</td>\n",
       "      <td>21</td>\n",
       "    </tr>\n",
       "    <tr>\n",
       "      <th>is_clutch</th>\n",
       "      <td>Yes</td>\n",
       "      <td>No</td>\n",
       "    </tr>\n",
       "  </tbody>\n",
       "</table>\n",
       "</div>"
      ],
      "text/plain": [
       "0             Steve Nash Chris Paul\n",
       "                                   \n",
       "total_games          199        308\n",
       "total_shots          343        532\n",
       "shooting%          44.02      38.16\n",
       "2pt_attempts         208        416\n",
       "2pt%                  50      43.27\n",
       "3pt_attempts         135        116\n",
       "3pt%               34.81      19.83\n",
       "FT_Attempts          277        437\n",
       "FT%                88.81      85.81\n",
       "total_assists         28         26\n",
       "total_blocks           8         28\n",
       "off_rebound            8         21\n",
       "is_clutch            Yes         No"
      ]
     },
     "execution_count": 27,
     "metadata": {},
     "output_type": "execute_result"
    }
   ],
   "source": [
    "x('Steve Nash', 'Chris Paul', df)"
   ]
  },
  {
   "cell_type": "code",
   "execution_count": 22,
   "metadata": {},
   "outputs": [],
   "source": [
    "y = x('Steve Nash', 'Chris Paul', df)"
   ]
  },
  {
   "cell_type": "code",
   "execution_count": 23,
   "metadata": {},
   "outputs": [],
   "source": [
    "pickle.dump(code_for_flask.player_stat, open('comparison.p', 'wb'))"
   ]
  },
  {
   "cell_type": "code",
   "execution_count": null,
   "metadata": {},
   "outputs": [],
   "source": []
  }
 ],
 "metadata": {
  "kernelspec": {
   "display_name": "Python 3",
   "language": "python",
   "name": "python3"
  },
  "language_info": {
   "codemirror_mode": {
    "name": "ipython",
    "version": 3
   },
   "file_extension": ".py",
   "mimetype": "text/x-python",
   "name": "python",
   "nbconvert_exporter": "python",
   "pygments_lexer": "ipython3",
   "version": "3.6.5"
  }
 },
 "nbformat": 4,
 "nbformat_minor": 2
}
