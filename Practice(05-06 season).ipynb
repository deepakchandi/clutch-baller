{
 "cells": [
  {
   "cell_type": "code",
   "execution_count": 750,
   "metadata": {},
   "outputs": [
    {
     "name": "stdout",
     "output_type": "stream",
     "text": [
      "The autoreload extension is already loaded. To reload it, use:\n",
      "  %reload_ext autoreload\n"
     ]
    }
   ],
   "source": [
    "import pandas as pd\n",
    "import numpy as np\n",
    "import matplotlib.pyplot as plt\n",
    "%load_ext autoreload\n",
    "%autoreload 2\n",
    "import operator\n",
    "from functools import reduce\n",
    "\n",
    "\n",
    "pd.set_option('display.max_columns', None)\n",
    "pd.set_option('display.max_rows', None)\n",
    "import os \n",
    "os.chdir('/Users/deepak/capstone/clutch-baller')\n",
    "# os.chdir('./clutch-baller')\n",
    "import practice_code as pc\n",
    "import indiviual_stats as ind\n",
    "# os.chdir('..')"
   ]
  },
  {
   "cell_type": "code",
   "execution_count": 188,
   "metadata": {},
   "outputs": [],
   "source": [
    "df = pd.read_csv('/Users/deepak/Desktop/NBA_Data/Every_Season_Data/[2005-2006]-combined-stats.csv')"
   ]
  },
  {
   "cell_type": "markdown",
   "metadata": {},
   "source": [
    "##Added another column that shows the pts difference between both teams"
   ]
  },
  {
   "cell_type": "code",
   "execution_count": 189,
   "metadata": {},
   "outputs": [],
   "source": [
    "df = pc.replace_nan(df)"
   ]
  },
  {
   "cell_type": "code",
   "execution_count": 190,
   "metadata": {},
   "outputs": [
    {
     "name": "stderr",
     "output_type": "stream",
     "text": [
      "/Users/deepak/capstone/clutch-baller/practice_code.py:23: SettingWithCopyWarning: \n",
      "A value is trying to be set on a copy of a slice from a DataFrame.\n",
      "Try using .loc[row_indexer,col_indexer] = value instead\n",
      "\n",
      "See the caveats in the documentation: http://pandas.pydata.org/pandas-docs/stable/indexing.html#indexing-view-versus-copy\n",
      "  df2['winner'] = np.where(df2.pts_difference >0, 'away', 'home')\n"
     ]
    }
   ],
   "source": [
    "df = pc.add_columns(df)"
   ]
  },
  {
   "cell_type": "code",
   "execution_count": 192,
   "metadata": {},
   "outputs": [],
   "source": [
    "col_to_remove = ['a1', 'a2', 'a3','a4','a5','h1','h2','h3','h4','h5', 'play_length', 'entered', 'left', 'possession', 'shot_distance', 'original_x', 'original_y', 'converted_x', 'converted_y', 'num', 'away', 'home', 'outof', 'opponent', 'reason', 'elapsed', 'play_id']"
   ]
  },
  {
   "cell_type": "markdown",
   "metadata": {},
   "source": [
    "##Remove unnecessary columns"
   ]
  },
  {
   "cell_type": "code",
   "execution_count": 193,
   "metadata": {},
   "outputs": [],
   "source": [
    "df = pc.remove_col(df, col_to_remove)\n",
    "\n"
   ]
  },
  {
   "cell_type": "markdown",
   "metadata": {},
   "source": [
    "##df showing all the games within 6 points when two min left in 4th"
   ]
  },
  {
   "cell_type": "code",
   "execution_count": 194,
   "metadata": {},
   "outputs": [],
   "source": [
    "clutch_time = pc.clutch_moment(df)\n"
   ]
  },
  {
   "cell_type": "markdown",
   "metadata": {},
   "source": [
    "##Remove Rows that are not needed (such as fouls, subs, timeouts etc)"
   ]
  },
  {
   "cell_type": "code",
   "execution_count": 195,
   "metadata": {},
   "outputs": [],
   "source": [
    "rows = ['sub', 'timeout', 'uknown', 'unknown', 'Ejection', 'violat', 'traveling', 'team reb', 'foul',\n",
    "        'turnover', 'of period', 'lost ball', 'goaltend', 'bad pass', 'illegal', 'jump ball', 'o', 'backcourt']"
   ]
  },
  {
   "cell_type": "code",
   "execution_count": 196,
   "metadata": {},
   "outputs": [],
   "source": [
    "clutch_time = pc.remove_junk_rows(clutch_time, 'type', rows)"
   ]
  },
  {
   "cell_type": "markdown",
   "metadata": {},
   "source": [
    "##Remove game that didnt have clutch moment but got close for a sec\n"
   ]
  },
  {
   "cell_type": "code",
   "execution_count": 197,
   "metadata": {},
   "outputs": [
    {
     "data": {
      "text/plain": [
       "533"
      ]
     },
     "execution_count": 197,
     "metadata": {},
     "output_type": "execute_result"
    }
   ],
   "source": [
    "clutch_time = pc.remove_not_imp_games(clutch_time, 'game_id')\n",
    "clutch_time['game_id'].value_counts().count()"
   ]
  },
  {
   "cell_type": "markdown",
   "metadata": {},
   "source": [
    "##Separate playoff games from regular season games"
   ]
  },
  {
   "cell_type": "code",
   "execution_count": 198,
   "metadata": {},
   "outputs": [],
   "source": [
    "regular_season, playoffs =  pc.regular_or_playoffs(clutch_time, 'data_set')"
   ]
  },
  {
   "cell_type": "markdown",
   "metadata": {},
   "source": [
    "##Shows the shooting stats for a player, righ now showing for last 2 min but can change df to get full season or playoffs!"
   ]
  },
  {
   "cell_type": "code",
   "execution_count": 797,
   "metadata": {},
   "outputs": [
    {
     "data": {
      "text/plain": [
       "('Shooting Percentage:0.355', 'Made: 22', 'Attempt: 62')"
      ]
     },
     "execution_count": 797,
     "metadata": {},
     "output_type": "execute_result"
    }
   ],
   "source": [
    "stats = pc.get_percent(regular_season, 'player', 'event_type', 'Allen Iverson')\n",
    "stats"
   ]
  },
  {
   "cell_type": "markdown",
   "metadata": {},
   "source": [
    "##Free throw numbers"
   ]
  },
  {
   "cell_type": "code",
   "execution_count": 691,
   "metadata": {},
   "outputs": [
    {
     "data": {
      "text/plain": [
       "('Free Throw:nan', 'Made: 0', 'Attempt: 0')"
      ]
     },
     "execution_count": 691,
     "metadata": {},
     "output_type": "execute_result"
    }
   ],
   "source": [
    "free_throw = pc.free_throw_percent(regular_season, 'player', 'event_type', 'result', 'Aaron Williams')\n",
    "free_throw"
   ]
  },
  {
   "cell_type": "markdown",
   "metadata": {},
   "source": [
    "##Compare shooting stats between 2 players"
   ]
  },
  {
   "cell_type": "code",
   "execution_count": 18,
   "metadata": {},
   "outputs": [
    {
     "data": {
      "text/plain": [
       "('Player A:Kobe Bryant',\n",
       " 'Shooting Percentage:0.372',\n",
       " 'Made: 32',\n",
       " 'Attempt: 86',\n",
       " \"Player B:Shaquille O'Neal\",\n",
       " 'Shooting Percentage:0.615',\n",
       " 'Made: 8',\n",
       " 'Attempt: 13')"
      ]
     },
     "execution_count": 18,
     "metadata": {},
     "output_type": "execute_result"
    }
   ],
   "source": [
    "one_on_one = pc.compare_stats(regular_season, 'player', 'event_type', 'Kobe Bryant', \"Shaquille O'Neal\")\n",
    "one_on_one"
   ]
  },
  {
   "cell_type": "markdown",
   "metadata": {},
   "source": [
    "##Compares Shooting and Free Throws"
   ]
  },
  {
   "cell_type": "code",
   "execution_count": 19,
   "metadata": {},
   "outputs": [
    {
     "data": {
      "text/html": [
       "<div>\n",
       "<style scoped>\n",
       "    .dataframe tbody tr th:only-of-type {\n",
       "        vertical-align: middle;\n",
       "    }\n",
       "\n",
       "    .dataframe tbody tr th {\n",
       "        vertical-align: top;\n",
       "    }\n",
       "\n",
       "    .dataframe thead th {\n",
       "        text-align: right;\n",
       "    }\n",
       "</style>\n",
       "<table border=\"1\" class=\"dataframe\">\n",
       "  <thead>\n",
       "    <tr style=\"text-align: right;\">\n",
       "      <th></th>\n",
       "      <th>Dwyane Wade</th>\n",
       "      <th>Steve Nash</th>\n",
       "    </tr>\n",
       "    <tr>\n",
       "      <th></th>\n",
       "      <th></th>\n",
       "      <th></th>\n",
       "    </tr>\n",
       "  </thead>\n",
       "  <tbody>\n",
       "    <tr>\n",
       "      <th>Shooting Percentage</th>\n",
       "      <td>0.373</td>\n",
       "      <td>0.377</td>\n",
       "    </tr>\n",
       "    <tr>\n",
       "      <th>Shots Made</th>\n",
       "      <td>19</td>\n",
       "      <td>20</td>\n",
       "    </tr>\n",
       "    <tr>\n",
       "      <th>Shots Attempted</th>\n",
       "      <td>51</td>\n",
       "      <td>53</td>\n",
       "    </tr>\n",
       "    <tr>\n",
       "      <th>FT Percentage</th>\n",
       "      <td>0.767</td>\n",
       "      <td>0.882</td>\n",
       "    </tr>\n",
       "    <tr>\n",
       "      <th>FT Made</th>\n",
       "      <td>33</td>\n",
       "      <td>30</td>\n",
       "    </tr>\n",
       "    <tr>\n",
       "      <th>FT Attempts</th>\n",
       "      <td>43</td>\n",
       "      <td>34</td>\n",
       "    </tr>\n",
       "  </tbody>\n",
       "</table>\n",
       "</div>"
      ],
      "text/plain": [
       "0                   Dwyane Wade Steve Nash\n",
       "                                          \n",
       "Shooting Percentage       0.373      0.377\n",
       "Shots Made                   19         20\n",
       "Shots Attempted              51         53\n",
       "FT Percentage             0.767      0.882\n",
       "FT Made                      33         30\n",
       "FT Attempts                  43         34"
      ]
     },
     "execution_count": 19,
     "metadata": {},
     "output_type": "execute_result"
    }
   ],
   "source": [
    "full_comparison = pc.compare_players(regular_season, 'player', 'event_type', 'result','Dwyane Wade', 'Steve Nash')\n",
    "full_comparison"
   ]
  },
  {
   "cell_type": "code",
   "execution_count": null,
   "metadata": {},
   "outputs": [],
   "source": []
  },
  {
   "cell_type": "markdown",
   "metadata": {},
   "source": [
    "##Full comparison plus assists, blocks, and rebounds"
   ]
  },
  {
   "cell_type": "code",
   "execution_count": null,
   "metadata": {},
   "outputs": [],
   "source": []
  },
  {
   "cell_type": "code",
   "execution_count": null,
   "metadata": {},
   "outputs": [],
   "source": []
  },
  {
   "cell_type": "code",
   "execution_count": null,
   "metadata": {},
   "outputs": [],
   "source": []
  },
  {
   "cell_type": "code",
   "execution_count": null,
   "metadata": {},
   "outputs": [],
   "source": []
  },
  {
   "cell_type": "code",
   "execution_count": null,
   "metadata": {},
   "outputs": [],
   "source": []
  },
  {
   "cell_type": "code",
   "execution_count": null,
   "metadata": {},
   "outputs": [],
   "source": [
    "also look sfor wins:\n"
   ]
  },
  {
   "cell_type": "code",
   "execution_count": null,
   "metadata": {},
   "outputs": [],
   "source": [
    "look for clutch value: what determines\n",
    "how much better they are than league in clutch moment:\n",
    "how to determine that their stats are clutch or not\n",
    "assign values to each categories (scoring, free throw, blocks)\n",
    "how each player impacts the game, \n"
   ]
  },
  {
   "cell_type": "code",
   "execution_count": null,
   "metadata": {},
   "outputs": [],
   "source": []
  },
  {
   "cell_type": "code",
   "execution_count": 658,
   "metadata": {},
   "outputs": [],
   "source": []
  },
  {
   "cell_type": "code",
   "execution_count": null,
   "metadata": {},
   "outputs": [],
   "source": []
  },
  {
   "cell_type": "code",
   "execution_count": null,
   "metadata": {},
   "outputs": [],
   "source": []
  },
  {
   "cell_type": "code",
   "execution_count": null,
   "metadata": {},
   "outputs": [],
   "source": []
  },
  {
   "cell_type": "code",
   "execution_count": 120,
   "metadata": {},
   "outputs": [
    {
     "name": "stderr",
     "output_type": "stream",
     "text": [
      "/anaconda3/lib/python3.6/site-packages/ipykernel_launcher.py:2: SettingWithCopyWarning: \n",
      "A value is trying to be set on a copy of a slice from a DataFrame.\n",
      "Try using .loc[row_indexer,col_indexer] = value instead\n",
      "\n",
      "See the caveats in the documentation: http://pandas.pydata.org/pandas-docs/stable/indexing.html#indexing-view-versus-copy\n",
      "  \n"
     ]
    }
   ],
   "source": [
    "x = df[(df['event_type']=='end of period') & (df['period']>=4) & (df['pts_difference']!=0)]\n",
    "x['winner'] = np.where(x.pts_difference >0, 'away', 'home')"
   ]
  },
  {
   "cell_type": "code",
   "execution_count": null,
   "metadata": {},
   "outputs": [],
   "source": []
  },
  {
   "cell_type": "code",
   "execution_count": 224,
   "metadata": {},
   "outputs": [],
   "source": [
    "k = pc.assits_per_game(regular_season, 'assist', 'player', 'game_id')"
   ]
  },
  {
   "cell_type": "code",
   "execution_count": 225,
   "metadata": {},
   "outputs": [],
   "source": [
    "b = pc.get_all_blocks(regular_season, 'block', 'player', 'game_id')\n"
   ]
  },
  {
   "cell_type": "code",
   "execution_count": 220,
   "metadata": {},
   "outputs": [],
   "source": [
    "c = pc.get_total_games(regular_season, 'player', 'game_id')"
   ]
  },
  {
   "cell_type": "code",
   "execution_count": 234,
   "metadata": {},
   "outputs": [
    {
     "name": "stderr",
     "output_type": "stream",
     "text": [
      "/anaconda3/lib/python3.6/site-packages/ipykernel_launcher.py:1: FutureWarning: Sorting because non-concatenation axis is not aligned. A future version\n",
      "of pandas will change to not sort by default.\n",
      "\n",
      "To accept the future behavior, pass 'sort=True'.\n",
      "\n",
      "To retain the current behavior and silence the warning, pass sort=False\n",
      "\n",
      "  \"\"\"Entry point for launching an IPython kernel.\n"
     ]
    }
   ],
   "source": [
    "#df3 = pd.concat([c, k, b])\n",
    "#df3.drop_duplicates(subset=['player', 'clutch_games'], inplace=True, keep='last')\n",
    "\n",
    "#df3 = df3[['player', 'clutch_games', 'total_assist', 'total_blocks', 'assist_per_clutch_time', 'block_per_clutch_time']]\n",
    "#df3 = df3.sort_values(by =['player','clutch_games', 'total_assist'], ascending=True)\n",
    "#df3 = df3.replace(np.nan, 0, regex=True)\n",
    "\n",
    "\n",
    "# df4 = df4[['player', 'clutch_games', 'total_assist', 'total_blocks','assist_per_clutch_time',\n",
    "#            'block_per_clutch_time'\n",
    "#           ]]\n",
    "# df4 = df4.sort_values(by =['total_assist', 'clutch_games'], ascending=False)\n",
    "# df4 = df4.replace(np.nan, 0, regex=True)"
   ]
  },
  {
   "cell_type": "code",
   "execution_count": 254,
   "metadata": {},
   "outputs": [],
   "source": [
    "dfs = [c,k,b]"
   ]
  },
  {
   "cell_type": "code",
   "execution_count": 258,
   "metadata": {},
   "outputs": [
    {
     "data": {
      "text/html": [
       "<div>\n",
       "<style scoped>\n",
       "    .dataframe tbody tr th:only-of-type {\n",
       "        vertical-align: middle;\n",
       "    }\n",
       "\n",
       "    .dataframe tbody tr th {\n",
       "        vertical-align: top;\n",
       "    }\n",
       "\n",
       "    .dataframe thead th {\n",
       "        text-align: right;\n",
       "    }\n",
       "</style>\n",
       "<table border=\"1\" class=\"dataframe\">\n",
       "  <thead>\n",
       "    <tr style=\"text-align: right;\">\n",
       "      <th></th>\n",
       "      <th>player</th>\n",
       "      <th>clutch_games_x</th>\n",
       "      <th>clutch_games_y</th>\n",
       "      <th>total_assist</th>\n",
       "      <th>assist_per_clutch_time</th>\n",
       "      <th>clutch_games</th>\n",
       "      <th>total_blocks</th>\n",
       "      <th>block_per_clutch_time</th>\n",
       "    </tr>\n",
       "  </thead>\n",
       "  <tbody>\n",
       "    <tr>\n",
       "      <th>0</th>\n",
       "      <td>Adonal Foyle</td>\n",
       "      <td>13</td>\n",
       "      <td>13</td>\n",
       "      <td>1</td>\n",
       "      <td>0.077</td>\n",
       "      <td>13</td>\n",
       "      <td>6</td>\n",
       "      <td>0.462</td>\n",
       "    </tr>\n",
       "    <tr>\n",
       "      <th>1</th>\n",
       "      <td>Al Harrington</td>\n",
       "      <td>30</td>\n",
       "      <td>30</td>\n",
       "      <td>7</td>\n",
       "      <td>0.233</td>\n",
       "      <td>30</td>\n",
       "      <td>1</td>\n",
       "      <td>0.033</td>\n",
       "    </tr>\n",
       "    <tr>\n",
       "      <th>2</th>\n",
       "      <td>Allen Iverson</td>\n",
       "      <td>34</td>\n",
       "      <td>34</td>\n",
       "      <td>19</td>\n",
       "      <td>0.559</td>\n",
       "      <td>34</td>\n",
       "      <td>1</td>\n",
       "      <td>0.029</td>\n",
       "    </tr>\n",
       "    <tr>\n",
       "      <th>3</th>\n",
       "      <td>Andre Iguodala</td>\n",
       "      <td>29</td>\n",
       "      <td>29</td>\n",
       "      <td>3</td>\n",
       "      <td>0.103</td>\n",
       "      <td>29</td>\n",
       "      <td>1</td>\n",
       "      <td>0.034</td>\n",
       "    </tr>\n",
       "    <tr>\n",
       "      <th>4</th>\n",
       "      <td>Andrei Kirilenko</td>\n",
       "      <td>19</td>\n",
       "      <td>19</td>\n",
       "      <td>4</td>\n",
       "      <td>0.211</td>\n",
       "      <td>19</td>\n",
       "      <td>13</td>\n",
       "      <td>0.684</td>\n",
       "    </tr>\n",
       "  </tbody>\n",
       "</table>\n",
       "</div>"
      ],
      "text/plain": [
       "             player  clutch_games_x  clutch_games_y  total_assist  \\\n",
       "0      Adonal Foyle              13              13             1   \n",
       "1     Al Harrington              30              30             7   \n",
       "2     Allen Iverson              34              34            19   \n",
       "3    Andre Iguodala              29              29             3   \n",
       "4  Andrei Kirilenko              19              19             4   \n",
       "\n",
       "   assist_per_clutch_time  clutch_games  total_blocks  block_per_clutch_time  \n",
       "0                   0.077            13             6                  0.462  \n",
       "1                   0.233            30             1                  0.033  \n",
       "2                   0.559            34             1                  0.029  \n",
       "3                   0.103            29             1                  0.034  \n",
       "4                   0.211            19            13                  0.684  "
      ]
     },
     "execution_count": 258,
     "metadata": {},
     "output_type": "execute_result"
    }
   ],
   "source": [
    "df3 = reduce(lambda left,right: pd.merge(left,right,on='player'), dfs)\n",
    "df3.head()"
   ]
  },
  {
   "cell_type": "code",
   "execution_count": 411,
   "metadata": {},
   "outputs": [],
   "source": [
    "a = regular_season['player']\n"
   ]
  },
  {
   "cell_type": "code",
   "execution_count": 412,
   "metadata": {},
   "outputs": [],
   "source": [
    "b_list = []\n",
    "for name in a:\n",
    "    if name not in b_list:\n",
    "        b_list.append(name)\n",
    "        "
   ]
  },
  {
   "cell_type": "code",
   "execution_count": 571,
   "metadata": {},
   "outputs": [],
   "source": [
    "# def get_percent(df, column1, column2, name):\n",
    "#     a = df[(df[column1]==name) & ((df[column2]== 'miss')|(df[column2]=='shot'))]\n",
    "#     percent = np.sum(a[column2]=='shot')/a[column2].count()\n",
    "#     return percent\n",
    "        \n",
    "        \n",
    "#         a = regular_season[(regular_season[column1]==value) & ((regular_season[column2]== 'miss')|(regular_season[column2]=='shot'))]\n",
    "#         percent = np.sum(a[column2]=='shot')/a[column2].count()\n",
    "#     return (value, (round(percent, 3)),(np.sum(a[column2]=='shot')),\n",
    "#            (a[column2].count()))\n",
    "\n",
    "\n",
    "def get_percent(df, column1, column2, lst):\n",
    "    l=dict()\n",
    "    for name in lst:\n",
    "        a = df[(df[column1]==name) & ((df[column2]== 'miss')|(df[column2]=='shot'))]\n",
    "        made = np.sum(a[column2]=='shot')\n",
    "        total = a[column2].count()\n",
    "        percent = round(made/total, 3)\n",
    "        l[name]= percent, made, total\n",
    "    return l\n"
   ]
  },
  {
   "cell_type": "code",
   "execution_count": 574,
   "metadata": {},
   "outputs": [],
   "source": [
    "t= get_percent(regular_season, 'player', 'event_type' , b_list)"
   ]
  },
  {
   "cell_type": "code",
   "execution_count": 768,
   "metadata": {},
   "outputs": [
    {
     "name": "stderr",
     "output_type": "stream",
     "text": [
      "/Users/deepak/capstone/clutch-baller/indiviual_stats.py:12: FutureWarning: convert_objects is deprecated.  To re-infer data dtypes for object columns, use DataFrame.infer_objects()\n",
      "For all other conversions use the data-type specific converters pd.to_datetime, pd.to_timedelta and pd.to_numeric.\n",
      "  new_df = df.convert_objects(convert_numeric=True)\n"
     ]
    }
   ],
   "source": [
    "x = ind.object_to_int(regular_season, 'points')"
   ]
  },
  {
   "cell_type": "code",
   "execution_count": 769,
   "metadata": {},
   "outputs": [
    {
     "data": {
      "text/html": [
       "<div>\n",
       "<style scoped>\n",
       "    .dataframe tbody tr th:only-of-type {\n",
       "        vertical-align: middle;\n",
       "    }\n",
       "\n",
       "    .dataframe tbody tr th {\n",
       "        vertical-align: top;\n",
       "    }\n",
       "\n",
       "    .dataframe thead th {\n",
       "        text-align: right;\n",
       "    }\n",
       "</style>\n",
       "<table border=\"1\" class=\"dataframe\">\n",
       "  <thead>\n",
       "    <tr style=\"text-align: right;\">\n",
       "      <th></th>\n",
       "      <th>game_id</th>\n",
       "      <th>data_set</th>\n",
       "      <th>date</th>\n",
       "      <th>period</th>\n",
       "      <th>away_score</th>\n",
       "      <th>home_score</th>\n",
       "      <th>remaining_time</th>\n",
       "      <th>team</th>\n",
       "      <th>event_type</th>\n",
       "      <th>assist</th>\n",
       "      <th>block</th>\n",
       "      <th>player</th>\n",
       "      <th>points</th>\n",
       "      <th>result</th>\n",
       "      <th>steal</th>\n",
       "      <th>type</th>\n",
       "      <th>description</th>\n",
       "      <th>pts_difference</th>\n",
       "      <th>winner</th>\n",
       "      <th>shots_made</th>\n",
       "      <th>FT_made</th>\n",
       "      <th>FT_missed</th>\n",
       "      <th>off_rebound</th>\n",
       "      <th>total_rebound</th>\n",
       "      <th>shots_missed</th>\n",
       "      <th>assist_count</th>\n",
       "      <th>total_blocks</th>\n",
       "    </tr>\n",
       "  </thead>\n",
       "  <tbody>\n",
       "    <tr>\n",
       "      <th>443</th>\n",
       "      <td>=\"0020500001\"</td>\n",
       "      <td>2005-2006 Regular Season</td>\n",
       "      <td>2005-11-01</td>\n",
       "      <td>4</td>\n",
       "      <td>96</td>\n",
       "      <td>102</td>\n",
       "      <td>00:01:07</td>\n",
       "      <td>MIL</td>\n",
       "      <td>free throw</td>\n",
       "      <td></td>\n",
       "      <td></td>\n",
       "      <td>Michael Redd</td>\n",
       "      <td>1</td>\n",
       "      <td>made</td>\n",
       "      <td></td>\n",
       "      <td>Free Throw 1 of 2</td>\n",
       "      <td>Redd Free Throw 1 of 2 (20 PTS)</td>\n",
       "      <td>-6</td>\n",
       "      <td>away</td>\n",
       "      <td>0</td>\n",
       "      <td>1</td>\n",
       "      <td>0</td>\n",
       "      <td>0</td>\n",
       "      <td>0</td>\n",
       "      <td>0</td>\n",
       "      <td>0</td>\n",
       "      <td>0</td>\n",
       "    </tr>\n",
       "    <tr>\n",
       "      <th>445</th>\n",
       "      <td>=\"0020500001\"</td>\n",
       "      <td>2005-2006 Regular Season</td>\n",
       "      <td>2005-11-01</td>\n",
       "      <td>4</td>\n",
       "      <td>97</td>\n",
       "      <td>102</td>\n",
       "      <td>00:01:07</td>\n",
       "      <td>MIL</td>\n",
       "      <td>free throw</td>\n",
       "      <td></td>\n",
       "      <td></td>\n",
       "      <td>Michael Redd</td>\n",
       "      <td>1</td>\n",
       "      <td>made</td>\n",
       "      <td></td>\n",
       "      <td>Free Throw 2 of 2</td>\n",
       "      <td>Redd Free Throw 2 of 2 (21 PTS)</td>\n",
       "      <td>-5</td>\n",
       "      <td>away</td>\n",
       "      <td>0</td>\n",
       "      <td>1</td>\n",
       "      <td>0</td>\n",
       "      <td>0</td>\n",
       "      <td>0</td>\n",
       "      <td>0</td>\n",
       "      <td>0</td>\n",
       "      <td>0</td>\n",
       "    </tr>\n",
       "    <tr>\n",
       "      <th>446</th>\n",
       "      <td>=\"0020500001\"</td>\n",
       "      <td>2005-2006 Regular Season</td>\n",
       "      <td>2005-11-01</td>\n",
       "      <td>4</td>\n",
       "      <td>97</td>\n",
       "      <td>102</td>\n",
       "      <td>00:00:47</td>\n",
       "      <td>PHI</td>\n",
       "      <td>miss</td>\n",
       "      <td></td>\n",
       "      <td></td>\n",
       "      <td>Allen Iverson</td>\n",
       "      <td>0</td>\n",
       "      <td>missed</td>\n",
       "      <td></td>\n",
       "      <td>Jump Shot</td>\n",
       "      <td>MISS Iverson 18' Jump Shot</td>\n",
       "      <td>-5</td>\n",
       "      <td>away</td>\n",
       "      <td>0</td>\n",
       "      <td>0</td>\n",
       "      <td>0</td>\n",
       "      <td>0</td>\n",
       "      <td>0</td>\n",
       "      <td>1</td>\n",
       "      <td>0</td>\n",
       "      <td>0</td>\n",
       "    </tr>\n",
       "    <tr>\n",
       "      <th>447</th>\n",
       "      <td>=\"0020500001\"</td>\n",
       "      <td>2005-2006 Regular Season</td>\n",
       "      <td>2005-11-01</td>\n",
       "      <td>4</td>\n",
       "      <td>97</td>\n",
       "      <td>102</td>\n",
       "      <td>00:00:45</td>\n",
       "      <td>MIL</td>\n",
       "      <td>rebound</td>\n",
       "      <td></td>\n",
       "      <td></td>\n",
       "      <td>T.J. Ford</td>\n",
       "      <td>-1</td>\n",
       "      <td></td>\n",
       "      <td></td>\n",
       "      <td>rebound defensive</td>\n",
       "      <td>Ford REBOUND (Off:1 Def:6)</td>\n",
       "      <td>-5</td>\n",
       "      <td>away</td>\n",
       "      <td>0</td>\n",
       "      <td>0</td>\n",
       "      <td>0</td>\n",
       "      <td>0</td>\n",
       "      <td>1</td>\n",
       "      <td>0</td>\n",
       "      <td>0</td>\n",
       "      <td>0</td>\n",
       "    </tr>\n",
       "    <tr>\n",
       "      <th>448</th>\n",
       "      <td>=\"0020500001\"</td>\n",
       "      <td>2005-2006 Regular Season</td>\n",
       "      <td>2005-11-01</td>\n",
       "      <td>4</td>\n",
       "      <td>99</td>\n",
       "      <td>102</td>\n",
       "      <td>00:00:41</td>\n",
       "      <td>MIL</td>\n",
       "      <td>shot</td>\n",
       "      <td></td>\n",
       "      <td></td>\n",
       "      <td>T.J. Ford</td>\n",
       "      <td>2</td>\n",
       "      <td>made</td>\n",
       "      <td></td>\n",
       "      <td>Driving Layup</td>\n",
       "      <td>Ford  Driving Layup (14 PTS)</td>\n",
       "      <td>-3</td>\n",
       "      <td>away</td>\n",
       "      <td>1</td>\n",
       "      <td>0</td>\n",
       "      <td>0</td>\n",
       "      <td>0</td>\n",
       "      <td>0</td>\n",
       "      <td>0</td>\n",
       "      <td>0</td>\n",
       "      <td>0</td>\n",
       "    </tr>\n",
       "  </tbody>\n",
       "</table>\n",
       "</div>"
      ],
      "text/plain": [
       "           game_id                  data_set        date  period  away_score  \\\n",
       "443  =\"0020500001\"  2005-2006 Regular Season  2005-11-01       4          96   \n",
       "445  =\"0020500001\"  2005-2006 Regular Season  2005-11-01       4          97   \n",
       "446  =\"0020500001\"  2005-2006 Regular Season  2005-11-01       4          97   \n",
       "447  =\"0020500001\"  2005-2006 Regular Season  2005-11-01       4          97   \n",
       "448  =\"0020500001\"  2005-2006 Regular Season  2005-11-01       4          99   \n",
       "\n",
       "     home_score remaining_time team  event_type assist block         player  \\\n",
       "443         102       00:01:07  MIL  free throw                Michael Redd   \n",
       "445         102       00:01:07  MIL  free throw                Michael Redd   \n",
       "446         102       00:00:47  PHI        miss               Allen Iverson   \n",
       "447         102       00:00:45  MIL     rebound                   T.J. Ford   \n",
       "448         102       00:00:41  MIL        shot                   T.J. Ford   \n",
       "\n",
       "     points  result steal               type                      description  \\\n",
       "443       1    made        Free Throw 1 of 2  Redd Free Throw 1 of 2 (20 PTS)   \n",
       "445       1    made        Free Throw 2 of 2  Redd Free Throw 2 of 2 (21 PTS)   \n",
       "446       0  missed                Jump Shot       MISS Iverson 18' Jump Shot   \n",
       "447      -1                rebound defensive       Ford REBOUND (Off:1 Def:6)   \n",
       "448       2    made            Driving Layup     Ford  Driving Layup (14 PTS)   \n",
       "\n",
       "     pts_difference winner  shots_made  FT_made  FT_missed  off_rebound  \\\n",
       "443              -6   away           0        1          0            0   \n",
       "445              -5   away           0        1          0            0   \n",
       "446              -5   away           0        0          0            0   \n",
       "447              -5   away           0        0          0            0   \n",
       "448              -3   away           1        0          0            0   \n",
       "\n",
       "     total_rebound  shots_missed  assist_count  total_blocks  \n",
       "443              0             0             0             0  \n",
       "445              0             0             0             0  \n",
       "446              0             1             0             0  \n",
       "447              1             0             0             0  \n",
       "448              0             0             0             0  "
      ]
     },
     "execution_count": 769,
     "metadata": {},
     "output_type": "execute_result"
    }
   ],
   "source": [
    "new_x = ind.add_more_columns(x)\n",
    "new_x.head()"
   ]
  },
  {
   "cell_type": "code",
   "execution_count": 770,
   "metadata": {},
   "outputs": [],
   "source": [
    "result = ind.combine_stats(new_x)"
   ]
  },
  {
   "cell_type": "code",
   "execution_count": 775,
   "metadata": {},
   "outputs": [
    {
     "data": {
      "text/html": [
       "<div>\n",
       "<style scoped>\n",
       "    .dataframe tbody tr th:only-of-type {\n",
       "        vertical-align: middle;\n",
       "    }\n",
       "\n",
       "    .dataframe tbody tr th {\n",
       "        vertical-align: top;\n",
       "    }\n",
       "\n",
       "    .dataframe thead th {\n",
       "        text-align: right;\n",
       "    }\n",
       "</style>\n",
       "<table border=\"1\" class=\"dataframe\">\n",
       "  <thead>\n",
       "    <tr style=\"text-align: right;\">\n",
       "      <th></th>\n",
       "      <th>player</th>\n",
       "      <th>shots_made_x</th>\n",
       "      <th>FT_made_x</th>\n",
       "      <th>FT_missed_x</th>\n",
       "      <th>off_rebound_x</th>\n",
       "      <th>total_rebound_x</th>\n",
       "      <th>shots_missed_x</th>\n",
       "      <th>assist_count_x</th>\n",
       "      <th>total_blocks_x</th>\n",
       "      <th>period_y</th>\n",
       "      <th>away_score_y</th>\n",
       "      <th>home_score_y</th>\n",
       "      <th>points_y</th>\n",
       "      <th>pts_difference_y</th>\n",
       "      <th>shots_made_y</th>\n",
       "      <th>FT_made_y</th>\n",
       "      <th>FT_missed_y</th>\n",
       "      <th>off_rebound_y</th>\n",
       "      <th>total_rebound_y</th>\n",
       "      <th>shots_missed_y</th>\n",
       "      <th>assist_count_y</th>\n",
       "      <th>total_blocks_y</th>\n",
       "      <th>period</th>\n",
       "      <th>away_score</th>\n",
       "      <th>home_score</th>\n",
       "      <th>points</th>\n",
       "      <th>pts_difference</th>\n",
       "      <th>shots_made</th>\n",
       "      <th>FT_made</th>\n",
       "      <th>FT_missed</th>\n",
       "      <th>off_rebound</th>\n",
       "      <th>total_rebound</th>\n",
       "      <th>shots_missed</th>\n",
       "      <th>assist_count</th>\n",
       "      <th>total_blocks</th>\n",
       "    </tr>\n",
       "  </thead>\n",
       "  <tbody>\n",
       "    <tr>\n",
       "      <th>0</th>\n",
       "      <td>Aaron Williams</td>\n",
       "      <td>1.0</td>\n",
       "      <td>0.0</td>\n",
       "      <td>0.0</td>\n",
       "      <td>0.0</td>\n",
       "      <td>0.0</td>\n",
       "      <td>1.0</td>\n",
       "      <td>1.0</td>\n",
       "      <td>1.0</td>\n",
       "      <td>5.0</td>\n",
       "      <td>109.0</td>\n",
       "      <td>110.0</td>\n",
       "      <td>0.0</td>\n",
       "      <td>-1.0</td>\n",
       "      <td>0.0</td>\n",
       "      <td>0.0</td>\n",
       "      <td>0.0</td>\n",
       "      <td>0.0</td>\n",
       "      <td>0.0</td>\n",
       "      <td>1.0</td>\n",
       "      <td>0.0</td>\n",
       "      <td>1.0</td>\n",
       "      <td>0.0</td>\n",
       "      <td>0.0</td>\n",
       "      <td>0.0</td>\n",
       "      <td>0.0</td>\n",
       "      <td>0.0</td>\n",
       "      <td>0.0</td>\n",
       "      <td>0.0</td>\n",
       "      <td>0.0</td>\n",
       "      <td>0.0</td>\n",
       "      <td>0.0</td>\n",
       "      <td>0.0</td>\n",
       "      <td>0.0</td>\n",
       "      <td>0.0</td>\n",
       "    </tr>\n",
       "    <tr>\n",
       "      <th>1</th>\n",
       "      <td>Adonal Foyle</td>\n",
       "      <td>5.0</td>\n",
       "      <td>2.0</td>\n",
       "      <td>2.0</td>\n",
       "      <td>6.0</td>\n",
       "      <td>16.0</td>\n",
       "      <td>6.0</td>\n",
       "      <td>5.0</td>\n",
       "      <td>0.0</td>\n",
       "      <td>27.0</td>\n",
       "      <td>623.0</td>\n",
       "      <td>633.0</td>\n",
       "      <td>0.0</td>\n",
       "      <td>-10.0</td>\n",
       "      <td>0.0</td>\n",
       "      <td>0.0</td>\n",
       "      <td>0.0</td>\n",
       "      <td>0.0</td>\n",
       "      <td>0.0</td>\n",
       "      <td>6.0</td>\n",
       "      <td>0.0</td>\n",
       "      <td>6.0</td>\n",
       "      <td>4.0</td>\n",
       "      <td>74.0</td>\n",
       "      <td>75.0</td>\n",
       "      <td>2.0</td>\n",
       "      <td>-1.0</td>\n",
       "      <td>1.0</td>\n",
       "      <td>0.0</td>\n",
       "      <td>0.0</td>\n",
       "      <td>0.0</td>\n",
       "      <td>0.0</td>\n",
       "      <td>0.0</td>\n",
       "      <td>1.0</td>\n",
       "      <td>0.0</td>\n",
       "    </tr>\n",
       "    <tr>\n",
       "      <th>2</th>\n",
       "      <td>Adrian Griffin</td>\n",
       "      <td>0.0</td>\n",
       "      <td>0.0</td>\n",
       "      <td>2.0</td>\n",
       "      <td>3.0</td>\n",
       "      <td>9.0</td>\n",
       "      <td>2.0</td>\n",
       "      <td>0.0</td>\n",
       "      <td>0.0</td>\n",
       "      <td>0.0</td>\n",
       "      <td>0.0</td>\n",
       "      <td>0.0</td>\n",
       "      <td>0.0</td>\n",
       "      <td>0.0</td>\n",
       "      <td>0.0</td>\n",
       "      <td>0.0</td>\n",
       "      <td>0.0</td>\n",
       "      <td>0.0</td>\n",
       "      <td>0.0</td>\n",
       "      <td>0.0</td>\n",
       "      <td>0.0</td>\n",
       "      <td>0.0</td>\n",
       "      <td>0.0</td>\n",
       "      <td>0.0</td>\n",
       "      <td>0.0</td>\n",
       "      <td>0.0</td>\n",
       "      <td>0.0</td>\n",
       "      <td>0.0</td>\n",
       "      <td>0.0</td>\n",
       "      <td>0.0</td>\n",
       "      <td>0.0</td>\n",
       "      <td>0.0</td>\n",
       "      <td>0.0</td>\n",
       "      <td>0.0</td>\n",
       "      <td>0.0</td>\n",
       "    </tr>\n",
       "    <tr>\n",
       "      <th>3</th>\n",
       "      <td>Al Harrington</td>\n",
       "      <td>14.0</td>\n",
       "      <td>17.0</td>\n",
       "      <td>11.0</td>\n",
       "      <td>6.0</td>\n",
       "      <td>18.0</td>\n",
       "      <td>24.0</td>\n",
       "      <td>6.0</td>\n",
       "      <td>2.0</td>\n",
       "      <td>4.0</td>\n",
       "      <td>96.0</td>\n",
       "      <td>96.0</td>\n",
       "      <td>0.0</td>\n",
       "      <td>0.0</td>\n",
       "      <td>0.0</td>\n",
       "      <td>0.0</td>\n",
       "      <td>0.0</td>\n",
       "      <td>0.0</td>\n",
       "      <td>0.0</td>\n",
       "      <td>1.0</td>\n",
       "      <td>0.0</td>\n",
       "      <td>1.0</td>\n",
       "      <td>30.0</td>\n",
       "      <td>691.0</td>\n",
       "      <td>693.0</td>\n",
       "      <td>17.0</td>\n",
       "      <td>-2.0</td>\n",
       "      <td>7.0</td>\n",
       "      <td>0.0</td>\n",
       "      <td>0.0</td>\n",
       "      <td>0.0</td>\n",
       "      <td>0.0</td>\n",
       "      <td>0.0</td>\n",
       "      <td>7.0</td>\n",
       "      <td>0.0</td>\n",
       "    </tr>\n",
       "    <tr>\n",
       "      <th>4</th>\n",
       "      <td>Al Jefferson</td>\n",
       "      <td>2.0</td>\n",
       "      <td>0.0</td>\n",
       "      <td>3.0</td>\n",
       "      <td>1.0</td>\n",
       "      <td>5.0</td>\n",
       "      <td>1.0</td>\n",
       "      <td>2.0</td>\n",
       "      <td>0.0</td>\n",
       "      <td>4.0</td>\n",
       "      <td>103.0</td>\n",
       "      <td>103.0</td>\n",
       "      <td>0.0</td>\n",
       "      <td>0.0</td>\n",
       "      <td>0.0</td>\n",
       "      <td>0.0</td>\n",
       "      <td>0.0</td>\n",
       "      <td>0.0</td>\n",
       "      <td>0.0</td>\n",
       "      <td>1.0</td>\n",
       "      <td>0.0</td>\n",
       "      <td>1.0</td>\n",
       "      <td>0.0</td>\n",
       "      <td>0.0</td>\n",
       "      <td>0.0</td>\n",
       "      <td>0.0</td>\n",
       "      <td>0.0</td>\n",
       "      <td>0.0</td>\n",
       "      <td>0.0</td>\n",
       "      <td>0.0</td>\n",
       "      <td>0.0</td>\n",
       "      <td>0.0</td>\n",
       "      <td>0.0</td>\n",
       "      <td>0.0</td>\n",
       "      <td>0.0</td>\n",
       "    </tr>\n",
       "  </tbody>\n",
       "</table>\n",
       "</div>"
      ],
      "text/plain": [
       "           player  shots_made_x  FT_made_x  FT_missed_x  off_rebound_x  \\\n",
       "0  Aaron Williams           1.0        0.0          0.0            0.0   \n",
       "1    Adonal Foyle           5.0        2.0          2.0            6.0   \n",
       "2  Adrian Griffin           0.0        0.0          2.0            3.0   \n",
       "3   Al Harrington          14.0       17.0         11.0            6.0   \n",
       "4    Al Jefferson           2.0        0.0          3.0            1.0   \n",
       "\n",
       "   total_rebound_x  shots_missed_x  assist_count_x  total_blocks_x  period_y  \\\n",
       "0              0.0             1.0             1.0             1.0       5.0   \n",
       "1             16.0             6.0             5.0             0.0      27.0   \n",
       "2              9.0             2.0             0.0             0.0       0.0   \n",
       "3             18.0            24.0             6.0             2.0       4.0   \n",
       "4              5.0             1.0             2.0             0.0       4.0   \n",
       "\n",
       "   away_score_y  home_score_y  points_y  pts_difference_y  shots_made_y  \\\n",
       "0         109.0         110.0       0.0              -1.0           0.0   \n",
       "1         623.0         633.0       0.0             -10.0           0.0   \n",
       "2           0.0           0.0       0.0               0.0           0.0   \n",
       "3          96.0          96.0       0.0               0.0           0.0   \n",
       "4         103.0         103.0       0.0               0.0           0.0   \n",
       "\n",
       "   FT_made_y  FT_missed_y  off_rebound_y  total_rebound_y  shots_missed_y  \\\n",
       "0        0.0          0.0            0.0              0.0             1.0   \n",
       "1        0.0          0.0            0.0              0.0             6.0   \n",
       "2        0.0          0.0            0.0              0.0             0.0   \n",
       "3        0.0          0.0            0.0              0.0             1.0   \n",
       "4        0.0          0.0            0.0              0.0             1.0   \n",
       "\n",
       "   assist_count_y  total_blocks_y  period  away_score  home_score  points  \\\n",
       "0             0.0             1.0     0.0         0.0         0.0     0.0   \n",
       "1             0.0             6.0     4.0        74.0        75.0     2.0   \n",
       "2             0.0             0.0     0.0         0.0         0.0     0.0   \n",
       "3             0.0             1.0    30.0       691.0       693.0    17.0   \n",
       "4             0.0             1.0     0.0         0.0         0.0     0.0   \n",
       "\n",
       "   pts_difference  shots_made  FT_made  FT_missed  off_rebound  total_rebound  \\\n",
       "0             0.0         0.0      0.0        0.0          0.0            0.0   \n",
       "1            -1.0         1.0      0.0        0.0          0.0            0.0   \n",
       "2             0.0         0.0      0.0        0.0          0.0            0.0   \n",
       "3            -2.0         7.0      0.0        0.0          0.0            0.0   \n",
       "4             0.0         0.0      0.0        0.0          0.0            0.0   \n",
       "\n",
       "   shots_missed  assist_count  total_blocks  \n",
       "0           0.0           0.0           0.0  \n",
       "1           0.0           1.0           0.0  \n",
       "2           0.0           0.0           0.0  \n",
       "3           0.0           7.0           0.0  \n",
       "4           0.0           0.0           0.0  "
      ]
     },
     "execution_count": 775,
     "metadata": {},
     "output_type": "execute_result"
    }
   ],
   "source": [
    "y = ind.combine_stats(regular_season)\n",
    "y.head()"
   ]
  },
  {
   "cell_type": "code",
   "execution_count": 788,
   "metadata": {},
   "outputs": [],
   "source": [
    "j= ind.combine_stats(regular_season)"
   ]
  },
  {
   "cell_type": "code",
   "execution_count": 793,
   "metadata": {},
   "outputs": [],
   "source": [
    "m = regular_season.groupby(['player']).sum()"
   ]
  },
  {
   "cell_type": "code",
   "execution_count": 636,
   "metadata": {},
   "outputs": [
    {
     "data": {
      "text/html": [
       "<div>\n",
       "<style scoped>\n",
       "    .dataframe tbody tr th:only-of-type {\n",
       "        vertical-align: middle;\n",
       "    }\n",
       "\n",
       "    .dataframe tbody tr th {\n",
       "        vertical-align: top;\n",
       "    }\n",
       "\n",
       "    .dataframe thead th {\n",
       "        text-align: right;\n",
       "    }\n",
       "</style>\n",
       "<table border=\"1\" class=\"dataframe\">\n",
       "  <thead>\n",
       "    <tr style=\"text-align: right;\">\n",
       "      <th></th>\n",
       "      <th>shots_made</th>\n",
       "      <th>FT_made</th>\n",
       "      <th>FT_missed</th>\n",
       "      <th>off_rebound</th>\n",
       "      <th>total_rebound</th>\n",
       "      <th>shots_missed</th>\n",
       "      <th>assist_count</th>\n",
       "      <th>total_blocks</th>\n",
       "    </tr>\n",
       "    <tr>\n",
       "      <th>player</th>\n",
       "      <th></th>\n",
       "      <th></th>\n",
       "      <th></th>\n",
       "      <th></th>\n",
       "      <th></th>\n",
       "      <th></th>\n",
       "      <th></th>\n",
       "      <th></th>\n",
       "    </tr>\n",
       "  </thead>\n",
       "  <tbody>\n",
       "    <tr>\n",
       "      <th>Aaron Williams</th>\n",
       "      <td>1</td>\n",
       "      <td>0</td>\n",
       "      <td>0</td>\n",
       "      <td>0</td>\n",
       "      <td>0</td>\n",
       "      <td>1</td>\n",
       "      <td>1</td>\n",
       "      <td>1</td>\n",
       "    </tr>\n",
       "    <tr>\n",
       "      <th>Adonal Foyle</th>\n",
       "      <td>5</td>\n",
       "      <td>2</td>\n",
       "      <td>2</td>\n",
       "      <td>6</td>\n",
       "      <td>16</td>\n",
       "      <td>6</td>\n",
       "      <td>5</td>\n",
       "      <td>0</td>\n",
       "    </tr>\n",
       "    <tr>\n",
       "      <th>Adrian Griffin</th>\n",
       "      <td>0</td>\n",
       "      <td>0</td>\n",
       "      <td>2</td>\n",
       "      <td>3</td>\n",
       "      <td>9</td>\n",
       "      <td>2</td>\n",
       "      <td>0</td>\n",
       "      <td>0</td>\n",
       "    </tr>\n",
       "    <tr>\n",
       "      <th>Al Harrington</th>\n",
       "      <td>14</td>\n",
       "      <td>17</td>\n",
       "      <td>11</td>\n",
       "      <td>6</td>\n",
       "      <td>18</td>\n",
       "      <td>24</td>\n",
       "      <td>6</td>\n",
       "      <td>2</td>\n",
       "    </tr>\n",
       "    <tr>\n",
       "      <th>Al Jefferson</th>\n",
       "      <td>2</td>\n",
       "      <td>0</td>\n",
       "      <td>3</td>\n",
       "      <td>1</td>\n",
       "      <td>5</td>\n",
       "      <td>1</td>\n",
       "      <td>2</td>\n",
       "      <td>0</td>\n",
       "    </tr>\n",
       "  </tbody>\n",
       "</table>\n",
       "</div>"
      ],
      "text/plain": [
       "                shots_made  FT_made  FT_missed  off_rebound  total_rebound  \\\n",
       "player                                                                       \n",
       "Aaron Williams           1        0          0            0              0   \n",
       "Adonal Foyle             5        2          2            6             16   \n",
       "Adrian Griffin           0        0          2            3              9   \n",
       "Al Harrington           14       17         11            6             18   \n",
       "Al Jefferson             2        0          3            1              5   \n",
       "\n",
       "                shots_missed  assist_count  total_blocks  \n",
       "player                                                    \n",
       "Aaron Williams             1             1             1  \n",
       "Adonal Foyle               6             5             0  \n",
       "Adrian Griffin             2             0             0  \n",
       "Al Harrington             24             6             2  \n",
       "Al Jefferson               1             2             0  "
      ]
     },
     "execution_count": 636,
     "metadata": {},
     "output_type": "execute_result"
    }
   ],
   "source": [
    "m= m.drop(['period', 'away_score', 'home_score', 'points', 'pts_difference'], axis = 1)\n",
    "m.head()"
   ]
  },
  {
   "cell_type": "code",
   "execution_count": 637,
   "metadata": {},
   "outputs": [],
   "source": [
    "m = m[['shots_made', 'shots_missed', 'FT_made','FT_missed', 'off_rebound', 'total_rebound']]"
   ]
  },
  {
   "cell_type": "code",
   "execution_count": null,
   "metadata": {},
   "outputs": [],
   "source": []
  },
  {
   "cell_type": "code",
   "execution_count": null,
   "metadata": {},
   "outputs": [],
   "source": []
  },
  {
   "cell_type": "code",
   "execution_count": 612,
   "metadata": {},
   "outputs": [],
   "source": [
    "w = regular_season.groupby('assist').sum()"
   ]
  },
  {
   "cell_type": "code",
   "execution_count": 615,
   "metadata": {},
   "outputs": [
    {
     "data": {
      "text/html": [
       "<div>\n",
       "<style scoped>\n",
       "    .dataframe tbody tr th:only-of-type {\n",
       "        vertical-align: middle;\n",
       "    }\n",
       "\n",
       "    .dataframe tbody tr th {\n",
       "        vertical-align: top;\n",
       "    }\n",
       "\n",
       "    .dataframe thead th {\n",
       "        text-align: right;\n",
       "    }\n",
       "</style>\n",
       "<table border=\"1\" class=\"dataframe\">\n",
       "  <thead>\n",
       "    <tr style=\"text-align: right;\">\n",
       "      <th></th>\n",
       "      <th>assist_count</th>\n",
       "    </tr>\n",
       "    <tr>\n",
       "      <th>assist</th>\n",
       "      <th></th>\n",
       "    </tr>\n",
       "  </thead>\n",
       "  <tbody>\n",
       "    <tr>\n",
       "      <th></th>\n",
       "      <td>0</td>\n",
       "    </tr>\n",
       "    <tr>\n",
       "      <th>Adonal Foyle</th>\n",
       "      <td>1</td>\n",
       "    </tr>\n",
       "    <tr>\n",
       "      <th>Al Harrington</th>\n",
       "      <td>7</td>\n",
       "    </tr>\n",
       "    <tr>\n",
       "      <th>Allen Iverson</th>\n",
       "      <td>19</td>\n",
       "    </tr>\n",
       "    <tr>\n",
       "      <th>Andre Iguodala</th>\n",
       "      <td>3</td>\n",
       "    </tr>\n",
       "  </tbody>\n",
       "</table>\n",
       "</div>"
      ],
      "text/plain": [
       "                assist_count\n",
       "assist                      \n",
       "                           0\n",
       "Adonal Foyle               1\n",
       "Al Harrington              7\n",
       "Allen Iverson             19\n",
       "Andre Iguodala             3"
      ]
     },
     "execution_count": 615,
     "metadata": {},
     "output_type": "execute_result"
    }
   ],
   "source": [
    "w = w.drop(['period', 'away_score',\t'home_score', 'points',\t'pts_difference','shots_made', 'FT_made', 'FT_missed', 'off_rebound','total_rebound', 'shots_missed', 'total_blocks'], axis =1)\n",
    "w.head()\n",
    "        \n",
    "        "
   ]
  },
  {
   "cell_type": "code",
   "execution_count": 649,
   "metadata": {},
   "outputs": [
    {
     "data": {
      "text/html": [
       "<div>\n",
       "<style scoped>\n",
       "    .dataframe tbody tr th:only-of-type {\n",
       "        vertical-align: middle;\n",
       "    }\n",
       "\n",
       "    .dataframe tbody tr th {\n",
       "        vertical-align: top;\n",
       "    }\n",
       "\n",
       "    .dataframe thead th {\n",
       "        text-align: right;\n",
       "    }\n",
       "</style>\n",
       "<table border=\"1\" class=\"dataframe\">\n",
       "  <thead>\n",
       "    <tr style=\"text-align: right;\">\n",
       "      <th></th>\n",
       "      <th>total_blocks</th>\n",
       "    </tr>\n",
       "    <tr>\n",
       "      <th>block</th>\n",
       "      <th></th>\n",
       "    </tr>\n",
       "  </thead>\n",
       "  <tbody>\n",
       "    <tr>\n",
       "      <th></th>\n",
       "      <td>0</td>\n",
       "    </tr>\n",
       "    <tr>\n",
       "      <th>Aaron Williams</th>\n",
       "      <td>1</td>\n",
       "    </tr>\n",
       "    <tr>\n",
       "      <th>Adonal Foyle</th>\n",
       "      <td>6</td>\n",
       "    </tr>\n",
       "    <tr>\n",
       "      <th>Al Harrington</th>\n",
       "      <td>1</td>\n",
       "    </tr>\n",
       "    <tr>\n",
       "      <th>Al Jefferson</th>\n",
       "      <td>1</td>\n",
       "    </tr>\n",
       "  </tbody>\n",
       "</table>\n",
       "</div>"
      ],
      "text/plain": [
       "                total_blocks\n",
       "block                       \n",
       "                           0\n",
       "Aaron Williams             1\n",
       "Adonal Foyle               6\n",
       "Al Harrington              1\n",
       "Al Jefferson               1"
      ]
     },
     "execution_count": 649,
     "metadata": {},
     "output_type": "execute_result"
    }
   ],
   "source": [
    "v = regular_season.groupby('block').sum()\n",
    "v = v.drop(['period', 'away_score',\t'home_score', 'points',\t'pts_difference',\t'shots_made',\t'FT_made',\t'FT_missed', 'off_rebound',\t'total_rebound',\t'shots_missed', 'assist_count'], axis =1)\n",
    "v.head()"
   ]
  },
  {
   "cell_type": "code",
   "execution_count": 747,
   "metadata": {},
   "outputs": [],
   "source": [
    "result = result.fillna(0)"
   ]
  },
  {
   "cell_type": "code",
   "execution_count": 772,
   "metadata": {},
   "outputs": [],
   "source": [
    "result = ind.combine_stats(regular_season)"
   ]
  },
  {
   "cell_type": "code",
   "execution_count": null,
   "metadata": {},
   "outputs": [],
   "source": []
  }
 ],
 "metadata": {
  "kernelspec": {
   "display_name": "Python 3",
   "language": "python",
   "name": "python3"
  },
  "language_info": {
   "codemirror_mode": {
    "name": "ipython",
    "version": 3
   },
   "file_extension": ".py",
   "mimetype": "text/x-python",
   "name": "python",
   "nbconvert_exporter": "python",
   "pygments_lexer": "ipython3",
   "version": "3.6.5"
  }
 },
 "nbformat": 4,
 "nbformat_minor": 2
}
