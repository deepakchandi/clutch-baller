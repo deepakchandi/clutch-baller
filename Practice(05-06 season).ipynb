{
 "cells": [
  {
   "cell_type": "code",
   "execution_count": 1,
   "metadata": {},
   "outputs": [],
   "source": [
    "import pandas as pd\n",
    "import numpy as np\n",
    "import matplotlib.pyplot as plt\n",
    "%load_ext autoreload\n",
    "%autoreload 2\n",
    "import operator\n",
    "from functools import reduce\n",
    "\n",
    "from sklearn.ensemble import GradientBoostingRegressor, GradientBoostingClassifier\n",
    "from sklearn.metrics import accuracy_score, recall_score\n",
    "\n",
    "\n",
    "pd.set_option('display.max_columns', None)\n",
    "pd.set_option('display.max_rows', None)\n",
    "import os \n",
    "os.chdir('/Users/deepak/capstone/clutch-baller')\n",
    "# os.chdir('./clutch-baller')\n",
    "import practice_code as pc\n",
    "import indiviual_stats as ind\n",
    "# os.chdir('..')"
   ]
  },
  {
   "cell_type": "code",
   "execution_count": 2,
   "metadata": {},
   "outputs": [],
   "source": [
    "df = pd.read_csv('/Users/deepak/Desktop/NBA_Data/Every_Season_Data/[2005-2006]-combined-stats.csv')"
   ]
  },
  {
   "cell_type": "markdown",
   "metadata": {},
   "source": [
    "##Added another column that shows the pts difference between both teams"
   ]
  },
  {
   "cell_type": "code",
   "execution_count": 3,
   "metadata": {},
   "outputs": [
    {
     "name": "stderr",
     "output_type": "stream",
     "text": [
      "/Users/deepak/capstone/clutch-baller/practice_code.py:14: SettingWithCopyWarning: \n",
      "A value is trying to be set on a copy of a slice from a DataFrame.\n",
      "Try using .loc[row_indexer,col_indexer] = value instead\n",
      "\n",
      "See the caveats in the documentation: http://pandas.pydata.org/pandas-docs/stable/indexing.html#indexing-view-versus-copy\n",
      "  df2['winner'] = np.where(df2.pts_difference >0, 'away', 'home')\n"
     ]
    }
   ],
   "source": [
    "new_df = pc.add_columns(df)"
   ]
  },
  {
   "cell_type": "code",
   "execution_count": 4,
   "metadata": {},
   "outputs": [],
   "source": [
    "new_df = pc.replace_nan(new_df)"
   ]
  },
  {
   "cell_type": "markdown",
   "metadata": {},
   "source": [
    "##Remove unnecessary columns"
   ]
  },
  {
   "cell_type": "code",
   "execution_count": 5,
   "metadata": {},
   "outputs": [],
   "source": [
    "col_to_remove = ['a1', 'a2', 'a3','a4','a5','h1','h2','h3','h4','h5', 'play_length', 'entered', 'left', 'possession', 'shot_distance', 'original_x', 'original_y', 'converted_x', 'converted_y', 'num', 'away', 'home', 'outof', 'opponent', 'reason', 'elapsed', 'play_id']"
   ]
  },
  {
   "cell_type": "code",
   "execution_count": 6,
   "metadata": {},
   "outputs": [],
   "source": [
    "df_1 = pc.remove_col(new_df, col_to_remove)"
   ]
  },
  {
   "cell_type": "markdown",
   "metadata": {},
   "source": [
    "##Remove Rows that are not needed (such as fouls, subs, timeouts etc)"
   ]
  },
  {
   "cell_type": "code",
   "execution_count": 7,
   "metadata": {},
   "outputs": [],
   "source": [
    "df2 = pc.remove_junk_rows(df_1, 'event_type')"
   ]
  },
  {
   "cell_type": "code",
   "execution_count": null,
   "metadata": {},
   "outputs": [],
   "source": []
  },
  {
   "cell_type": "markdown",
   "metadata": {},
   "source": [
    "#Make DF for all players stats"
   ]
  },
  {
   "cell_type": "code",
   "execution_count": 8,
   "metadata": {},
   "outputs": [],
   "source": [
    "#x = df2[df2['description'].str.contains('Shot') | df2['description'].str.contains('Fadeaway')]# - (df2['description'].str.contains('3PT')*1)\n",
    "\n"
   ]
  },
  {
   "cell_type": "code",
   "execution_count": 9,
   "metadata": {},
   "outputs": [],
   "source": [
    "#x = (((new_df['points'] != 3) & new_df['type'].str.contains('Shot') |(new_df['points'] != 3) & new_df['type'].str.contains('Fadeaway')*1).sum())\n",
    "\n",
    "\n"
   ]
  },
  {
   "cell_type": "code",
   "execution_count": 10,
   "metadata": {},
   "outputs": [],
   "source": [
    "#y = new_df[(new_df['type'].str.contains('Layup') | new_df['type'].str.contains('Dunk') | new_df['type'].str.contains('Finger Roll'))]\n",
    "\n",
    "\n"
   ]
  },
  {
   "cell_type": "code",
   "execution_count": 11,
   "metadata": {},
   "outputs": [],
   "source": [
    "#x = new_df[((new_df['event_type']=='miss') | (new_df['event_type']=='shot'))]"
   ]
  },
  {
   "cell_type": "code",
   "execution_count": null,
   "metadata": {},
   "outputs": [],
   "source": []
  },
  {
   "cell_type": "code",
   "execution_count": null,
   "metadata": {},
   "outputs": [],
   "source": []
  },
  {
   "cell_type": "code",
   "execution_count": 12,
   "metadata": {},
   "outputs": [
    {
     "name": "stderr",
     "output_type": "stream",
     "text": [
      "/Users/deepak/capstone/clutch-baller/indiviual_stats.py:12: FutureWarning: convert_objects is deprecated.  To re-infer data dtypes for object columns, use DataFrame.infer_objects()\n",
      "For all other conversions use the data-type specific converters pd.to_datetime, pd.to_timedelta and pd.to_numeric.\n",
      "  new_df = df.convert_objects(convert_numeric=True)\n"
     ]
    }
   ],
   "source": [
    "player_stats = ind.object_to_int(df2, 'points')"
   ]
  },
  {
   "cell_type": "code",
   "execution_count": 13,
   "metadata": {},
   "outputs": [],
   "source": [
    "assists = ind.assist_stats(player_stats)"
   ]
  },
  {
   "cell_type": "code",
   "execution_count": 14,
   "metadata": {},
   "outputs": [],
   "source": [
    "blks = ind.blk_stats(player_stats)"
   ]
  },
  {
   "cell_type": "code",
   "execution_count": 15,
   "metadata": {},
   "outputs": [],
   "source": [
    "names = ind.player_names(player_stats)"
   ]
  },
  {
   "cell_type": "code",
   "execution_count": 16,
   "metadata": {},
   "outputs": [],
   "source": [
    "full_player_stats = ind.merge_all(names, blks, assists, player_stats)"
   ]
  },
  {
   "cell_type": "code",
   "execution_count": null,
   "metadata": {},
   "outputs": [],
   "source": []
  },
  {
   "cell_type": "code",
   "execution_count": 18,
   "metadata": {},
   "outputs": [],
   "source": [
    "full_player_stats = full_player_stats.drop(0)"
   ]
  },
  {
   "cell_type": "code",
   "execution_count": null,
   "metadata": {},
   "outputs": [],
   "source": []
  },
  {
   "cell_type": "markdown",
   "metadata": {},
   "source": [
    "##Regular Season or playoffs (using df_2)"
   ]
  },
  {
   "cell_type": "code",
   "execution_count": 324,
   "metadata": {},
   "outputs": [],
   "source": [
    "regular_season, playoffs = pc.regular_or_playoffs(df2, 'data_set')"
   ]
  },
  {
   "cell_type": "markdown",
   "metadata": {},
   "source": [
    "##Getting clutch games"
   ]
  },
  {
   "cell_type": "code",
   "execution_count": 156,
   "metadata": {},
   "outputs": [],
   "source": [
    "regular_clutch = pc.clutch_moment(regular_season)"
   ]
  },
  {
   "cell_type": "code",
   "execution_count": 157,
   "metadata": {},
   "outputs": [],
   "source": [
    "regular_clutch = pc.remove_not_imp_games(regular_clutch, 'game_id')"
   ]
  },
  {
   "cell_type": "markdown",
   "metadata": {},
   "source": [
    "##Stats for all players in reg season, playoff, and clutch"
   ]
  },
  {
   "cell_type": "code",
   "execution_count": 217,
   "metadata": {},
   "outputs": [
    {
     "name": "stderr",
     "output_type": "stream",
     "text": [
      "/Users/deepak/capstone/clutch-baller/indiviual_stats.py:12: FutureWarning: convert_objects is deprecated.  To re-infer data dtypes for object columns, use DataFrame.infer_objects()\n",
      "For all other conversions use the data-type specific converters pd.to_datetime, pd.to_timedelta and pd.to_numeric.\n",
      "  new_df = df.convert_objects(convert_numeric=True)\n"
     ]
    }
   ],
   "source": [
    "player_stats_clutch = ind.object_to_int(regular_clutch, 'points')"
   ]
  },
  {
   "cell_type": "code",
   "execution_count": 218,
   "metadata": {},
   "outputs": [],
   "source": [
    "assists = ind.assist_stats(player_stats_clutch)"
   ]
  },
  {
   "cell_type": "code",
   "execution_count": 219,
   "metadata": {},
   "outputs": [],
   "source": [
    "blks = ind.blk_stats(player_stats_clutch)"
   ]
  },
  {
   "cell_type": "code",
   "execution_count": 220,
   "metadata": {},
   "outputs": [],
   "source": [
    "\n",
    "names = ind.player_names(player_stats_clutch)\n"
   ]
  },
  {
   "cell_type": "code",
   "execution_count": 221,
   "metadata": {},
   "outputs": [],
   "source": [
    "full_clutch_stats = ind.merge_all(names, blks, assists, player_stats_clutch)"
   ]
  },
  {
   "cell_type": "code",
   "execution_count": 222,
   "metadata": {},
   "outputs": [],
   "source": [
    "full_clutch_stats = ind.get_per_game_stats(full_clutch_stats)"
   ]
  },
  {
   "cell_type": "code",
   "execution_count": 223,
   "metadata": {},
   "outputs": [],
   "source": [
    "ids = ind.add_ids(df2)"
   ]
  },
  {
   "cell_type": "code",
   "execution_count": 224,
   "metadata": {},
   "outputs": [
    {
     "name": "stderr",
     "output_type": "stream",
     "text": [
      "/Users/deepak/capstone/clutch-baller/indiviual_stats.py:100: SettingWithCopyWarning: \n",
      "A value is trying to be set on a copy of a slice from a DataFrame.\n",
      "Try using .loc[row_indexer,col_indexer] = value instead\n",
      "\n",
      "See the caveats in the documentation: http://pandas.pydata.org/pandas-docs/stable/indexing.html#indexing-view-versus-copy\n",
      "  x_df = new_df[new_df['total_shots']>9]\n"
     ]
    }
   ],
   "source": [
    "full_clutch_stats = ind.merge_ids(full_clutch_stats, ids)"
   ]
  },
  {
   "cell_type": "code",
   "execution_count": null,
   "metadata": {},
   "outputs": [],
   "source": []
  },
  {
   "cell_type": "code",
   "execution_count": 225,
   "metadata": {},
   "outputs": [],
   "source": [
    "full_clutch_stats = full_clutch_stats.fillna(0)"
   ]
  },
  {
   "cell_type": "code",
   "execution_count": null,
   "metadata": {},
   "outputs": [],
   "source": []
  },
  {
   "cell_type": "code",
   "execution_count": 227,
   "metadata": {},
   "outputs": [],
   "source": [
    "full_clutch_stats['league_clutch_all_shot_avg'] = round((full_clutch_stats['shots_made'].sum())/(full_clutch_stats['total_shots'].sum())*100,1)\n",
    "full_clutch_stats['league_clutch_2pt_avg'] = round((full_clutch_stats['2pt_fg_made'].sum())/(full_clutch_stats['2fg_attempts'].sum())*100,1)\n",
    "full_clutch_stats['league_clutch_3pt_avg'] = round((full_clutch_stats['3pt'].sum())/(full_clutch_stats['3pt_shots'].sum())*100,1)\n",
    "full_clutch_stats['league_clutch_hard2pt_avg'] = round((full_clutch_stats['2pt_med/hard'].sum())/(full_clutch_stats['med/hard_attempts'].sum())*100,1)\n",
    "full_clutch_stats['league_clutch_easy2pt_avg'] = round((full_clutch_stats['Dunk/Layup'].sum())/(full_clutch_stats['Dunk/Layup_attempts'].sum())*100,1)\n",
    "\n",
    "\n",
    "\n",
    "\n"
   ]
  },
  {
   "cell_type": "code",
   "execution_count": 228,
   "metadata": {},
   "outputs": [],
   "source": [
    "full_clutch_stats['clutch_all_shots'] = (full_clutch_stats['shooting%'] > full_clutch_stats['league_clutch_all_shot_avg']) & (full_clutch_stats['total_shots']>15)\n",
    "full_clutch_stats['clutch_2pt'] = (full_clutch_stats['2pt%'] > full_clutch_stats['league_clutch_2pt_avg']) & (full_clutch_stats['total_shots']>15)\n",
    "full_clutch_stats['clutch_3pt'] = (full_clutch_stats['3pt%'] > full_clutch_stats['league_clutch_3pt_avg']) & (full_clutch_stats['total_shots']>15)\n",
    "full_clutch_stats['clutch_hard2'] = (full_clutch_stats['med/hard_fg%'] > full_clutch_stats['league_clutch_hard2pt_avg']) & (full_clutch_stats['total_shots']>15)\n",
    "full_clutch_stats['clutch_easy2'] = (full_clutch_stats['easy_shot%'] > full_clutch_stats['league_clutch_easy2pt_avg']) & (full_clutch_stats['total_shots']>15)\n",
    "                                 \n",
    "                                 \n",
    "                                 \n"
   ]
  },
  {
   "cell_type": "code",
   "execution_count": 229,
   "metadata": {},
   "outputs": [],
   "source": [
    "#Keep!!!!!!\n",
    "y = full_clutch_stats[(full_clutch_stats['clutch_all_shots']==True) | (full_clutch_stats['clutch_2pt']==True) | (full_clutch_stats['clutch_3pt']==True) | (full_clutch_stats['clutch_hard2']==True) | (full_clutch_stats['clutch_easy2']==True)]\n"
   ]
  },
  {
   "cell_type": "code",
   "execution_count": 230,
   "metadata": {},
   "outputs": [],
   "source": [
    "#Keep!!!!\n",
    "x = full_clutch_stats[(full_clutch_stats['clutch_all_shots']==True) & (full_clutch_stats['clutch_2pt']==True) & (full_clutch_stats['clutch_3pt']==True) & (full_clutch_stats['clutch_hard2']==True) & (full_clutch_stats['clutch_easy2']==True)]\n",
    "\n"
   ]
  },
  {
   "cell_type": "code",
   "execution_count": 212,
   "metadata": {},
   "outputs": [
    {
     "name": "stderr",
     "output_type": "stream",
     "text": [
      "/Users/deepak/capstone/clutch-baller/indiviual_stats.py:12: FutureWarning: convert_objects is deprecated.  To re-infer data dtypes for object columns, use DataFrame.infer_objects()\n",
      "For all other conversions use the data-type specific converters pd.to_datetime, pd.to_timedelta and pd.to_numeric.\n",
      "  new_df = df.convert_objects(convert_numeric=True)\n"
     ]
    }
   ],
   "source": [
    "player_stats_reg = ind.object_to_int(regular_season, 'points')"
   ]
  },
  {
   "cell_type": "code",
   "execution_count": 213,
   "metadata": {},
   "outputs": [
    {
     "name": "stderr",
     "output_type": "stream",
     "text": [
      "/Users/deepak/capstone/clutch-baller/indiviual_stats.py:100: SettingWithCopyWarning: \n",
      "A value is trying to be set on a copy of a slice from a DataFrame.\n",
      "Try using .loc[row_indexer,col_indexer] = value instead\n",
      "\n",
      "See the caveats in the documentation: http://pandas.pydata.org/pandas-docs/stable/indexing.html#indexing-view-versus-copy\n",
      "  x_df = new_df[new_df['total_shots']>9]\n"
     ]
    }
   ],
   "source": [
    "reg_assists = ind.assist_stats(player_stats_reg)\n",
    "reg_blks = ind.blk_stats(player_stats_reg)\n",
    "reg_names = ind.player_names(player_stats_reg)\n",
    "full_reg_stats = ind.merge_all(reg_names, reg_blks, reg_assists, player_stats_reg)\n",
    "full_reg_stats = ind.get_per_game_stats(full_reg_stats)\n",
    "full_reg_stats = ind.merge_ids(full_reg_stats, ids)\n"
   ]
  },
  {
   "cell_type": "code",
   "execution_count": null,
   "metadata": {},
   "outputs": [],
   "source": []
  },
  {
   "cell_type": "code",
   "execution_count": 214,
   "metadata": {},
   "outputs": [],
   "source": [
    "full_reg_stats = full_reg_stats.fillna(0)"
   ]
  },
  {
   "cell_type": "code",
   "execution_count": 215,
   "metadata": {},
   "outputs": [],
   "source": [
    "full_reg_stats['league_reg_all_shot_avg'] = round((full_reg_stats['shots_made'].sum())/(full_reg_stats['total_shots'].sum())*100,1)\n",
    "full_reg_stats['league_reg_2pt_avg'] = round((full_reg_stats['2pt_fg_made'].sum())/(full_reg_stats['2fg_attempts'].sum())*100,1)\n",
    "full_reg_stats['league_reg_3pt_avg'] = round(((full_reg_stats['3pt'].sum())/(full_reg_stats['3pt_shots'].sum()))*100,1)\n",
    "full_reg_stats['league_reg_hard2pt_avg'] = round((full_reg_stats['2pt_med/hard'].sum())/(full_reg_stats['med/hard_attempts'].sum())*100,1)\n",
    "full_reg_stats['league_reg_easy2pt_avg'] = round((full_reg_stats['Dunk/Layup'].sum())/(full_reg_stats['Dunk/Layup_attempts'].sum())*100,1)\n"
   ]
  },
  {
   "cell_type": "code",
   "execution_count": null,
   "metadata": {},
   "outputs": [],
   "source": []
  },
  {
   "cell_type": "code",
   "execution_count": null,
   "metadata": {},
   "outputs": [],
   "source": []
  },
  {
   "cell_type": "code",
   "execution_count": 325,
   "metadata": {},
   "outputs": [
    {
     "name": "stderr",
     "output_type": "stream",
     "text": [
      "/Users/deepak/capstone/clutch-baller/indiviual_stats.py:12: FutureWarning: convert_objects is deprecated.  To re-infer data dtypes for object columns, use DataFrame.infer_objects()\n",
      "For all other conversions use the data-type specific converters pd.to_datetime, pd.to_timedelta and pd.to_numeric.\n",
      "  new_df = df.convert_objects(convert_numeric=True)\n"
     ]
    }
   ],
   "source": [
    "player_stats_playoffs = ind.object_to_int(playoffs, 'points')"
   ]
  },
  {
   "cell_type": "code",
   "execution_count": 329,
   "metadata": {},
   "outputs": [],
   "source": [
    "playoffs_assists = ind.assist_stats(player_stats_reg)\n",
    "playoffs_blks = ind.blk_stats(player_stats_reg)\n",
    "playoffs_names = ind.player_names(player_stats_reg)\n",
    "full_playoffs = ind.merge_all(reg_names, reg_blks, reg_assists, player_stats_playoffs)\n",
    "full_playoffs = ind.get_per_game_stats(full_playoffs)\n",
    "full_playoffs = ind.merge_ids(full_playoffs, ids)"
   ]
  },
  {
   "cell_type": "code",
   "execution_count": null,
   "metadata": {},
   "outputs": [],
   "source": []
  },
  {
   "cell_type": "code",
   "execution_count": 331,
   "metadata": {},
   "outputs": [],
   "source": [
    "full_playoffs = full_playoffs.fillna(0)"
   ]
  },
  {
   "cell_type": "code",
   "execution_count": 332,
   "metadata": {},
   "outputs": [],
   "source": [
    "\n",
    "full_playoffs['league_playoffs_all_shot%'] = round((full_playoffs['shots_made'].sum())/(full_playoffs['total_shots'].sum())*100,1)\n",
    "full_playoffs['league_playoffs_2pt%'] = round((full_playoffs['2pt_fg_made'].sum())/(full_playoffs['2fg_attempts'].sum())*100,1)\n",
    "full_playoffs['league_playoffs_3pt%'] = round(((full_playoffs['3pt'].sum())/(full_playoffs['3pt_shots'].sum()))*100,1)\n",
    "full_playoffs['league_playoffs_hard2pt%'] = round((full_playoffs['2pt_med/hard'].sum())/(full_playoffs['med/hard_attempts'].sum())*100,1)\n",
    "full_playoffs['league_playoffs_easy2pt%'] = round((full_playoffs['Dunk/Layup'].sum())/(full_playoffs['Dunk/Layup_attempts'].sum())*100,1)"
   ]
  },
  {
   "cell_type": "code",
   "execution_count": 333,
   "metadata": {},
   "outputs": [
    {
     "data": {
      "text/html": [
       "<div>\n",
       "<style scoped>\n",
       "    .dataframe tbody tr th:only-of-type {\n",
       "        vertical-align: middle;\n",
       "    }\n",
       "\n",
       "    .dataframe tbody tr th {\n",
       "        vertical-align: top;\n",
       "    }\n",
       "\n",
       "    .dataframe thead th {\n",
       "        text-align: right;\n",
       "    }\n",
       "</style>\n",
       "<table border=\"1\" class=\"dataframe\">\n",
       "  <thead>\n",
       "    <tr style=\"text-align: right;\">\n",
       "      <th></th>\n",
       "      <th>player</th>\n",
       "      <th>id</th>\n",
       "      <th>id_x</th>\n",
       "      <th>id_y</th>\n",
       "      <th>total_games</th>\n",
       "      <th>shots_made</th>\n",
       "      <th>shots_missed</th>\n",
       "      <th>3pt</th>\n",
       "      <th>3pt_shots</th>\n",
       "      <th>Dunk/Layup</th>\n",
       "      <th>Dunk/Layup_attempts</th>\n",
       "      <th>2pt_med/hard</th>\n",
       "      <th>med/hard_attempts</th>\n",
       "      <th>2fg_attempts</th>\n",
       "      <th>FT_made</th>\n",
       "      <th>FT_missed</th>\n",
       "      <th>assist_count</th>\n",
       "      <th>off_rebound</th>\n",
       "      <th>total_rebound</th>\n",
       "      <th>total_blocks</th>\n",
       "      <th>2pt_fg_made</th>\n",
       "      <th>total_shots</th>\n",
       "      <th>shooting%</th>\n",
       "      <th>FT%</th>\n",
       "      <th>APG</th>\n",
       "      <th>BPG</th>\n",
       "      <th>ORPG</th>\n",
       "      <th>RPG</th>\n",
       "      <th>easy_shot%</th>\n",
       "      <th>2pt%</th>\n",
       "      <th>3pt%</th>\n",
       "      <th>med/hard_fg%</th>\n",
       "      <th>league_playoffs_all_shot_avg</th>\n",
       "      <th>league_playoffs_2pt_avg</th>\n",
       "      <th>league_playoffs_3pt_avg</th>\n",
       "      <th>league_playoffs_hard2pt_avg</th>\n",
       "      <th>league_playoffs_easy2pt_avg</th>\n",
       "    </tr>\n",
       "  </thead>\n",
       "  <tbody>\n",
       "    <tr>\n",
       "      <th>1</th>\n",
       "      <td>Aaron McKie</td>\n",
       "      <td>1</td>\n",
       "      <td>1.0</td>\n",
       "      <td>1.0</td>\n",
       "      <td>0</td>\n",
       "      <td>3</td>\n",
       "      <td>9</td>\n",
       "      <td>0</td>\n",
       "      <td>2</td>\n",
       "      <td>0</td>\n",
       "      <td>0</td>\n",
       "      <td>3</td>\n",
       "      <td>10</td>\n",
       "      <td>10</td>\n",
       "      <td>1</td>\n",
       "      <td>1</td>\n",
       "      <td>11</td>\n",
       "      <td>3</td>\n",
       "      <td>20</td>\n",
       "      <td>0</td>\n",
       "      <td>3</td>\n",
       "      <td>12</td>\n",
       "      <td>25.0</td>\n",
       "      <td>50.0</td>\n",
       "      <td>inf</td>\n",
       "      <td>NaN</td>\n",
       "      <td>inf</td>\n",
       "      <td>inf</td>\n",
       "      <td>NaN</td>\n",
       "      <td>30.0</td>\n",
       "      <td>0.0</td>\n",
       "      <td>30.0</td>\n",
       "      <td>45.4</td>\n",
       "      <td>47.8</td>\n",
       "      <td>35.8</td>\n",
       "      <td>40.3</td>\n",
       "      <td>60.7</td>\n",
       "    </tr>\n",
       "    <tr>\n",
       "      <th>2</th>\n",
       "      <td>Aaron Miles</td>\n",
       "      <td>2</td>\n",
       "      <td>2.0</td>\n",
       "      <td>2.0</td>\n",
       "      <td>0</td>\n",
       "      <td>6</td>\n",
       "      <td>12</td>\n",
       "      <td>0</td>\n",
       "      <td>0</td>\n",
       "      <td>2</td>\n",
       "      <td>7</td>\n",
       "      <td>4</td>\n",
       "      <td>11</td>\n",
       "      <td>18</td>\n",
       "      <td>4</td>\n",
       "      <td>0</td>\n",
       "      <td>24</td>\n",
       "      <td>0</td>\n",
       "      <td>14</td>\n",
       "      <td>1</td>\n",
       "      <td>6</td>\n",
       "      <td>18</td>\n",
       "      <td>33.3</td>\n",
       "      <td>100.0</td>\n",
       "      <td>inf</td>\n",
       "      <td>inf</td>\n",
       "      <td>NaN</td>\n",
       "      <td>inf</td>\n",
       "      <td>28.6</td>\n",
       "      <td>33.3</td>\n",
       "      <td>NaN</td>\n",
       "      <td>36.4</td>\n",
       "      <td>45.4</td>\n",
       "      <td>47.8</td>\n",
       "      <td>35.8</td>\n",
       "      <td>40.3</td>\n",
       "      <td>60.7</td>\n",
       "    </tr>\n",
       "    <tr>\n",
       "      <th>3</th>\n",
       "      <td>Aaron Williams</td>\n",
       "      <td>3</td>\n",
       "      <td>3.0</td>\n",
       "      <td>3.0</td>\n",
       "      <td>0</td>\n",
       "      <td>91</td>\n",
       "      <td>85</td>\n",
       "      <td>0</td>\n",
       "      <td>0</td>\n",
       "      <td>59</td>\n",
       "      <td>85</td>\n",
       "      <td>32</td>\n",
       "      <td>91</td>\n",
       "      <td>176</td>\n",
       "      <td>40</td>\n",
       "      <td>18</td>\n",
       "      <td>17</td>\n",
       "      <td>64</td>\n",
       "      <td>181</td>\n",
       "      <td>21</td>\n",
       "      <td>91</td>\n",
       "      <td>176</td>\n",
       "      <td>51.7</td>\n",
       "      <td>69.0</td>\n",
       "      <td>inf</td>\n",
       "      <td>inf</td>\n",
       "      <td>inf</td>\n",
       "      <td>inf</td>\n",
       "      <td>69.4</td>\n",
       "      <td>51.7</td>\n",
       "      <td>NaN</td>\n",
       "      <td>35.2</td>\n",
       "      <td>45.4</td>\n",
       "      <td>47.8</td>\n",
       "      <td>35.8</td>\n",
       "      <td>40.3</td>\n",
       "      <td>60.7</td>\n",
       "    </tr>\n",
       "    <tr>\n",
       "      <th>4</th>\n",
       "      <td>Adonal Foyle</td>\n",
       "      <td>4</td>\n",
       "      <td>4.0</td>\n",
       "      <td>4.0</td>\n",
       "      <td>0</td>\n",
       "      <td>152</td>\n",
       "      <td>148</td>\n",
       "      <td>0</td>\n",
       "      <td>0</td>\n",
       "      <td>80</td>\n",
       "      <td>122</td>\n",
       "      <td>72</td>\n",
       "      <td>178</td>\n",
       "      <td>300</td>\n",
       "      <td>41</td>\n",
       "      <td>26</td>\n",
       "      <td>33</td>\n",
       "      <td>143</td>\n",
       "      <td>424</td>\n",
       "      <td>125</td>\n",
       "      <td>152</td>\n",
       "      <td>300</td>\n",
       "      <td>50.7</td>\n",
       "      <td>61.2</td>\n",
       "      <td>inf</td>\n",
       "      <td>inf</td>\n",
       "      <td>inf</td>\n",
       "      <td>inf</td>\n",
       "      <td>65.6</td>\n",
       "      <td>50.7</td>\n",
       "      <td>NaN</td>\n",
       "      <td>40.4</td>\n",
       "      <td>45.4</td>\n",
       "      <td>47.8</td>\n",
       "      <td>35.8</td>\n",
       "      <td>40.3</td>\n",
       "      <td>60.7</td>\n",
       "    </tr>\n",
       "    <tr>\n",
       "      <th>5</th>\n",
       "      <td>Adrian Griffin</td>\n",
       "      <td>5</td>\n",
       "      <td>5.0</td>\n",
       "      <td>5.0</td>\n",
       "      <td>20</td>\n",
       "      <td>98</td>\n",
       "      <td>106</td>\n",
       "      <td>0</td>\n",
       "      <td>2</td>\n",
       "      <td>36</td>\n",
       "      <td>64</td>\n",
       "      <td>62</td>\n",
       "      <td>138</td>\n",
       "      <td>202</td>\n",
       "      <td>41</td>\n",
       "      <td>12</td>\n",
       "      <td>89</td>\n",
       "      <td>75</td>\n",
       "      <td>227</td>\n",
       "      <td>9</td>\n",
       "      <td>98</td>\n",
       "      <td>204</td>\n",
       "      <td>48.0</td>\n",
       "      <td>77.4</td>\n",
       "      <td>4.400000</td>\n",
       "      <td>0.400000</td>\n",
       "      <td>3.800000</td>\n",
       "      <td>11.400000</td>\n",
       "      <td>56.2</td>\n",
       "      <td>48.5</td>\n",
       "      <td>0.0</td>\n",
       "      <td>44.9</td>\n",
       "      <td>45.4</td>\n",
       "      <td>47.8</td>\n",
       "      <td>35.8</td>\n",
       "      <td>40.3</td>\n",
       "      <td>60.7</td>\n",
       "    </tr>\n",
       "  </tbody>\n",
       "</table>\n",
       "</div>"
      ],
      "text/plain": [
       "           player  id  id_x  id_y  total_games  shots_made  shots_missed  3pt  \\\n",
       "1     Aaron McKie   1   1.0   1.0            0           3             9    0   \n",
       "2     Aaron Miles   2   2.0   2.0            0           6            12    0   \n",
       "3  Aaron Williams   3   3.0   3.0            0          91            85    0   \n",
       "4    Adonal Foyle   4   4.0   4.0            0         152           148    0   \n",
       "5  Adrian Griffin   5   5.0   5.0           20          98           106    0   \n",
       "\n",
       "   3pt_shots  Dunk/Layup  Dunk/Layup_attempts  2pt_med/hard  \\\n",
       "1          2           0                    0             3   \n",
       "2          0           2                    7             4   \n",
       "3          0          59                   85            32   \n",
       "4          0          80                  122            72   \n",
       "5          2          36                   64            62   \n",
       "\n",
       "   med/hard_attempts  2fg_attempts  FT_made  FT_missed  assist_count  \\\n",
       "1                 10            10        1          1            11   \n",
       "2                 11            18        4          0            24   \n",
       "3                 91           176       40         18            17   \n",
       "4                178           300       41         26            33   \n",
       "5                138           202       41         12            89   \n",
       "\n",
       "   off_rebound  total_rebound  total_blocks  2pt_fg_made  total_shots  \\\n",
       "1            3             20             0            3           12   \n",
       "2            0             14             1            6           18   \n",
       "3           64            181            21           91          176   \n",
       "4          143            424           125          152          300   \n",
       "5           75            227             9           98          204   \n",
       "\n",
       "   shooting%    FT%       APG       BPG      ORPG        RPG  easy_shot%  \\\n",
       "1       25.0   50.0       inf       NaN       inf        inf         NaN   \n",
       "2       33.3  100.0       inf       inf       NaN        inf        28.6   \n",
       "3       51.7   69.0       inf       inf       inf        inf        69.4   \n",
       "4       50.7   61.2       inf       inf       inf        inf        65.6   \n",
       "5       48.0   77.4  4.400000  0.400000  3.800000  11.400000        56.2   \n",
       "\n",
       "   2pt%  3pt%  med/hard_fg%  league_playoffs_all_shot_avg  \\\n",
       "1  30.0   0.0          30.0                          45.4   \n",
       "2  33.3   NaN          36.4                          45.4   \n",
       "3  51.7   NaN          35.2                          45.4   \n",
       "4  50.7   NaN          40.4                          45.4   \n",
       "5  48.5   0.0          44.9                          45.4   \n",
       "\n",
       "   league_playoffs_2pt_avg  league_playoffs_3pt_avg  \\\n",
       "1                     47.8                     35.8   \n",
       "2                     47.8                     35.8   \n",
       "3                     47.8                     35.8   \n",
       "4                     47.8                     35.8   \n",
       "5                     47.8                     35.8   \n",
       "\n",
       "   league_playoffs_hard2pt_avg  league_playoffs_easy2pt_avg  \n",
       "1                         40.3                         60.7  \n",
       "2                         40.3                         60.7  \n",
       "3                         40.3                         60.7  \n",
       "4                         40.3                         60.7  \n",
       "5                         40.3                         60.7  "
      ]
     },
     "execution_count": 333,
     "metadata": {},
     "output_type": "execute_result"
    }
   ],
   "source": [
    "full_reg_playoffs.head()"
   ]
  },
  {
   "cell_type": "code",
   "execution_count": null,
   "metadata": {},
   "outputs": [],
   "source": []
  }
 ],
 "metadata": {
  "kernelspec": {
   "display_name": "Python 3",
   "language": "python",
   "name": "python3"
  },
  "language_info": {
   "codemirror_mode": {
    "name": "ipython",
    "version": 3
   },
   "file_extension": ".py",
   "mimetype": "text/x-python",
   "name": "python",
   "nbconvert_exporter": "python",
   "pygments_lexer": "ipython3",
   "version": "3.6.5"
  }
 },
 "nbformat": 4,
 "nbformat_minor": 2
}
