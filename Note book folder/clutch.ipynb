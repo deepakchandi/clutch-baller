{
 "cells": [
  {
   "cell_type": "code",
   "execution_count": 1,
   "metadata": {},
   "outputs": [],
   "source": [
    "import pandas as pd\n",
    "import numpy as np\n",
    "import matplotlib.pyplot as plt\n",
    "%load_ext autoreload\n",
    "%autoreload 2\n",
    "\n",
    "from sklearn.ensemble import GradientBoostingRegressor, GradientBoostingClassifier\n",
    "from sklearn.metrics import accuracy_score, recall_score\n",
    "\n",
    "pd.set_option('display.max_columns', None)\n",
    "pd.set_option('display.max_rows', None)\n",
    "\n",
    "import practice_code as pc\n",
    "import individual_stats as ind\n",
    "\n",
    "from sklearn.ensemble import GradientBoostingRegressor, GradientBoostingClassifier, RandomForestClassifier\n",
    "from sklearn.metrics import accuracy_score, recall_score, f1_score\n",
    "from sklearn.model_selection import train_test_split\n",
    "\n",
    "\n"
   ]
  },
  {
   "cell_type": "markdown",
   "metadata": {},
   "source": [
    "#Reg season Stats"
   ]
  },
  {
   "cell_type": "code",
   "execution_count": 2,
   "metadata": {},
   "outputs": [],
   "source": [
    "reg = pd.read_csv('CSV Files/regular_season.csv')\n",
    "regular_clutch = pd.read_csv('CSV Files/clutch_time.csv')"
   ]
  },
  {
   "cell_type": "code",
   "execution_count": 3,
   "metadata": {},
   "outputs": [],
   "source": [
    "ids = ind.add_ids(reg)"
   ]
  },
  {
   "cell_type": "code",
   "execution_count": 4,
   "metadata": {},
   "outputs": [],
   "source": [
    "reg = pc.replace_nan(reg)"
   ]
  },
  {
   "cell_type": "code",
   "execution_count": 5,
   "metadata": {},
   "outputs": [],
   "source": [
    "reg['total_blocks'] = (reg['block'] != '')*1\n",
    "reg['assist_count'] = (reg['assist'] != '')*1"
   ]
  },
  {
   "cell_type": "code",
   "execution_count": 6,
   "metadata": {},
   "outputs": [],
   "source": [
    "total_games = pc.get_total_games(reg)"
   ]
  },
  {
   "cell_type": "code",
   "execution_count": 7,
   "metadata": {},
   "outputs": [
    {
     "name": "stderr",
     "output_type": "stream",
     "text": [
      "/home/ubuntu/clutch-baller/individual_stats.py:10: FutureWarning: convert_objects is deprecated.  To re-infer data dtypes for object columns, use DataFrame.infer_objects()\n",
      "For all other conversions use the data-type specific converters pd.to_datetime, pd.to_timedelta and pd.to_numeric.\n",
      "  new_df = df.convert_objects(convert_numeric=True)\n"
     ]
    }
   ],
   "source": [
    "player_stats_reg = ind.object_to_int(reg, 'points')"
   ]
  },
  {
   "cell_type": "code",
   "execution_count": 8,
   "metadata": {},
   "outputs": [],
   "source": [
    "reg_assists = ind.assist_stats(player_stats_reg)\n",
    "reg_blks = ind.blk_stats(player_stats_reg)\n",
    "reg_names = ind.player_names(player_stats_reg)\n",
    "full_reg_stats = ind.merge_all(reg_names, reg_blks, reg_assists, player_stats_reg)\n",
    "full_reg_stats = ind.get_per_game_stats(full_reg_stats)\n",
    "full_reg_stats = ind.merge_ids(full_reg_stats, ids)\n"
   ]
  },
  {
   "cell_type": "code",
   "execution_count": 9,
   "metadata": {},
   "outputs": [],
   "source": [
    "reg_stats = ind.add_league_avg(full_reg_stats)"
   ]
  },
  {
   "cell_type": "code",
   "execution_count": null,
   "metadata": {},
   "outputs": [],
   "source": []
  },
  {
   "cell_type": "code",
   "execution_count": 10,
   "metadata": {},
   "outputs": [],
   "source": [
    "regular_clutch = pc.replace_nan(regular_clutch)"
   ]
  },
  {
   "cell_type": "code",
   "execution_count": 11,
   "metadata": {},
   "outputs": [],
   "source": [
    "regular_clutch['total_blocks'] = (regular_clutch['block'] != '')*1"
   ]
  },
  {
   "cell_type": "code",
   "execution_count": 12,
   "metadata": {},
   "outputs": [],
   "source": [
    "regular_clutch['assist_count'] = (regular_clutch['assist'] != '')*1"
   ]
  },
  {
   "cell_type": "code",
   "execution_count": 13,
   "metadata": {},
   "outputs": [],
   "source": [
    "total_games = pc.get_total_games(regular_clutch)"
   ]
  },
  {
   "cell_type": "code",
   "execution_count": 14,
   "metadata": {},
   "outputs": [
    {
     "data": {
      "text/html": [
       "<div>\n",
       "<style scoped>\n",
       "    .dataframe tbody tr th:only-of-type {\n",
       "        vertical-align: middle;\n",
       "    }\n",
       "\n",
       "    .dataframe tbody tr th {\n",
       "        vertical-align: top;\n",
       "    }\n",
       "\n",
       "    .dataframe thead th {\n",
       "        text-align: right;\n",
       "    }\n",
       "</style>\n",
       "<table border=\"1\" class=\"dataframe\">\n",
       "  <thead>\n",
       "    <tr style=\"text-align: right;\">\n",
       "      <th></th>\n",
       "      <th>player</th>\n",
       "      <th>total_games</th>\n",
       "    </tr>\n",
       "  </thead>\n",
       "  <tbody>\n",
       "    <tr>\n",
       "      <th>260</th>\n",
       "      <td>Dirk Nowitzki</td>\n",
       "      <td>321</td>\n",
       "    </tr>\n",
       "    <tr>\n",
       "      <th>579</th>\n",
       "      <td>LeBron James</td>\n",
       "      <td>315</td>\n",
       "    </tr>\n",
       "    <tr>\n",
       "      <th>739</th>\n",
       "      <td>Paul Pierce</td>\n",
       "      <td>303</td>\n",
       "    </tr>\n",
       "    <tr>\n",
       "      <th>456</th>\n",
       "      <td>Joe Johnson</td>\n",
       "      <td>294</td>\n",
       "    </tr>\n",
       "    <tr>\n",
       "      <th>548</th>\n",
       "      <td>Kobe Bryant</td>\n",
       "      <td>289</td>\n",
       "    </tr>\n",
       "  </tbody>\n",
       "</table>\n",
       "</div>"
      ],
      "text/plain": [
       "            player  total_games\n",
       "260  Dirk Nowitzki          321\n",
       "579   LeBron James          315\n",
       "739    Paul Pierce          303\n",
       "456    Joe Johnson          294\n",
       "548    Kobe Bryant          289"
      ]
     },
     "execution_count": 14,
     "metadata": {},
     "output_type": "execute_result"
    }
   ],
   "source": [
    "total_games.head()"
   ]
  },
  {
   "cell_type": "code",
   "execution_count": 15,
   "metadata": {},
   "outputs": [
    {
     "name": "stderr",
     "output_type": "stream",
     "text": [
      "/home/ubuntu/clutch-baller/individual_stats.py:10: FutureWarning: convert_objects is deprecated.  To re-infer data dtypes for object columns, use DataFrame.infer_objects()\n",
      "For all other conversions use the data-type specific converters pd.to_datetime, pd.to_timedelta and pd.to_numeric.\n",
      "  new_df = df.convert_objects(convert_numeric=True)\n"
     ]
    }
   ],
   "source": [
    "player_stats_clutch = ind.object_to_int(regular_clutch, 'points')"
   ]
  },
  {
   "cell_type": "code",
   "execution_count": 16,
   "metadata": {},
   "outputs": [],
   "source": [
    "assists = ind.assist_stats(player_stats_clutch)\n",
    "blks = ind.blk_stats(player_stats_clutch)\n",
    "names = ind.player_names(player_stats_clutch)"
   ]
  },
  {
   "cell_type": "code",
   "execution_count": 17,
   "metadata": {},
   "outputs": [],
   "source": [
    "full_clutch_stats = ind.merge_all(names, blks, assists, player_stats_clutch)\n",
    "full_clutch_stats = ind.get_per_game_stats(full_clutch_stats)"
   ]
  },
  {
   "cell_type": "code",
   "execution_count": 18,
   "metadata": {},
   "outputs": [],
   "source": [
    "\n",
    "full_clutch_stats = ind.merge_ids(full_clutch_stats, ids)"
   ]
  },
  {
   "cell_type": "code",
   "execution_count": 25,
   "metadata": {
    "scrolled": true
   },
   "outputs": [
    {
     "name": "stderr",
     "output_type": "stream",
     "text": [
      "/home/ubuntu/clutch-baller/individual_stats.py:116: SettingWithCopyWarning: \n",
      "A value is trying to be set on a copy of a slice from a DataFrame.\n",
      "Try using .loc[row_indexer,col_indexer] = value instead\n",
      "\n",
      "See the caveats in the documentation: http://pandas.pydata.org/pandas-docs/stable/indexing.html#indexing-view-versus-copy\n",
      "  df['clutch_all_shots'] = (df['shooting%'] > df['league_all_shot_avg']) & (df['total_shots']>50)\n",
      "/home/ubuntu/clutch-baller/individual_stats.py:117: SettingWithCopyWarning: \n",
      "A value is trying to be set on a copy of a slice from a DataFrame.\n",
      "Try using .loc[row_indexer,col_indexer] = value instead\n",
      "\n",
      "See the caveats in the documentation: http://pandas.pydata.org/pandas-docs/stable/indexing.html#indexing-view-versus-copy\n",
      "  df['clutch_2pt'] = (df['2pt%'] > df['league_2pt_avg']) & (df['2fg_attempts']>35)\n",
      "/home/ubuntu/clutch-baller/individual_stats.py:118: SettingWithCopyWarning: \n",
      "A value is trying to be set on a copy of a slice from a DataFrame.\n",
      "Try using .loc[row_indexer,col_indexer] = value instead\n",
      "\n",
      "See the caveats in the documentation: http://pandas.pydata.org/pandas-docs/stable/indexing.html#indexing-view-versus-copy\n",
      "  df['clutch_3pt'] = (df['3pt%'] > df['league_3pt_avg']) & (df['3pt_shots']>25)\n",
      "/home/ubuntu/clutch-baller/individual_stats.py:119: SettingWithCopyWarning: \n",
      "A value is trying to be set on a copy of a slice from a DataFrame.\n",
      "Try using .loc[row_indexer,col_indexer] = value instead\n",
      "\n",
      "See the caveats in the documentation: http://pandas.pydata.org/pandas-docs/stable/indexing.html#indexing-view-versus-copy\n",
      "  df['clutch_hard2'] = (df['med/hard_fg%'] > df['league_hard2pt_avg']) & (df['med/hard_attempts']>20)\n",
      "/home/ubuntu/clutch-baller/individual_stats.py:120: SettingWithCopyWarning: \n",
      "A value is trying to be set on a copy of a slice from a DataFrame.\n",
      "Try using .loc[row_indexer,col_indexer] = value instead\n",
      "\n",
      "See the caveats in the documentation: http://pandas.pydata.org/pandas-docs/stable/indexing.html#indexing-view-versus-copy\n",
      "  df['clutch_easy2'] = (df['easy_shot%'] > df['league_easy2pt_avg']) & (df['Dunk/Layup_attempts']>20)\n"
     ]
    }
   ],
   "source": [
    "clutch_stats = ind.add_league_avg(full_clutch_stats)\n",
    "clutch_stats = ind.is_clutch(clutch_stats)"
   ]
  },
  {
   "cell_type": "code",
   "execution_count": 29,
   "metadata": {},
   "outputs": [
    {
     "data": {
      "text/html": [
       "<div>\n",
       "<style scoped>\n",
       "    .dataframe tbody tr th:only-of-type {\n",
       "        vertical-align: middle;\n",
       "    }\n",
       "\n",
       "    .dataframe tbody tr th {\n",
       "        vertical-align: top;\n",
       "    }\n",
       "\n",
       "    .dataframe thead th {\n",
       "        text-align: right;\n",
       "    }\n",
       "</style>\n",
       "<table border=\"1\" class=\"dataframe\">\n",
       "  <thead>\n",
       "    <tr style=\"text-align: right;\">\n",
       "      <th></th>\n",
       "      <th>player</th>\n",
       "      <th>id</th>\n",
       "      <th>total_games</th>\n",
       "      <th>shots_made</th>\n",
       "      <th>shots_missed</th>\n",
       "      <th>3pt</th>\n",
       "      <th>3pt_shots</th>\n",
       "      <th>Dunk/Layup</th>\n",
       "      <th>Dunk/Layup_attempts</th>\n",
       "      <th>2pt_med/hard</th>\n",
       "      <th>med/hard_attempts</th>\n",
       "      <th>2fg_attempts</th>\n",
       "      <th>FT_made</th>\n",
       "      <th>FT_missed</th>\n",
       "      <th>assist_count</th>\n",
       "      <th>off_rebound</th>\n",
       "      <th>total_rebound</th>\n",
       "      <th>total_blocks</th>\n",
       "      <th>2pt_fg_made</th>\n",
       "      <th>total_shots</th>\n",
       "      <th>shooting%</th>\n",
       "      <th>FT%</th>\n",
       "      <th>APG</th>\n",
       "      <th>BPG</th>\n",
       "      <th>ORPG</th>\n",
       "      <th>RPG</th>\n",
       "      <th>easy_shot%</th>\n",
       "      <th>2pt%</th>\n",
       "      <th>3pt%</th>\n",
       "      <th>med/hard_fg%</th>\n",
       "      <th>league_all_shot_avg</th>\n",
       "      <th>league_2pt_avg</th>\n",
       "      <th>league_3pt_avg</th>\n",
       "      <th>league_hard2pt_avg</th>\n",
       "      <th>league_easy2pt_avg</th>\n",
       "      <th>clutch_all_shots</th>\n",
       "      <th>clutch_2pt</th>\n",
       "      <th>clutch_3pt</th>\n",
       "      <th>clutch_hard2</th>\n",
       "      <th>clutch_easy2</th>\n",
       "    </tr>\n",
       "  </thead>\n",
       "  <tbody>\n",
       "    <tr>\n",
       "      <th>1</th>\n",
       "      <td>Aaron Brooks</td>\n",
       "      <td>1.0</td>\n",
       "      <td>108</td>\n",
       "      <td>58</td>\n",
       "      <td>115</td>\n",
       "      <td>17</td>\n",
       "      <td>71</td>\n",
       "      <td>22</td>\n",
       "      <td>57</td>\n",
       "      <td>19</td>\n",
       "      <td>45</td>\n",
       "      <td>102</td>\n",
       "      <td>91</td>\n",
       "      <td>20</td>\n",
       "      <td>32</td>\n",
       "      <td>8</td>\n",
       "      <td>37</td>\n",
       "      <td>2</td>\n",
       "      <td>41</td>\n",
       "      <td>173</td>\n",
       "      <td>33.5</td>\n",
       "      <td>82.0</td>\n",
       "      <td>0.3</td>\n",
       "      <td>0.0</td>\n",
       "      <td>0.1</td>\n",
       "      <td>0.3</td>\n",
       "      <td>38.6</td>\n",
       "      <td>40.2</td>\n",
       "      <td>23.9</td>\n",
       "      <td>42.2</td>\n",
       "      <td>40.1</td>\n",
       "      <td>44.8</td>\n",
       "      <td>30.2</td>\n",
       "      <td>35.4</td>\n",
       "      <td>59.7</td>\n",
       "      <td>False</td>\n",
       "      <td>False</td>\n",
       "      <td>False</td>\n",
       "      <td>True</td>\n",
       "      <td>False</td>\n",
       "    </tr>\n",
       "    <tr>\n",
       "      <th>14</th>\n",
       "      <td>Al Harrington</td>\n",
       "      <td>14.0</td>\n",
       "      <td>143</td>\n",
       "      <td>73</td>\n",
       "      <td>131</td>\n",
       "      <td>12</td>\n",
       "      <td>70</td>\n",
       "      <td>37</td>\n",
       "      <td>67</td>\n",
       "      <td>24</td>\n",
       "      <td>67</td>\n",
       "      <td>134</td>\n",
       "      <td>71</td>\n",
       "      <td>32</td>\n",
       "      <td>28</td>\n",
       "      <td>36</td>\n",
       "      <td>111</td>\n",
       "      <td>1</td>\n",
       "      <td>61</td>\n",
       "      <td>204</td>\n",
       "      <td>35.8</td>\n",
       "      <td>68.9</td>\n",
       "      <td>0.2</td>\n",
       "      <td>0.0</td>\n",
       "      <td>0.3</td>\n",
       "      <td>0.8</td>\n",
       "      <td>55.2</td>\n",
       "      <td>45.5</td>\n",
       "      <td>17.1</td>\n",
       "      <td>35.8</td>\n",
       "      <td>40.1</td>\n",
       "      <td>44.8</td>\n",
       "      <td>30.2</td>\n",
       "      <td>35.4</td>\n",
       "      <td>59.7</td>\n",
       "      <td>False</td>\n",
       "      <td>True</td>\n",
       "      <td>False</td>\n",
       "      <td>True</td>\n",
       "      <td>False</td>\n",
       "    </tr>\n",
       "    <tr>\n",
       "      <th>15</th>\n",
       "      <td>Al Horford</td>\n",
       "      <td>15.0</td>\n",
       "      <td>150</td>\n",
       "      <td>86</td>\n",
       "      <td>76</td>\n",
       "      <td>3</td>\n",
       "      <td>13</td>\n",
       "      <td>34</td>\n",
       "      <td>52</td>\n",
       "      <td>49</td>\n",
       "      <td>97</td>\n",
       "      <td>149</td>\n",
       "      <td>76</td>\n",
       "      <td>33</td>\n",
       "      <td>24</td>\n",
       "      <td>47</td>\n",
       "      <td>183</td>\n",
       "      <td>27</td>\n",
       "      <td>83</td>\n",
       "      <td>162</td>\n",
       "      <td>53.1</td>\n",
       "      <td>69.7</td>\n",
       "      <td>0.2</td>\n",
       "      <td>0.2</td>\n",
       "      <td>0.3</td>\n",
       "      <td>1.2</td>\n",
       "      <td>65.4</td>\n",
       "      <td>55.7</td>\n",
       "      <td>23.1</td>\n",
       "      <td>50.5</td>\n",
       "      <td>40.1</td>\n",
       "      <td>44.8</td>\n",
       "      <td>30.2</td>\n",
       "      <td>35.4</td>\n",
       "      <td>59.7</td>\n",
       "      <td>True</td>\n",
       "      <td>True</td>\n",
       "      <td>False</td>\n",
       "      <td>True</td>\n",
       "      <td>True</td>\n",
       "    </tr>\n",
       "    <tr>\n",
       "      <th>16</th>\n",
       "      <td>Al Jefferson</td>\n",
       "      <td>16.0</td>\n",
       "      <td>202</td>\n",
       "      <td>178</td>\n",
       "      <td>192</td>\n",
       "      <td>3</td>\n",
       "      <td>9</td>\n",
       "      <td>63</td>\n",
       "      <td>82</td>\n",
       "      <td>112</td>\n",
       "      <td>279</td>\n",
       "      <td>361</td>\n",
       "      <td>79</td>\n",
       "      <td>38</td>\n",
       "      <td>24</td>\n",
       "      <td>80</td>\n",
       "      <td>245</td>\n",
       "      <td>39</td>\n",
       "      <td>175</td>\n",
       "      <td>370</td>\n",
       "      <td>48.1</td>\n",
       "      <td>67.5</td>\n",
       "      <td>0.1</td>\n",
       "      <td>0.2</td>\n",
       "      <td>0.4</td>\n",
       "      <td>1.2</td>\n",
       "      <td>76.8</td>\n",
       "      <td>48.5</td>\n",
       "      <td>33.3</td>\n",
       "      <td>40.1</td>\n",
       "      <td>40.1</td>\n",
       "      <td>44.8</td>\n",
       "      <td>30.2</td>\n",
       "      <td>35.4</td>\n",
       "      <td>59.7</td>\n",
       "      <td>True</td>\n",
       "      <td>True</td>\n",
       "      <td>False</td>\n",
       "      <td>True</td>\n",
       "      <td>True</td>\n",
       "    </tr>\n",
       "    <tr>\n",
       "      <th>36</th>\n",
       "      <td>Allen Iverson</td>\n",
       "      <td>36.0</td>\n",
       "      <td>135</td>\n",
       "      <td>92</td>\n",
       "      <td>131</td>\n",
       "      <td>15</td>\n",
       "      <td>50</td>\n",
       "      <td>38</td>\n",
       "      <td>62</td>\n",
       "      <td>39</td>\n",
       "      <td>111</td>\n",
       "      <td>173</td>\n",
       "      <td>120</td>\n",
       "      <td>25</td>\n",
       "      <td>71</td>\n",
       "      <td>6</td>\n",
       "      <td>44</td>\n",
       "      <td>2</td>\n",
       "      <td>77</td>\n",
       "      <td>223</td>\n",
       "      <td>41.3</td>\n",
       "      <td>82.8</td>\n",
       "      <td>0.5</td>\n",
       "      <td>0.0</td>\n",
       "      <td>0.0</td>\n",
       "      <td>0.3</td>\n",
       "      <td>61.3</td>\n",
       "      <td>44.5</td>\n",
       "      <td>30.0</td>\n",
       "      <td>35.1</td>\n",
       "      <td>40.1</td>\n",
       "      <td>44.8</td>\n",
       "      <td>30.2</td>\n",
       "      <td>35.4</td>\n",
       "      <td>59.7</td>\n",
       "      <td>True</td>\n",
       "      <td>False</td>\n",
       "      <td>False</td>\n",
       "      <td>False</td>\n",
       "      <td>True</td>\n",
       "    </tr>\n",
       "  </tbody>\n",
       "</table>\n",
       "</div>"
      ],
      "text/plain": [
       "           player    id  total_games  shots_made  shots_missed  3pt  \\\n",
       "1    Aaron Brooks   1.0          108          58           115   17   \n",
       "14  Al Harrington  14.0          143          73           131   12   \n",
       "15     Al Horford  15.0          150          86            76    3   \n",
       "16   Al Jefferson  16.0          202         178           192    3   \n",
       "36  Allen Iverson  36.0          135          92           131   15   \n",
       "\n",
       "    3pt_shots  Dunk/Layup  Dunk/Layup_attempts  2pt_med/hard  \\\n",
       "1          71          22                   57            19   \n",
       "14         70          37                   67            24   \n",
       "15         13          34                   52            49   \n",
       "16          9          63                   82           112   \n",
       "36         50          38                   62            39   \n",
       "\n",
       "    med/hard_attempts  2fg_attempts  FT_made  FT_missed  assist_count  \\\n",
       "1                  45           102       91         20            32   \n",
       "14                 67           134       71         32            28   \n",
       "15                 97           149       76         33            24   \n",
       "16                279           361       79         38            24   \n",
       "36                111           173      120         25            71   \n",
       "\n",
       "    off_rebound  total_rebound  total_blocks  2pt_fg_made  total_shots  \\\n",
       "1             8             37             2           41          173   \n",
       "14           36            111             1           61          204   \n",
       "15           47            183            27           83          162   \n",
       "16           80            245            39          175          370   \n",
       "36            6             44             2           77          223   \n",
       "\n",
       "    shooting%   FT%  APG  BPG  ORPG  RPG  easy_shot%  2pt%  3pt%  \\\n",
       "1        33.5  82.0  0.3  0.0   0.1  0.3        38.6  40.2  23.9   \n",
       "14       35.8  68.9  0.2  0.0   0.3  0.8        55.2  45.5  17.1   \n",
       "15       53.1  69.7  0.2  0.2   0.3  1.2        65.4  55.7  23.1   \n",
       "16       48.1  67.5  0.1  0.2   0.4  1.2        76.8  48.5  33.3   \n",
       "36       41.3  82.8  0.5  0.0   0.0  0.3        61.3  44.5  30.0   \n",
       "\n",
       "    med/hard_fg%  league_all_shot_avg  league_2pt_avg  league_3pt_avg  \\\n",
       "1           42.2                 40.1            44.8            30.2   \n",
       "14          35.8                 40.1            44.8            30.2   \n",
       "15          50.5                 40.1            44.8            30.2   \n",
       "16          40.1                 40.1            44.8            30.2   \n",
       "36          35.1                 40.1            44.8            30.2   \n",
       "\n",
       "    league_hard2pt_avg  league_easy2pt_avg  clutch_all_shots  clutch_2pt  \\\n",
       "1                 35.4                59.7             False       False   \n",
       "14                35.4                59.7             False        True   \n",
       "15                35.4                59.7              True        True   \n",
       "16                35.4                59.7              True        True   \n",
       "36                35.4                59.7              True       False   \n",
       "\n",
       "    clutch_3pt  clutch_hard2  clutch_easy2  \n",
       "1        False          True         False  \n",
       "14       False          True         False  \n",
       "15       False          True          True  \n",
       "16       False          True          True  \n",
       "36       False         False          True  "
      ]
     },
     "execution_count": 29,
     "metadata": {},
     "output_type": "execute_result"
    }
   ],
   "source": [
    "clutch_stats.head()"
   ]
  },
  {
   "cell_type": "code",
   "execution_count": 33,
   "metadata": {},
   "outputs": [],
   "source": [
    "z = clutch_stats[(clutch_stats['clutch_all_shots']==True) & (clutch_stats['clutch_2pt']==True) & (clutch_stats['clutch_3pt']==True) & (clutch_stats['clutch_hard2']==True) & (clutch_stats['clutch_easy2']==True)]\n",
    "n = clutch_stats[(clutch_stats['clutch_all_shots']==True) | (clutch_stats['clutch_2pt']==True) | (clutch_stats['clutch_3pt']==True) | (clutch_stats['clutch_hard2']==True) | (clutch_stats['clutch_easy2']==True)]\n"
   ]
  },
  {
   "cell_type": "code",
   "execution_count": null,
   "metadata": {},
   "outputs": [],
   "source": []
  },
  {
   "cell_type": "markdown",
   "metadata": {},
   "source": [
    "#Reg season minus the clutch time"
   ]
  },
  {
   "cell_type": "code",
   "execution_count": 29,
   "metadata": {},
   "outputs": [],
   "source": [
    "r = reg[(reg['remaining_time'] > '00:02:00') & (reg['period']<=4)]\n",
    "                \n",
    "                    "
   ]
  },
  {
   "cell_type": "code",
   "execution_count": 30,
   "metadata": {},
   "outputs": [],
   "source": [
    "t = reg[reg['period']<=4]\n",
    "t = t[(t['remaining_time'] < '00:02:00') & (t['period']==4)]\n",
    "t = t[(t['pts_difference']<-6) | (t['pts_difference']>6)]\n",
    "t = t.groupby('game_id').filter(lambda x : len(x)>5)"
   ]
  },
  {
   "cell_type": "code",
   "execution_count": 31,
   "metadata": {},
   "outputs": [],
   "source": [
    "fr = [r,t]"
   ]
  },
  {
   "cell_type": "code",
   "execution_count": 32,
   "metadata": {
    "scrolled": true
   },
   "outputs": [],
   "source": [
    "reg_nonclutch = pd.concat(fr)"
   ]
  },
  {
   "cell_type": "code",
   "execution_count": 33,
   "metadata": {},
   "outputs": [],
   "source": [
    "reg_nonclutch=reg_nonclutch.sort_values(by=['game_id', 'period'])"
   ]
  },
  {
   "cell_type": "code",
   "execution_count": 34,
   "metadata": {},
   "outputs": [
    {
     "name": "stderr",
     "output_type": "stream",
     "text": [
      "/home/ubuntu/clutch-baller/individual_stats.py:10: FutureWarning: convert_objects is deprecated.  To re-infer data dtypes for object columns, use DataFrame.infer_objects()\n",
      "For all other conversions use the data-type specific converters pd.to_datetime, pd.to_timedelta and pd.to_numeric.\n",
      "  new_df = df.convert_objects(convert_numeric=True)\n"
     ]
    }
   ],
   "source": [
    "player_stats_nonclutch = ind.object_to_int(reg_nonclutch, 'points')\n",
    "\n",
    "nonclutch_assists = ind.assist_stats(player_stats_nonclutch)\n",
    "nonclutch_blks = ind.blk_stats(player_stats_nonclutch)\n",
    "reg_names = ind.player_names(player_stats_nonclutch)\n",
    "\n",
    "full_nonclutch_stats = ind.merge_all(reg_names, nonclutch_blks, nonclutch_assists, player_stats_nonclutch)\n",
    "full_nonclutch_stats = ind.get_per_game_stats(full_nonclutch_stats)\n",
    "full_nonclutch_stats = ind.merge_ids(full_nonclutch_stats, ids)\n",
    "\n",
    "nonclutch_stats = ind.add_league_avg(full_nonclutch_stats)"
   ]
  },
  {
   "cell_type": "markdown",
   "metadata": {},
   "source": [
    "#Add nonclutch 2pt and 3pt avg to regular clutch for comparison"
   ]
  },
  {
   "cell_type": "code",
   "execution_count": null,
   "metadata": {},
   "outputs": [],
   "source": []
  },
  {
   "cell_type": "code",
   "execution_count": 41,
   "metadata": {
    "scrolled": true
   },
   "outputs": [
    {
     "data": {
      "image/png": "[encoded data removed]",
      "text/plain": [
       "<Figure size 432x288 with 1 Axes>"
      ]
     },
     "metadata": {},
     "output_type": "display_data"
    }
   ],
   "source": [
    "plt.plot(np.arange(len(clutch_stats)), clutch_stats.league_3pt_avg, label = 'clutch time')\n",
    "\n",
    "plt.plot(np.arange(len(reg_stats)), reg_stats.league_3pt_avg, label= 'full game')\n",
    "\n",
    "plt.plot(np.arange(len(nonclutch_stats)), nonclutch_stats.league_3pt_avg, label = 'nonclutch time')\n",
    "plt.title('3pt Shooting %')\n",
    "plt.xlim([0, 1])\n",
    "plt.ylim([0,40])\n",
    "plt.legend();\n",
    "\n",
    "\n"
   ]
  },
  {
   "cell_type": "code",
   "execution_count": 42,
   "metadata": {},
   "outputs": [
    {
     "data": {
      "image/png": "[encoded data removed]",
      "text/plain": [
       "<Figure size 432x288 with 1 Axes>"
      ]
     },
     "metadata": {},
     "output_type": "display_data"
    }
   ],
   "source": [
    "names = (0,'clutch time', 'full game', 'nonclutch time')\n",
    "\n",
    "y_pos = (np.arange(len(names)))\n",
    "#percentages = (y, reg_stats.league_3pt_avg, nonclutch_stats.league_3pt_avg)\n",
    "\n",
    "plt.bar(1, clutch_stats.league_3pt_avg)\n",
    "plt.bar(2, reg_stats.league_3pt_avg)\n",
    "plt.bar(3, nonclutch_stats.league_3pt_avg)\n",
    "plt.ylabel('Shooting Percentage')\n",
    "plt.xticks(y_pos, names)\n",
    "plt.title('3pt shooting %')\n",
    "plt.show();\n",
    "\n"
   ]
  },
  {
   "cell_type": "code",
   "execution_count": 43,
   "metadata": {},
   "outputs": [
    {
     "data": {
      "text/plain": [
       "[<matplotlib.lines.Line2D at 0x7fad69faa470>]"
      ]
     },
     "execution_count": 43,
     "metadata": {},
     "output_type": "execute_result"
    },
    {
     "data": {
      "image/png": "[encoded data removed]",
      "text/plain": [
       "<Figure size 432x288 with 1 Axes>"
      ]
     },
     "metadata": {},
     "output_type": "display_data"
    }
   ],
   "source": [
    "\n",
    "#colors = np.where(clutch_stats.id>0, 'b', np.where(clutch_stats['shooting%']>40.1, 'p'))\n",
    "plt.scatter(clutch_stats.id, clutch_stats['shooting%'])\n",
    "plt.plot(clutch_stats.league_all_shot_avg, 'r')"
   ]
  },
  {
   "cell_type": "code",
   "execution_count": null,
   "metadata": {},
   "outputs": [],
   "source": []
  },
  {
   "cell_type": "code",
   "execution_count": null,
   "metadata": {},
   "outputs": [],
   "source": []
  },
  {
   "cell_type": "code",
   "execution_count": null,
   "metadata": {},
   "outputs": [],
   "source": []
  },
  {
   "cell_type": "markdown",
   "metadata": {},
   "source": [
    "#Did a train test split and a gradient classifier"
   ]
  },
  {
   "cell_type": "code",
   "execution_count": 127,
   "metadata": {},
   "outputs": [],
   "source": [
    "x = clutch_stats.drop(['player','clutch_all_shots', 'clutch_2pt', 'clutch_3pt',\t'clutch_hard2',\t'clutch_easy2'], axis = 1)\n",
    "y = clutch_stats['clutch_all_shots'].values"
   ]
  },
  {
   "cell_type": "code",
   "execution_count": 144,
   "metadata": {},
   "outputs": [],
   "source": [
    "x_train, x_test, y_train, y_test = train_test_split(x, y, test_size=0.30)"
   ]
  },
  {
   "cell_type": "code",
   "execution_count": 37,
   "metadata": {},
   "outputs": [],
   "source": [
    "test_data = pd.read_csv('Test_data/first_test.csv')"
   ]
  },
  {
   "cell_type": "code",
   "execution_count": 38,
   "metadata": {},
   "outputs": [
    {
     "data": {
      "text/html": [
       "<div>\n",
       "<style scoped>\n",
       "    .dataframe tbody tr th:only-of-type {\n",
       "        vertical-align: middle;\n",
       "    }\n",
       "\n",
       "    .dataframe tbody tr th {\n",
       "        vertical-align: top;\n",
       "    }\n",
       "\n",
       "    .dataframe thead th {\n",
       "        text-align: right;\n",
       "    }\n",
       "</style>\n",
       "<table border=\"1\" class=\"dataframe\">\n",
       "  <thead>\n",
       "    <tr style=\"text-align: right;\">\n",
       "      <th></th>\n",
       "      <th>player</th>\n",
       "      <th>id</th>\n",
       "      <th>total_games</th>\n",
       "      <th>shots_made</th>\n",
       "      <th>shots_missed</th>\n",
       "      <th>3pt</th>\n",
       "      <th>3pt_shots</th>\n",
       "      <th>Dunk/Layup</th>\n",
       "      <th>Dunk/Layup_attempts</th>\n",
       "      <th>2pt_med/hard</th>\n",
       "      <th>med/hard_attempts</th>\n",
       "      <th>2fg_attempts</th>\n",
       "      <th>FT_made</th>\n",
       "      <th>FT_missed</th>\n",
       "      <th>assist_count</th>\n",
       "      <th>off_rebound</th>\n",
       "      <th>total_rebound</th>\n",
       "      <th>total_blocks</th>\n",
       "      <th>2pt_fg_made</th>\n",
       "      <th>total_shots</th>\n",
       "      <th>shooting%</th>\n",
       "      <th>FT%</th>\n",
       "      <th>APG</th>\n",
       "      <th>BPG</th>\n",
       "      <th>ORPG</th>\n",
       "      <th>RPG</th>\n",
       "      <th>easy_shot%</th>\n",
       "      <th>2pt%</th>\n",
       "      <th>3pt%</th>\n",
       "      <th>med/hard_fg%</th>\n",
       "    </tr>\n",
       "  </thead>\n",
       "  <tbody>\n",
       "    <tr>\n",
       "      <th>0</th>\n",
       "      <td>Aaron Brooks</td>\n",
       "      <td>1</td>\n",
       "      <td>1</td>\n",
       "      <td>0</td>\n",
       "      <td>1</td>\n",
       "      <td>0</td>\n",
       "      <td>0</td>\n",
       "      <td>0</td>\n",
       "      <td>1</td>\n",
       "      <td>0</td>\n",
       "      <td>0</td>\n",
       "      <td>1</td>\n",
       "      <td>0</td>\n",
       "      <td>0</td>\n",
       "      <td>0</td>\n",
       "      <td>0</td>\n",
       "      <td>0</td>\n",
       "      <td>0</td>\n",
       "      <td>0</td>\n",
       "      <td>1</td>\n",
       "      <td>0.0</td>\n",
       "      <td>0.0</td>\n",
       "      <td>0.0</td>\n",
       "      <td>0.0</td>\n",
       "      <td>0.0</td>\n",
       "      <td>0.0</td>\n",
       "      <td>0.0</td>\n",
       "      <td>0.0</td>\n",
       "      <td>0.0</td>\n",
       "      <td>0.0</td>\n",
       "    </tr>\n",
       "    <tr>\n",
       "      <th>1</th>\n",
       "      <td>Aaron Gordon</td>\n",
       "      <td>2</td>\n",
       "      <td>8</td>\n",
       "      <td>3</td>\n",
       "      <td>8</td>\n",
       "      <td>2</td>\n",
       "      <td>6</td>\n",
       "      <td>0</td>\n",
       "      <td>1</td>\n",
       "      <td>1</td>\n",
       "      <td>4</td>\n",
       "      <td>5</td>\n",
       "      <td>3</td>\n",
       "      <td>0</td>\n",
       "      <td>0</td>\n",
       "      <td>2</td>\n",
       "      <td>7</td>\n",
       "      <td>1</td>\n",
       "      <td>1</td>\n",
       "      <td>11</td>\n",
       "      <td>27.3</td>\n",
       "      <td>100.0</td>\n",
       "      <td>0.0</td>\n",
       "      <td>0.1</td>\n",
       "      <td>0.2</td>\n",
       "      <td>0.9</td>\n",
       "      <td>0.0</td>\n",
       "      <td>20.0</td>\n",
       "      <td>33.3</td>\n",
       "      <td>25.0</td>\n",
       "    </tr>\n",
       "    <tr>\n",
       "      <th>2</th>\n",
       "      <td>Al Horford</td>\n",
       "      <td>3</td>\n",
       "      <td>25</td>\n",
       "      <td>10</td>\n",
       "      <td>15</td>\n",
       "      <td>3</td>\n",
       "      <td>8</td>\n",
       "      <td>3</td>\n",
       "      <td>5</td>\n",
       "      <td>4</td>\n",
       "      <td>12</td>\n",
       "      <td>17</td>\n",
       "      <td>12</td>\n",
       "      <td>0</td>\n",
       "      <td>4</td>\n",
       "      <td>4</td>\n",
       "      <td>19</td>\n",
       "      <td>5</td>\n",
       "      <td>7</td>\n",
       "      <td>25</td>\n",
       "      <td>40.0</td>\n",
       "      <td>100.0</td>\n",
       "      <td>0.2</td>\n",
       "      <td>0.2</td>\n",
       "      <td>0.2</td>\n",
       "      <td>0.8</td>\n",
       "      <td>60.0</td>\n",
       "      <td>41.2</td>\n",
       "      <td>37.5</td>\n",
       "      <td>33.3</td>\n",
       "    </tr>\n",
       "    <tr>\n",
       "      <th>3</th>\n",
       "      <td>Al-Farouq Aminu</td>\n",
       "      <td>4</td>\n",
       "      <td>18</td>\n",
       "      <td>5</td>\n",
       "      <td>6</td>\n",
       "      <td>3</td>\n",
       "      <td>9</td>\n",
       "      <td>1</td>\n",
       "      <td>1</td>\n",
       "      <td>1</td>\n",
       "      <td>1</td>\n",
       "      <td>2</td>\n",
       "      <td>5</td>\n",
       "      <td>1</td>\n",
       "      <td>2</td>\n",
       "      <td>5</td>\n",
       "      <td>22</td>\n",
       "      <td>3</td>\n",
       "      <td>2</td>\n",
       "      <td>11</td>\n",
       "      <td>45.5</td>\n",
       "      <td>83.3</td>\n",
       "      <td>0.1</td>\n",
       "      <td>0.2</td>\n",
       "      <td>0.3</td>\n",
       "      <td>1.2</td>\n",
       "      <td>100.0</td>\n",
       "      <td>100.0</td>\n",
       "      <td>33.3</td>\n",
       "      <td>100.0</td>\n",
       "    </tr>\n",
       "    <tr>\n",
       "      <th>4</th>\n",
       "      <td>Alan Williams</td>\n",
       "      <td>5</td>\n",
       "      <td>3</td>\n",
       "      <td>1</td>\n",
       "      <td>1</td>\n",
       "      <td>0</td>\n",
       "      <td>0</td>\n",
       "      <td>1</td>\n",
       "      <td>2</td>\n",
       "      <td>0</td>\n",
       "      <td>0</td>\n",
       "      <td>2</td>\n",
       "      <td>1</td>\n",
       "      <td>2</td>\n",
       "      <td>0</td>\n",
       "      <td>4</td>\n",
       "      <td>5</td>\n",
       "      <td>0</td>\n",
       "      <td>1</td>\n",
       "      <td>2</td>\n",
       "      <td>50.0</td>\n",
       "      <td>33.3</td>\n",
       "      <td>0.0</td>\n",
       "      <td>0.0</td>\n",
       "      <td>1.3</td>\n",
       "      <td>1.7</td>\n",
       "      <td>50.0</td>\n",
       "      <td>50.0</td>\n",
       "      <td>0.0</td>\n",
       "      <td>0.0</td>\n",
       "    </tr>\n",
       "  </tbody>\n",
       "</table>\n",
       "</div>"
      ],
      "text/plain": [
       "            player  id  total_games  shots_made  shots_missed  3pt  3pt_shots  \\\n",
       "0     Aaron Brooks   1            1           0             1    0          0   \n",
       "1     Aaron Gordon   2            8           3             8    2          6   \n",
       "2       Al Horford   3           25          10            15    3          8   \n",
       "3  Al-Farouq Aminu   4           18           5             6    3          9   \n",
       "4    Alan Williams   5            3           1             1    0          0   \n",
       "\n",
       "   Dunk/Layup  Dunk/Layup_attempts  2pt_med/hard  med/hard_attempts  \\\n",
       "0           0                    1             0                  0   \n",
       "1           0                    1             1                  4   \n",
       "2           3                    5             4                 12   \n",
       "3           1                    1             1                  1   \n",
       "4           1                    2             0                  0   \n",
       "\n",
       "   2fg_attempts  FT_made  FT_missed  assist_count  off_rebound  total_rebound  \\\n",
       "0             1        0          0             0            0              0   \n",
       "1             5        3          0             0            2              7   \n",
       "2            17       12          0             4            4             19   \n",
       "3             2        5          1             2            5             22   \n",
       "4             2        1          2             0            4              5   \n",
       "\n",
       "   total_blocks  2pt_fg_made  total_shots  shooting%    FT%  APG  BPG  ORPG  \\\n",
       "0             0            0            1        0.0    0.0  0.0  0.0   0.0   \n",
       "1             1            1           11       27.3  100.0  0.0  0.1   0.2   \n",
       "2             5            7           25       40.0  100.0  0.2  0.2   0.2   \n",
       "3             3            2           11       45.5   83.3  0.1  0.2   0.3   \n",
       "4             0            1            2       50.0   33.3  0.0  0.0   1.3   \n",
       "\n",
       "   RPG  easy_shot%   2pt%  3pt%  med/hard_fg%  \n",
       "0  0.0         0.0    0.0   0.0           0.0  \n",
       "1  0.9         0.0   20.0  33.3          25.0  \n",
       "2  0.8        60.0   41.2  37.5          33.3  \n",
       "3  1.2       100.0  100.0  33.3         100.0  \n",
       "4  1.7        50.0   50.0   0.0           0.0  "
      ]
     },
     "execution_count": 38,
     "metadata": {},
     "output_type": "execute_result"
    }
   ],
   "source": [
    "test_data.head()"
   ]
  },
  {
   "cell_type": "code",
   "execution_count": 39,
   "metadata": {},
   "outputs": [
    {
     "data": {
      "text/html": [
       "<div>\n",
       "<style scoped>\n",
       "    .dataframe tbody tr th:only-of-type {\n",
       "        vertical-align: middle;\n",
       "    }\n",
       "\n",
       "    .dataframe tbody tr th {\n",
       "        vertical-align: top;\n",
       "    }\n",
       "\n",
       "    .dataframe thead th {\n",
       "        text-align: right;\n",
       "    }\n",
       "</style>\n",
       "<table border=\"1\" class=\"dataframe\">\n",
       "  <thead>\n",
       "    <tr style=\"text-align: right;\">\n",
       "      <th></th>\n",
       "      <th>player</th>\n",
       "      <th>id</th>\n",
       "      <th>total_games</th>\n",
       "      <th>shots_made</th>\n",
       "      <th>shots_missed</th>\n",
       "      <th>3pt</th>\n",
       "      <th>3pt_shots</th>\n",
       "      <th>Dunk/Layup</th>\n",
       "      <th>Dunk/Layup_attempts</th>\n",
       "      <th>2pt_med/hard</th>\n",
       "      <th>med/hard_attempts</th>\n",
       "      <th>2fg_attempts</th>\n",
       "      <th>FT_made</th>\n",
       "      <th>FT_missed</th>\n",
       "      <th>assist_count</th>\n",
       "      <th>off_rebound</th>\n",
       "      <th>total_rebound</th>\n",
       "      <th>total_blocks</th>\n",
       "      <th>2pt_fg_made</th>\n",
       "      <th>total_shots</th>\n",
       "      <th>shooting%</th>\n",
       "      <th>FT%</th>\n",
       "      <th>APG</th>\n",
       "      <th>BPG</th>\n",
       "      <th>ORPG</th>\n",
       "      <th>RPG</th>\n",
       "      <th>easy_shot%</th>\n",
       "      <th>2pt%</th>\n",
       "      <th>3pt%</th>\n",
       "      <th>med/hard_fg%</th>\n",
       "      <th>league_all_shot_avg</th>\n",
       "      <th>league_2pt_avg</th>\n",
       "      <th>league_3pt_avg</th>\n",
       "      <th>league_hard2pt_avg</th>\n",
       "      <th>league_easy2pt_avg</th>\n",
       "    </tr>\n",
       "  </thead>\n",
       "  <tbody>\n",
       "    <tr>\n",
       "      <th>0</th>\n",
       "      <td>A.J. Price</td>\n",
       "      <td>0.0</td>\n",
       "      <td>16</td>\n",
       "      <td>11</td>\n",
       "      <td>17</td>\n",
       "      <td>3</td>\n",
       "      <td>10</td>\n",
       "      <td>2</td>\n",
       "      <td>5</td>\n",
       "      <td>6</td>\n",
       "      <td>13</td>\n",
       "      <td>18</td>\n",
       "      <td>3</td>\n",
       "      <td>0</td>\n",
       "      <td>6</td>\n",
       "      <td>1</td>\n",
       "      <td>6</td>\n",
       "      <td>0</td>\n",
       "      <td>8</td>\n",
       "      <td>28</td>\n",
       "      <td>39.3</td>\n",
       "      <td>100.0</td>\n",
       "      <td>0.4</td>\n",
       "      <td>0.0</td>\n",
       "      <td>0.1</td>\n",
       "      <td>0.4</td>\n",
       "      <td>40.0</td>\n",
       "      <td>44.4</td>\n",
       "      <td>30.0</td>\n",
       "      <td>46.2</td>\n",
       "      <td>40.1</td>\n",
       "      <td>44.8</td>\n",
       "      <td>30.2</td>\n",
       "      <td>35.4</td>\n",
       "      <td>59.7</td>\n",
       "    </tr>\n",
       "    <tr>\n",
       "      <th>1</th>\n",
       "      <td>Aaron Brooks</td>\n",
       "      <td>1.0</td>\n",
       "      <td>108</td>\n",
       "      <td>58</td>\n",
       "      <td>115</td>\n",
       "      <td>17</td>\n",
       "      <td>71</td>\n",
       "      <td>22</td>\n",
       "      <td>57</td>\n",
       "      <td>19</td>\n",
       "      <td>45</td>\n",
       "      <td>102</td>\n",
       "      <td>91</td>\n",
       "      <td>20</td>\n",
       "      <td>32</td>\n",
       "      <td>8</td>\n",
       "      <td>37</td>\n",
       "      <td>2</td>\n",
       "      <td>41</td>\n",
       "      <td>173</td>\n",
       "      <td>33.5</td>\n",
       "      <td>82.0</td>\n",
       "      <td>0.3</td>\n",
       "      <td>0.0</td>\n",
       "      <td>0.1</td>\n",
       "      <td>0.3</td>\n",
       "      <td>38.6</td>\n",
       "      <td>40.2</td>\n",
       "      <td>23.9</td>\n",
       "      <td>42.2</td>\n",
       "      <td>40.1</td>\n",
       "      <td>44.8</td>\n",
       "      <td>30.2</td>\n",
       "      <td>35.4</td>\n",
       "      <td>59.7</td>\n",
       "    </tr>\n",
       "    <tr>\n",
       "      <th>2</th>\n",
       "      <td>Aaron Gordon</td>\n",
       "      <td>2.0</td>\n",
       "      <td>17</td>\n",
       "      <td>5</td>\n",
       "      <td>6</td>\n",
       "      <td>1</td>\n",
       "      <td>3</td>\n",
       "      <td>3</td>\n",
       "      <td>7</td>\n",
       "      <td>1</td>\n",
       "      <td>1</td>\n",
       "      <td>8</td>\n",
       "      <td>8</td>\n",
       "      <td>1</td>\n",
       "      <td>3</td>\n",
       "      <td>7</td>\n",
       "      <td>28</td>\n",
       "      <td>3</td>\n",
       "      <td>4</td>\n",
       "      <td>11</td>\n",
       "      <td>45.5</td>\n",
       "      <td>88.9</td>\n",
       "      <td>0.2</td>\n",
       "      <td>0.2</td>\n",
       "      <td>0.4</td>\n",
       "      <td>1.6</td>\n",
       "      <td>42.9</td>\n",
       "      <td>50.0</td>\n",
       "      <td>33.3</td>\n",
       "      <td>100.0</td>\n",
       "      <td>40.1</td>\n",
       "      <td>44.8</td>\n",
       "      <td>30.2</td>\n",
       "      <td>35.4</td>\n",
       "      <td>59.7</td>\n",
       "    </tr>\n",
       "    <tr>\n",
       "      <th>3</th>\n",
       "      <td>Aaron Gray</td>\n",
       "      <td>3.0</td>\n",
       "      <td>14</td>\n",
       "      <td>4</td>\n",
       "      <td>2</td>\n",
       "      <td>0</td>\n",
       "      <td>0</td>\n",
       "      <td>3</td>\n",
       "      <td>3</td>\n",
       "      <td>1</td>\n",
       "      <td>3</td>\n",
       "      <td>6</td>\n",
       "      <td>6</td>\n",
       "      <td>5</td>\n",
       "      <td>2</td>\n",
       "      <td>8</td>\n",
       "      <td>18</td>\n",
       "      <td>0</td>\n",
       "      <td>4</td>\n",
       "      <td>6</td>\n",
       "      <td>66.7</td>\n",
       "      <td>54.5</td>\n",
       "      <td>0.1</td>\n",
       "      <td>0.0</td>\n",
       "      <td>0.6</td>\n",
       "      <td>1.3</td>\n",
       "      <td>100.0</td>\n",
       "      <td>66.7</td>\n",
       "      <td>0.0</td>\n",
       "      <td>33.3</td>\n",
       "      <td>40.1</td>\n",
       "      <td>44.8</td>\n",
       "      <td>30.2</td>\n",
       "      <td>35.4</td>\n",
       "      <td>59.7</td>\n",
       "    </tr>\n",
       "    <tr>\n",
       "      <th>5</th>\n",
       "      <td>Aaron McKie</td>\n",
       "      <td>5.0</td>\n",
       "      <td>7</td>\n",
       "      <td>0</td>\n",
       "      <td>3</td>\n",
       "      <td>0</td>\n",
       "      <td>1</td>\n",
       "      <td>0</td>\n",
       "      <td>0</td>\n",
       "      <td>0</td>\n",
       "      <td>2</td>\n",
       "      <td>2</td>\n",
       "      <td>0</td>\n",
       "      <td>0</td>\n",
       "      <td>0</td>\n",
       "      <td>5</td>\n",
       "      <td>6</td>\n",
       "      <td>0</td>\n",
       "      <td>0</td>\n",
       "      <td>3</td>\n",
       "      <td>0.0</td>\n",
       "      <td>0.0</td>\n",
       "      <td>0.0</td>\n",
       "      <td>0.0</td>\n",
       "      <td>0.7</td>\n",
       "      <td>0.9</td>\n",
       "      <td>0.0</td>\n",
       "      <td>0.0</td>\n",
       "      <td>0.0</td>\n",
       "      <td>0.0</td>\n",
       "      <td>40.1</td>\n",
       "      <td>44.8</td>\n",
       "      <td>30.2</td>\n",
       "      <td>35.4</td>\n",
       "      <td>59.7</td>\n",
       "    </tr>\n",
       "  </tbody>\n",
       "</table>\n",
       "</div>"
      ],
      "text/plain": [
       "         player   id  total_games  shots_made  shots_missed  3pt  3pt_shots  \\\n",
       "0    A.J. Price  0.0           16          11            17    3         10   \n",
       "1  Aaron Brooks  1.0          108          58           115   17         71   \n",
       "2  Aaron Gordon  2.0           17           5             6    1          3   \n",
       "3    Aaron Gray  3.0           14           4             2    0          0   \n",
       "5   Aaron McKie  5.0            7           0             3    0          1   \n",
       "\n",
       "   Dunk/Layup  Dunk/Layup_attempts  2pt_med/hard  med/hard_attempts  \\\n",
       "0           2                    5             6                 13   \n",
       "1          22                   57            19                 45   \n",
       "2           3                    7             1                  1   \n",
       "3           3                    3             1                  3   \n",
       "5           0                    0             0                  2   \n",
       "\n",
       "   2fg_attempts  FT_made  FT_missed  assist_count  off_rebound  total_rebound  \\\n",
       "0            18        3          0             6            1              6   \n",
       "1           102       91         20            32            8             37   \n",
       "2             8        8          1             3            7             28   \n",
       "3             6        6          5             2            8             18   \n",
       "5             2        0          0             0            5              6   \n",
       "\n",
       "   total_blocks  2pt_fg_made  total_shots  shooting%    FT%  APG  BPG  ORPG  \\\n",
       "0             0            8           28       39.3  100.0  0.4  0.0   0.1   \n",
       "1             2           41          173       33.5   82.0  0.3  0.0   0.1   \n",
       "2             3            4           11       45.5   88.9  0.2  0.2   0.4   \n",
       "3             0            4            6       66.7   54.5  0.1  0.0   0.6   \n",
       "5             0            0            3        0.0    0.0  0.0  0.0   0.7   \n",
       "\n",
       "   RPG  easy_shot%  2pt%  3pt%  med/hard_fg%  league_all_shot_avg  \\\n",
       "0  0.4        40.0  44.4  30.0          46.2                 40.1   \n",
       "1  0.3        38.6  40.2  23.9          42.2                 40.1   \n",
       "2  1.6        42.9  50.0  33.3         100.0                 40.1   \n",
       "3  1.3       100.0  66.7   0.0          33.3                 40.1   \n",
       "5  0.9         0.0   0.0   0.0           0.0                 40.1   \n",
       "\n",
       "   league_2pt_avg  league_3pt_avg  league_hard2pt_avg  league_easy2pt_avg  \n",
       "0            44.8            30.2                35.4                59.7  \n",
       "1            44.8            30.2                35.4                59.7  \n",
       "2            44.8            30.2                35.4                59.7  \n",
       "3            44.8            30.2                35.4                59.7  \n",
       "5            44.8            30.2                35.4                59.7  "
      ]
     },
     "execution_count": 39,
     "metadata": {},
     "output_type": "execute_result"
    }
   ],
   "source": [
    "clutch_stats.head()"
   ]
  },
  {
   "cell_type": "code",
   "execution_count": null,
   "metadata": {},
   "outputs": [],
   "source": []
  },
  {
   "cell_type": "code",
   "execution_count": null,
   "metadata": {},
   "outputs": [],
   "source": []
  },
  {
   "cell_type": "code",
   "execution_count": null,
   "metadata": {},
   "outputs": [],
   "source": []
  },
  {
   "cell_type": "code",
   "execution_count": 145,
   "metadata": {},
   "outputs": [],
   "source": [
    "model= GradientBoostingClassifier()\n",
    "fit = model.fit(x_train, y_train)\n",
    "pred= fit.predict(x_test)\n"
   ]
  },
  {
   "cell_type": "code",
   "execution_count": 146,
   "metadata": {},
   "outputs": [
    {
     "data": {
      "text/plain": [
       "1.0"
      ]
     },
     "execution_count": 146,
     "metadata": {},
     "output_type": "execute_result"
    }
   ],
   "source": [
    "recall_score(y_test, pred)"
   ]
  },
  {
   "cell_type": "code",
   "execution_count": 147,
   "metadata": {},
   "outputs": [
    {
     "data": {
      "text/plain": [
       "0.9838709677419355"
      ]
     },
     "execution_count": 147,
     "metadata": {},
     "output_type": "execute_result"
    }
   ],
   "source": [
    "model.score(x_test, y_test)"
   ]
  },
  {
   "cell_type": "code",
   "execution_count": 148,
   "metadata": {},
   "outputs": [
    {
     "data": {
      "text/plain": [
       "0.9838709677419355"
      ]
     },
     "execution_count": 148,
     "metadata": {},
     "output_type": "execute_result"
    }
   ],
   "source": [
    "accuracy_score(y_test, pred)"
   ]
  },
  {
   "cell_type": "code",
   "execution_count": 149,
   "metadata": {},
   "outputs": [
    {
     "data": {
      "text/plain": [
       "0.9787234042553191"
      ]
     },
     "execution_count": 149,
     "metadata": {},
     "output_type": "execute_result"
    }
   ],
   "source": [
    "f1_score(y_test, pred)"
   ]
  },
  {
   "cell_type": "code",
   "execution_count": null,
   "metadata": {},
   "outputs": [],
   "source": []
  },
  {
   "cell_type": "code",
   "execution_count": null,
   "metadata": {},
   "outputs": [],
   "source": []
  }
 ],
 "metadata": {
  "kernelspec": {
   "display_name": "Python 3",
   "language": "python",
   "name": "python3"
  },
  "language_info": {
   "codemirror_mode": {
    "name": "ipython",
    "version": 3
   },
   "file_extension": ".py",
   "mimetype": "text/x-python",
   "name": "python",
   "nbconvert_exporter": "python",
   "pygments_lexer": "ipython3",
   "version": "3.6.5"
  }
 },
 "nbformat": 4,
 "nbformat_minor": 2
}
