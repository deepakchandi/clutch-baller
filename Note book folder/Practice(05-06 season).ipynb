{
 "cells": [
  {
   "cell_type": "code",
   "execution_count": 70,
   "metadata": {},
   "outputs": [
    {
     "name": "stdout",
     "output_type": "stream",
     "text": [
      "The autoreload extension is already loaded. To reload it, use:\n",
      "  %reload_ext autoreload\n"
     ]
    }
   ],
   "source": [
    "import pandas as pd\n",
    "import numpy as np\n",
    "import matplotlib.pyplot as plt\n",
    "%load_ext autoreload\n",
    "%autoreload 2\n",
    "import operator\n",
    "from functools import reduce\n",
    "\n",
    "from sklearn.ensemble import GradientBoostingRegressor, GradientBoostingClassifier\n",
    "from sklearn.metrics import accuracy_score, recall_score\n",
    "\n",
    "\n",
    "pd.set_option('display.max_columns', None)\n",
    "pd.set_option('display.max_rows', None)\n",
    "import os \n",
    "os.chdir('/Users/deepak/capstone/clutch-baller')\n",
    "# os.chdir('./clutch-baller')\n",
    "import practice_code as pc\n",
    "import indiviual_stats as ind\n",
    "# os.chdir('..')"
   ]
  },
  {
   "cell_type": "code",
   "execution_count": 6,
   "metadata": {},
   "outputs": [],
   "source": [
    "df = pd.read_csv('/Users/deepak/Desktop/NBA_Data/Every_Season_Data/[2005-2006]-combined-stats.csv')"
   ]
  },
  {
   "cell_type": "markdown",
   "metadata": {},
   "source": [
    "##Added another column that shows the pts difference between both teams"
   ]
  },
  {
   "cell_type": "code",
   "execution_count": 7,
   "metadata": {},
   "outputs": [
    {
     "name": "stderr",
     "output_type": "stream",
     "text": [
      "/Users/deepak/capstone/clutch-baller/practice_code.py:14: SettingWithCopyWarning: \n",
      "A value is trying to be set on a copy of a slice from a DataFrame.\n",
      "Try using .loc[row_indexer,col_indexer] = value instead\n",
      "\n",
      "See the caveats in the documentation: http://pandas.pydata.org/pandas-docs/stable/indexing.html#indexing-view-versus-copy\n",
      "  df2['winner'] = np.where(df2.pts_difference >0, 'away', 'home')\n"
     ]
    }
   ],
   "source": [
    "new_df = pc.add_columns(df)"
   ]
  },
  {
   "cell_type": "code",
   "execution_count": 8,
   "metadata": {},
   "outputs": [],
   "source": [
    "new_df = pc.replace_nan(new_df)"
   ]
  },
  {
   "cell_type": "markdown",
   "metadata": {},
   "source": [
    "##Remove unnecessary columns"
   ]
  },
  {
   "cell_type": "code",
   "execution_count": 9,
   "metadata": {},
   "outputs": [],
   "source": [
    "col_to_remove = ['a1', 'a2', 'a3','a4','a5','h1','h2','h3','h4','h5', 'play_length', 'entered', 'left', 'possession', 'shot_distance', 'original_x', 'original_y', 'converted_x', 'converted_y', 'num', 'away', 'home', 'outof', 'opponent', 'reason', 'elapsed', 'play_id']"
   ]
  },
  {
   "cell_type": "code",
   "execution_count": 10,
   "metadata": {},
   "outputs": [],
   "source": [
    "df_1 = pc.remove_col(new_df, col_to_remove)"
   ]
  },
  {
   "cell_type": "markdown",
   "metadata": {},
   "source": [
    "##Remove Rows that are not needed (such as fouls, subs, timeouts etc)"
   ]
  },
  {
   "cell_type": "code",
   "execution_count": 11,
   "metadata": {},
   "outputs": [],
   "source": [
    "df2 = pc.remove_junk_rows(df_1, 'event_type')"
   ]
  },
  {
   "cell_type": "code",
   "execution_count": null,
   "metadata": {},
   "outputs": [],
   "source": []
  },
  {
   "cell_type": "markdown",
   "metadata": {},
   "source": [
    "#Make DF for all players stats"
   ]
  },
  {
   "cell_type": "code",
   "execution_count": 8,
   "metadata": {},
   "outputs": [],
   "source": [
    "#x = df2[df2['description'].str.contains('Shot') | df2['description'].str.contains('Fadeaway')]# - (df2['description'].str.contains('3PT')*1)\n",
    "\n"
   ]
  },
  {
   "cell_type": "code",
   "execution_count": 9,
   "metadata": {},
   "outputs": [],
   "source": [
    "#x = (((new_df['points'] != 3) & new_df['type'].str.contains('Shot') |(new_df['points'] != 3) & new_df['type'].str.contains('Fadeaway')*1).sum())\n",
    "\n",
    "\n"
   ]
  },
  {
   "cell_type": "code",
   "execution_count": 10,
   "metadata": {},
   "outputs": [],
   "source": [
    "#y = new_df[(new_df['type'].str.contains('Layup') | new_df['type'].str.contains('Dunk') | new_df['type'].str.contains('Finger Roll'))]\n",
    "\n",
    "\n"
   ]
  },
  {
   "cell_type": "code",
   "execution_count": 11,
   "metadata": {},
   "outputs": [],
   "source": [
    "#x = new_df[((new_df['event_type']=='miss') | (new_df['event_type']=='shot'))]"
   ]
  },
  {
   "cell_type": "code",
   "execution_count": null,
   "metadata": {},
   "outputs": [],
   "source": []
  },
  {
   "cell_type": "code",
   "execution_count": null,
   "metadata": {},
   "outputs": [],
   "source": []
  },
  {
   "cell_type": "code",
   "execution_count": 12,
   "metadata": {},
   "outputs": [
    {
     "name": "stderr",
     "output_type": "stream",
     "text": [
      "/Users/deepak/capstone/clutch-baller/indiviual_stats.py:12: FutureWarning: convert_objects is deprecated.  To re-infer data dtypes for object columns, use DataFrame.infer_objects()\n",
      "For all other conversions use the data-type specific converters pd.to_datetime, pd.to_timedelta and pd.to_numeric.\n",
      "  new_df = df.convert_objects(convert_numeric=True)\n"
     ]
    }
   ],
   "source": [
    "player_stats = ind.object_to_int(df2, 'points')"
   ]
  },
  {
   "cell_type": "code",
   "execution_count": 13,
   "metadata": {},
   "outputs": [],
   "source": [
    "assists = ind.assist_stats(player_stats)"
   ]
  },
  {
   "cell_type": "code",
   "execution_count": 14,
   "metadata": {},
   "outputs": [],
   "source": [
    "blks = ind.blk_stats(player_stats)"
   ]
  },
  {
   "cell_type": "code",
   "execution_count": 15,
   "metadata": {},
   "outputs": [],
   "source": [
    "names = ind.player_names(player_stats)"
   ]
  },
  {
   "cell_type": "code",
   "execution_count": 16,
   "metadata": {},
   "outputs": [],
   "source": [
    "full_player_stats = ind.merge_all(names, blks, assists, player_stats)"
   ]
  },
  {
   "cell_type": "code",
   "execution_count": null,
   "metadata": {},
   "outputs": [],
   "source": []
  },
  {
   "cell_type": "code",
   "execution_count": 17,
   "metadata": {},
   "outputs": [],
   "source": [
    "full_player_stats = full_player_stats.drop(0)"
   ]
  },
  {
   "cell_type": "code",
   "execution_count": null,
   "metadata": {},
   "outputs": [],
   "source": []
  },
  {
   "cell_type": "markdown",
   "metadata": {},
   "source": [
    "##Regular Season or playoffs (using df_2)"
   ]
  },
  {
   "cell_type": "code",
   "execution_count": 49,
   "metadata": {},
   "outputs": [],
   "source": [
    "regular_season, playoffs = pc.regular_or_playoffs(df2, 'data_set')"
   ]
  },
  {
   "cell_type": "markdown",
   "metadata": {},
   "source": [
    "##Getting clutch games"
   ]
  },
  {
   "cell_type": "code",
   "execution_count": 50,
   "metadata": {},
   "outputs": [],
   "source": [
    "regular_clutch = pc.clutch_moment(regular_season)"
   ]
  },
  {
   "cell_type": "code",
   "execution_count": 51,
   "metadata": {},
   "outputs": [],
   "source": [
    "regular_clutch = pc.remove_not_imp_games(regular_clutch, 'game_id')"
   ]
  },
  {
   "cell_type": "markdown",
   "metadata": {},
   "source": [
    "##Stats for all players in reg season, playoff, and clutch"
   ]
  },
  {
   "cell_type": "code",
   "execution_count": 52,
   "metadata": {},
   "outputs": [
    {
     "name": "stderr",
     "output_type": "stream",
     "text": [
      "/Users/deepak/capstone/clutch-baller/indiviual_stats.py:12: FutureWarning: convert_objects is deprecated.  To re-infer data dtypes for object columns, use DataFrame.infer_objects()\n",
      "For all other conversions use the data-type specific converters pd.to_datetime, pd.to_timedelta and pd.to_numeric.\n",
      "  new_df = df.convert_objects(convert_numeric=True)\n"
     ]
    }
   ],
   "source": [
    "player_stats_clutch = ind.object_to_int(regular_clutch, 'points')"
   ]
  },
  {
   "cell_type": "code",
   "execution_count": 53,
   "metadata": {},
   "outputs": [],
   "source": [
    "assists = ind.assist_stats(player_stats_clutch)"
   ]
  },
  {
   "cell_type": "code",
   "execution_count": 54,
   "metadata": {},
   "outputs": [],
   "source": [
    "blks = ind.blk_stats(player_stats_clutch)"
   ]
  },
  {
   "cell_type": "code",
   "execution_count": 55,
   "metadata": {},
   "outputs": [],
   "source": [
    "\n",
    "names = ind.player_names(player_stats_clutch)\n"
   ]
  },
  {
   "cell_type": "code",
   "execution_count": 56,
   "metadata": {},
   "outputs": [],
   "source": [
    "full_clutch_stats = ind.merge_all(names, blks, assists, player_stats_clutch)"
   ]
  },
  {
   "cell_type": "code",
   "execution_count": 57,
   "metadata": {},
   "outputs": [],
   "source": [
    "full_clutch_stats = ind.get_per_game_stats(full_clutch_stats)"
   ]
  },
  {
   "cell_type": "code",
   "execution_count": 58,
   "metadata": {},
   "outputs": [],
   "source": [
    "ids = ind.add_ids(df2)"
   ]
  },
  {
   "cell_type": "code",
   "execution_count": 59,
   "metadata": {},
   "outputs": [],
   "source": [
    "full_clutch_stats = ind.merge_ids(full_clutch_stats, ids)"
   ]
  },
  {
   "cell_type": "code",
   "execution_count": 61,
   "metadata": {},
   "outputs": [],
   "source": [
    "x = ind.add_league_avg(full_clutch_stats)"
   ]
  },
  {
   "cell_type": "code",
   "execution_count": 62,
   "metadata": {},
   "outputs": [],
   "source": [
    "y = ind.is_clutch(x)"
   ]
  },
  {
   "cell_type": "code",
   "execution_count": 64,
   "metadata": {},
   "outputs": [],
   "source": [
    "\n",
    "z = y[(y['clutch_all_shots']==True) | (y['clutch_2pt']==True) | (y['clutch_3pt']==True) | (y['clutch_hard2']==True) | (y['clutch_easy2']==True)]\n"
   ]
  },
  {
   "cell_type": "code",
   "execution_count": 68,
   "metadata": {},
   "outputs": [],
   "source": [
    "#Keep!!!!\n",
    "z = y[(y['clutch_all_shots']==True) & (y['clutch_2pt']==True) & (y['clutch_3pt']==True) & (y['clutch_hard2']==True) & (y['clutch_easy2']==True)]\n",
    "\n"
   ]
  },
  {
   "cell_type": "code",
   "execution_count": 39,
   "metadata": {},
   "outputs": [
    {
     "name": "stderr",
     "output_type": "stream",
     "text": [
      "/Users/deepak/capstone/clutch-baller/indiviual_stats.py:12: FutureWarning: convert_objects is deprecated.  To re-infer data dtypes for object columns, use DataFrame.infer_objects()\n",
      "For all other conversions use the data-type specific converters pd.to_datetime, pd.to_timedelta and pd.to_numeric.\n",
      "  new_df = df.convert_objects(convert_numeric=True)\n"
     ]
    }
   ],
   "source": [
    "player_stats_reg = ind.object_to_int(regular_season, 'points')"
   ]
  },
  {
   "cell_type": "code",
   "execution_count": null,
   "metadata": {},
   "outputs": [],
   "source": []
  },
  {
   "cell_type": "code",
   "execution_count": null,
   "metadata": {},
   "outputs": [],
   "source": []
  },
  {
   "cell_type": "code",
   "execution_count": null,
   "metadata": {},
   "outputs": [],
   "source": []
  },
  {
   "cell_type": "code",
   "execution_count": 40,
   "metadata": {},
   "outputs": [],
   "source": [
    "reg_assists = ind.assist_stats(player_stats_reg)\n",
    "reg_blks = ind.blk_stats(player_stats_reg)\n",
    "reg_names = ind.player_names(player_stats_reg)\n",
    "full_reg_stats = ind.merge_all(reg_names, reg_blks, reg_assists, player_stats_reg)\n",
    "full_reg_stats = ind.get_per_game_stats(full_reg_stats)\n",
    "full_reg_stats = ind.merge_ids(full_reg_stats, ids)\n",
    "\n",
    "reg = ind.add_league_avg(full_reg_stats)\n",
    "\n"
   ]
  },
  {
   "cell_type": "code",
   "execution_count": 42,
   "metadata": {},
   "outputs": [],
   "source": [
    "reg = ind.add_league_avg(full_reg_stats)"
   ]
  },
  {
   "cell_type": "code",
   "execution_count": null,
   "metadata": {},
   "outputs": [],
   "source": []
  },
  {
   "cell_type": "code",
   "execution_count": 214,
   "metadata": {},
   "outputs": [],
   "source": [
    "full_reg_stats = full_reg_stats.fillna(0)"
   ]
  },
  {
   "cell_type": "code",
   "execution_count": 215,
   "metadata": {},
   "outputs": [],
   "source": [
    "full_reg_stats['league_reg_all_shot_avg'] = round((full_reg_stats['shots_made'].sum())/(full_reg_stats['total_shots'].sum())*100,1)\n",
    "full_reg_stats['league_reg_2pt_avg'] = round((full_reg_stats['2pt_fg_made'].sum())/(full_reg_stats['2fg_attempts'].sum())*100,1)\n",
    "full_reg_stats['league_reg_3pt_avg'] = round(((full_reg_stats['3pt'].sum())/(full_reg_stats['3pt_shots'].sum()))*100,1)\n",
    "full_reg_stats['league_reg_hard2pt_avg'] = round((full_reg_stats['2pt_med/hard'].sum())/(full_reg_stats['med/hard_attempts'].sum())*100,1)\n",
    "full_reg_stats['league_reg_easy2pt_avg'] = round((full_reg_stats['Dunk/Layup'].sum())/(full_reg_stats['Dunk/Layup_attempts'].sum())*100,1)\n"
   ]
  },
  {
   "cell_type": "code",
   "execution_count": null,
   "metadata": {},
   "outputs": [],
   "source": []
  },
  {
   "cell_type": "code",
   "execution_count": null,
   "metadata": {},
   "outputs": [],
   "source": []
  },
  {
   "cell_type": "code",
   "execution_count": 325,
   "metadata": {},
   "outputs": [
    {
     "name": "stderr",
     "output_type": "stream",
     "text": [
      "/Users/deepak/capstone/clutch-baller/indiviual_stats.py:12: FutureWarning: convert_objects is deprecated.  To re-infer data dtypes for object columns, use DataFrame.infer_objects()\n",
      "For all other conversions use the data-type specific converters pd.to_datetime, pd.to_timedelta and pd.to_numeric.\n",
      "  new_df = df.convert_objects(convert_numeric=True)\n"
     ]
    }
   ],
   "source": [
    "player_stats_playoffs = ind.object_to_int(playoffs, 'points')"
   ]
  },
  {
   "cell_type": "code",
   "execution_count": 329,
   "metadata": {},
   "outputs": [],
   "source": [
    "playoffs_assists = ind.assist_stats(player_stats_reg)\n",
    "playoffs_blks = ind.blk_stats(player_stats_reg)\n",
    "playoffs_names = ind.player_names(player_stats_reg)\n",
    "full_playoffs = ind.merge_all(reg_names, reg_blks, reg_assists, player_stats_playoffs)\n",
    "full_playoffs = ind.get_per_game_stats(full_playoffs)\n",
    "full_playoffs = ind.merge_ids(full_playoffs, ids)"
   ]
  },
  {
   "cell_type": "code",
   "execution_count": null,
   "metadata": {},
   "outputs": [],
   "source": []
  },
  {
   "cell_type": "code",
   "execution_count": 331,
   "metadata": {},
   "outputs": [],
   "source": [
    "full_playoffs = full_playoffs.fillna(0)"
   ]
  },
  {
   "cell_type": "code",
   "execution_count": 332,
   "metadata": {},
   "outputs": [],
   "source": [
    "\n",
    "full_playoffs['league_playoffs_all_shot%'] = round((full_playoffs['shots_made'].sum())/(full_playoffs['total_shots'].sum())*100,1)\n",
    "full_playoffs['league_playoffs_2pt%'] = round((full_playoffs['2pt_fg_made'].sum())/(full_playoffs['2fg_attempts'].sum())*100,1)\n",
    "full_playoffs['league_playoffs_3pt%'] = round(((full_playoffs['3pt'].sum())/(full_playoffs['3pt_shots'].sum()))*100,1)\n",
    "full_playoffs['league_playoffs_hard2pt%'] = round((full_playoffs['2pt_med/hard'].sum())/(full_playoffs['med/hard_attempts'].sum())*100,1)\n",
    "full_playoffs['league_playoffs_easy2pt%'] = round((full_playoffs['Dunk/Layup'].sum())/(full_playoffs['Dunk/Layup_attempts'].sum())*100,1)"
   ]
  },
  {
   "cell_type": "code",
   "execution_count": null,
   "metadata": {},
   "outputs": [],
   "source": []
  }
 ],
 "metadata": {
  "kernelspec": {
   "display_name": "Python 3",
   "language": "python",
   "name": "python3"
  },
  "language_info": {
   "codemirror_mode": {
    "name": "ipython",
    "version": 3
   },
   "file_extension": ".py",
   "mimetype": "text/x-python",
   "name": "python",
   "nbconvert_exporter": "python",
   "pygments_lexer": "ipython3",
   "version": "3.6.5"
  }
 },
 "nbformat": 4,
 "nbformat_minor": 2
}
