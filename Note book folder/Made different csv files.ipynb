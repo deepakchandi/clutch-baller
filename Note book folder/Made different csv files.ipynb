{
 "cells": [
  {
   "cell_type": "code",
   "execution_count": 1,
   "metadata": {},
   "outputs": [],
   "source": [
    "import pandas as pd\n",
    "import numpy as np\n",
    "import practice_code as pc\n",
    "pd.set_option('display.max_columns', None)\n",
    "pd.set_option('display.max_rows', None)\n",
    "import practice_code as pc\n",
    "import individual_stats as ind"
   ]
  },
  {
   "cell_type": "code",
   "execution_count": 2,
   "metadata": {},
   "outputs": [
    {
     "name": "stderr",
     "output_type": "stream",
     "text": [
      "/home/ubuntu/anaconda3/lib/python3.6/site-packages/IPython/core/interactiveshell.py:2785: DtypeWarning: Columns (29,38,39,40,41,42) have mixed types. Specify dtype option on import or set low_memory=False.\n",
      "  interactivity=interactivity, compiler=compiler, result=result)\n"
     ]
    }
   ],
   "source": [
    "first = pd.read_csv('Every_Season_Data/[2004-2005]-combined-stats.csv')"
   ]
  },
  {
   "cell_type": "code",
   "execution_count": 3,
   "metadata": {},
   "outputs": [],
   "source": [
    "second = pd.read_csv('Every_Season_Data/[2005-2006]-combined-stats.csv')"
   ]
  },
  {
   "cell_type": "code",
   "execution_count": 4,
   "metadata": {},
   "outputs": [],
   "source": [
    "third = pd.read_csv('Every_Season_Data/[2006-2007]-combined-stats.csv')"
   ]
  },
  {
   "cell_type": "code",
   "execution_count": 5,
   "metadata": {},
   "outputs": [],
   "source": [
    "fourth = pd.read_csv('Every_Season_Data/[2007-2008]-combined-stats.csv')"
   ]
  },
  {
   "cell_type": "code",
   "execution_count": 6,
   "metadata": {},
   "outputs": [
    {
     "name": "stderr",
     "output_type": "stream",
     "text": [
      "/home/ubuntu/anaconda3/lib/python3.6/site-packages/IPython/core/interactiveshell.py:2785: DtypeWarning: Columns (39,40,41,42) have mixed types. Specify dtype option on import or set low_memory=False.\n",
      "  interactivity=interactivity, compiler=compiler, result=result)\n"
     ]
    }
   ],
   "source": [
    "fifth = pd.read_csv('Every_Season_Data/[2008-2009]-combined-stats.csv')"
   ]
  },
  {
   "cell_type": "code",
   "execution_count": 7,
   "metadata": {},
   "outputs": [
    {
     "name": "stderr",
     "output_type": "stream",
     "text": [
      "/home/ubuntu/anaconda3/lib/python3.6/site-packages/IPython/core/interactiveshell.py:2785: DtypeWarning: Columns (39,40,41,42) have mixed types. Specify dtype option on import or set low_memory=False.\n",
      "  interactivity=interactivity, compiler=compiler, result=result)\n"
     ]
    }
   ],
   "source": [
    "six = pd.read_csv('Every_Season_Data/[2009-2010]-combined-stats.csv')"
   ]
  },
  {
   "cell_type": "code",
   "execution_count": 8,
   "metadata": {},
   "outputs": [
    {
     "name": "stderr",
     "output_type": "stream",
     "text": [
      "/home/ubuntu/anaconda3/lib/python3.6/site-packages/IPython/core/interactiveshell.py:2785: DtypeWarning: Columns (39,40,41,42) have mixed types. Specify dtype option on import or set low_memory=False.\n",
      "  interactivity=interactivity, compiler=compiler, result=result)\n"
     ]
    }
   ],
   "source": [
    "seven = pd.read_csv('Every_Season_Data/[2010-2011]-combined-stats.csv')"
   ]
  },
  {
   "cell_type": "code",
   "execution_count": 9,
   "metadata": {},
   "outputs": [
    {
     "name": "stderr",
     "output_type": "stream",
     "text": [
      "/home/ubuntu/anaconda3/lib/python3.6/site-packages/IPython/core/interactiveshell.py:2785: DtypeWarning: Columns (39,40,41,42) have mixed types. Specify dtype option on import or set low_memory=False.\n",
      "  interactivity=interactivity, compiler=compiler, result=result)\n"
     ]
    }
   ],
   "source": [
    "eight = pd.read_csv('Every_Season_Data/[2011-2012]-combined-stats.csv')"
   ]
  },
  {
   "cell_type": "code",
   "execution_count": 10,
   "metadata": {},
   "outputs": [
    {
     "name": "stderr",
     "output_type": "stream",
     "text": [
      "/home/ubuntu/anaconda3/lib/python3.6/site-packages/IPython/core/interactiveshell.py:2785: DtypeWarning: Columns (39,40,41,42) have mixed types. Specify dtype option on import or set low_memory=False.\n",
      "  interactivity=interactivity, compiler=compiler, result=result)\n"
     ]
    }
   ],
   "source": [
    "nine = pd.read_csv('Every_Season_Data/[2012-2013]-combined-stats.csv')"
   ]
  },
  {
   "cell_type": "code",
   "execution_count": 11,
   "metadata": {},
   "outputs": [
    {
     "name": "stderr",
     "output_type": "stream",
     "text": [
      "/home/ubuntu/anaconda3/lib/python3.6/site-packages/IPython/core/interactiveshell.py:2785: DtypeWarning: Columns (39,40,41,42) have mixed types. Specify dtype option on import or set low_memory=False.\n",
      "  interactivity=interactivity, compiler=compiler, result=result)\n"
     ]
    }
   ],
   "source": [
    "ten = pd.read_csv('Every_Season_Data/[2013-2014]-combined-stats.csv')"
   ]
  },
  {
   "cell_type": "code",
   "execution_count": 12,
   "metadata": {},
   "outputs": [
    {
     "name": "stderr",
     "output_type": "stream",
     "text": [
      "/home/ubuntu/anaconda3/lib/python3.6/site-packages/IPython/core/interactiveshell.py:2785: DtypeWarning: Columns (39,40,41,42) have mixed types. Specify dtype option on import or set low_memory=False.\n",
      "  interactivity=interactivity, compiler=compiler, result=result)\n"
     ]
    }
   ],
   "source": [
    "eleven = pd.read_csv('Every_Season_Data/[2014-2015]-combined-stats.csv')"
   ]
  },
  {
   "cell_type": "code",
   "execution_count": 13,
   "metadata": {},
   "outputs": [
    {
     "name": "stderr",
     "output_type": "stream",
     "text": [
      "/home/ubuntu/anaconda3/lib/python3.6/site-packages/IPython/core/interactiveshell.py:2785: DtypeWarning: Columns (39,40,41,42) have mixed types. Specify dtype option on import or set low_memory=False.\n",
      "  interactivity=interactivity, compiler=compiler, result=result)\n"
     ]
    }
   ],
   "source": [
    "twelve = pd.read_csv('Every_Season_Data/[2015-2016]-combined-stats.csv')"
   ]
  },
  {
   "cell_type": "code",
   "execution_count": 14,
   "metadata": {},
   "outputs": [
    {
     "name": "stderr",
     "output_type": "stream",
     "text": [
      "/home/ubuntu/anaconda3/lib/python3.6/site-packages/IPython/core/interactiveshell.py:2785: DtypeWarning: Columns (38) have mixed types. Specify dtype option on import or set low_memory=False.\n",
      "  interactivity=interactivity, compiler=compiler, result=result)\n"
     ]
    }
   ],
   "source": [
    "thirteen = pd.read_csv('Every_Season_Data/[2016-2017]-combined-stats.csv')"
   ]
  },
  {
   "cell_type": "code",
   "execution_count": 15,
   "metadata": {
    "collapsed": true
   },
   "outputs": [
    {
     "name": "stderr",
     "output_type": "stream",
     "text": [
      "b'Skipping line 34257: expected 44 fields, saw 46\\nSkipping line 34258: expected 44 fields, saw 46\\nSkipping line 34259: expected 44 fields, saw 46\\nSkipping line 34260: expected 44 fields, saw 46\\nSkipping line 34261: expected 44 fields, saw 46\\nSkipping line 34262: expected 44 fields, saw 46\\nSkipping line 34263: expected 44 fields, saw 46\\nSkipping line 34264: expected 44 fields, saw 46\\nSkipping line 34265: expected 44 fields, saw 46\\nSkipping line 34266: expected 44 fields, saw 46\\nSkipping line 34267: expected 44 fields, saw 46\\nSkipping line 34268: expected 44 fields, saw 46\\nSkipping line 34269: expected 44 fields, saw 46\\nSkipping line 34270: expected 44 fields, saw 46\\nSkipping line 34271: expected 44 fields, saw 46\\nSkipping line 34272: expected 44 fields, saw 46\\nSkipping line 34273: expected 44 fields, saw 46\\nSkipping line 34274: expected 44 fields, saw 46\\nSkipping line 34275: expected 44 fields, saw 46\\nSkipping line 34276: expected 44 fields, saw 46\\nSkipping line 34277: expected 44 fields, saw 46\\nSkipping line 34278: expected 44 fields, saw 46\\nSkipping line 34279: expected 44 fields, saw 46\\nSkipping line 34280: expected 44 fields, saw 46\\nSkipping line 34281: expected 44 fields, saw 46\\nSkipping line 34282: expected 44 fields, saw 46\\nSkipping line 34283: expected 44 fields, saw 46\\nSkipping line 34284: expected 44 fields, saw 46\\nSkipping line 34285: expected 44 fields, saw 46\\nSkipping line 34286: expected 44 fields, saw 46\\nSkipping line 34287: expected 44 fields, saw 46\\nSkipping line 34288: expected 44 fields, saw 46\\nSkipping line 34289: expected 44 fields, saw 46\\nSkipping line 34290: expected 44 fields, saw 46\\nSkipping line 34291: expected 44 fields, saw 46\\nSkipping line 34292: expected 44 fields, saw 46\\nSkipping line 34293: expected 44 fields, saw 46\\nSkipping line 34294: expected 44 fields, saw 46\\nSkipping line 34295: expected 44 fields, saw 46\\nSkipping line 34296: expected 44 fields, saw 46\\nSkipping line 34297: expected 44 fields, saw 46\\nSkipping line 34298: expected 44 fields, saw 46\\nSkipping line 34299: expected 44 fields, saw 46\\nSkipping line 34300: expected 44 fields, saw 46\\nSkipping line 34301: expected 44 fields, saw 46\\nSkipping line 34302: expected 44 fields, saw 46\\nSkipping line 34303: expected 44 fields, saw 46\\nSkipping line 34304: expected 44 fields, saw 46\\nSkipping line 34305: expected 44 fields, saw 46\\nSkipping line 34306: expected 44 fields, saw 46\\nSkipping line 34307: expected 44 fields, saw 46\\nSkipping line 34308: expected 44 fields, saw 46\\nSkipping line 34309: expected 44 fields, saw 46\\nSkipping line 34310: expected 44 fields, saw 46\\nSkipping line 34311: expected 44 fields, saw 46\\nSkipping line 34312: expected 44 fields, saw 46\\nSkipping line 34313: expected 44 fields, saw 46\\nSkipping line 34314: expected 44 fields, saw 46\\nSkipping line 34315: expected 44 fields, saw 46\\nSkipping line 34316: expected 44 fields, saw 46\\nSkipping line 34317: expected 44 fields, saw 46\\nSkipping line 34318: expected 44 fields, saw 46\\nSkipping line 34319: expected 44 fields, saw 46\\nSkipping line 34320: expected 44 fields, saw 46\\nSkipping line 34321: expected 44 fields, saw 46\\nSkipping line 34322: expected 44 fields, saw 46\\nSkipping line 34323: expected 44 fields, saw 46\\nSkipping line 34324: expected 44 fields, saw 46\\nSkipping line 34325: expected 44 fields, saw 46\\nSkipping line 34326: expected 44 fields, saw 46\\nSkipping line 34327: expected 44 fields, saw 46\\nSkipping line 34328: expected 44 fields, saw 46\\nSkipping line 34329: expected 44 fields, saw 46\\nSkipping line 34330: expected 44 fields, saw 46\\nSkipping line 34331: expected 44 fields, saw 46\\nSkipping line 34332: expected 44 fields, saw 46\\nSkipping line 34333: expected 44 fields, saw 46\\nSkipping line 34334: expected 44 fields, saw 46\\nSkipping line 34335: expected 44 fields, saw 46\\nSkipping line 34336: expected 44 fields, saw 46\\nSkipping line 34337: expected 44 fields, saw 46\\nSkipping line 34338: expected 44 fields, saw 46\\nSkipping line 34339: expected 44 fields, saw 46\\nSkipping line 34340: expected 44 fields, saw 46\\nSkipping line 34341: expected 44 fields, saw 46\\nSkipping line 34342: expected 44 fields, saw 46\\nSkipping line 34343: expected 44 fields, saw 46\\nSkipping line 34344: expected 44 fields, saw 46\\nSkipping line 34345: expected 44 fields, saw 46\\nSkipping line 34346: expected 44 fields, saw 46\\nSkipping line 34347: expected 44 fields, saw 46\\nSkipping line 34348: expected 44 fields, saw 46\\nSkipping line 34349: expected 44 fields, saw 46\\nSkipping line 34350: expected 44 fields, saw 46\\nSkipping line 34351: expected 44 fields, saw 46\\nSkipping line 34352: expected 44 fields, saw 46\\nSkipping line 34353: expected 44 fields, saw 46\\nSkipping line 34354: expected 44 fields, saw 46\\nSkipping line 34355: expected 44 fields, saw 46\\nSkipping line 34356: expected 44 fields, saw 46\\nSkipping line 34357: expected 44 fields, saw 46\\nSkipping line 34358: expected 44 fields, saw 46\\nSkipping line 34359: expected 44 fields, saw 46\\nSkipping line 34360: expected 44 fields, saw 46\\nSkipping line 34361: expected 44 fields, saw 46\\nSkipping line 34362: expected 44 fields, saw 46\\nSkipping line 34363: expected 44 fields, saw 46\\nSkipping line 34364: expected 44 fields, saw 46\\nSkipping line 34365: expected 44 fields, saw 46\\nSkipping line 34366: expected 44 fields, saw 46\\nSkipping line 34367: expected 44 fields, saw 46\\nSkipping line 34368: expected 44 fields, saw 46\\nSkipping line 34369: expected 44 fields, saw 46\\nSkipping line 34370: expected 44 fields, saw 46\\nSkipping line 34371: expected 44 fields, saw 46\\nSkipping line 34372: expected 44 fields, saw 46\\nSkipping line 34373: expected 44 fields, saw 46\\nSkipping line 34374: expected 44 fields, saw 46\\nSkipping line 34375: expected 44 fields, saw 46\\nSkipping line 34376: expected 44 fields, saw 46\\nSkipping line 34377: expected 44 fields, saw 46\\nSkipping line 34378: expected 44 fields, saw 46\\nSkipping line 34379: expected 44 fields, saw 46\\nSkipping line 34380: expected 44 fields, saw 46\\nSkipping line 34381: expected 44 fields, saw 46\\nSkipping line 34382: expected 44 fields, saw 46\\nSkipping line 34383: expected 44 fields, saw 46\\nSkipping line 34384: expected 44 fields, saw 46\\nSkipping line 34385: expected 44 fields, saw 46\\nSkipping line 34386: expected 44 fields, saw 46\\nSkipping line 34387: expected 44 fields, saw 46\\nSkipping line 34388: expected 44 fields, saw 46\\nSkipping line 34389: expected 44 fields, saw 46\\nSkipping line 34390: expected 44 fields, saw 46\\nSkipping line 34391: expected 44 fields, saw 46\\nSkipping line 34392: expected 44 fields, saw 46\\nSkipping line 34393: expected 44 fields, saw 46\\nSkipping line 34394: expected 44 fields, saw 46\\nSkipping line 34395: expected 44 fields, saw 46\\nSkipping line 34396: expected 44 fields, saw 46\\nSkipping line 34397: expected 44 fields, saw 46\\nSkipping line 34398: expected 44 fields, saw 46\\nSkipping line 34399: expected 44 fields, saw 46\\nSkipping line 34400: expected 44 fields, saw 46\\nSkipping line 34401: expected 44 fields, saw 46\\nSkipping line 34402: expected 44 fields, saw 46\\nSkipping line 34403: expected 44 fields, saw 46\\nSkipping line 34404: expected 44 fields, saw 46\\nSkipping line 34405: expected 44 fields, saw 46\\nSkipping line 34406: expected 44 fields, saw 46\\nSkipping line 34407: expected 44 fields, saw 46\\nSkipping line 34408: expected 44 fields, saw 46\\nSkipping line 34409: expected 44 fields, saw 46\\nSkipping line 34410: expected 44 fields, saw 46\\nSkipping line 34411: expected 44 fields, saw 46\\nSkipping line 34412: expected 44 fields, saw 46\\nSkipping line 34413: expected 44 fields, saw 46\\nSkipping line 34414: expected 44 fields, saw 46\\nSkipping line 34415: expected 44 fields, saw 46\\nSkipping line 34416: expected 44 fields, saw 46\\nSkipping line 34417: expected 44 fields, saw 46\\nSkipping line 34418: expected 44 fields, saw 46\\nSkipping line 34419: expected 44 fields, saw 46\\nSkipping line 34420: expected 44 fields, saw 46\\nSkipping line 34421: expected 44 fields, saw 46\\nSkipping line 34422: expected 44 fields, saw 46\\nSkipping line 34423: expected 44 fields, saw 46\\nSkipping line 34424: expected 44 fields, saw 46\\nSkipping line 34425: expected 44 fields, saw 46\\nSkipping line 34426: expected 44 fields, saw 46\\nSkipping line 34427: expected 44 fields, saw 46\\nSkipping line 34428: expected 44 fields, saw 46\\nSkipping line 34429: expected 44 fields, saw 46\\nSkipping line 34430: expected 44 fields, saw 46\\nSkipping line 34431: expected 44 fields, saw 46\\nSkipping line 34432: expected 44 fields, saw 46\\nSkipping line 34433: expected 44 fields, saw 46\\nSkipping line 34434: expected 44 fields, saw 46\\nSkipping line 34435: expected 44 fields, saw 46\\nSkipping line 34436: expected 44 fields, saw 46\\nSkipping line 34437: expected 44 fields, saw 46\\nSkipping line 34438: expected 44 fields, saw 46\\nSkipping line 34439: expected 44 fields, saw 46\\nSkipping line 34440: expected 44 fields, saw 46\\nSkipping line 34441: expected 44 fields, saw 46\\nSkipping line 34442: expected 44 fields, saw 46\\nSkipping line 34443: expected 44 fields, saw 46\\nSkipping line 34444: expected 44 fields, saw 46\\nSkipping line 34445: expected 44 fields, saw 46\\nSkipping line 34446: expected 44 fields, saw 46\\nSkipping line 34447: expected 44 fields, saw 46\\nSkipping line 34448: expected 44 fields, saw 46\\nSkipping line 34449: expected 44 fields, saw 46\\nSkipping line 34450: expected 44 fields, saw 46\\nSkipping line 34451: expected 44 fields, saw 46\\nSkipping line 34452: expected 44 fields, saw 46\\nSkipping line 34453: expected 44 fields, saw 46\\nSkipping line 34454: expected 44 fields, saw 46\\nSkipping line 34455: expected 44 fields, saw 46\\nSkipping line 34456: expected 44 fields, saw 46\\nSkipping line 34457: expected 44 fields, saw 46\\nSkipping line 34458: expected 44 fields, saw 46\\nSkipping line 34459: expected 44 fields, saw 46\\nSkipping line 34460: expected 44 fields, saw 46\\nSkipping line 34461: expected 44 fields, saw 46\\nSkipping line 34462: expected 44 fields, saw 46\\nSkipping line 34463: expected 44 fields, saw 46\\nSkipping line 34464: expected 44 fields, saw 46\\nSkipping line 34465: expected 44 fields, saw 46\\nSkipping line 34466: expected 44 fields, saw 46\\nSkipping line 34467: expected 44 fields, saw 46\\nSkipping line 34468: expected 44 fields, saw 46\\nSkipping line 34469: expected 44 fields, saw 46\\nSkipping line 34470: expected 44 fields, saw 46\\nSkipping line 34471: expected 44 fields, saw 46\\nSkipping line 34472: expected 44 fields, saw 46\\nSkipping line 34473: expected 44 fields, saw 46\\nSkipping line 34474: expected 44 fields, saw 46\\nSkipping line 34475: expected 44 fields, saw 46\\nSkipping line 34476: expected 44 fields, saw 46\\nSkipping line 34477: expected 44 fields, saw 46\\nSkipping line 34478: expected 44 fields, saw 46\\nSkipping line 34479: expected 44 fields, saw 46\\nSkipping line 34480: expected 44 fields, saw 46\\nSkipping line 34481: expected 44 fields, saw 46\\nSkipping line 34482: expected 44 fields, saw 46\\nSkipping line 34483: expected 44 fields, saw 46\\nSkipping line 34484: expected 44 fields, saw 46\\nSkipping line 34485: expected 44 fields, saw 46\\nSkipping line 34486: expected 44 fields, saw 46\\nSkipping line 34487: expected 44 fields, saw 46\\nSkipping line 34488: expected 44 fields, saw 46\\nSkipping line 34489: expected 44 fields, saw 46\\nSkipping line 34490: expected 44 fields, saw 46\\nSkipping line 34491: expected 44 fields, saw 46\\nSkipping line 34492: expected 44 fields, saw 46\\nSkipping line 34493: expected 44 fields, saw 46\\nSkipping line 34494: expected 44 fields, saw 46\\nSkipping line 34495: expected 44 fields, saw 46\\nSkipping line 34496: expected 44 fields, saw 46\\nSkipping line 34497: expected 44 fields, saw 46\\nSkipping line 34498: expected 44 fields, saw 46\\nSkipping line 34499: expected 44 fields, saw 46\\nSkipping line 34500: expected 44 fields, saw 46\\nSkipping line 34501: expected 44 fields, saw 46\\nSkipping line 34502: expected 44 fields, saw 46\\nSkipping line 34503: expected 44 fields, saw 46\\nSkipping line 34504: expected 44 fields, saw 46\\nSkipping line 34505: expected 44 fields, saw 46\\nSkipping line 34506: expected 44 fields, saw 46\\nSkipping line 34507: expected 44 fields, saw 46\\nSkipping line 34508: expected 44 fields, saw 46\\nSkipping line 34509: expected 44 fields, saw 46\\nSkipping line 34510: expected 44 fields, saw 46\\nSkipping line 34511: expected 44 fields, saw 46\\nSkipping line 34512: expected 44 fields, saw 46\\nSkipping line 34513: expected 44 fields, saw 46\\nSkipping line 34514: expected 44 fields, saw 46\\nSkipping line 34515: expected 44 fields, saw 46\\nSkipping line 34516: expected 44 fields, saw 46\\nSkipping line 34517: expected 44 fields, saw 46\\nSkipping line 34518: expected 44 fields, saw 46\\nSkipping line 34519: expected 44 fields, saw 46\\nSkipping line 34520: expected 44 fields, saw 46\\nSkipping line 34521: expected 44 fields, saw 46\\nSkipping line 34522: expected 44 fields, saw 46\\nSkipping line 34523: expected 44 fields, saw 46\\nSkipping line 34524: expected 44 fields, saw 46\\nSkipping line 34525: expected 44 fields, saw 46\\nSkipping line 34526: expected 44 fields, saw 46\\nSkipping line 34527: expected 44 fields, saw 46\\nSkipping line 34528: expected 44 fields, saw 46\\nSkipping line 34529: expected 44 fields, saw 46\\nSkipping line 34530: expected 44 fields, saw 46\\nSkipping line 34531: expected 44 fields, saw 46\\nSkipping line 34532: expected 44 fields, saw 46\\nSkipping line 34533: expected 44 fields, saw 46\\nSkipping line 34534: expected 44 fields, saw 46\\nSkipping line 34535: expected 44 fields, saw 46\\nSkipping line 34536: expected 44 fields, saw 46\\nSkipping line 34537: expected 44 fields, saw 46\\nSkipping line 34538: expected 44 fields, saw 46\\nSkipping line 34539: expected 44 fields, saw 46\\nSkipping line 34540: expected 44 fields, saw 46\\nSkipping line 34541: expected 44 fields, saw 46\\nSkipping line 34542: expected 44 fields, saw 46\\nSkipping line 34543: expected 44 fields, saw 46\\nSkipping line 34544: expected 44 fields, saw 46\\nSkipping line 34545: expected 44 fields, saw 46\\nSkipping line 34546: expected 44 fields, saw 46\\nSkipping line 34547: expected 44 fields, saw 46\\nSkipping line 34548: expected 44 fields, saw 46\\nSkipping line 34549: expected 44 fields, saw 46\\nSkipping line 34550: expected 44 fields, saw 46\\nSkipping line 34551: expected 44 fields, saw 46\\nSkipping line 34552: expected 44 fields, saw 46\\nSkipping line 34553: expected 44 fields, saw 46\\nSkipping line 34554: expected 44 fields, saw 46\\nSkipping line 34555: expected 44 fields, saw 46\\nSkipping line 34556: expected 44 fields, saw 46\\nSkipping line 34557: expected 44 fields, saw 46\\nSkipping line 34558: expected 44 fields, saw 46\\nSkipping line 34559: expected 44 fields, saw 46\\nSkipping line 34560: expected 44 fields, saw 46\\nSkipping line 34561: expected 44 fields, saw 46\\nSkipping line 34562: expected 44 fields, saw 46\\nSkipping line 34563: expected 44 fields, saw 46\\nSkipping line 34564: expected 44 fields, saw 46\\nSkipping line 34565: expected 44 fields, saw 46\\nSkipping line 34566: expected 44 fields, saw 46\\nSkipping line 34567: expected 44 fields, saw 46\\nSkipping line 34568: expected 44 fields, saw 46\\nSkipping line 34569: expected 44 fields, saw 46\\nSkipping line 34570: expected 44 fields, saw 46\\nSkipping line 34571: expected 44 fields, saw 46\\nSkipping line 34572: expected 44 fields, saw 46\\nSkipping line 34573: expected 44 fields, saw 46\\nSkipping line 34574: expected 44 fields, saw 46\\nSkipping line 34575: expected 44 fields, saw 46\\nSkipping line 34576: expected 44 fields, saw 46\\nSkipping line 34577: expected 44 fields, saw 46\\nSkipping line 34578: expected 44 fields, saw 46\\nSkipping line 34579: expected 44 fields, saw 46\\nSkipping line 34580: expected 44 fields, saw 46\\nSkipping line 34581: expected 44 fields, saw 46\\nSkipping line 34582: expected 44 fields, saw 46\\nSkipping line 34583: expected 44 fields, saw 46\\nSkipping line 34584: expected 44 fields, saw 46\\nSkipping line 34585: expected 44 fields, saw 46\\nSkipping line 34586: expected 44 fields, saw 46\\nSkipping line 34587: expected 44 fields, saw 46\\nSkipping line 34588: expected 44 fields, saw 46\\nSkipping line 34589: expected 44 fields, saw 46\\nSkipping line 34590: expected 44 fields, saw 46\\nSkipping line 34591: expected 44 fields, saw 46\\nSkipping line 34592: expected 44 fields, saw 46\\nSkipping line 34593: expected 44 fields, saw 46\\nSkipping line 34594: expected 44 fields, saw 46\\nSkipping line 34595: expected 44 fields, saw 46\\nSkipping line 34596: expected 44 fields, saw 46\\nSkipping line 34597: expected 44 fields, saw 46\\nSkipping line 34598: expected 44 fields, saw 46\\nSkipping line 34599: expected 44 fields, saw 46\\nSkipping line 34600: expected 44 fields, saw 46\\nSkipping line 34601: expected 44 fields, saw 46\\nSkipping line 34602: expected 44 fields, saw 46\\nSkipping line 34603: expected 44 fields, saw 46\\nSkipping line 34604: expected 44 fields, saw 46\\nSkipping line 34605: expected 44 fields, saw 46\\nSkipping line 34606: expected 44 fields, saw 46\\nSkipping line 34607: expected 44 fields, saw 46\\nSkipping line 34608: expected 44 fields, saw 46\\nSkipping line 34609: expected 44 fields, saw 46\\nSkipping line 34610: expected 44 fields, saw 46\\nSkipping line 34611: expected 44 fields, saw 46\\nSkipping line 34612: expected 44 fields, saw 46\\nSkipping line 34613: expected 44 fields, saw 46\\nSkipping line 34614: expected 44 fields, saw 46\\nSkipping line 34615: expected 44 fields, saw 46\\nSkipping line 34616: expected 44 fields, saw 46\\nSkipping line 34617: expected 44 fields, saw 46\\nSkipping line 34618: expected 44 fields, saw 46\\nSkipping line 34619: expected 44 fields, saw 46\\nSkipping line 34620: expected 44 fields, saw 46\\nSkipping line 34621: expected 44 fields, saw 46\\nSkipping line 34622: expected 44 fields, saw 46\\nSkipping line 34623: expected 44 fields, saw 46\\nSkipping line 34624: expected 44 fields, saw 46\\nSkipping line 34625: expected 44 fields, saw 46\\nSkipping line 34626: expected 44 fields, saw 46\\nSkipping line 34627: expected 44 fields, saw 46\\nSkipping line 34628: expected 44 fields, saw 46\\nSkipping line 34629: expected 44 fields, saw 46\\nSkipping line 34630: expected 44 fields, saw 46\\nSkipping line 34631: expected 44 fields, saw 46\\nSkipping line 34632: expected 44 fields, saw 46\\nSkipping line 34633: expected 44 fields, saw 46\\nSkipping line 34634: expected 44 fields, saw 46\\nSkipping line 34635: expected 44 fields, saw 46\\nSkipping line 34636: expected 44 fields, saw 46\\nSkipping line 34637: expected 44 fields, saw 46\\nSkipping line 34638: expected 44 fields, saw 46\\nSkipping line 34639: expected 44 fields, saw 46\\nSkipping line 34640: expected 44 fields, saw 46\\nSkipping line 34641: expected 44 fields, saw 46\\nSkipping line 34642: expected 44 fields, saw 46\\nSkipping line 34643: expected 44 fields, saw 46\\nSkipping line 34644: expected 44 fields, saw 46\\nSkipping line 34645: expected 44 fields, saw 46\\nSkipping line 34646: expected 44 fields, saw 46\\nSkipping line 34647: expected 44 fields, saw 46\\nSkipping line 34648: expected 44 fields, saw 46\\nSkipping line 34649: expected 44 fields, saw 46\\nSkipping line 34650: expected 44 fields, saw 46\\nSkipping line 34651: expected 44 fields, saw 46\\nSkipping line 34652: expected 44 fields, saw 46\\nSkipping line 34653: expected 44 fields, saw 46\\nSkipping line 34654: expected 44 fields, saw 46\\nSkipping line 34655: expected 44 fields, saw 46\\nSkipping line 34656: expected 44 fields, saw 46\\nSkipping line 34657: expected 44 fields, saw 46\\nSkipping line 34658: expected 44 fields, saw 46\\nSkipping line 34659: expected 44 fields, saw 46\\nSkipping line 34660: expected 44 fields, saw 46\\nSkipping line 34661: expected 44 fields, saw 46\\nSkipping line 34662: expected 44 fields, saw 46\\nSkipping line 34663: expected 44 fields, saw 46\\nSkipping line 34664: expected 44 fields, saw 46\\nSkipping line 34665: expected 44 fields, saw 46\\nSkipping line 34666: expected 44 fields, saw 46\\nSkipping line 34667: expected 44 fields, saw 46\\nSkipping line 34668: expected 44 fields, saw 46\\nSkipping line 34669: expected 44 fields, saw 46\\nSkipping line 34670: expected 44 fields, saw 46\\nSkipping line 34671: expected 44 fields, saw 46\\nSkipping line 34672: expected 44 fields, saw 46\\nSkipping line 34673: expected 44 fields, saw 46\\nSkipping line 34674: expected 44 fields, saw 46\\nSkipping line 34675: expected 44 fields, saw 46\\nSkipping line 34676: expected 44 fields, saw 46\\nSkipping line 34677: expected 44 fields, saw 46\\nSkipping line 34678: expected 44 fields, saw 46\\nSkipping line 34679: expected 44 fields, saw 46\\nSkipping line 34680: expected 44 fields, saw 46\\nSkipping line 34681: expected 44 fields, saw 46\\nSkipping line 34682: expected 44 fields, saw 46\\nSkipping line 34683: expected 44 fields, saw 46\\nSkipping line 34684: expected 44 fields, saw 46\\nSkipping line 34685: expected 44 fields, saw 46\\nSkipping line 34686: expected 44 fields, saw 46\\nSkipping line 34687: expected 44 fields, saw 46\\nSkipping line 34688: expected 44 fields, saw 46\\nSkipping line 34689: expected 44 fields, saw 46\\nSkipping line 34690: expected 44 fields, saw 46\\nSkipping line 34691: expected 44 fields, saw 46\\nSkipping line 34692: expected 44 fields, saw 46\\nSkipping line 34693: expected 44 fields, saw 46\\nSkipping line 34694: expected 44 fields, saw 46\\nSkipping line 34695: expected 44 fields, saw 46\\nSkipping line 34696: expected 44 fields, saw 46\\nSkipping line 34697: expected 44 fields, saw 46\\nSkipping line 34698: expected 44 fields, saw 46\\nSkipping line 34699: expected 44 fields, saw 46\\nSkipping line 34700: expected 44 fields, saw 46\\nSkipping line 34701: expected 44 fields, saw 46\\nSkipping line 34702: expected 44 fields, saw 46\\nSkipping line 34703: expected 44 fields, saw 46\\nSkipping line 34704: expected 44 fields, saw 46\\nSkipping line 34705: expected 44 fields, saw 46\\nSkipping line 34706: expected 44 fields, saw 46\\nSkipping line 34707: expected 44 fields, saw 46\\nSkipping line 34708: expected 44 fields, saw 46\\nSkipping line 34709: expected 44 fields, saw 46\\nSkipping line 34710: expected 44 fields, saw 46\\nSkipping line 34711: expected 44 fields, saw 46\\nSkipping line 34712: expected 44 fields, saw 46\\nSkipping line 34713: expected 44 fields, saw 46\\nSkipping line 34714: expected 44 fields, saw 46\\nSkipping line 34715: expected 44 fields, saw 46\\nSkipping line 34716: expected 44 fields, saw 46\\nSkipping line 34717: expected 44 fields, saw 46\\nSkipping line 34718: expected 44 fields, saw 46\\nSkipping line 34719: expected 44 fields, saw 46\\nSkipping line 34720: expected 44 fields, saw 46\\nSkipping line 34721: expected 44 fields, saw 46\\nSkipping line 34722: expected 44 fields, saw 46\\nSkipping line 34723: expected 44 fields, saw 46\\nSkipping line 34724: expected 44 fields, saw 46\\nSkipping line 34725: expected 44 fields, saw 46\\nSkipping line 34726: expected 44 fields, saw 46\\nSkipping line 34727: expected 44 fields, saw 46\\nSkipping line 34728: expected 44 fields, saw 46\\nSkipping line 34729: expected 44 fields, saw 46\\nSkipping line 34730: expected 44 fields, saw 46\\nSkipping line 34731: expected 44 fields, saw 46\\nSkipping line 34732: expected 44 fields, saw 46\\nSkipping line 34733: expected 44 fields, saw 46\\nSkipping line 34734: expected 44 fields, saw 46\\nSkipping line 34735: expected 44 fields, saw 46\\nSkipping line 34736: expected 44 fields, saw 46\\nSkipping line 34737: expected 44 fields, saw 46\\nSkipping line 34738: expected 44 fields, saw 46\\nSkipping line 34739: expected 44 fields, saw 46\\nSkipping line 34740: expected 44 fields, saw 46\\nSkipping line 34741: expected 44 fields, saw 46\\nSkipping line 34742: expected 44 fields, saw 46\\n'\n"
     ]
    },
    {
     "name": "stderr",
     "output_type": "stream",
     "text": [
      "/home/ubuntu/anaconda3/lib/python3.6/site-packages/IPython/core/interactiveshell.py:2785: DtypeWarning: Columns (38,39,40,41,42) have mixed types. Specify dtype option on import or set low_memory=False.\n",
      "  interactivity=interactivity, compiler=compiler, result=result)\n"
     ]
    }
   ],
   "source": [
    "fourteen = pd.read_csv('Every_Season_Data/[2017-2018]-combined-stats.csv', error_bad_lines=False)"
   ]
  },
  {
   "cell_type": "code",
   "execution_count": 15,
   "metadata": {},
   "outputs": [],
   "source": [
    "frames = [first, second, third, fourth, fifth, six, seven, eight, nine, ten, eleven, twelve, thirteen]\n",
    "\n"
   ]
  },
  {
   "cell_type": "code",
   "execution_count": 16,
   "metadata": {},
   "outputs": [],
   "source": [
    "full_data = pd.concat(frames)"
   ]
  },
  {
   "cell_type": "code",
   "execution_count": null,
   "metadata": {},
   "outputs": [],
   "source": []
  },
  {
   "cell_type": "code",
   "execution_count": null,
   "metadata": {},
   "outputs": [],
   "source": []
  },
  {
   "cell_type": "code",
   "execution_count": null,
   "metadata": {},
   "outputs": [],
   "source": []
  },
  {
   "cell_type": "code",
   "execution_count": 25,
   "metadata": {},
   "outputs": [],
   "source": [
    "id_data = full_data.groupby('player').count().reset_index()"
   ]
  },
  {
   "cell_type": "code",
   "execution_count": 26,
   "metadata": {},
   "outputs": [],
   "source": [
    "id_data = full_data[['player']]"
   ]
  },
  {
   "cell_type": "code",
   "execution_count": 27,
   "metadata": {},
   "outputs": [],
   "source": [
    "id_data.to_csv('CSV Files/data_for_ids.csv', encoding='utf-8', index=False)"
   ]
  },
  {
   "cell_type": "code",
   "execution_count": 29,
   "metadata": {},
   "outputs": [
    {
     "data": {
      "text/plain": [
       "player    1611\n",
       "dtype: int64"
      ]
     },
     "execution_count": 29,
     "metadata": {},
     "output_type": "execute_result"
    }
   ],
   "source": [
    "id_data.count()"
   ]
  },
  {
   "cell_type": "code",
   "execution_count": 18,
   "metadata": {},
   "outputs": [],
   "source": [
    "ejects = regular_season[regular_season['event_type'].str.contains('jection')]"
   ]
  },
  {
   "cell_type": "code",
   "execution_count": 18,
   "metadata": {},
   "outputs": [],
   "source": [
    "turnovers = regular_season[regular_season['event_type'].str.contains('urnover')]"
   ]
  },
  {
   "cell_type": "code",
   "execution_count": 20,
   "metadata": {},
   "outputs": [],
   "source": [
    "playoffs_ejects = playoffs[playoffs['event_type'].str.contains('jection')]"
   ]
  },
  {
   "cell_type": "code",
   "execution_count": 21,
   "metadata": {},
   "outputs": [],
   "source": [
    "playoffs_turnovers = playoffs[playoffs['event_type'].str.contains('urnover')]"
   ]
  },
  {
   "cell_type": "code",
   "execution_count": 20,
   "metadata": {},
   "outputs": [],
   "source": [
    "# ejects.to_csv('CSV Files/reg_ejects.csv', encoding='utf-8', index=False)\n",
    "turnovers.to_csv('CSV Files/final_test_tos.csv', encoding='utf-8', index=False)\n",
    "# playoffs_ejects.to_csv('CSV Files/pf_ejects.csv', encoding='utf-8', index=False)\n",
    "# playoffs_turnovers.to_csv('CSV Files/pf_turnovers.csv', encoding='utf-8', index=False)"
   ]
  },
  {
   "cell_type": "code",
   "execution_count": null,
   "metadata": {},
   "outputs": [],
   "source": []
  },
  {
   "cell_type": "code",
   "execution_count": 17,
   "metadata": {
    "scrolled": true
   },
   "outputs": [
    {
     "name": "stderr",
     "output_type": "stream",
     "text": [
      "/home/ubuntu/clutch-baller/practice_code.py:14: SettingWithCopyWarning: \n",
      "A value is trying to be set on a copy of a slice from a DataFrame.\n",
      "Try using .loc[row_indexer,col_indexer] = value instead\n",
      "\n",
      "See the caveats in the documentation: http://pandas.pydata.org/pandas-docs/stable/indexing.html#indexing-view-versus-copy\n",
      "  df2['winner'] = np.where(df2.pts_difference >0, 'away', 'home')\n"
     ]
    }
   ],
   "source": [
    "full_data = pc.add_columns(full_data)"
   ]
  },
  {
   "cell_type": "code",
   "execution_count": null,
   "metadata": {},
   "outputs": [],
   "source": [
    "full_data = pc.remove_junk_rows(full_data, 'event_type')"
   ]
  },
  {
   "cell_type": "code",
   "execution_count": 18,
   "metadata": {},
   "outputs": [],
   "source": [
    "col_to_remove = ['a1', 'a2', 'a3','a4','a5','h1','h2','h3','h4','h5', 'play_length', 'entered', 'left', 'possession', 'shot_distance', 'original_x', 'original_y', 'converted_x', 'converted_y', 'num', 'away', 'home', 'outof', 'opponent', 'reason', 'elapsed', 'play_id']\n",
    "\n",
    "\n"
   ]
  },
  {
   "cell_type": "code",
   "execution_count": 19,
   "metadata": {},
   "outputs": [
    {
     "ename": "MemoryError",
     "evalue": "",
     "output_type": "error",
     "traceback": [
      "\u001b[0;31m---------------------------------------------------------------------------\u001b[0m",
      "\u001b[0;31mMemoryError\u001b[0m                               Traceback (most recent call last)",
      "\u001b[0;32m<ipython-input-19-f05f56c61b22>\u001b[0m in \u001b[0;36m<module>\u001b[0;34m()\u001b[0m\n\u001b[0;32m----> 1\u001b[0;31m \u001b[0mfull_data\u001b[0m \u001b[0;34m=\u001b[0m \u001b[0mpc\u001b[0m\u001b[0;34m.\u001b[0m\u001b[0mremove_col\u001b[0m\u001b[0;34m(\u001b[0m\u001b[0mfull_data\u001b[0m\u001b[0;34m,\u001b[0m \u001b[0mcol_to_remove\u001b[0m\u001b[0;34m)\u001b[0m\u001b[0;34m\u001b[0m\u001b[0m\n\u001b[0m",
      "\u001b[0;32m~/clutch-baller/practice_code.py\u001b[0m in \u001b[0;36mremove_col\u001b[0;34m(df, list_of_col)\u001b[0m\n\u001b[1;32m     60\u001b[0m \u001b[0;32mdef\u001b[0m \u001b[0mremove_col\u001b[0m\u001b[0;34m(\u001b[0m\u001b[0mdf\u001b[0m\u001b[0;34m,\u001b[0m \u001b[0mlist_of_col\u001b[0m\u001b[0;34m)\u001b[0m\u001b[0;34m:\u001b[0m\u001b[0;34m\u001b[0m\u001b[0m\n\u001b[1;32m     61\u001b[0m     \u001b[0;32mfor\u001b[0m \u001b[0mitems\u001b[0m \u001b[0;32min\u001b[0m \u001b[0mlist_of_col\u001b[0m\u001b[0;34m:\u001b[0m\u001b[0;34m\u001b[0m\u001b[0m\n\u001b[0;32m---> 62\u001b[0;31m         \u001b[0mdf\u001b[0m \u001b[0;34m=\u001b[0m \u001b[0mdf\u001b[0m\u001b[0;34m.\u001b[0m\u001b[0mdrop\u001b[0m\u001b[0;34m(\u001b[0m\u001b[0;34m[\u001b[0m\u001b[0mitems\u001b[0m\u001b[0;34m]\u001b[0m\u001b[0;34m,\u001b[0m \u001b[0maxis\u001b[0m \u001b[0;34m=\u001b[0m \u001b[0;36m1\u001b[0m\u001b[0;34m)\u001b[0m\u001b[0;34m\u001b[0m\u001b[0m\n\u001b[0m\u001b[1;32m     63\u001b[0m     \u001b[0;32mreturn\u001b[0m \u001b[0mdf\u001b[0m\u001b[0;34m\u001b[0m\u001b[0m\n\u001b[1;32m     64\u001b[0m \u001b[0;34m\u001b[0m\u001b[0m\n",
      "\u001b[0;32m~/anaconda3/lib/python3.6/site-packages/pandas/core/generic.py\u001b[0m in \u001b[0;36mdrop\u001b[0;34m(self, labels, axis, index, columns, level, inplace, errors)\u001b[0m\n\u001b[1;32m   2528\u001b[0m         \u001b[0;32mfor\u001b[0m \u001b[0maxis\u001b[0m\u001b[0;34m,\u001b[0m \u001b[0mlabels\u001b[0m \u001b[0;32min\u001b[0m \u001b[0maxes\u001b[0m\u001b[0;34m.\u001b[0m\u001b[0mitems\u001b[0m\u001b[0;34m(\u001b[0m\u001b[0;34m)\u001b[0m\u001b[0;34m:\u001b[0m\u001b[0;34m\u001b[0m\u001b[0m\n\u001b[1;32m   2529\u001b[0m             \u001b[0;32mif\u001b[0m \u001b[0mlabels\u001b[0m \u001b[0;32mis\u001b[0m \u001b[0;32mnot\u001b[0m \u001b[0;32mNone\u001b[0m\u001b[0;34m:\u001b[0m\u001b[0;34m\u001b[0m\u001b[0m\n\u001b[0;32m-> 2530\u001b[0;31m                 \u001b[0mobj\u001b[0m \u001b[0;34m=\u001b[0m \u001b[0mobj\u001b[0m\u001b[0;34m.\u001b[0m\u001b[0m_drop_axis\u001b[0m\u001b[0;34m(\u001b[0m\u001b[0mlabels\u001b[0m\u001b[0;34m,\u001b[0m \u001b[0maxis\u001b[0m\u001b[0;34m,\u001b[0m \u001b[0mlevel\u001b[0m\u001b[0;34m=\u001b[0m\u001b[0mlevel\u001b[0m\u001b[0;34m,\u001b[0m \u001b[0merrors\u001b[0m\u001b[0;34m=\u001b[0m\u001b[0merrors\u001b[0m\u001b[0;34m)\u001b[0m\u001b[0;34m\u001b[0m\u001b[0m\n\u001b[0m\u001b[1;32m   2531\u001b[0m \u001b[0;34m\u001b[0m\u001b[0m\n\u001b[1;32m   2532\u001b[0m         \u001b[0;32mif\u001b[0m \u001b[0minplace\u001b[0m\u001b[0;34m:\u001b[0m\u001b[0;34m\u001b[0m\u001b[0m\n",
      "\u001b[0;32m~/anaconda3/lib/python3.6/site-packages/pandas/core/generic.py\u001b[0m in \u001b[0;36m_drop_axis\u001b[0;34m(self, labels, axis, level, errors)\u001b[0m\n\u001b[1;32m   2561\u001b[0m             \u001b[0;32melse\u001b[0m\u001b[0;34m:\u001b[0m\u001b[0;34m\u001b[0m\u001b[0m\n\u001b[1;32m   2562\u001b[0m                 \u001b[0mnew_axis\u001b[0m \u001b[0;34m=\u001b[0m \u001b[0maxis\u001b[0m\u001b[0;34m.\u001b[0m\u001b[0mdrop\u001b[0m\u001b[0;34m(\u001b[0m\u001b[0mlabels\u001b[0m\u001b[0;34m,\u001b[0m \u001b[0merrors\u001b[0m\u001b[0;34m=\u001b[0m\u001b[0merrors\u001b[0m\u001b[0;34m)\u001b[0m\u001b[0;34m\u001b[0m\u001b[0m\n\u001b[0;32m-> 2563\u001b[0;31m             \u001b[0mdropped\u001b[0m \u001b[0;34m=\u001b[0m \u001b[0mself\u001b[0m\u001b[0;34m.\u001b[0m\u001b[0mreindex\u001b[0m\u001b[0;34m(\u001b[0m\u001b[0;34m**\u001b[0m\u001b[0;34m{\u001b[0m\u001b[0maxis_name\u001b[0m\u001b[0;34m:\u001b[0m \u001b[0mnew_axis\u001b[0m\u001b[0;34m}\u001b[0m\u001b[0;34m)\u001b[0m\u001b[0;34m\u001b[0m\u001b[0m\n\u001b[0m\u001b[1;32m   2564\u001b[0m             \u001b[0;32mtry\u001b[0m\u001b[0;34m:\u001b[0m\u001b[0;34m\u001b[0m\u001b[0m\n\u001b[1;32m   2565\u001b[0m                 \u001b[0mdropped\u001b[0m\u001b[0;34m.\u001b[0m\u001b[0maxes\u001b[0m\u001b[0;34m[\u001b[0m\u001b[0maxis_\u001b[0m\u001b[0;34m]\u001b[0m\u001b[0;34m.\u001b[0m\u001b[0mset_names\u001b[0m\u001b[0;34m(\u001b[0m\u001b[0maxis\u001b[0m\u001b[0;34m.\u001b[0m\u001b[0mnames\u001b[0m\u001b[0;34m,\u001b[0m \u001b[0minplace\u001b[0m\u001b[0;34m=\u001b[0m\u001b[0;32mTrue\u001b[0m\u001b[0;34m)\u001b[0m\u001b[0;34m\u001b[0m\u001b[0m\n",
      "\u001b[0;32m~/anaconda3/lib/python3.6/site-packages/pandas/util/_decorators.py\u001b[0m in \u001b[0;36mwrapper\u001b[0;34m(*args, **kwargs)\u001b[0m\n\u001b[1;32m    125\u001b[0m         \u001b[0;34m@\u001b[0m\u001b[0mwraps\u001b[0m\u001b[0;34m(\u001b[0m\u001b[0mfunc\u001b[0m\u001b[0;34m)\u001b[0m\u001b[0;34m\u001b[0m\u001b[0m\n\u001b[1;32m    126\u001b[0m         \u001b[0;32mdef\u001b[0m \u001b[0mwrapper\u001b[0m\u001b[0;34m(\u001b[0m\u001b[0;34m*\u001b[0m\u001b[0margs\u001b[0m\u001b[0;34m,\u001b[0m \u001b[0;34m**\u001b[0m\u001b[0mkwargs\u001b[0m\u001b[0;34m)\u001b[0m\u001b[0;34m:\u001b[0m\u001b[0;34m\u001b[0m\u001b[0m\n\u001b[0;32m--> 127\u001b[0;31m             \u001b[0;32mreturn\u001b[0m \u001b[0mfunc\u001b[0m\u001b[0;34m(\u001b[0m\u001b[0;34m*\u001b[0m\u001b[0margs\u001b[0m\u001b[0;34m,\u001b[0m \u001b[0;34m**\u001b[0m\u001b[0mkwargs\u001b[0m\u001b[0;34m)\u001b[0m\u001b[0;34m\u001b[0m\u001b[0m\n\u001b[0m\u001b[1;32m    128\u001b[0m \u001b[0;34m\u001b[0m\u001b[0m\n\u001b[1;32m    129\u001b[0m         \u001b[0;32mif\u001b[0m \u001b[0;32mnot\u001b[0m \u001b[0mPY2\u001b[0m\u001b[0;34m:\u001b[0m\u001b[0;34m\u001b[0m\u001b[0m\n",
      "\u001b[0;32m~/anaconda3/lib/python3.6/site-packages/pandas/core/frame.py\u001b[0m in \u001b[0;36mreindex\u001b[0;34m(self, *args, **kwargs)\u001b[0m\n\u001b[1;32m   2933\u001b[0m         \u001b[0mkwargs\u001b[0m\u001b[0;34m.\u001b[0m\u001b[0mpop\u001b[0m\u001b[0;34m(\u001b[0m\u001b[0;34m'axis'\u001b[0m\u001b[0;34m,\u001b[0m \u001b[0;32mNone\u001b[0m\u001b[0;34m)\u001b[0m\u001b[0;34m\u001b[0m\u001b[0m\n\u001b[1;32m   2934\u001b[0m         \u001b[0mkwargs\u001b[0m\u001b[0;34m.\u001b[0m\u001b[0mpop\u001b[0m\u001b[0;34m(\u001b[0m\u001b[0;34m'labels'\u001b[0m\u001b[0;34m,\u001b[0m \u001b[0;32mNone\u001b[0m\u001b[0;34m)\u001b[0m\u001b[0;34m\u001b[0m\u001b[0m\n\u001b[0;32m-> 2935\u001b[0;31m         \u001b[0;32mreturn\u001b[0m \u001b[0msuper\u001b[0m\u001b[0;34m(\u001b[0m\u001b[0mDataFrame\u001b[0m\u001b[0;34m,\u001b[0m \u001b[0mself\u001b[0m\u001b[0;34m)\u001b[0m\u001b[0;34m.\u001b[0m\u001b[0mreindex\u001b[0m\u001b[0;34m(\u001b[0m\u001b[0;34m**\u001b[0m\u001b[0mkwargs\u001b[0m\u001b[0;34m)\u001b[0m\u001b[0;34m\u001b[0m\u001b[0m\n\u001b[0m\u001b[1;32m   2936\u001b[0m \u001b[0;34m\u001b[0m\u001b[0m\n\u001b[1;32m   2937\u001b[0m     \u001b[0;34m@\u001b[0m\u001b[0mAppender\u001b[0m\u001b[0;34m(\u001b[0m\u001b[0m_shared_docs\u001b[0m\u001b[0;34m[\u001b[0m\u001b[0;34m'reindex_axis'\u001b[0m\u001b[0;34m]\u001b[0m \u001b[0;34m%\u001b[0m \u001b[0m_shared_doc_kwargs\u001b[0m\u001b[0;34m)\u001b[0m\u001b[0;34m\u001b[0m\u001b[0m\n",
      "\u001b[0;32m~/anaconda3/lib/python3.6/site-packages/pandas/core/generic.py\u001b[0m in \u001b[0;36mreindex\u001b[0;34m(self, *args, **kwargs)\u001b[0m\n\u001b[1;32m   3021\u001b[0m         \u001b[0;31m# perform the reindex on the axes\u001b[0m\u001b[0;34m\u001b[0m\u001b[0;34m\u001b[0m\u001b[0m\n\u001b[1;32m   3022\u001b[0m         return self._reindex_axes(axes, level, limit, tolerance, method,\n\u001b[0;32m-> 3023\u001b[0;31m                                   fill_value, copy).__finalize__(self)\n\u001b[0m\u001b[1;32m   3024\u001b[0m \u001b[0;34m\u001b[0m\u001b[0m\n\u001b[1;32m   3025\u001b[0m     def _reindex_axes(self, axes, level, limit, tolerance, method, fill_value,\n",
      "\u001b[0;32m~/anaconda3/lib/python3.6/site-packages/pandas/core/frame.py\u001b[0m in \u001b[0;36m_reindex_axes\u001b[0;34m(self, axes, level, limit, tolerance, method, fill_value, copy)\u001b[0m\n\u001b[1;32m   2863\u001b[0m         \u001b[0;32mif\u001b[0m \u001b[0mcolumns\u001b[0m \u001b[0;32mis\u001b[0m \u001b[0;32mnot\u001b[0m \u001b[0;32mNone\u001b[0m\u001b[0;34m:\u001b[0m\u001b[0;34m\u001b[0m\u001b[0m\n\u001b[1;32m   2864\u001b[0m             frame = frame._reindex_columns(columns, method, copy, level,\n\u001b[0;32m-> 2865\u001b[0;31m                                            fill_value, limit, tolerance)\n\u001b[0m\u001b[1;32m   2866\u001b[0m \u001b[0;34m\u001b[0m\u001b[0m\n\u001b[1;32m   2867\u001b[0m         \u001b[0mindex\u001b[0m \u001b[0;34m=\u001b[0m \u001b[0maxes\u001b[0m\u001b[0;34m[\u001b[0m\u001b[0;34m'index'\u001b[0m\u001b[0;34m]\u001b[0m\u001b[0;34m\u001b[0m\u001b[0m\n",
      "\u001b[0;32m~/anaconda3/lib/python3.6/site-packages/pandas/core/frame.py\u001b[0m in \u001b[0;36m_reindex_columns\u001b[0;34m(self, new_columns, method, copy, level, fill_value, limit, tolerance)\u001b[0m\n\u001b[1;32m   2888\u001b[0m         return self._reindex_with_indexers({1: [new_columns, indexer]},\n\u001b[1;32m   2889\u001b[0m                                            \u001b[0mcopy\u001b[0m\u001b[0;34m=\u001b[0m\u001b[0mcopy\u001b[0m\u001b[0;34m,\u001b[0m \u001b[0mfill_value\u001b[0m\u001b[0;34m=\u001b[0m\u001b[0mfill_value\u001b[0m\u001b[0;34m,\u001b[0m\u001b[0;34m\u001b[0m\u001b[0m\n\u001b[0;32m-> 2890\u001b[0;31m                                            allow_dups=False)\n\u001b[0m\u001b[1;32m   2891\u001b[0m \u001b[0;34m\u001b[0m\u001b[0m\n\u001b[1;32m   2892\u001b[0m     \u001b[0;32mdef\u001b[0m \u001b[0m_reindex_multi\u001b[0m\u001b[0;34m(\u001b[0m\u001b[0mself\u001b[0m\u001b[0;34m,\u001b[0m \u001b[0maxes\u001b[0m\u001b[0;34m,\u001b[0m \u001b[0mcopy\u001b[0m\u001b[0;34m,\u001b[0m \u001b[0mfill_value\u001b[0m\u001b[0;34m)\u001b[0m\u001b[0;34m:\u001b[0m\u001b[0;34m\u001b[0m\u001b[0m\n",
      "\u001b[0;32m~/anaconda3/lib/python3.6/site-packages/pandas/core/generic.py\u001b[0m in \u001b[0;36m_reindex_with_indexers\u001b[0;34m(self, reindexers, fill_value, copy, allow_dups)\u001b[0m\n\u001b[1;32m   3143\u001b[0m                                                 \u001b[0mfill_value\u001b[0m\u001b[0;34m=\u001b[0m\u001b[0mfill_value\u001b[0m\u001b[0;34m,\u001b[0m\u001b[0;34m\u001b[0m\u001b[0m\n\u001b[1;32m   3144\u001b[0m                                                 \u001b[0mallow_dups\u001b[0m\u001b[0;34m=\u001b[0m\u001b[0mallow_dups\u001b[0m\u001b[0;34m,\u001b[0m\u001b[0;34m\u001b[0m\u001b[0m\n\u001b[0;32m-> 3145\u001b[0;31m                                                 copy=copy)\n\u001b[0m\u001b[1;32m   3146\u001b[0m \u001b[0;34m\u001b[0m\u001b[0m\n\u001b[1;32m   3147\u001b[0m         \u001b[0;32mif\u001b[0m \u001b[0mcopy\u001b[0m \u001b[0;32mand\u001b[0m \u001b[0mnew_data\u001b[0m \u001b[0;32mis\u001b[0m \u001b[0mself\u001b[0m\u001b[0;34m.\u001b[0m\u001b[0m_data\u001b[0m\u001b[0;34m:\u001b[0m\u001b[0;34m\u001b[0m\u001b[0m\n",
      "\u001b[0;32m~/anaconda3/lib/python3.6/site-packages/pandas/core/internals.py\u001b[0m in \u001b[0;36mreindex_indexer\u001b[0;34m(self, new_axis, indexer, axis, fill_value, allow_dups, copy)\u001b[0m\n\u001b[1;32m   4144\u001b[0m         \u001b[0;32mif\u001b[0m \u001b[0maxis\u001b[0m \u001b[0;34m==\u001b[0m \u001b[0;36m0\u001b[0m\u001b[0;34m:\u001b[0m\u001b[0;34m\u001b[0m\u001b[0m\n\u001b[1;32m   4145\u001b[0m             new_blocks = self._slice_take_blocks_ax0(indexer,\n\u001b[0;32m-> 4146\u001b[0;31m                                                      fill_tuple=(fill_value,))\n\u001b[0m\u001b[1;32m   4147\u001b[0m         \u001b[0;32melse\u001b[0m\u001b[0;34m:\u001b[0m\u001b[0;34m\u001b[0m\u001b[0m\n\u001b[1;32m   4148\u001b[0m             new_blocks = [blk.take_nd(indexer, axis=axis, fill_tuple=(\n",
      "\u001b[0;32m~/anaconda3/lib/python3.6/site-packages/pandas/core/internals.py\u001b[0m in \u001b[0;36m_slice_take_blocks_ax0\u001b[0;34m(self, slice_or_indexer, fill_tuple)\u001b[0m\n\u001b[1;32m   4224\u001b[0m                     blocks.append(blk.take_nd(blklocs[mgr_locs.indexer],\n\u001b[1;32m   4225\u001b[0m                                               \u001b[0maxis\u001b[0m\u001b[0;34m=\u001b[0m\u001b[0;36m0\u001b[0m\u001b[0;34m,\u001b[0m \u001b[0mnew_mgr_locs\u001b[0m\u001b[0;34m=\u001b[0m\u001b[0mmgr_locs\u001b[0m\u001b[0;34m,\u001b[0m\u001b[0;34m\u001b[0m\u001b[0m\n\u001b[0;32m-> 4226\u001b[0;31m                                               fill_tuple=None))\n\u001b[0m\u001b[1;32m   4227\u001b[0m \u001b[0;34m\u001b[0m\u001b[0m\n\u001b[1;32m   4228\u001b[0m         \u001b[0;32mreturn\u001b[0m \u001b[0mblocks\u001b[0m\u001b[0;34m\u001b[0m\u001b[0m\n",
      "\u001b[0;32m~/anaconda3/lib/python3.6/site-packages/pandas/core/internals.py\u001b[0m in \u001b[0;36mtake_nd\u001b[0;34m(self, indexer, axis, new_mgr_locs, fill_tuple)\u001b[0m\n\u001b[1;32m   1215\u001b[0m             \u001b[0mfill_value\u001b[0m \u001b[0;34m=\u001b[0m \u001b[0mself\u001b[0m\u001b[0;34m.\u001b[0m\u001b[0mfill_value\u001b[0m\u001b[0;34m\u001b[0m\u001b[0m\n\u001b[1;32m   1216\u001b[0m             new_values = algos.take_nd(values, indexer, axis=axis,\n\u001b[0;32m-> 1217\u001b[0;31m                                        allow_fill=False)\n\u001b[0m\u001b[1;32m   1218\u001b[0m         \u001b[0;32melse\u001b[0m\u001b[0;34m:\u001b[0m\u001b[0;34m\u001b[0m\u001b[0m\n\u001b[1;32m   1219\u001b[0m             \u001b[0mfill_value\u001b[0m \u001b[0;34m=\u001b[0m \u001b[0mfill_tuple\u001b[0m\u001b[0;34m[\u001b[0m\u001b[0;36m0\u001b[0m\u001b[0;34m]\u001b[0m\u001b[0;34m\u001b[0m\u001b[0m\n",
      "\u001b[0;32m~/anaconda3/lib/python3.6/site-packages/pandas/core/algorithms.py\u001b[0m in \u001b[0;36mtake_nd\u001b[0;34m(arr, indexer, axis, out, fill_value, mask_info, allow_fill)\u001b[0m\n\u001b[1;32m   1377\u001b[0m             \u001b[0mout\u001b[0m \u001b[0;34m=\u001b[0m \u001b[0mnp\u001b[0m\u001b[0;34m.\u001b[0m\u001b[0mempty\u001b[0m\u001b[0;34m(\u001b[0m\u001b[0mout_shape\u001b[0m\u001b[0;34m,\u001b[0m \u001b[0mdtype\u001b[0m\u001b[0;34m=\u001b[0m\u001b[0mdtype\u001b[0m\u001b[0;34m,\u001b[0m \u001b[0morder\u001b[0m\u001b[0;34m=\u001b[0m\u001b[0;34m'F'\u001b[0m\u001b[0;34m)\u001b[0m\u001b[0;34m\u001b[0m\u001b[0m\n\u001b[1;32m   1378\u001b[0m         \u001b[0;32melse\u001b[0m\u001b[0;34m:\u001b[0m\u001b[0;34m\u001b[0m\u001b[0m\n\u001b[0;32m-> 1379\u001b[0;31m             \u001b[0mout\u001b[0m \u001b[0;34m=\u001b[0m \u001b[0mnp\u001b[0m\u001b[0;34m.\u001b[0m\u001b[0mempty\u001b[0m\u001b[0;34m(\u001b[0m\u001b[0mout_shape\u001b[0m\u001b[0;34m,\u001b[0m \u001b[0mdtype\u001b[0m\u001b[0;34m=\u001b[0m\u001b[0mdtype\u001b[0m\u001b[0;34m)\u001b[0m\u001b[0;34m\u001b[0m\u001b[0m\n\u001b[0m\u001b[1;32m   1380\u001b[0m \u001b[0;34m\u001b[0m\u001b[0m\n\u001b[1;32m   1381\u001b[0m     func = _get_take_nd_function(arr.ndim, arr.dtype, out.dtype, axis=axis,\n",
      "\u001b[0;31mMemoryError\u001b[0m: "
     ]
    }
   ],
   "source": [
    "full_data = pc.remove_col(full_data, col_to_remove)"
   ]
  },
  {
   "cell_type": "code",
   "execution_count": null,
   "metadata": {},
   "outputs": [],
   "source": [
    "full_data = pc.replace_nan(full_data)"
   ]
  },
  {
   "cell_type": "code",
   "execution_count": 41,
   "metadata": {},
   "outputs": [],
   "source": [
    "full_data.to_csv('CSV Files/full_data.csv', encoding='utf-8', index=False)"
   ]
  },
  {
   "cell_type": "code",
   "execution_count": 17,
   "metadata": {},
   "outputs": [],
   "source": [
    "regular_season, playoffs = pc.regular_or_playoffs(full_data, 'data_set')"
   ]
  },
  {
   "cell_type": "code",
   "execution_count": 24,
   "metadata": {},
   "outputs": [],
   "source": [
    "playoffs.to_csv('All seasons for comparison/playoffs_data.csv', encoding='utf-8', index=False)"
   ]
  },
  {
   "cell_type": "code",
   "execution_count": null,
   "metadata": {},
   "outputs": [],
   "source": [
    "regular_season.to_csv('All seasons for comparison/regular_season.csv', encoding='utf-8', index=False)"
   ]
  },
  {
   "cell_type": "code",
   "execution_count": null,
   "metadata": {},
   "outputs": [],
   "source": [
    "clutch_time = pc.clutch_moment(regular_season)"
   ]
  },
  {
   "cell_type": "code",
   "execution_count": null,
   "metadata": {},
   "outputs": [],
   "source": [
    "clutch_time = pc.remove_not_imp_games(clutch_time, 'game_id')"
   ]
  },
  {
   "cell_type": "code",
   "execution_count": 26,
   "metadata": {},
   "outputs": [],
   "source": [
    "clutch_time.to_csv('CSV Files/final_x_test.csv', encoding='utf-8', index=False)"
   ]
  },
  {
   "cell_type": "code",
   "execution_count": null,
   "metadata": {},
   "outputs": [],
   "source": []
  },
  {
   "cell_type": "code",
   "execution_count": null,
   "metadata": {},
   "outputs": [],
   "source": []
  },
  {
   "cell_type": "code",
   "execution_count": null,
   "metadata": {},
   "outputs": [],
   "source": []
  },
  {
   "cell_type": "code",
   "execution_count": null,
   "metadata": {},
   "outputs": [],
   "source": []
  },
  {
   "cell_type": "markdown",
   "metadata": {},
   "source": [
    "#Final test data (2017-2018 season) (cleaned)"
   ]
  },
  {
   "cell_type": "markdown",
   "metadata": {},
   "source": [
    "#clean and add all teh features everything and store it as a csv file "
   ]
  },
  {
   "cell_type": "code",
   "execution_count": 2,
   "metadata": {},
   "outputs": [
    {
     "name": "stderr",
     "output_type": "stream",
     "text": [
      "b'Skipping line 34257: expected 44 fields, saw 46\\nSkipping line 34258: expected 44 fields, saw 46\\nSkipping line 34259: expected 44 fields, saw 46\\nSkipping line 34260: expected 44 fields, saw 46\\nSkipping line 34261: expected 44 fields, saw 46\\nSkipping line 34262: expected 44 fields, saw 46\\nSkipping line 34263: expected 44 fields, saw 46\\nSkipping line 34264: expected 44 fields, saw 46\\nSkipping line 34265: expected 44 fields, saw 46\\nSkipping line 34266: expected 44 fields, saw 46\\nSkipping line 34267: expected 44 fields, saw 46\\nSkipping line 34268: expected 44 fields, saw 46\\nSkipping line 34269: expected 44 fields, saw 46\\nSkipping line 34270: expected 44 fields, saw 46\\nSkipping line 34271: expected 44 fields, saw 46\\nSkipping line 34272: expected 44 fields, saw 46\\nSkipping line 34273: expected 44 fields, saw 46\\nSkipping line 34274: expected 44 fields, saw 46\\nSkipping line 34275: expected 44 fields, saw 46\\nSkipping line 34276: expected 44 fields, saw 46\\nSkipping line 34277: expected 44 fields, saw 46\\nSkipping line 34278: expected 44 fields, saw 46\\nSkipping line 34279: expected 44 fields, saw 46\\nSkipping line 34280: expected 44 fields, saw 46\\nSkipping line 34281: expected 44 fields, saw 46\\nSkipping line 34282: expected 44 fields, saw 46\\nSkipping line 34283: expected 44 fields, saw 46\\nSkipping line 34284: expected 44 fields, saw 46\\nSkipping line 34285: expected 44 fields, saw 46\\nSkipping line 34286: expected 44 fields, saw 46\\nSkipping line 34287: expected 44 fields, saw 46\\nSkipping line 34288: expected 44 fields, saw 46\\nSkipping line 34289: expected 44 fields, saw 46\\nSkipping line 34290: expected 44 fields, saw 46\\nSkipping line 34291: expected 44 fields, saw 46\\nSkipping line 34292: expected 44 fields, saw 46\\nSkipping line 34293: expected 44 fields, saw 46\\nSkipping line 34294: expected 44 fields, saw 46\\nSkipping line 34295: expected 44 fields, saw 46\\nSkipping line 34296: expected 44 fields, saw 46\\nSkipping line 34297: expected 44 fields, saw 46\\nSkipping line 34298: expected 44 fields, saw 46\\nSkipping line 34299: expected 44 fields, saw 46\\nSkipping line 34300: expected 44 fields, saw 46\\nSkipping line 34301: expected 44 fields, saw 46\\nSkipping line 34302: expected 44 fields, saw 46\\nSkipping line 34303: expected 44 fields, saw 46\\nSkipping line 34304: expected 44 fields, saw 46\\nSkipping line 34305: expected 44 fields, saw 46\\nSkipping line 34306: expected 44 fields, saw 46\\nSkipping line 34307: expected 44 fields, saw 46\\nSkipping line 34308: expected 44 fields, saw 46\\nSkipping line 34309: expected 44 fields, saw 46\\nSkipping line 34310: expected 44 fields, saw 46\\nSkipping line 34311: expected 44 fields, saw 46\\nSkipping line 34312: expected 44 fields, saw 46\\nSkipping line 34313: expected 44 fields, saw 46\\nSkipping line 34314: expected 44 fields, saw 46\\nSkipping line 34315: expected 44 fields, saw 46\\nSkipping line 34316: expected 44 fields, saw 46\\nSkipping line 34317: expected 44 fields, saw 46\\nSkipping line 34318: expected 44 fields, saw 46\\nSkipping line 34319: expected 44 fields, saw 46\\nSkipping line 34320: expected 44 fields, saw 46\\nSkipping line 34321: expected 44 fields, saw 46\\nSkipping line 34322: expected 44 fields, saw 46\\nSkipping line 34323: expected 44 fields, saw 46\\nSkipping line 34324: expected 44 fields, saw 46\\nSkipping line 34325: expected 44 fields, saw 46\\nSkipping line 34326: expected 44 fields, saw 46\\nSkipping line 34327: expected 44 fields, saw 46\\nSkipping line 34328: expected 44 fields, saw 46\\nSkipping line 34329: expected 44 fields, saw 46\\nSkipping line 34330: expected 44 fields, saw 46\\nSkipping line 34331: expected 44 fields, saw 46\\nSkipping line 34332: expected 44 fields, saw 46\\nSkipping line 34333: expected 44 fields, saw 46\\nSkipping line 34334: expected 44 fields, saw 46\\nSkipping line 34335: expected 44 fields, saw 46\\nSkipping line 34336: expected 44 fields, saw 46\\nSkipping line 34337: expected 44 fields, saw 46\\nSkipping line 34338: expected 44 fields, saw 46\\nSkipping line 34339: expected 44 fields, saw 46\\nSkipping line 34340: expected 44 fields, saw 46\\nSkipping line 34341: expected 44 fields, saw 46\\nSkipping line 34342: expected 44 fields, saw 46\\nSkipping line 34343: expected 44 fields, saw 46\\nSkipping line 34344: expected 44 fields, saw 46\\nSkipping line 34345: expected 44 fields, saw 46\\nSkipping line 34346: expected 44 fields, saw 46\\nSkipping line 34347: expected 44 fields, saw 46\\nSkipping line 34348: expected 44 fields, saw 46\\nSkipping line 34349: expected 44 fields, saw 46\\nSkipping line 34350: expected 44 fields, saw 46\\nSkipping line 34351: expected 44 fields, saw 46\\nSkipping line 34352: expected 44 fields, saw 46\\nSkipping line 34353: expected 44 fields, saw 46\\nSkipping line 34354: expected 44 fields, saw 46\\nSkipping line 34355: expected 44 fields, saw 46\\nSkipping line 34356: expected 44 fields, saw 46\\nSkipping line 34357: expected 44 fields, saw 46\\nSkipping line 34358: expected 44 fields, saw 46\\nSkipping line 34359: expected 44 fields, saw 46\\nSkipping line 34360: expected 44 fields, saw 46\\nSkipping line 34361: expected 44 fields, saw 46\\nSkipping line 34362: expected 44 fields, saw 46\\nSkipping line 34363: expected 44 fields, saw 46\\nSkipping line 34364: expected 44 fields, saw 46\\nSkipping line 34365: expected 44 fields, saw 46\\nSkipping line 34366: expected 44 fields, saw 46\\nSkipping line 34367: expected 44 fields, saw 46\\nSkipping line 34368: expected 44 fields, saw 46\\nSkipping line 34369: expected 44 fields, saw 46\\nSkipping line 34370: expected 44 fields, saw 46\\nSkipping line 34371: expected 44 fields, saw 46\\nSkipping line 34372: expected 44 fields, saw 46\\nSkipping line 34373: expected 44 fields, saw 46\\nSkipping line 34374: expected 44 fields, saw 46\\nSkipping line 34375: expected 44 fields, saw 46\\nSkipping line 34376: expected 44 fields, saw 46\\nSkipping line 34377: expected 44 fields, saw 46\\nSkipping line 34378: expected 44 fields, saw 46\\nSkipping line 34379: expected 44 fields, saw 46\\nSkipping line 34380: expected 44 fields, saw 46\\nSkipping line 34381: expected 44 fields, saw 46\\nSkipping line 34382: expected 44 fields, saw 46\\nSkipping line 34383: expected 44 fields, saw 46\\nSkipping line 34384: expected 44 fields, saw 46\\nSkipping line 34385: expected 44 fields, saw 46\\nSkipping line 34386: expected 44 fields, saw 46\\nSkipping line 34387: expected 44 fields, saw 46\\nSkipping line 34388: expected 44 fields, saw 46\\nSkipping line 34389: expected 44 fields, saw 46\\nSkipping line 34390: expected 44 fields, saw 46\\nSkipping line 34391: expected 44 fields, saw 46\\nSkipping line 34392: expected 44 fields, saw 46\\nSkipping line 34393: expected 44 fields, saw 46\\nSkipping line 34394: expected 44 fields, saw 46\\nSkipping line 34395: expected 44 fields, saw 46\\nSkipping line 34396: expected 44 fields, saw 46\\nSkipping line 34397: expected 44 fields, saw 46\\nSkipping line 34398: expected 44 fields, saw 46\\nSkipping line 34399: expected 44 fields, saw 46\\nSkipping line 34400: expected 44 fields, saw 46\\nSkipping line 34401: expected 44 fields, saw 46\\nSkipping line 34402: expected 44 fields, saw 46\\nSkipping line 34403: expected 44 fields, saw 46\\nSkipping line 34404: expected 44 fields, saw 46\\nSkipping line 34405: expected 44 fields, saw 46\\nSkipping line 34406: expected 44 fields, saw 46\\nSkipping line 34407: expected 44 fields, saw 46\\nSkipping line 34408: expected 44 fields, saw 46\\nSkipping line 34409: expected 44 fields, saw 46\\nSkipping line 34410: expected 44 fields, saw 46\\nSkipping line 34411: expected 44 fields, saw 46\\nSkipping line 34412: expected 44 fields, saw 46\\nSkipping line 34413: expected 44 fields, saw 46\\nSkipping line 34414: expected 44 fields, saw 46\\nSkipping line 34415: expected 44 fields, saw 46\\nSkipping line 34416: expected 44 fields, saw 46\\nSkipping line 34417: expected 44 fields, saw 46\\nSkipping line 34418: expected 44 fields, saw 46\\nSkipping line 34419: expected 44 fields, saw 46\\nSkipping line 34420: expected 44 fields, saw 46\\nSkipping line 34421: expected 44 fields, saw 46\\nSkipping line 34422: expected 44 fields, saw 46\\nSkipping line 34423: expected 44 fields, saw 46\\nSkipping line 34424: expected 44 fields, saw 46\\nSkipping line 34425: expected 44 fields, saw 46\\nSkipping line 34426: expected 44 fields, saw 46\\nSkipping line 34427: expected 44 fields, saw 46\\nSkipping line 34428: expected 44 fields, saw 46\\nSkipping line 34429: expected 44 fields, saw 46\\nSkipping line 34430: expected 44 fields, saw 46\\nSkipping line 34431: expected 44 fields, saw 46\\nSkipping line 34432: expected 44 fields, saw 46\\nSkipping line 34433: expected 44 fields, saw 46\\nSkipping line 34434: expected 44 fields, saw 46\\nSkipping line 34435: expected 44 fields, saw 46\\nSkipping line 34436: expected 44 fields, saw 46\\nSkipping line 34437: expected 44 fields, saw 46\\nSkipping line 34438: expected 44 fields, saw 46\\nSkipping line 34439: expected 44 fields, saw 46\\nSkipping line 34440: expected 44 fields, saw 46\\nSkipping line 34441: expected 44 fields, saw 46\\nSkipping line 34442: expected 44 fields, saw 46\\nSkipping line 34443: expected 44 fields, saw 46\\nSkipping line 34444: expected 44 fields, saw 46\\nSkipping line 34445: expected 44 fields, saw 46\\nSkipping line 34446: expected 44 fields, saw 46\\nSkipping line 34447: expected 44 fields, saw 46\\nSkipping line 34448: expected 44 fields, saw 46\\nSkipping line 34449: expected 44 fields, saw 46\\nSkipping line 34450: expected 44 fields, saw 46\\nSkipping line 34451: expected 44 fields, saw 46\\nSkipping line 34452: expected 44 fields, saw 46\\nSkipping line 34453: expected 44 fields, saw 46\\nSkipping line 34454: expected 44 fields, saw 46\\nSkipping line 34455: expected 44 fields, saw 46\\nSkipping line 34456: expected 44 fields, saw 46\\nSkipping line 34457: expected 44 fields, saw 46\\nSkipping line 34458: expected 44 fields, saw 46\\nSkipping line 34459: expected 44 fields, saw 46\\nSkipping line 34460: expected 44 fields, saw 46\\nSkipping line 34461: expected 44 fields, saw 46\\nSkipping line 34462: expected 44 fields, saw 46\\nSkipping line 34463: expected 44 fields, saw 46\\nSkipping line 34464: expected 44 fields, saw 46\\nSkipping line 34465: expected 44 fields, saw 46\\nSkipping line 34466: expected 44 fields, saw 46\\nSkipping line 34467: expected 44 fields, saw 46\\nSkipping line 34468: expected 44 fields, saw 46\\nSkipping line 34469: expected 44 fields, saw 46\\nSkipping line 34470: expected 44 fields, saw 46\\nSkipping line 34471: expected 44 fields, saw 46\\nSkipping line 34472: expected 44 fields, saw 46\\nSkipping line 34473: expected 44 fields, saw 46\\nSkipping line 34474: expected 44 fields, saw 46\\nSkipping line 34475: expected 44 fields, saw 46\\nSkipping line 34476: expected 44 fields, saw 46\\nSkipping line 34477: expected 44 fields, saw 46\\nSkipping line 34478: expected 44 fields, saw 46\\nSkipping line 34479: expected 44 fields, saw 46\\nSkipping line 34480: expected 44 fields, saw 46\\nSkipping line 34481: expected 44 fields, saw 46\\nSkipping line 34482: expected 44 fields, saw 46\\nSkipping line 34483: expected 44 fields, saw 46\\nSkipping line 34484: expected 44 fields, saw 46\\nSkipping line 34485: expected 44 fields, saw 46\\nSkipping line 34486: expected 44 fields, saw 46\\nSkipping line 34487: expected 44 fields, saw 46\\nSkipping line 34488: expected 44 fields, saw 46\\nSkipping line 34489: expected 44 fields, saw 46\\nSkipping line 34490: expected 44 fields, saw 46\\nSkipping line 34491: expected 44 fields, saw 46\\nSkipping line 34492: expected 44 fields, saw 46\\nSkipping line 34493: expected 44 fields, saw 46\\nSkipping line 34494: expected 44 fields, saw 46\\nSkipping line 34495: expected 44 fields, saw 46\\nSkipping line 34496: expected 44 fields, saw 46\\nSkipping line 34497: expected 44 fields, saw 46\\nSkipping line 34498: expected 44 fields, saw 46\\nSkipping line 34499: expected 44 fields, saw 46\\nSkipping line 34500: expected 44 fields, saw 46\\nSkipping line 34501: expected 44 fields, saw 46\\nSkipping line 34502: expected 44 fields, saw 46\\nSkipping line 34503: expected 44 fields, saw 46\\nSkipping line 34504: expected 44 fields, saw 46\\nSkipping line 34505: expected 44 fields, saw 46\\nSkipping line 34506: expected 44 fields, saw 46\\nSkipping line 34507: expected 44 fields, saw 46\\nSkipping line 34508: expected 44 fields, saw 46\\nSkipping line 34509: expected 44 fields, saw 46\\nSkipping line 34510: expected 44 fields, saw 46\\nSkipping line 34511: expected 44 fields, saw 46\\nSkipping line 34512: expected 44 fields, saw 46\\nSkipping line 34513: expected 44 fields, saw 46\\nSkipping line 34514: expected 44 fields, saw 46\\nSkipping line 34515: expected 44 fields, saw 46\\nSkipping line 34516: expected 44 fields, saw 46\\nSkipping line 34517: expected 44 fields, saw 46\\nSkipping line 34518: expected 44 fields, saw 46\\nSkipping line 34519: expected 44 fields, saw 46\\nSkipping line 34520: expected 44 fields, saw 46\\nSkipping line 34521: expected 44 fields, saw 46\\nSkipping line 34522: expected 44 fields, saw 46\\nSkipping line 34523: expected 44 fields, saw 46\\nSkipping line 34524: expected 44 fields, saw 46\\nSkipping line 34525: expected 44 fields, saw 46\\nSkipping line 34526: expected 44 fields, saw 46\\nSkipping line 34527: expected 44 fields, saw 46\\nSkipping line 34528: expected 44 fields, saw 46\\nSkipping line 34529: expected 44 fields, saw 46\\nSkipping line 34530: expected 44 fields, saw 46\\nSkipping line 34531: expected 44 fields, saw 46\\nSkipping line 34532: expected 44 fields, saw 46\\nSkipping line 34533: expected 44 fields, saw 46\\nSkipping line 34534: expected 44 fields, saw 46\\nSkipping line 34535: expected 44 fields, saw 46\\nSkipping line 34536: expected 44 fields, saw 46\\nSkipping line 34537: expected 44 fields, saw 46\\nSkipping line 34538: expected 44 fields, saw 46\\nSkipping line 34539: expected 44 fields, saw 46\\nSkipping line 34540: expected 44 fields, saw 46\\nSkipping line 34541: expected 44 fields, saw 46\\nSkipping line 34542: expected 44 fields, saw 46\\nSkipping line 34543: expected 44 fields, saw 46\\nSkipping line 34544: expected 44 fields, saw 46\\nSkipping line 34545: expected 44 fields, saw 46\\nSkipping line 34546: expected 44 fields, saw 46\\nSkipping line 34547: expected 44 fields, saw 46\\nSkipping line 34548: expected 44 fields, saw 46\\nSkipping line 34549: expected 44 fields, saw 46\\nSkipping line 34550: expected 44 fields, saw 46\\nSkipping line 34551: expected 44 fields, saw 46\\nSkipping line 34552: expected 44 fields, saw 46\\nSkipping line 34553: expected 44 fields, saw 46\\nSkipping line 34554: expected 44 fields, saw 46\\nSkipping line 34555: expected 44 fields, saw 46\\nSkipping line 34556: expected 44 fields, saw 46\\nSkipping line 34557: expected 44 fields, saw 46\\nSkipping line 34558: expected 44 fields, saw 46\\nSkipping line 34559: expected 44 fields, saw 46\\nSkipping line 34560: expected 44 fields, saw 46\\nSkipping line 34561: expected 44 fields, saw 46\\nSkipping line 34562: expected 44 fields, saw 46\\nSkipping line 34563: expected 44 fields, saw 46\\nSkipping line 34564: expected 44 fields, saw 46\\nSkipping line 34565: expected 44 fields, saw 46\\nSkipping line 34566: expected 44 fields, saw 46\\nSkipping line 34567: expected 44 fields, saw 46\\nSkipping line 34568: expected 44 fields, saw 46\\nSkipping line 34569: expected 44 fields, saw 46\\nSkipping line 34570: expected 44 fields, saw 46\\nSkipping line 34571: expected 44 fields, saw 46\\nSkipping line 34572: expected 44 fields, saw 46\\nSkipping line 34573: expected 44 fields, saw 46\\nSkipping line 34574: expected 44 fields, saw 46\\nSkipping line 34575: expected 44 fields, saw 46\\nSkipping line 34576: expected 44 fields, saw 46\\nSkipping line 34577: expected 44 fields, saw 46\\nSkipping line 34578: expected 44 fields, saw 46\\nSkipping line 34579: expected 44 fields, saw 46\\nSkipping line 34580: expected 44 fields, saw 46\\nSkipping line 34581: expected 44 fields, saw 46\\nSkipping line 34582: expected 44 fields, saw 46\\nSkipping line 34583: expected 44 fields, saw 46\\nSkipping line 34584: expected 44 fields, saw 46\\nSkipping line 34585: expected 44 fields, saw 46\\nSkipping line 34586: expected 44 fields, saw 46\\nSkipping line 34587: expected 44 fields, saw 46\\nSkipping line 34588: expected 44 fields, saw 46\\nSkipping line 34589: expected 44 fields, saw 46\\nSkipping line 34590: expected 44 fields, saw 46\\nSkipping line 34591: expected 44 fields, saw 46\\nSkipping line 34592: expected 44 fields, saw 46\\nSkipping line 34593: expected 44 fields, saw 46\\nSkipping line 34594: expected 44 fields, saw 46\\nSkipping line 34595: expected 44 fields, saw 46\\nSkipping line 34596: expected 44 fields, saw 46\\nSkipping line 34597: expected 44 fields, saw 46\\nSkipping line 34598: expected 44 fields, saw 46\\nSkipping line 34599: expected 44 fields, saw 46\\nSkipping line 34600: expected 44 fields, saw 46\\nSkipping line 34601: expected 44 fields, saw 46\\nSkipping line 34602: expected 44 fields, saw 46\\nSkipping line 34603: expected 44 fields, saw 46\\nSkipping line 34604: expected 44 fields, saw 46\\nSkipping line 34605: expected 44 fields, saw 46\\nSkipping line 34606: expected 44 fields, saw 46\\nSkipping line 34607: expected 44 fields, saw 46\\nSkipping line 34608: expected 44 fields, saw 46\\nSkipping line 34609: expected 44 fields, saw 46\\nSkipping line 34610: expected 44 fields, saw 46\\nSkipping line 34611: expected 44 fields, saw 46\\nSkipping line 34612: expected 44 fields, saw 46\\nSkipping line 34613: expected 44 fields, saw 46\\nSkipping line 34614: expected 44 fields, saw 46\\nSkipping line 34615: expected 44 fields, saw 46\\nSkipping line 34616: expected 44 fields, saw 46\\nSkipping line 34617: expected 44 fields, saw 46\\nSkipping line 34618: expected 44 fields, saw 46\\nSkipping line 34619: expected 44 fields, saw 46\\nSkipping line 34620: expected 44 fields, saw 46\\nSkipping line 34621: expected 44 fields, saw 46\\nSkipping line 34622: expected 44 fields, saw 46\\nSkipping line 34623: expected 44 fields, saw 46\\nSkipping line 34624: expected 44 fields, saw 46\\nSkipping line 34625: expected 44 fields, saw 46\\nSkipping line 34626: expected 44 fields, saw 46\\nSkipping line 34627: expected 44 fields, saw 46\\nSkipping line 34628: expected 44 fields, saw 46\\nSkipping line 34629: expected 44 fields, saw 46\\nSkipping line 34630: expected 44 fields, saw 46\\nSkipping line 34631: expected 44 fields, saw 46\\nSkipping line 34632: expected 44 fields, saw 46\\nSkipping line 34633: expected 44 fields, saw 46\\nSkipping line 34634: expected 44 fields, saw 46\\nSkipping line 34635: expected 44 fields, saw 46\\nSkipping line 34636: expected 44 fields, saw 46\\nSkipping line 34637: expected 44 fields, saw 46\\nSkipping line 34638: expected 44 fields, saw 46\\nSkipping line 34639: expected 44 fields, saw 46\\nSkipping line 34640: expected 44 fields, saw 46\\nSkipping line 34641: expected 44 fields, saw 46\\nSkipping line 34642: expected 44 fields, saw 46\\nSkipping line 34643: expected 44 fields, saw 46\\nSkipping line 34644: expected 44 fields, saw 46\\nSkipping line 34645: expected 44 fields, saw 46\\nSkipping line 34646: expected 44 fields, saw 46\\nSkipping line 34647: expected 44 fields, saw 46\\nSkipping line 34648: expected 44 fields, saw 46\\nSkipping line 34649: expected 44 fields, saw 46\\nSkipping line 34650: expected 44 fields, saw 46\\nSkipping line 34651: expected 44 fields, saw 46\\nSkipping line 34652: expected 44 fields, saw 46\\nSkipping line 34653: expected 44 fields, saw 46\\nSkipping line 34654: expected 44 fields, saw 46\\nSkipping line 34655: expected 44 fields, saw 46\\nSkipping line 34656: expected 44 fields, saw 46\\nSkipping line 34657: expected 44 fields, saw 46\\nSkipping line 34658: expected 44 fields, saw 46\\nSkipping line 34659: expected 44 fields, saw 46\\nSkipping line 34660: expected 44 fields, saw 46\\nSkipping line 34661: expected 44 fields, saw 46\\nSkipping line 34662: expected 44 fields, saw 46\\nSkipping line 34663: expected 44 fields, saw 46\\nSkipping line 34664: expected 44 fields, saw 46\\nSkipping line 34665: expected 44 fields, saw 46\\nSkipping line 34666: expected 44 fields, saw 46\\nSkipping line 34667: expected 44 fields, saw 46\\nSkipping line 34668: expected 44 fields, saw 46\\nSkipping line 34669: expected 44 fields, saw 46\\nSkipping line 34670: expected 44 fields, saw 46\\nSkipping line 34671: expected 44 fields, saw 46\\nSkipping line 34672: expected 44 fields, saw 46\\nSkipping line 34673: expected 44 fields, saw 46\\nSkipping line 34674: expected 44 fields, saw 46\\nSkipping line 34675: expected 44 fields, saw 46\\nSkipping line 34676: expected 44 fields, saw 46\\nSkipping line 34677: expected 44 fields, saw 46\\nSkipping line 34678: expected 44 fields, saw 46\\nSkipping line 34679: expected 44 fields, saw 46\\nSkipping line 34680: expected 44 fields, saw 46\\nSkipping line 34681: expected 44 fields, saw 46\\nSkipping line 34682: expected 44 fields, saw 46\\nSkipping line 34683: expected 44 fields, saw 46\\nSkipping line 34684: expected 44 fields, saw 46\\nSkipping line 34685: expected 44 fields, saw 46\\nSkipping line 34686: expected 44 fields, saw 46\\nSkipping line 34687: expected 44 fields, saw 46\\nSkipping line 34688: expected 44 fields, saw 46\\nSkipping line 34689: expected 44 fields, saw 46\\nSkipping line 34690: expected 44 fields, saw 46\\nSkipping line 34691: expected 44 fields, saw 46\\nSkipping line 34692: expected 44 fields, saw 46\\nSkipping line 34693: expected 44 fields, saw 46\\nSkipping line 34694: expected 44 fields, saw 46\\nSkipping line 34695: expected 44 fields, saw 46\\nSkipping line 34696: expected 44 fields, saw 46\\nSkipping line 34697: expected 44 fields, saw 46\\nSkipping line 34698: expected 44 fields, saw 46\\nSkipping line 34699: expected 44 fields, saw 46\\nSkipping line 34700: expected 44 fields, saw 46\\nSkipping line 34701: expected 44 fields, saw 46\\nSkipping line 34702: expected 44 fields, saw 46\\nSkipping line 34703: expected 44 fields, saw 46\\nSkipping line 34704: expected 44 fields, saw 46\\nSkipping line 34705: expected 44 fields, saw 46\\nSkipping line 34706: expected 44 fields, saw 46\\nSkipping line 34707: expected 44 fields, saw 46\\nSkipping line 34708: expected 44 fields, saw 46\\nSkipping line 34709: expected 44 fields, saw 46\\nSkipping line 34710: expected 44 fields, saw 46\\nSkipping line 34711: expected 44 fields, saw 46\\nSkipping line 34712: expected 44 fields, saw 46\\nSkipping line 34713: expected 44 fields, saw 46\\nSkipping line 34714: expected 44 fields, saw 46\\nSkipping line 34715: expected 44 fields, saw 46\\nSkipping line 34716: expected 44 fields, saw 46\\nSkipping line 34717: expected 44 fields, saw 46\\nSkipping line 34718: expected 44 fields, saw 46\\nSkipping line 34719: expected 44 fields, saw 46\\nSkipping line 34720: expected 44 fields, saw 46\\nSkipping line 34721: expected 44 fields, saw 46\\nSkipping line 34722: expected 44 fields, saw 46\\nSkipping line 34723: expected 44 fields, saw 46\\nSkipping line 34724: expected 44 fields, saw 46\\nSkipping line 34725: expected 44 fields, saw 46\\nSkipping line 34726: expected 44 fields, saw 46\\nSkipping line 34727: expected 44 fields, saw 46\\nSkipping line 34728: expected 44 fields, saw 46\\nSkipping line 34729: expected 44 fields, saw 46\\nSkipping line 34730: expected 44 fields, saw 46\\nSkipping line 34731: expected 44 fields, saw 46\\nSkipping line 34732: expected 44 fields, saw 46\\nSkipping line 34733: expected 44 fields, saw 46\\nSkipping line 34734: expected 44 fields, saw 46\\nSkipping line 34735: expected 44 fields, saw 46\\nSkipping line 34736: expected 44 fields, saw 46\\nSkipping line 34737: expected 44 fields, saw 46\\nSkipping line 34738: expected 44 fields, saw 46\\nSkipping line 34739: expected 44 fields, saw 46\\nSkipping line 34740: expected 44 fields, saw 46\\nSkipping line 34741: expected 44 fields, saw 46\\nSkipping line 34742: expected 44 fields, saw 46\\n'\n"
     ]
    },
    {
     "name": "stderr",
     "output_type": "stream",
     "text": [
      "/home/ubuntu/anaconda3/lib/python3.6/site-packages/IPython/core/interactiveshell.py:2785: DtypeWarning: Columns (38,39,40,41,42) have mixed types. Specify dtype option on import or set low_memory=False.\n",
      "  interactivity=interactivity, compiler=compiler, result=result)\n"
     ]
    }
   ],
   "source": [
    "Final_test = pd.read_csv('Every_Season_Data/[2017-2018]-combined-stats.csv', error_bad_lines=False)"
   ]
  },
  {
   "cell_type": "code",
   "execution_count": 3,
   "metadata": {},
   "outputs": [
    {
     "name": "stderr",
     "output_type": "stream",
     "text": [
      "/home/ubuntu/clutch-baller/practice_code.py:14: SettingWithCopyWarning: \n",
      "A value is trying to be set on a copy of a slice from a DataFrame.\n",
      "Try using .loc[row_indexer,col_indexer] = value instead\n",
      "\n",
      "See the caveats in the documentation: http://pandas.pydata.org/pandas-docs/stable/indexing.html#indexing-view-versus-copy\n",
      "  df2['winner'] = np.where(df2.pts_difference >0, 'away', 'home')\n"
     ]
    }
   ],
   "source": [
    "Final_test = pc.add_columns(Final_test)\n",
    "Final_test = pc.remove_junk_rows(Final_test, 'event_type')"
   ]
  },
  {
   "cell_type": "code",
   "execution_count": 4,
   "metadata": {},
   "outputs": [],
   "source": [
    "col_to_remove = ['a1', 'a2', 'a3','a4','a5','h1','h2','h3','h4','h5', 'play_length', 'entered', 'left', 'possession', 'shot_distance', 'original_x', 'original_y', 'converted_x', 'converted_y', 'num', 'away', 'home', 'outof', 'opponent', 'reason', 'elapsed', 'play_id']\n",
    "Final_test = pc.remove_col(Final_test, col_to_remove)"
   ]
  },
  {
   "cell_type": "code",
   "execution_count": 5,
   "metadata": {},
   "outputs": [],
   "source": [
    "Final_test = pc.replace_nan(Final_test)"
   ]
  },
  {
   "cell_type": "code",
   "execution_count": 6,
   "metadata": {},
   "outputs": [],
   "source": [
    "test_regular_season, test_playoffs = pc.regular_or_playoffs(Final_test, 'data_set')"
   ]
  },
  {
   "cell_type": "code",
   "execution_count": 7,
   "metadata": {},
   "outputs": [],
   "source": [
    "clutch_test = pc.clutch_moment(test_regular_season)\n",
    "clutch_test = pc.remove_not_imp_games(clutch_test, 'game_id')"
   ]
  },
  {
   "cell_type": "code",
   "execution_count": 8,
   "metadata": {},
   "outputs": [],
   "source": [
    "clutch_test['total_blocks'] = (clutch_test['block'] != '')*1\n",
    "clutch_test['assist_count'] = (clutch_test['assist'] != '')*1"
   ]
  },
  {
   "cell_type": "code",
   "execution_count": null,
   "metadata": {},
   "outputs": [],
   "source": []
  },
  {
   "cell_type": "code",
   "execution_count": 9,
   "metadata": {},
   "outputs": [
    {
     "name": "stderr",
     "output_type": "stream",
     "text": [
      "/home/ubuntu/clutch-baller/individual_stats.py:10: FutureWarning: convert_objects is deprecated.  To re-infer data dtypes for object columns, use DataFrame.infer_objects()\n",
      "For all other conversions use the data-type specific converters pd.to_datetime, pd.to_timedelta and pd.to_numeric.\n",
      "  new_df = df.convert_objects(convert_numeric=True)\n"
     ]
    }
   ],
   "source": [
    "test_stats_clutch = ind.object_to_int(clutch_test, 'points')"
   ]
  },
  {
   "cell_type": "code",
   "execution_count": 10,
   "metadata": {},
   "outputs": [],
   "source": [
    "assists = ind.assist_stats(test_stats_clutch)\n",
    "blks = ind.blk_stats(test_stats_clutch)\n",
    "names = ind.player_names(test_stats_clutch)"
   ]
  },
  {
   "cell_type": "code",
   "execution_count": 11,
   "metadata": {},
   "outputs": [],
   "source": [
    "full_test_clutch_stats = ind.merge_all(names, blks, assists, test_stats_clutch)\n",
    "full_test_clutch_stats = ind.get_per_game_stats(full_test_clutch_stats)"
   ]
  },
  {
   "cell_type": "code",
   "execution_count": 15,
   "metadata": {},
   "outputs": [],
   "source": [
    "full_test_clutch_stats = ind.merge_ids(full_test_clutch_stats, ids)"
   ]
  },
  {
   "cell_type": "code",
   "execution_count": 14,
   "metadata": {},
   "outputs": [],
   "source": [
    "ids = ind.add_ids(full_test_clutch_stats)"
   ]
  },
  {
   "cell_type": "code",
   "execution_count": 18,
   "metadata": {},
   "outputs": [],
   "source": [
    "full_test_clutch_stats.to_csv('test.csv', encoding='utf-8', index=False)"
   ]
  },
  {
   "cell_type": "code",
   "execution_count": 19,
   "metadata": {},
   "outputs": [],
   "source": [
    "test_playoffs.to_csv('playoffs.csv', encoding='utf-8', index=False)"
   ]
  },
  {
   "cell_type": "code",
   "execution_count": 20,
   "metadata": {},
   "outputs": [],
   "source": [
    "test_regular_season.to_csv('test_reg_season.csv', encoding='utf-8', index=False)"
   ]
  },
  {
   "cell_type": "code",
   "execution_count": null,
   "metadata": {},
   "outputs": [],
   "source": []
  },
  {
   "cell_type": "code",
   "execution_count": null,
   "metadata": {},
   "outputs": [],
   "source": []
  },
  {
   "cell_type": "code",
   "execution_count": null,
   "metadata": {},
   "outputs": [],
   "source": []
  },
  {
   "cell_type": "code",
   "execution_count": null,
   "metadata": {},
   "outputs": [],
   "source": []
  },
  {
   "cell_type": "code",
   "execution_count": 48,
   "metadata": {},
   "outputs": [
    {
     "name": "stderr",
     "output_type": "stream",
     "text": [
      "/home/ubuntu/anaconda3/lib/python3.6/site-packages/IPython/core/interactiveshell.py:2785: DtypeWarning: Columns (38) have mixed types. Specify dtype option on import or set low_memory=False.\n",
      "  interactivity=interactivity, compiler=compiler, result=result)\n"
     ]
    }
   ],
   "source": [
    "thirteen = pd.read_csv('Every_Season_Data/[2016-2017]-combined-stats.csv')"
   ]
  },
  {
   "cell_type": "code",
   "execution_count": 49,
   "metadata": {},
   "outputs": [
    {
     "name": "stderr",
     "output_type": "stream",
     "text": [
      "/home/ubuntu/clutch-baller/practice_code.py:14: SettingWithCopyWarning: \n",
      "A value is trying to be set on a copy of a slice from a DataFrame.\n",
      "Try using .loc[row_indexer,col_indexer] = value instead\n",
      "\n",
      "See the caveats in the documentation: http://pandas.pydata.org/pandas-docs/stable/indexing.html#indexing-view-versus-copy\n",
      "  df2['winner'] = np.where(df2.pts_difference >0, 'away', 'home')\n"
     ]
    }
   ],
   "source": [
    "first_test = pc.add_columns(thirteen)\n",
    "first_test = pc.remove_junk_rows(first_test, 'event_type')"
   ]
  },
  {
   "cell_type": "code",
   "execution_count": 50,
   "metadata": {},
   "outputs": [],
   "source": [
    "col_to_remove = ['a1', 'a2', 'a3','a4','a5','h1','h2','h3','h4','h5', 'play_length', 'entered', 'left', 'possession', 'shot_distance', 'original_x', 'original_y', 'converted_x', 'converted_y', 'num', 'away', 'home', 'outof', 'opponent', 'reason', 'elapsed', 'play_id']\n",
    "first_test = pc.remove_col(first_test, col_to_remove)"
   ]
  },
  {
   "cell_type": "code",
   "execution_count": 51,
   "metadata": {},
   "outputs": [],
   "source": [
    "first_test = pc.replace_nan(first_test)"
   ]
  },
  {
   "cell_type": "code",
   "execution_count": 52,
   "metadata": {},
   "outputs": [],
   "source": [
    "first_test_regular_season, first_test_playoffs = pc.regular_or_playoffs(first_test, 'data_set')"
   ]
  },
  {
   "cell_type": "code",
   "execution_count": 53,
   "metadata": {},
   "outputs": [],
   "source": [
    "clutch_first_test = pc.clutch_moment(first_test_regular_season)\n",
    "clutch_first_test = pc.remove_not_imp_games(clutch_first_test, 'game_id')"
   ]
  },
  {
   "cell_type": "code",
   "execution_count": 54,
   "metadata": {},
   "outputs": [],
   "source": [
    "clutch_first_test['total_blocks'] = (clutch_first_test['block'] != '')*1\n",
    "clutch_first_test['assist_count'] = (clutch_first_test['assist'] != '')*1"
   ]
  },
  {
   "cell_type": "code",
   "execution_count": 55,
   "metadata": {},
   "outputs": [
    {
     "name": "stderr",
     "output_type": "stream",
     "text": [
      "/home/ubuntu/clutch-baller/individual_stats.py:10: FutureWarning: convert_objects is deprecated.  To re-infer data dtypes for object columns, use DataFrame.infer_objects()\n",
      "For all other conversions use the data-type specific converters pd.to_datetime, pd.to_timedelta and pd.to_numeric.\n",
      "  new_df = df.convert_objects(convert_numeric=True)\n"
     ]
    }
   ],
   "source": [
    "first_test_stats_clutch = ind.object_to_int(clutch_first_test, 'points')"
   ]
  },
  {
   "cell_type": "code",
   "execution_count": 56,
   "metadata": {},
   "outputs": [],
   "source": [
    "assists = ind.assist_stats(first_test_stats_clutch)\n",
    "blks = ind.blk_stats(first_test_stats_clutch)\n",
    "names = ind.player_names(first_test_stats_clutch)"
   ]
  },
  {
   "cell_type": "code",
   "execution_count": 57,
   "metadata": {},
   "outputs": [],
   "source": [
    "first_test_clutch_stats = ind.merge_all(names, blks, assists, first_test_stats_clutch)\n",
    "first_test_clutch_stats = ind.get_per_game_stats(first_test_clutch_stats)"
   ]
  },
  {
   "cell_type": "code",
   "execution_count": 58,
   "metadata": {},
   "outputs": [],
   "source": [
    "ids = ind.add_ids(first_test_clutch_stats)\n",
    "first_test_clutch_stats = ind.merge_ids(first_test_clutch_stats, ids)"
   ]
  },
  {
   "cell_type": "code",
   "execution_count": 59,
   "metadata": {},
   "outputs": [],
   "source": [
    "first_test_clutch_stats.to_csv('Test_data/first_test.csv', encoding='utf-8', index=False)\n",
    "first_test_playoffs.to_csv('Test_data/first_playoffs.csv', encoding='utf-8', index=False)\n",
    "first_test_regular_season.to_csv('Test_data/first_test_reg_season.csv', encoding='utf-8', index=False)"
   ]
  },
  {
   "cell_type": "code",
   "execution_count": null,
   "metadata": {},
   "outputs": [],
   "source": []
  },
  {
   "cell_type": "code",
   "execution_count": null,
   "metadata": {},
   "outputs": [],
   "source": []
  }
 ],
 "metadata": {
  "kernelspec": {
   "display_name": "Python 3",
   "language": "python",
   "name": "python3"
  },
  "language_info": {
   "codemirror_mode": {
    "name": "ipython",
    "version": 3
   },
   "file_extension": ".py",
   "mimetype": "text/x-python",
   "name": "python",
   "nbconvert_exporter": "python",
   "pygments_lexer": "ipython3",
   "version": "3.6.5"
  }
 },
 "nbformat": 4,
 "nbformat_minor": 2
}
