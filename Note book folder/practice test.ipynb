{
 "cells": [
  {
   "cell_type": "code",
   "execution_count": 1,
   "metadata": {},
   "outputs": [],
   "source": [
    "import pandas as pd\n",
    "import numpy as np\n",
    "from numpy import inf\n",
    "import matplotlib.pyplot as plt\n",
    "import seaborn as sns\n",
    "%load_ext autoreload\n",
    "%autoreload 2\n",
    "\n",
    "from sklearn.ensemble import RandomForestClassifier, GradientBoostingClassifier\n",
    "from sklearn.metrics import accuracy_score, recall_score, precision_score, f1_score, precision_recall_curve\n",
    "\n",
    "\n",
    "from xgboost import XGBClassifier\n",
    "\n",
    "import itertools\n",
    "import random\n",
    "\n",
    "pd.set_option('display.max_columns', None)\n",
    "pd.set_option('display.max_rows', None)\n",
    "\n",
    "import practice_code as pc\n",
    "import individual_stats as ind\n",
    "\n",
    "from sklearn.model_selection import train_test_split, GridSearchCV\n",
    "\n",
    "import warnings\n",
    "warnings.filterwarnings('ignore')"
   ]
  },
  {
   "cell_type": "code",
   "execution_count": 2,
   "metadata": {},
   "outputs": [],
   "source": [
    "clutch_time = pd.read_csv('CSV Files/clutch_time.csv')\n",
    "clutch_time = pc.replace_nan(clutch_time)\n",
    "clutch_time['total_blocks'] = (clutch_time['block'] != '')*1\n",
    "clutch_time['assist_count'] = (clutch_time['assist'] != '')*1"
   ]
  },
  {
   "cell_type": "code",
   "execution_count": 3,
   "metadata": {},
   "outputs": [],
   "source": [
    "reg = pd.read_csv('CSV Files/data_for_ids.csv')\n",
    "ids = ind.add_ids(reg)"
   ]
  },
  {
   "cell_type": "markdown",
   "metadata": {},
   "source": [
    "# Target (y_test 15-16 season)"
   ]
  },
  {
   "cell_type": "code",
   "execution_count": 4,
   "metadata": {},
   "outputs": [],
   "source": [
    "first_target= clutch_time[clutch_time['data_set'] == '2015-2016 Regular Season']\n",
    "first_target = ind.object_to_int(first_target, 'points')\n",
    "assists = ind.assist_stats(first_target)\n",
    "blks = ind.blk_stats(first_target)\n",
    "names = ind.player_names(first_target)\n",
    "first_target_stats = ind.merge_all(names, blks, assists, first_target)\n",
    "first_target_stats = ind.get_per_game_stats(first_target_stats)\n",
    "first_target_stats = ind.merge_ids(first_target_stats, ids)\n",
    "first_target_stats = ind.add_league_avg(first_target_stats)\n"
   ]
  },
  {
   "cell_type": "markdown",
   "metadata": {},
   "source": [
    "# X_test data (04-15)"
   ]
  },
  {
   "cell_type": "code",
   "execution_count": 5,
   "metadata": {},
   "outputs": [],
   "source": [
    "test_clutch = clutch_time[clutch_time['data_set'] != '2015-2016 Regular Season']\n",
    "test_clutch_time = pc.replace_nan(test_clutch)\n",
    "test_clutch_time['total_blocks'] = (test_clutch_time['block'] != '')*1\n",
    "test_clutch_time['assist_count'] = (test_clutch_time['assist'] != '')*1\n",
    "player_stats_clutch = ind.object_to_int(test_clutch_time, 'points')\n",
    "assists = ind.assist_stats(player_stats_clutch)\n",
    "blks = ind.blk_stats(player_stats_clutch)\n",
    "names = ind.player_names(player_stats_clutch)\n",
    "test_clutch_stats = ind.merge_all(names, blks, assists, player_stats_clutch)\n",
    "test_clutch_stats = ind.get_per_game_stats(test_clutch_stats)\n",
    "test_clutch_stats = ind.merge_ids(test_clutch_stats, ids)\n",
    "test_clutch_stats = ind.add_league_avg(test_clutch_stats)\n"
   ]
  },
  {
   "cell_type": "markdown",
   "metadata": {},
   "source": [
    "# X_train data (04- 14 season)"
   ]
  },
  {
   "cell_type": "code",
   "execution_count": 6,
   "metadata": {},
   "outputs": [],
   "source": [
    "train_clutch = clutch_time[clutch_time['data_set'] != '2015-2016 Regular Season']"
   ]
  },
  {
   "cell_type": "code",
   "execution_count": 7,
   "metadata": {},
   "outputs": [],
   "source": [
    "train_clutch = train_clutch[train_clutch['data_set'] != '2014-2015 Regular Season']"
   ]
  },
  {
   "cell_type": "code",
   "execution_count": 8,
   "metadata": {},
   "outputs": [],
   "source": [
    "x_data = ind.object_to_int(train_clutch, 'points')\n",
    "assists = ind.assist_stats(x_data)\n",
    "blks = ind.blk_stats(x_data)\n",
    "names = ind.player_names(x_data)\n",
    "x_train_stats = ind.merge_all(names, blks, assists, x_data)\n",
    "x_train_stats = ind.get_per_game_stats(x_train_stats)\n",
    "x_train_stats = ind.merge_ids(x_train_stats, ids)\n",
    "x_train_stats = ind.add_league_avg(x_train_stats)"
   ]
  },
  {
   "cell_type": "markdown",
   "metadata": {},
   "source": [
    "# y_train data (14-15 season)"
   ]
  },
  {
   "cell_type": "code",
   "execution_count": 9,
   "metadata": {},
   "outputs": [],
   "source": [
    "y_data = clutch_time[clutch_time['data_set'] == '2014-2015 Regular Season']\n",
    "y_data = ind.object_to_int(y_data, 'points')\n",
    "assists = ind.assist_stats(y_data)\n",
    "blks = ind.blk_stats(y_data)\n",
    "names = ind.player_names(y_data)\n",
    "y_train_stats = ind.merge_all(names, blks, assists, y_data)\n",
    "y_train_stats = ind.get_per_game_stats(y_train_stats)\n",
    "y_train_stats = ind.merge_ids(y_train_stats, ids)\n",
    "y_train_stats = ind.add_league_avg(y_train_stats)"
   ]
  },
  {
   "cell_type": "code",
   "execution_count": 10,
   "metadata": {},
   "outputs": [],
   "source": [
    "turnover_data = pd.read_csv('CSV Files/reg_turnovers.csv')"
   ]
  },
  {
   "cell_type": "code",
   "execution_count": 11,
   "metadata": {},
   "outputs": [],
   "source": [
    "turn_y_train = turnover_data[turnover_data['data_set'] == '2014-2015 Regular Season']\n",
    "first_target_turn = turnover_data[turnover_data['data_set'] == '2015-2016 Regular Season']"
   ]
  },
  {
   "cell_type": "code",
   "execution_count": 12,
   "metadata": {},
   "outputs": [],
   "source": [
    "x_test_turn = turnover_data[turnover_data['data_set']!= '2015-2016 Regular Season']"
   ]
  },
  {
   "cell_type": "code",
   "execution_count": 13,
   "metadata": {},
   "outputs": [],
   "source": [
    "x_train_turn = turnover_data[turnover_data['data_set']!= '2015-2016 Regular Season']"
   ]
  },
  {
   "cell_type": "code",
   "execution_count": 14,
   "metadata": {},
   "outputs": [],
   "source": [
    "x_train_turn = x_train_turn[x_train_turn['data_set']!= '2014-2015 Regular Season']"
   ]
  },
  {
   "cell_type": "code",
   "execution_count": 15,
   "metadata": {},
   "outputs": [],
   "source": [
    "x_test_turn['pts_difference'] = x_test_turn['away_score'] - x_test_turn['home_score']\n",
    "x_test_turn = pc.clutch_moment(x_test_turn)\n",
    "x = x_test_turn.groupby('player').count()\n",
    "x_test_turn = x[['event_type']]\n",
    "x_test_turn.reset_index(level=0, inplace=True)\n",
    "x_test_turn = x_test_turn.rename(columns={'event_type':'total_turnovers'})\n",
    "test_clutch_stats = pd.merge(test_clutch_stats,x_test_turn,on='player', how = 'left')\n",
    "test_clutch_stats = test_clutch_stats.fillna(0)\n",
    "test_clutch_stats['TPG'] = round(test_clutch_stats['total_turnovers'] / test_clutch_stats['total_games'],2)\n"
   ]
  },
  {
   "cell_type": "code",
   "execution_count": 16,
   "metadata": {},
   "outputs": [],
   "source": [
    "x_train_turn['pts_difference'] = x_train_turn['away_score'] - x_train_turn['home_score']\n",
    "x_train_turn = pc.clutch_moment(x_train_turn)\n",
    "x = x_train_turn.groupby('player').count()\n",
    "x_train_turn = x[['event_type']]\n",
    "x_train_turn.reset_index(level=0, inplace=True)\n",
    "x_train_turn = x_train_turn.rename(columns={'event_type':'total_turnovers'})\n",
    "x_train_stats = pd.merge(x_train_stats,x_train_turn,on='player', how = 'left')\n",
    "x_train_stats = x_train_stats.fillna(0)\n",
    "x_train_stats['TPG'] = round(x_train_stats['total_turnovers'] / x_train_stats['total_games'],2)\n"
   ]
  },
  {
   "cell_type": "code",
   "execution_count": 17,
   "metadata": {},
   "outputs": [],
   "source": [
    "first_target_turn['pts_difference'] = first_target_turn['away_score'] - first_target_turn['home_score']\n",
    "first_target_turn = pc.clutch_moment(first_target_turn)\n",
    "x = first_target_turn.groupby('player').count()\n",
    "first_target_turn = x[['event_type']]\n",
    "first_target_turn.reset_index(level=0, inplace=True)\n",
    "first_target_turn = first_target_turn.rename(columns={'event_type':'total_turnovers'})\n",
    "first_target_stats = pd.merge(first_target_stats,first_target_turn,on='player', how = 'left')\n",
    "first_target_stats = first_target_stats.fillna(0)\n",
    "first_target_stats['TPG'] = round(first_target_stats['total_turnovers'] / first_target_stats['total_games'],2)\n"
   ]
  },
  {
   "cell_type": "code",
   "execution_count": 18,
   "metadata": {},
   "outputs": [],
   "source": [
    "turn_y_train['pts_difference'] = turn_y_train['away_score'] - turn_y_train['home_score']\n",
    "turn_y_train = pc.clutch_moment(turn_y_train)\n",
    "x = turn_y_train.groupby('player').count()\n",
    "turn_y_train = x[['event_type']]\n",
    "turn_y_train.reset_index(level=0, inplace=True)\n",
    "turn_y_train = turn_y_train.rename(columns={'event_type':'total_turnovers'})\n",
    "y_train_stats = pd.merge(y_train_stats,turn_y_train,on='player', how = 'left')\n",
    "y_train_stats = y_train_stats.fillna(0)\n",
    "y_train_stats['TPG'] = round(y_train_stats['total_turnovers'] / y_train_stats['total_games'],2)\n"
   ]
  },
  {
   "cell_type": "code",
   "execution_count": 19,
   "metadata": {},
   "outputs": [],
   "source": [
    "x_train_stats = ind.add_scores(x_train_stats)\n",
    "first_target_stats = ind.add_scores(first_target_stats)\n",
    "y_train_stats = ind.add_scores(y_train_stats)\n",
    "test_clutch_stats = ind.add_scores(test_clutch_stats)"
   ]
  },
  {
   "cell_type": "code",
   "execution_count": 20,
   "metadata": {},
   "outputs": [],
   "source": [
    "x_train_stats = ind.is_clutch(x_train_stats)\n",
    "first_target_stats = ind.is_clutch(first_target_stats)\n",
    "y_train_stats = ind.is_clutch(y_train_stats)\n",
    "test_clutch_stats = ind.is_clutch(test_clutch_stats)"
   ]
  },
  {
   "cell_type": "code",
   "execution_count": 21,
   "metadata": {},
   "outputs": [],
   "source": [
    "players = x_train_stats[['player']]\n",
    "y_train_stats = y_train_stats.merge(players, on='player')\n",
    "\n",
    "x = y_train_stats[['player']]\n",
    "x_train_stats = x_train_stats.merge(x, on='player')\n"
   ]
  },
  {
   "cell_type": "code",
   "execution_count": 22,
   "metadata": {},
   "outputs": [],
   "source": [
    "d = first_target_stats[['player']]\n",
    "test_clutch_stats = test_clutch_stats.merge(d, on='player')\n",
    "\n",
    "y = test_clutch_stats[['player']]\n",
    "first_target_stats = first_target_stats.merge(y, on='player')\n"
   ]
  },
  {
   "cell_type": "code",
   "execution_count": 31,
   "metadata": {},
   "outputs": [],
   "source": [
    "# x_train = x_train_stats[['shots_missed', '3pt_shots', 'assist_count', 'ORPG', 'RPG', 'FT_score','total_score']]\n",
    "y_train = y_train_stats['is_clutch']\n",
    "x_train = x_train_stats[['TPG', 'med/hard_fg%', 'total_rebound', '3pt', 'FT_made', 'Hard_2Score', '2pt%', 'off_rebound', \n",
    "'Easy_2Score', 'RPG', 'med/hard_attempts', 'total_score', 'assist_count',\n",
    "'FT_score', 'FT_missed', 'ORPG', 'shots_missed', '3pt_score']]"
   ]
  },
  {
   "cell_type": "code",
   "execution_count": 32,
   "metadata": {},
   "outputs": [],
   "source": [
    "#x_test = test_clutch_stats[['shots_missed', '3pt_shots', 'assist_count', 'ORPG', 'RPG', 'FT_score','total_score']]\n",
    "y_test = first_target_stats['is_clutch']\n",
    "x_test = test_clutch_stats[['TPG', 'med/hard_fg%', 'total_rebound', '3pt', 'FT_made', 'Hard_2Score', '2pt%', 'off_rebound', \n",
    "'Easy_2Score', 'RPG', 'med/hard_attempts', 'total_score', 'assist_count',\n",
    "'FT_score', 'FT_missed', 'ORPG', 'shots_missed', '3pt_score']]"
   ]
  },
  {
   "cell_type": "code",
   "execution_count": 33,
   "metadata": {},
   "outputs": [],
   "source": [
    "modelGB = GradientBoostingClassifier()\n",
    "modelGB.fit(x_train, y_train)\n",
    "predGB= modelGB.predict(x_test)"
   ]
  },
  {
   "cell_type": "code",
   "execution_count": 34,
   "metadata": {},
   "outputs": [
    {
     "data": {
      "text/plain": [
       "0.08695652173913045"
      ]
     },
     "execution_count": 34,
     "metadata": {},
     "output_type": "execute_result"
    }
   ],
   "source": [
    "f1_score(y_test, predGB)"
   ]
  },
  {
   "cell_type": "code",
   "execution_count": 35,
   "metadata": {},
   "outputs": [
    {
     "data": {
      "text/plain": [
       "0.7871621621621622"
      ]
     },
     "execution_count": 35,
     "metadata": {},
     "output_type": "execute_result"
    }
   ],
   "source": [
    "accuracy_score(y_test, predGB)"
   ]
  },
  {
   "cell_type": "code",
   "execution_count": 36,
   "metadata": {},
   "outputs": [
    {
     "data": {
      "text/plain": [
       "0.2"
      ]
     },
     "execution_count": 36,
     "metadata": {},
     "output_type": "execute_result"
    }
   ],
   "source": [
    "precision_score(y_test, predGB)"
   ]
  },
  {
   "cell_type": "code",
   "execution_count": 37,
   "metadata": {},
   "outputs": [
    {
     "data": {
      "text/plain": [
       "0.05555555555555555"
      ]
     },
     "execution_count": 37,
     "metadata": {},
     "output_type": "execute_result"
    }
   ],
   "source": [
    "recall_score(y_test, predGB)"
   ]
  },
  {
   "cell_type": "code",
   "execution_count": 84,
   "metadata": {},
   "outputs": [
    {
     "data": {
      "text/plain": [
       "array([4.30190634e-02, 4.37355193e-02, 1.19024038e-02, 1.09112056e-02,\n",
       "       3.29636540e-02, 1.99971554e-02, 2.36115469e-02, 5.64867708e-02,\n",
       "       5.64213629e-03, 4.61497290e-02, 4.06471353e-02, 6.25588426e-02,\n",
       "       7.52596392e-03, 3.06179149e-02, 1.89997874e-02, 3.08355508e-02,\n",
       "       5.91262213e-02, 2.75560352e-02, 5.43505828e-02, 1.99549560e-02,\n",
       "       6.71881115e-03, 3.63515267e-02, 2.13413649e-02, 2.74444138e-02,\n",
       "       2.82314801e-02, 2.46886620e-02, 1.96580199e-02, 1.07188004e-02,\n",
       "       2.96836224e-02, 5.18514178e-02, 1.51074383e-02, 1.73876583e-02,\n",
       "       3.19321636e-02, 2.06321084e-02, 1.16353958e-02, 2.49417875e-05])"
      ]
     },
     "execution_count": 84,
     "metadata": {},
     "output_type": "execute_result"
    }
   ],
   "source": [
    "x = modelGB.feature_importances_\n",
    "x"
   ]
  },
  {
   "cell_type": "code",
   "execution_count": 85,
   "metadata": {},
   "outputs": [
    {
     "data": {
      "text/plain": [
       "<matplotlib.axes._subplots.AxesSubplot at 0x7f0be9d53b00>"
      ]
     },
     "execution_count": 85,
     "metadata": {},
     "output_type": "execute_result"
    },
    {
     "data": {
      "image/png": "[encoded data removed]",
      "text/plain": [
       "<Figure size 864x576 with 1 Axes>"
      ]
     },
     "metadata": {},
     "output_type": "display_data"
    }
   ],
   "source": [
    "ig, axs = plt.subplots(1,0, figsize=(12,8))\n",
    "(pd.Series(x, index=x_test.columns)\n",
    "   .nlargest(36)\n",
    "   .plot(kind='barh'))"
   ]
  },
  {
   "cell_type": "code",
   "execution_count": 45,
   "metadata": {},
   "outputs": [],
   "source": [
    "parameters = {'learning_rate': [.22,.2], 'n_estimators': [50,150,100], 'max_depth': [12], \n",
    "                                                               'min_samples_leaf': [1]}"
   ]
  },
  {
   "cell_type": "code",
   "execution_count": 46,
   "metadata": {},
   "outputs": [
    {
     "data": {
      "text/plain": [
       "GridSearchCV(cv=10, error_score='raise',\n",
       "       estimator=GradientBoostingClassifier(criterion='friedman_mse', init=None,\n",
       "              learning_rate=0.1, loss='deviance', max_depth=3,\n",
       "              max_features=None, max_leaf_nodes=None,\n",
       "              min_impurity_decrease=0.0, min_impurity_split=None,\n",
       "              min_samples_leaf=1, min_samples_split=2,\n",
       "              min_weight_fraction_leaf=0.0, n_estimators=100,\n",
       "              presort='auto', random_state=None, subsample=1.0, verbose=0,\n",
       "              warm_start=False),\n",
       "       fit_params=None, iid=True, n_jobs=1,\n",
       "       param_grid={'learning_rate': [0.22, 0.2], 'n_estimators': [50, 150, 100], 'max_depth': [12], 'min_samples_leaf': [1]},\n",
       "       pre_dispatch='2*n_jobs', refit=True, return_train_score='warn',\n",
       "       scoring='f1', verbose=0)"
      ]
     },
     "execution_count": 46,
     "metadata": {},
     "output_type": "execute_result"
    }
   ],
   "source": [
    "gs = GridSearchCV(GradientBoostingClassifier(), parameters, cv=10, scoring='f1')\n",
    "gs.fit(x_train, y_train)"
   ]
  },
  {
   "cell_type": "code",
   "execution_count": 47,
   "metadata": {},
   "outputs": [
    {
     "data": {
      "text/plain": [
       "{'learning_rate': 0.2,\n",
       " 'max_depth': 12,\n",
       " 'min_samples_leaf': 1,\n",
       " 'n_estimators': 100}"
      ]
     },
     "execution_count": 47,
     "metadata": {},
     "output_type": "execute_result"
    }
   ],
   "source": [
    "gs.best_params_"
   ]
  },
  {
   "cell_type": "code",
   "execution_count": 48,
   "metadata": {},
   "outputs": [
    {
     "data": {
      "text/plain": [
       "0.33408522260981277"
      ]
     },
     "execution_count": 48,
     "metadata": {},
     "output_type": "execute_result"
    }
   ],
   "source": [
    "gs.best_score_"
   ]
  },
  {
   "cell_type": "code",
   "execution_count": 36,
   "metadata": {
    "collapsed": true
   },
   "outputs": [
    {
     "data": {
      "text/plain": [
       "[mean: 0.00000, std: 0.00000, params: {'learning_rate': 0.1, 'max_depth': 3, 'min_samples_leaf': 1, 'n_estimators': 10},\n",
       " mean: 0.22293, std: 0.22795, params: {'learning_rate': 0.1, 'max_depth': 3, 'min_samples_leaf': 1, 'n_estimators': 100},\n",
       " mean: 0.20442, std: 0.27244, params: {'learning_rate': 0.1, 'max_depth': 3, 'min_samples_leaf': 1, 'n_estimators': 250},\n",
       " mean: 0.26128, std: 0.27502, params: {'learning_rate': 0.1, 'max_depth': 3, 'min_samples_leaf': 1, 'n_estimators': 500},\n",
       " mean: 0.00000, std: 0.00000, params: {'learning_rate': 0.1, 'max_depth': 3, 'min_samples_leaf': 3, 'n_estimators': 10},\n",
       " mean: 0.15420, std: 0.22690, params: {'learning_rate': 0.1, 'max_depth': 3, 'min_samples_leaf': 3, 'n_estimators': 100},\n",
       " mean: 0.23115, std: 0.28604, params: {'learning_rate': 0.1, 'max_depth': 3, 'min_samples_leaf': 3, 'n_estimators': 250},\n",
       " mean: 0.25098, std: 0.21961, params: {'learning_rate': 0.1, 'max_depth': 3, 'min_samples_leaf': 3, 'n_estimators': 500},\n",
       " mean: 0.02998, std: 0.08571, params: {'learning_rate': 0.1, 'max_depth': 3, 'min_samples_leaf': 10, 'n_estimators': 10},\n",
       " mean: 0.15889, std: 0.23008, params: {'learning_rate': 0.1, 'max_depth': 3, 'min_samples_leaf': 10, 'n_estimators': 100},\n",
       " mean: 0.18896, std: 0.24784, params: {'learning_rate': 0.1, 'max_depth': 3, 'min_samples_leaf': 10, 'n_estimators': 250},\n",
       " mean: 0.26373, std: 0.26570, params: {'learning_rate': 0.1, 'max_depth': 3, 'min_samples_leaf': 10, 'n_estimators': 500},\n",
       " mean: 0.00000, std: 0.00000, params: {'learning_rate': 0.1, 'max_depth': 3, 'min_samples_leaf': 5, 'n_estimators': 10},\n",
       " mean: 0.16628, std: 0.22224, params: {'learning_rate': 0.1, 'max_depth': 3, 'min_samples_leaf': 5, 'n_estimators': 100},\n",
       " mean: 0.19179, std: 0.20887, params: {'learning_rate': 0.1, 'max_depth': 3, 'min_samples_leaf': 5, 'n_estimators': 250},\n",
       " mean: 0.18711, std: 0.20613, params: {'learning_rate': 0.1, 'max_depth': 3, 'min_samples_leaf': 5, 'n_estimators': 500},\n",
       " mean: 0.06276, std: 0.12427, params: {'learning_rate': 0.1, 'max_depth': 5, 'min_samples_leaf': 1, 'n_estimators': 10},\n",
       " mean: 0.19238, std: 0.22409, params: {'learning_rate': 0.1, 'max_depth': 5, 'min_samples_leaf': 1, 'n_estimators': 100},\n",
       " mean: 0.15761, std: 0.24396, params: {'learning_rate': 0.1, 'max_depth': 5, 'min_samples_leaf': 1, 'n_estimators': 250},\n",
       " mean: 0.17794, std: 0.23828, params: {'learning_rate': 0.1, 'max_depth': 5, 'min_samples_leaf': 1, 'n_estimators': 500},\n",
       " mean: 0.07728, std: 0.16429, params: {'learning_rate': 0.1, 'max_depth': 5, 'min_samples_leaf': 3, 'n_estimators': 10},\n",
       " mean: 0.18199, std: 0.23320, params: {'learning_rate': 0.1, 'max_depth': 5, 'min_samples_leaf': 3, 'n_estimators': 100},\n",
       " mean: 0.17577, std: 0.19700, params: {'learning_rate': 0.1, 'max_depth': 5, 'min_samples_leaf': 3, 'n_estimators': 250},\n",
       " mean: 0.18114, std: 0.20762, params: {'learning_rate': 0.1, 'max_depth': 5, 'min_samples_leaf': 3, 'n_estimators': 500},\n",
       " mean: 0.02998, std: 0.08571, params: {'learning_rate': 0.1, 'max_depth': 5, 'min_samples_leaf': 10, 'n_estimators': 10},\n",
       " mean: 0.16081, std: 0.21440, params: {'learning_rate': 0.1, 'max_depth': 5, 'min_samples_leaf': 10, 'n_estimators': 100},\n",
       " mean: 0.22974, std: 0.25294, params: {'learning_rate': 0.1, 'max_depth': 5, 'min_samples_leaf': 10, 'n_estimators': 250},\n",
       " mean: 0.19696, std: 0.25919, params: {'learning_rate': 0.1, 'max_depth': 5, 'min_samples_leaf': 10, 'n_estimators': 500},\n",
       " mean: 0.09087, std: 0.13875, params: {'learning_rate': 0.1, 'max_depth': 5, 'min_samples_leaf': 5, 'n_estimators': 10},\n",
       " mean: 0.16354, std: 0.18240, params: {'learning_rate': 0.1, 'max_depth': 5, 'min_samples_leaf': 5, 'n_estimators': 100},\n",
       " mean: 0.20047, std: 0.22517, params: {'learning_rate': 0.1, 'max_depth': 5, 'min_samples_leaf': 5, 'n_estimators': 250},\n",
       " mean: 0.22095, std: 0.24421, params: {'learning_rate': 0.1, 'max_depth': 5, 'min_samples_leaf': 5, 'n_estimators': 500},\n",
       " mean: 0.17086, std: 0.23629, params: {'learning_rate': 0.1, 'max_depth': 7, 'min_samples_leaf': 1, 'n_estimators': 10},\n",
       " mean: 0.21163, std: 0.21283, params: {'learning_rate': 0.1, 'max_depth': 7, 'min_samples_leaf': 1, 'n_estimators': 100},\n",
       " mean: 0.19157, std: 0.21201, params: {'learning_rate': 0.1, 'max_depth': 7, 'min_samples_leaf': 1, 'n_estimators': 250},\n",
       " mean: 0.22329, std: 0.26675, params: {'learning_rate': 0.1, 'max_depth': 7, 'min_samples_leaf': 1, 'n_estimators': 500},\n",
       " mean: 0.06276, std: 0.12427, params: {'learning_rate': 0.1, 'max_depth': 7, 'min_samples_leaf': 3, 'n_estimators': 10},\n",
       " mean: 0.15644, std: 0.20404, params: {'learning_rate': 0.1, 'max_depth': 7, 'min_samples_leaf': 3, 'n_estimators': 100},\n",
       " mean: 0.14320, std: 0.19950, params: {'learning_rate': 0.1, 'max_depth': 7, 'min_samples_leaf': 3, 'n_estimators': 250},\n",
       " mean: 0.13536, std: 0.17627, params: {'learning_rate': 0.1, 'max_depth': 7, 'min_samples_leaf': 3, 'n_estimators': 500},\n",
       " mean: 0.05808, std: 0.11429, params: {'learning_rate': 0.1, 'max_depth': 7, 'min_samples_leaf': 10, 'n_estimators': 10},\n",
       " mean: 0.14994, std: 0.22530, params: {'learning_rate': 0.1, 'max_depth': 7, 'min_samples_leaf': 10, 'n_estimators': 100},\n",
       " mean: 0.17620, std: 0.22247, params: {'learning_rate': 0.1, 'max_depth': 7, 'min_samples_leaf': 10, 'n_estimators': 250},\n",
       " mean: 0.17620, std: 0.22247, params: {'learning_rate': 0.1, 'max_depth': 7, 'min_samples_leaf': 10, 'n_estimators': 500},\n",
       " mean: 0.07369, std: 0.15028, params: {'learning_rate': 0.1, 'max_depth': 7, 'min_samples_leaf': 5, 'n_estimators': 10},\n",
       " mean: 0.16091, std: 0.21198, params: {'learning_rate': 0.1, 'max_depth': 7, 'min_samples_leaf': 5, 'n_estimators': 100},\n",
       " mean: 0.15545, std: 0.20360, params: {'learning_rate': 0.1, 'max_depth': 7, 'min_samples_leaf': 5, 'n_estimators': 250},\n",
       " mean: 0.17205, std: 0.21905, params: {'learning_rate': 0.1, 'max_depth': 7, 'min_samples_leaf': 5, 'n_estimators': 500},\n",
       " mean: 0.26380, std: 0.19926, params: {'learning_rate': 0.1, 'max_depth': 10, 'min_samples_leaf': 1, 'n_estimators': 10},\n",
       " mean: 0.25103, std: 0.20776, params: {'learning_rate': 0.1, 'max_depth': 10, 'min_samples_leaf': 1, 'n_estimators': 100},\n",
       " mean: 0.24884, std: 0.21011, params: {'learning_rate': 0.1, 'max_depth': 10, 'min_samples_leaf': 1, 'n_estimators': 250},\n",
       " mean: 0.23232, std: 0.19514, params: {'learning_rate': 0.1, 'max_depth': 10, 'min_samples_leaf': 1, 'n_estimators': 500},\n",
       " mean: 0.13021, std: 0.16252, params: {'learning_rate': 0.1, 'max_depth': 10, 'min_samples_leaf': 3, 'n_estimators': 10},\n",
       " mean: 0.18113, std: 0.21564, params: {'learning_rate': 0.1, 'max_depth': 10, 'min_samples_leaf': 3, 'n_estimators': 100},\n",
       " mean: 0.15951, std: 0.18044, params: {'learning_rate': 0.1, 'max_depth': 10, 'min_samples_leaf': 3, 'n_estimators': 250},\n",
       " mean: 0.14452, std: 0.19015, params: {'learning_rate': 0.1, 'max_depth': 10, 'min_samples_leaf': 3, 'n_estimators': 500},\n",
       " mean: 0.09555, std: 0.20866, params: {'learning_rate': 0.1, 'max_depth': 10, 'min_samples_leaf': 10, 'n_estimators': 10},\n",
       " mean: 0.16649, std: 0.20601, params: {'learning_rate': 0.1, 'max_depth': 10, 'min_samples_leaf': 10, 'n_estimators': 100},\n",
       " mean: 0.19917, std: 0.20685, params: {'learning_rate': 0.1, 'max_depth': 10, 'min_samples_leaf': 10, 'n_estimators': 250},\n",
       " mean: 0.23196, std: 0.19868, params: {'learning_rate': 0.1, 'max_depth': 10, 'min_samples_leaf': 10, 'n_estimators': 500},\n",
       " mean: 0.10648, std: 0.16649, params: {'learning_rate': 0.1, 'max_depth': 10, 'min_samples_leaf': 5, 'n_estimators': 10},\n",
       " mean: 0.10348, std: 0.16419, params: {'learning_rate': 0.1, 'max_depth': 10, 'min_samples_leaf': 5, 'n_estimators': 100},\n",
       " mean: 0.10351, std: 0.16937, params: {'learning_rate': 0.1, 'max_depth': 10, 'min_samples_leaf': 5, 'n_estimators': 250},\n",
       " mean: 0.15170, std: 0.20160, params: {'learning_rate': 0.1, 'max_depth': 10, 'min_samples_leaf': 5, 'n_estimators': 500},\n",
       " mean: 0.09742, std: 0.15129, params: {'learning_rate': 0.2, 'max_depth': 3, 'min_samples_leaf': 1, 'n_estimators': 10},\n",
       " mean: 0.23807, std: 0.29679, params: {'learning_rate': 0.2, 'max_depth': 3, 'min_samples_leaf': 1, 'n_estimators': 100},\n",
       " mean: 0.23804, std: 0.26882, params: {'learning_rate': 0.2, 'max_depth': 3, 'min_samples_leaf': 1, 'n_estimators': 250},\n",
       " mean: 0.26373, std: 0.27176, params: {'learning_rate': 0.2, 'max_depth': 3, 'min_samples_leaf': 1, 'n_estimators': 500},\n",
       " mean: 0.06995, std: 0.14554, params: {'learning_rate': 0.2, 'max_depth': 3, 'min_samples_leaf': 3, 'n_estimators': 10},\n",
       " mean: 0.20929, std: 0.27728, params: {'learning_rate': 0.2, 'max_depth': 3, 'min_samples_leaf': 3, 'n_estimators': 100},\n",
       " mean: 0.22240, std: 0.20853, params: {'learning_rate': 0.2, 'max_depth': 3, 'min_samples_leaf': 3, 'n_estimators': 250},\n",
       " mean: 0.22831, std: 0.26336, params: {'learning_rate': 0.2, 'max_depth': 3, 'min_samples_leaf': 3, 'n_estimators': 500},\n",
       " mean: 0.02998, std: 0.08571, params: {'learning_rate': 0.2, 'max_depth': 3, 'min_samples_leaf': 10, 'n_estimators': 10},\n",
       " mean: 0.14335, std: 0.24407, params: {'learning_rate': 0.2, 'max_depth': 3, 'min_samples_leaf': 10, 'n_estimators': 100},\n",
       " mean: 0.26943, std: 0.25096, params: {'learning_rate': 0.2, 'max_depth': 3, 'min_samples_leaf': 10, 'n_estimators': 250},\n",
       " mean: 0.28309, std: 0.27089, params: {'learning_rate': 0.2, 'max_depth': 3, 'min_samples_leaf': 10, 'n_estimators': 500},\n",
       " mean: 0.08462, std: 0.13090, params: {'learning_rate': 0.2, 'max_depth': 3, 'min_samples_leaf': 5, 'n_estimators': 10},\n",
       " mean: 0.21189, std: 0.19437, params: {'learning_rate': 0.2, 'max_depth': 3, 'min_samples_leaf': 5, 'n_estimators': 100},\n",
       " mean: 0.21981, std: 0.19422, params: {'learning_rate': 0.2, 'max_depth': 3, 'min_samples_leaf': 5, 'n_estimators': 250},\n",
       " mean: 0.24798, std: 0.21396, params: {'learning_rate': 0.2, 'max_depth': 3, 'min_samples_leaf': 5, 'n_estimators': 500},\n",
       " mean: 0.07650, std: 0.15753, params: {'learning_rate': 0.2, 'max_depth': 5, 'min_samples_leaf': 1, 'n_estimators': 10},\n",
       " mean: 0.21145, std: 0.23640, params: {'learning_rate': 0.2, 'max_depth': 5, 'min_samples_leaf': 1, 'n_estimators': 100},\n",
       " mean: 0.22735, std: 0.27188, params: {'learning_rate': 0.2, 'max_depth': 5, 'min_samples_leaf': 1, 'n_estimators': 250},\n",
       " mean: 0.19410, std: 0.22974, params: {'learning_rate': 0.2, 'max_depth': 5, 'min_samples_leaf': 1, 'n_estimators': 500},\n",
       " mean: 0.07705, std: 0.16008, params: {'learning_rate': 0.2, 'max_depth': 5, 'min_samples_leaf': 3, 'n_estimators': 10},\n",
       " mean: 0.20222, std: 0.22738, params: {'learning_rate': 0.2, 'max_depth': 5, 'min_samples_leaf': 3, 'n_estimators': 100},\n",
       " mean: 0.19391, std: 0.25395, params: {'learning_rate': 0.2, 'max_depth': 5, 'min_samples_leaf': 3, 'n_estimators': 250},\n",
       " mean: 0.16779, std: 0.22526, params: {'learning_rate': 0.2, 'max_depth': 5, 'min_samples_leaf': 3, 'n_estimators': 500},\n",
       " mean: 0.10648, std: 0.16649, params: {'learning_rate': 0.2, 'max_depth': 5, 'min_samples_leaf': 10, 'n_estimators': 10},\n",
       " mean: 0.23473, std: 0.22152, params: {'learning_rate': 0.2, 'max_depth': 5, 'min_samples_leaf': 10, 'n_estimators': 100},\n",
       " mean: 0.24069, std: 0.23374, params: {'learning_rate': 0.2, 'max_depth': 5, 'min_samples_leaf': 10, 'n_estimators': 250},\n",
       " mean: 0.20661, std: 0.23339, params: {'learning_rate': 0.2, 'max_depth': 5, 'min_samples_leaf': 10, 'n_estimators': 500},\n",
       " mean: 0.10804, std: 0.18467, params: {'learning_rate': 0.2, 'max_depth': 5, 'min_samples_leaf': 5, 'n_estimators': 10},\n",
       " mean: 0.20248, std: 0.22299, params: {'learning_rate': 0.2, 'max_depth': 5, 'min_samples_leaf': 5, 'n_estimators': 100},\n",
       " mean: 0.15297, std: 0.20160, params: {'learning_rate': 0.2, 'max_depth': 5, 'min_samples_leaf': 5, 'n_estimators': 250},\n",
       " mean: 0.17867, std: 0.20610, params: {'learning_rate': 0.2, 'max_depth': 5, 'min_samples_leaf': 5, 'n_estimators': 500},\n",
       " mean: 0.21129, std: 0.20946, params: {'learning_rate': 0.2, 'max_depth': 7, 'min_samples_leaf': 1, 'n_estimators': 10},\n",
       " mean: 0.19471, std: 0.20951, params: {'learning_rate': 0.2, 'max_depth': 7, 'min_samples_leaf': 1, 'n_estimators': 100},\n",
       " mean: 0.19875, std: 0.22250, params: {'learning_rate': 0.2, 'max_depth': 7, 'min_samples_leaf': 1, 'n_estimators': 250},\n",
       " mean: 0.18557, std: 0.20638, params: {'learning_rate': 0.2, 'max_depth': 7, 'min_samples_leaf': 1, 'n_estimators': 500},\n",
       " mean: 0.16768, std: 0.21389, params: {'learning_rate': 0.2, 'max_depth': 7, 'min_samples_leaf': 3, 'n_estimators': 10},\n",
       " mean: 0.19441, std: 0.22082, params: {'learning_rate': 0.2, 'max_depth': 7, 'min_samples_leaf': 3, 'n_estimators': 100},\n",
       " mean: 0.14614, std: 0.19986, params: {'learning_rate': 0.2, 'max_depth': 7, 'min_samples_leaf': 3, 'n_estimators': 250},\n",
       " mean: 0.15569, std: 0.17101, params: {'learning_rate': 0.2, 'max_depth': 7, 'min_samples_leaf': 3, 'n_estimators': 500},\n",
       " mean: 0.16732, std: 0.17967, params: {'learning_rate': 0.2, 'max_depth': 7, 'min_samples_leaf': 10, 'n_estimators': 10},\n",
       " mean: 0.21918, std: 0.22895, params: {'learning_rate': 0.2, 'max_depth': 7, 'min_samples_leaf': 10, 'n_estimators': 100},\n",
       " mean: 0.19881, std: 0.21598, params: {'learning_rate': 0.2, 'max_depth': 7, 'min_samples_leaf': 10, 'n_estimators': 250},\n",
       " mean: 0.23079, std: 0.23253, params: {'learning_rate': 0.2, 'max_depth': 7, 'min_samples_leaf': 10, 'n_estimators': 500},\n",
       " mean: 0.08644, std: 0.18205, params: {'learning_rate': 0.2, 'max_depth': 7, 'min_samples_leaf': 5, 'n_estimators': 10},\n",
       " mean: 0.17596, std: 0.21229, params: {'learning_rate': 0.2, 'max_depth': 7, 'min_samples_leaf': 5, 'n_estimators': 100},\n",
       " mean: 0.17793, std: 0.22614, params: {'learning_rate': 0.2, 'max_depth': 7, 'min_samples_leaf': 5, 'n_estimators': 250},\n",
       " mean: 0.14787, std: 0.20799, params: {'learning_rate': 0.2, 'max_depth': 7, 'min_samples_leaf': 5, 'n_estimators': 500},\n",
       " mean: 0.30565, std: 0.23941, params: {'learning_rate': 0.2, 'max_depth': 10, 'min_samples_leaf': 1, 'n_estimators': 10},\n",
       " mean: 0.24000, std: 0.23085, params: {'learning_rate': 0.2, 'max_depth': 10, 'min_samples_leaf': 1, 'n_estimators': 100},\n",
       " mean: 0.28262, std: 0.22142, params: {'learning_rate': 0.2, 'max_depth': 10, 'min_samples_leaf': 1, 'n_estimators': 250},\n",
       " mean: 0.26375, std: 0.20143, params: {'learning_rate': 0.2, 'max_depth': 10, 'min_samples_leaf': 1, 'n_estimators': 500},\n",
       " mean: 0.14303, std: 0.18427, params: {'learning_rate': 0.2, 'max_depth': 10, 'min_samples_leaf': 3, 'n_estimators': 10},\n",
       " mean: 0.11007, std: 0.17819, params: {'learning_rate': 0.2, 'max_depth': 10, 'min_samples_leaf': 3, 'n_estimators': 100},\n",
       " mean: 0.13021, std: 0.16252, params: {'learning_rate': 0.2, 'max_depth': 10, 'min_samples_leaf': 3, 'n_estimators': 250},\n",
       " mean: 0.14005, std: 0.18084, params: {'learning_rate': 0.2, 'max_depth': 10, 'min_samples_leaf': 3, 'n_estimators': 500},\n",
       " mean: 0.13689, std: 0.22142, params: {'learning_rate': 0.2, 'max_depth': 10, 'min_samples_leaf': 10, 'n_estimators': 10},\n",
       " mean: 0.21674, std: 0.19056, params: {'learning_rate': 0.2, 'max_depth': 10, 'min_samples_leaf': 10, 'n_estimators': 100},\n",
       " mean: 0.20801, std: 0.21851, params: {'learning_rate': 0.2, 'max_depth': 10, 'min_samples_leaf': 10, 'n_estimators': 250},\n",
       " mean: 0.18459, std: 0.18871, params: {'learning_rate': 0.2, 'max_depth': 10, 'min_samples_leaf': 10, 'n_estimators': 500},\n",
       " mean: 0.15005, std: 0.19876, params: {'learning_rate': 0.2, 'max_depth': 10, 'min_samples_leaf': 5, 'n_estimators': 10},\n",
       " mean: 0.17434, std: 0.20345, params: {'learning_rate': 0.2, 'max_depth': 10, 'min_samples_leaf': 5, 'n_estimators': 100},\n",
       " mean: 0.12734, std: 0.20346, params: {'learning_rate': 0.2, 'max_depth': 10, 'min_samples_leaf': 5, 'n_estimators': 250},\n",
       " mean: 0.18464, std: 0.20454, params: {'learning_rate': 0.2, 'max_depth': 10, 'min_samples_leaf': 5, 'n_estimators': 500},\n",
       " mean: 0.00000, std: 0.00000, params: {'learning_rate': 0.05, 'max_depth': 3, 'min_samples_leaf': 1, 'n_estimators': 10},\n",
       " mean: 0.12365, std: 0.21317, params: {'learning_rate': 0.05, 'max_depth': 3, 'min_samples_leaf': 1, 'n_estimators': 100},\n",
       " mean: 0.17674, std: 0.25783, params: {'learning_rate': 0.05, 'max_depth': 3, 'min_samples_leaf': 1, 'n_estimators': 250},\n",
       " mean: 0.21676, std: 0.26593, params: {'learning_rate': 0.05, 'max_depth': 3, 'min_samples_leaf': 1, 'n_estimators': 500},\n",
       " mean: 0.00000, std: 0.00000, params: {'learning_rate': 0.05, 'max_depth': 3, 'min_samples_leaf': 3, 'n_estimators': 10},\n",
       " mean: 0.15176, std: 0.21381, params: {'learning_rate': 0.05, 'max_depth': 3, 'min_samples_leaf': 3, 'n_estimators': 100},\n",
       " mean: 0.20507, std: 0.25229, params: {'learning_rate': 0.05, 'max_depth': 3, 'min_samples_leaf': 3, 'n_estimators': 250},\n",
       " mean: 0.24601, std: 0.27134, params: {'learning_rate': 0.05, 'max_depth': 3, 'min_samples_leaf': 3, 'n_estimators': 500},\n",
       " mean: 0.00000, std: 0.00000, params: {'learning_rate': 0.05, 'max_depth': 3, 'min_samples_leaf': 10, 'n_estimators': 10},\n",
       " mean: 0.16709, std: 0.23466, params: {'learning_rate': 0.05, 'max_depth': 3, 'min_samples_leaf': 10, 'n_estimators': 100},\n",
       " mean: 0.15350, std: 0.25426, params: {'learning_rate': 0.05, 'max_depth': 3, 'min_samples_leaf': 10, 'n_estimators': 250},\n",
       " mean: 0.22248, std: 0.25013, params: {'learning_rate': 0.05, 'max_depth': 3, 'min_samples_leaf': 10, 'n_estimators': 500},\n",
       " mean: 0.00000, std: 0.00000, params: {'learning_rate': 0.05, 'max_depth': 3, 'min_samples_leaf': 5, 'n_estimators': 10},\n",
       " mean: 0.13536, std: 0.17627, params: {'learning_rate': 0.05, 'max_depth': 3, 'min_samples_leaf': 5, 'n_estimators': 100},\n",
       " mean: 0.14145, std: 0.19589, params: {'learning_rate': 0.05, 'max_depth': 3, 'min_samples_leaf': 5, 'n_estimators': 250},\n",
       " mean: 0.19714, std: 0.22063, params: {'learning_rate': 0.05, 'max_depth': 3, 'min_samples_leaf': 5, 'n_estimators': 500},\n",
       " mean: 0.00000, std: 0.00000, params: {'learning_rate': 0.05, 'max_depth': 5, 'min_samples_leaf': 1, 'n_estimators': 10},\n",
       " mean: 0.21360, std: 0.23555, params: {'learning_rate': 0.05, 'max_depth': 5, 'min_samples_leaf': 1, 'n_estimators': 100},\n",
       " mean: 0.15514, std: 0.22836, params: {'learning_rate': 0.05, 'max_depth': 5, 'min_samples_leaf': 1, 'n_estimators': 250},\n",
       " mean: 0.17205, std: 0.23138, params: {'learning_rate': 0.05, 'max_depth': 5, 'min_samples_leaf': 1, 'n_estimators': 500},\n",
       " mean: 0.00000, std: 0.00000, params: {'learning_rate': 0.05, 'max_depth': 5, 'min_samples_leaf': 3, 'n_estimators': 10},\n",
       " mean: 0.19446, std: 0.21869, params: {'learning_rate': 0.05, 'max_depth': 5, 'min_samples_leaf': 3, 'n_estimators': 100},\n",
       " mean: 0.17712, std: 0.19472, params: {'learning_rate': 0.05, 'max_depth': 5, 'min_samples_leaf': 3, 'n_estimators': 250},\n",
       " mean: 0.17283, std: 0.18923, params: {'learning_rate': 0.05, 'max_depth': 5, 'min_samples_leaf': 3, 'n_estimators': 500},\n",
       " mean: 0.00000, std: 0.00000, params: {'learning_rate': 0.05, 'max_depth': 5, 'min_samples_leaf': 10, 'n_estimators': 10},\n",
       " mean: 0.14145, std: 0.25127, params: {'learning_rate': 0.05, 'max_depth': 5, 'min_samples_leaf': 10, 'n_estimators': 100},\n",
       " mean: 0.13019, std: 0.19068, params: {'learning_rate': 0.05, 'max_depth': 5, 'min_samples_leaf': 10, 'n_estimators': 250},\n",
       " mean: 0.18868, std: 0.24249, params: {'learning_rate': 0.05, 'max_depth': 5, 'min_samples_leaf': 10, 'n_estimators': 500},\n",
       " mean: 0.00000, std: 0.00000, params: {'learning_rate': 0.05, 'max_depth': 5, 'min_samples_leaf': 5, 'n_estimators': 10},\n",
       " mean: 0.16768, std: 0.21389, params: {'learning_rate': 0.05, 'max_depth': 5, 'min_samples_leaf': 5, 'n_estimators': 100},\n",
       " mean: 0.20583, std: 0.23393, params: {'learning_rate': 0.05, 'max_depth': 5, 'min_samples_leaf': 5, 'n_estimators': 250},\n",
       " mean: 0.19901, std: 0.24476, params: {'learning_rate': 0.05, 'max_depth': 5, 'min_samples_leaf': 5, 'n_estimators': 500},\n",
       " mean: 0.09555, std: 0.14600, params: {'learning_rate': 0.05, 'max_depth': 7, 'min_samples_leaf': 1, 'n_estimators': 10},\n",
       " mean: 0.25129, std: 0.22102, params: {'learning_rate': 0.05, 'max_depth': 7, 'min_samples_leaf': 1, 'n_estimators': 100},\n",
       " mean: 0.22579, std: 0.22860, params: {'learning_rate': 0.05, 'max_depth': 7, 'min_samples_leaf': 1, 'n_estimators': 250},\n",
       " mean: 0.22228, std: 0.22795, params: {'learning_rate': 0.05, 'max_depth': 7, 'min_samples_leaf': 1, 'n_estimators': 500},\n",
       " mean: 0.00000, std: 0.00000, params: {'learning_rate': 0.05, 'max_depth': 7, 'min_samples_leaf': 3, 'n_estimators': 10},\n",
       " mean: 0.13888, std: 0.18929, params: {'learning_rate': 0.05, 'max_depth': 7, 'min_samples_leaf': 3, 'n_estimators': 100},\n",
       " mean: 0.15176, std: 0.21381, params: {'learning_rate': 0.05, 'max_depth': 7, 'min_samples_leaf': 3, 'n_estimators': 250},\n",
       " mean: 0.13536, std: 0.17627, params: {'learning_rate': 0.05, 'max_depth': 7, 'min_samples_leaf': 3, 'n_estimators': 500},\n",
       " mean: 0.00000, std: 0.00000, params: {'learning_rate': 0.05, 'max_depth': 7, 'min_samples_leaf': 10, 'n_estimators': 10},\n",
       " mean: 0.14104, std: 0.24804, params: {'learning_rate': 0.05, 'max_depth': 7, 'min_samples_leaf': 10, 'n_estimators': 100},\n",
       " mean: 0.22410, std: 0.22230, params: {'learning_rate': 0.05, 'max_depth': 7, 'min_samples_leaf': 10, 'n_estimators': 250},\n",
       " mean: 0.22244, std: 0.22132, params: {'learning_rate': 0.05, 'max_depth': 7, 'min_samples_leaf': 10, 'n_estimators': 500},\n",
       " mean: 0.00000, std: 0.00000, params: {'learning_rate': 0.05, 'max_depth': 7, 'min_samples_leaf': 5, 'n_estimators': 10},\n",
       " mean: 0.15365, std: 0.20825, params: {'learning_rate': 0.05, 'max_depth': 7, 'min_samples_leaf': 5, 'n_estimators': 100},\n",
       " mean: 0.15740, std: 0.21015, params: {'learning_rate': 0.05, 'max_depth': 7, 'min_samples_leaf': 5, 'n_estimators': 250},\n",
       " mean: 0.17018, std: 0.19512, params: {'learning_rate': 0.05, 'max_depth': 7, 'min_samples_leaf': 5, 'n_estimators': 500},\n",
       " mean: 0.24971, std: 0.19497, params: {'learning_rate': 0.05, 'max_depth': 10, 'min_samples_leaf': 1, 'n_estimators': 10},\n",
       " mean: 0.23290, std: 0.19310, params: {'learning_rate': 0.05, 'max_depth': 10, 'min_samples_leaf': 1, 'n_estimators': 100},\n",
       " mean: 0.23508, std: 0.19282, params: {'learning_rate': 0.05, 'max_depth': 10, 'min_samples_leaf': 1, 'n_estimators': 250},\n",
       " mean: 0.24010, std: 0.20613, params: {'learning_rate': 0.05, 'max_depth': 10, 'min_samples_leaf': 1, 'n_estimators': 500},\n",
       " mean: 0.00000, std: 0.00000, params: {'learning_rate': 0.05, 'max_depth': 10, 'min_samples_leaf': 3, 'n_estimators': 10},\n",
       " mean: 0.15140, std: 0.20542, params: {'learning_rate': 0.05, 'max_depth': 10, 'min_samples_leaf': 3, 'n_estimators': 100},\n",
       " mean: 0.16779, std: 0.22526, params: {'learning_rate': 0.05, 'max_depth': 10, 'min_samples_leaf': 3, 'n_estimators': 250},\n",
       " mean: 0.13653, std: 0.17827, params: {'learning_rate': 0.05, 'max_depth': 10, 'min_samples_leaf': 3, 'n_estimators': 500},\n",
       " mean: 0.00000, std: 0.00000, params: {'learning_rate': 0.05, 'max_depth': 10, 'min_samples_leaf': 10, 'n_estimators': 10},\n",
       " mean: 0.12365, std: 0.21317, params: {'learning_rate': 0.05, 'max_depth': 10, 'min_samples_leaf': 10, 'n_estimators': 100},\n",
       " mean: 0.17247, std: 0.20018, params: {'learning_rate': 0.05, 'max_depth': 10, 'min_samples_leaf': 10, 'n_estimators': 250},\n",
       " mean: 0.19481, std: 0.19899, params: {'learning_rate': 0.05, 'max_depth': 10, 'min_samples_leaf': 10, 'n_estimators': 500},\n",
       " mean: 0.00000, std: 0.00000, params: {'learning_rate': 0.05, 'max_depth': 10, 'min_samples_leaf': 5, 'n_estimators': 10},\n",
       " mean: 0.11710, std: 0.19648, params: {'learning_rate': 0.05, 'max_depth': 10, 'min_samples_leaf': 5, 'n_estimators': 100},\n",
       " mean: 0.12035, std: 0.16702, params: {'learning_rate': 0.05, 'max_depth': 10, 'min_samples_leaf': 5, 'n_estimators': 250},\n",
       " mean: 0.12810, std: 0.17068, params: {'learning_rate': 0.05, 'max_depth': 10, 'min_samples_leaf': 5, 'n_estimators': 500},\n",
       " mean: 0.00000, std: 0.00000, params: {'learning_rate': 0.01, 'max_depth': 3, 'min_samples_leaf': 1, 'n_estimators': 10},\n",
       " mean: 0.00000, std: 0.00000, params: {'learning_rate': 0.01, 'max_depth': 3, 'min_samples_leaf': 1, 'n_estimators': 100},\n",
       " mean: 0.07916, std: 0.16429, params: {'learning_rate': 0.01, 'max_depth': 3, 'min_samples_leaf': 1, 'n_estimators': 250},\n",
       " mean: 0.15889, std: 0.23008, params: {'learning_rate': 0.01, 'max_depth': 3, 'min_samples_leaf': 1, 'n_estimators': 500},\n",
       " mean: 0.00000, std: 0.00000, params: {'learning_rate': 0.01, 'max_depth': 3, 'min_samples_leaf': 3, 'n_estimators': 10},\n",
       " mean: 0.00000, std: 0.00000, params: {'learning_rate': 0.01, 'max_depth': 3, 'min_samples_leaf': 3, 'n_estimators': 100},\n",
       " mean: 0.07916, std: 0.16429, params: {'learning_rate': 0.01, 'max_depth': 3, 'min_samples_leaf': 3, 'n_estimators': 250},\n",
       " mean: 0.13185, std: 0.17354, params: {'learning_rate': 0.01, 'max_depth': 3, 'min_samples_leaf': 3, 'n_estimators': 500},\n",
       " mean: 0.00000, std: 0.00000, params: {'learning_rate': 0.01, 'max_depth': 3, 'min_samples_leaf': 10, 'n_estimators': 10},\n",
       " mean: 0.00000, std: 0.00000, params: {'learning_rate': 0.01, 'max_depth': 3, 'min_samples_leaf': 10, 'n_estimators': 100},\n",
       " mean: 0.11194, std: 0.17819, params: {'learning_rate': 0.01, 'max_depth': 3, 'min_samples_leaf': 10, 'n_estimators': 250},\n",
       " mean: 0.15457, std: 0.20564, params: {'learning_rate': 0.01, 'max_depth': 3, 'min_samples_leaf': 10, 'n_estimators': 500},\n",
       " mean: 0.00000, std: 0.00000, params: {'learning_rate': 0.01, 'max_depth': 3, 'min_samples_leaf': 5, 'n_estimators': 10},\n",
       " mean: 0.00000, std: 0.00000, params: {'learning_rate': 0.01, 'max_depth': 3, 'min_samples_leaf': 5, 'n_estimators': 100},\n",
       " mean: 0.06932, std: 0.13950, params: {'learning_rate': 0.01, 'max_depth': 3, 'min_samples_leaf': 5, 'n_estimators': 250},\n",
       " mean: 0.13021, std: 0.16252, params: {'learning_rate': 0.01, 'max_depth': 3, 'min_samples_leaf': 5, 'n_estimators': 500},\n",
       " mean: 0.00000, std: 0.00000, params: {'learning_rate': 0.01, 'max_depth': 5, 'min_samples_leaf': 1, 'n_estimators': 10},\n",
       " mean: 0.03279, std: 0.10000, params: {'learning_rate': 0.01, 'max_depth': 5, 'min_samples_leaf': 1, 'n_estimators': 100},\n",
       " mean: 0.12646, std: 0.20404, params: {'learning_rate': 0.01, 'max_depth': 5, 'min_samples_leaf': 1, 'n_estimators': 250},\n",
       " mean: 0.21054, std: 0.25802, params: {'learning_rate': 0.01, 'max_depth': 5, 'min_samples_leaf': 1, 'n_estimators': 500},\n",
       " mean: 0.00000, std: 0.00000, params: {'learning_rate': 0.01, 'max_depth': 5, 'min_samples_leaf': 3, 'n_estimators': 10},\n",
       " mean: 0.02810, std: 0.08571, params: {'learning_rate': 0.01, 'max_depth': 5, 'min_samples_leaf': 3, 'n_estimators': 100},\n",
       " mean: 0.16321, std: 0.17884, params: {'learning_rate': 0.01, 'max_depth': 5, 'min_samples_leaf': 3, 'n_estimators': 250},\n",
       " mean: 0.16946, std: 0.18858, params: {'learning_rate': 0.01, 'max_depth': 5, 'min_samples_leaf': 3, 'n_estimators': 500},\n",
       " mean: 0.00000, std: 0.00000, params: {'learning_rate': 0.01, 'max_depth': 5, 'min_samples_leaf': 10, 'n_estimators': 10},\n",
       " mean: 0.00000, std: 0.00000, params: {'learning_rate': 0.01, 'max_depth': 5, 'min_samples_leaf': 10, 'n_estimators': 100},\n",
       " mean: 0.11194, std: 0.17819, params: {'learning_rate': 0.01, 'max_depth': 5, 'min_samples_leaf': 10, 'n_estimators': 250},\n",
       " mean: 0.13677, std: 0.24803, params: {'learning_rate': 0.01, 'max_depth': 5, 'min_samples_leaf': 10, 'n_estimators': 500},\n",
       " mean: 0.00000, std: 0.00000, params: {'learning_rate': 0.01, 'max_depth': 5, 'min_samples_leaf': 5, 'n_estimators': 10},\n",
       " mean: 0.05808, std: 0.11429, params: {'learning_rate': 0.01, 'max_depth': 5, 'min_samples_leaf': 5, 'n_estimators': 100},\n",
       " mean: 0.11522, std: 0.14528, params: {'learning_rate': 0.01, 'max_depth': 5, 'min_samples_leaf': 5, 'n_estimators': 250},\n",
       " mean: 0.12553, std: 0.15712, params: {'learning_rate': 0.01, 'max_depth': 5, 'min_samples_leaf': 5, 'n_estimators': 500},\n",
       " mean: 0.00000, std: 0.00000, params: {'learning_rate': 0.01, 'max_depth': 7, 'min_samples_leaf': 1, 'n_estimators': 10},\n",
       " mean: 0.20598, std: 0.24098, params: {'learning_rate': 0.01, 'max_depth': 7, 'min_samples_leaf': 1, 'n_estimators': 100},\n",
       " mean: 0.23786, std: 0.22878, params: {'learning_rate': 0.01, 'max_depth': 7, 'min_samples_leaf': 1, 'n_estimators': 250},\n",
       " mean: 0.27479, std: 0.25800, params: {'learning_rate': 0.01, 'max_depth': 7, 'min_samples_leaf': 1, 'n_estimators': 500},\n",
       " mean: 0.00000, std: 0.00000, params: {'learning_rate': 0.01, 'max_depth': 7, 'min_samples_leaf': 3, 'n_estimators': 10},\n",
       " mean: 0.11194, std: 0.17819, params: {'learning_rate': 0.01, 'max_depth': 7, 'min_samples_leaf': 3, 'n_estimators': 100},\n",
       " mean: 0.16709, std: 0.23466, params: {'learning_rate': 0.01, 'max_depth': 7, 'min_samples_leaf': 3, 'n_estimators': 250},\n",
       " mean: 0.16779, std: 0.22526, params: {'learning_rate': 0.01, 'max_depth': 7, 'min_samples_leaf': 3, 'n_estimators': 500},\n",
       " mean: 0.00000, std: 0.00000, params: {'learning_rate': 0.01, 'max_depth': 7, 'min_samples_leaf': 10, 'n_estimators': 10},\n",
       " mean: 0.00000, std: 0.00000, params: {'learning_rate': 0.01, 'max_depth': 7, 'min_samples_leaf': 10, 'n_estimators': 100},\n",
       " mean: 0.15689, std: 0.22913, params: {'learning_rate': 0.01, 'max_depth': 7, 'min_samples_leaf': 10, 'n_estimators': 250},\n",
       " mean: 0.12505, std: 0.22662, params: {'learning_rate': 0.01, 'max_depth': 7, 'min_samples_leaf': 10, 'n_estimators': 500},\n",
       " mean: 0.00000, std: 0.00000, params: {'learning_rate': 0.01, 'max_depth': 7, 'min_samples_leaf': 5, 'n_estimators': 10},\n",
       " mean: 0.11194, std: 0.17819, params: {'learning_rate': 0.01, 'max_depth': 7, 'min_samples_leaf': 5, 'n_estimators': 100},\n",
       " mean: 0.10211, std: 0.15777, params: {'learning_rate': 0.01, 'max_depth': 7, 'min_samples_leaf': 5, 'n_estimators': 250},\n",
       " mean: 0.17141, std: 0.19550, params: {'learning_rate': 0.01, 'max_depth': 7, 'min_samples_leaf': 5, 'n_estimators': 500},\n",
       " mean: 0.00000, std: 0.00000, params: {'learning_rate': 0.01, 'max_depth': 10, 'min_samples_leaf': 1, 'n_estimators': 10},\n",
       " mean: 0.26749, std: 0.20224, params: {'learning_rate': 0.01, 'max_depth': 10, 'min_samples_leaf': 1, 'n_estimators': 100},\n",
       " mean: 0.20612, std: 0.16046, params: {'learning_rate': 0.01, 'max_depth': 10, 'min_samples_leaf': 1, 'n_estimators': 250},\n",
       " mean: 0.25171, std: 0.21474, params: {'learning_rate': 0.01, 'max_depth': 10, 'min_samples_leaf': 1, 'n_estimators': 500},\n",
       " mean: 0.00000, std: 0.00000, params: {'learning_rate': 0.01, 'max_depth': 10, 'min_samples_leaf': 3, 'n_estimators': 10},\n",
       " mean: 0.11897, std: 0.14639, params: {'learning_rate': 0.01, 'max_depth': 10, 'min_samples_leaf': 3, 'n_estimators': 100},\n",
       " mean: 0.16905, std: 0.17596, params: {'learning_rate': 0.01, 'max_depth': 10, 'min_samples_leaf': 3, 'n_estimators': 250},\n",
       " mean: 0.18044, std: 0.20362, params: {'learning_rate': 0.01, 'max_depth': 10, 'min_samples_leaf': 3, 'n_estimators': 500},\n",
       " mean: 0.00000, std: 0.00000, params: {'learning_rate': 0.01, 'max_depth': 10, 'min_samples_leaf': 10, 'n_estimators': 10},\n",
       " mean: 0.00000, std: 0.00000, params: {'learning_rate': 0.01, 'max_depth': 10, 'min_samples_leaf': 10, 'n_estimators': 100},\n",
       " mean: 0.15772, std: 0.26193, params: {'learning_rate': 0.01, 'max_depth': 10, 'min_samples_leaf': 10, 'n_estimators': 250},\n",
       " mean: 0.14523, std: 0.24407, params: {'learning_rate': 0.01, 'max_depth': 10, 'min_samples_leaf': 10, 'n_estimators': 500},\n",
       " mean: 0.00000, std: 0.00000, params: {'learning_rate': 0.01, 'max_depth': 10, 'min_samples_leaf': 5, 'n_estimators': 10},\n",
       " mean: 0.12834, std: 0.21723, params: {'learning_rate': 0.01, 'max_depth': 10, 'min_samples_leaf': 5, 'n_estimators': 100},\n",
       " mean: 0.11173, std: 0.18331, params: {'learning_rate': 0.01, 'max_depth': 10, 'min_samples_leaf': 5, 'n_estimators': 250},\n",
       " mean: 0.11710, std: 0.19648, params: {'learning_rate': 0.01, 'max_depth': 10, 'min_samples_leaf': 5, 'n_estimators': 500}]"
      ]
     },
     "execution_count": 36,
     "metadata": {},
     "output_type": "execute_result"
    }
   ],
   "source": [
    "\n",
    "36.78\n",
    "{'learning_rate': 0.25,\n",
    " 'max_depth': 12,\n",
    " 'min_samples_leaf': 1,\n",
    " 'n_estimators': 10}\n",
    "\n",
    "\n",
    "\n",
    "f1 30.56\n",
    "\n",
    "params\n",
    "{'learning_rate': 0.2,\n",
    " 'max_depth': 10,\n",
    " 'min_samples_leaf': 1,\n",
    " 'n_estimators': 10}"
   ]
  },
  {
   "cell_type": "code",
   "execution_count": 38,
   "metadata": {},
   "outputs": [
    {
     "name": "stdout",
     "output_type": "stream",
     "text": [
      "recall: 0.11111%\n",
      "f1: 0.16438%\n",
      "Accuracy: 0.79392%\n",
      "precision: 0.31579%\n"
     ]
    }
   ],
   "source": [
    "modelFX = XGBClassifier()\n",
    "modelFX.fit(x_train, y_train)\n",
    "y_predFX=modelFX.predict(x_test)\n",
    "print(\"recall: %.5f%%\" % recall_score(y_test, y_predFX))\n",
    "print(\"f1: %.5f%%\" % f1_score(y_test, y_predFX))\n",
    "print(\"Accuracy: %.5f%%\" % accuracy_score(y_test, y_predFX))\n",
    "print(\"precision: %.5f%%\" % precision_score(y_test, y_predFX))"
   ]
  },
  {
   "cell_type": "code",
   "execution_count": null,
   "metadata": {},
   "outputs": [],
   "source": []
  }
 ],
 "metadata": {
  "kernelspec": {
   "display_name": "Python 3",
   "language": "python",
   "name": "python3"
  },
  "language_info": {
   "codemirror_mode": {
    "name": "ipython",
    "version": 3
   },
   "file_extension": ".py",
   "mimetype": "text/x-python",
   "name": "python",
   "nbconvert_exporter": "python",
   "pygments_lexer": "ipython3",
   "version": "3.6.5"
  }
 },
 "nbformat": 4,
 "nbformat_minor": 2
}
