{
 "cells": [
  {
   "cell_type": "code",
   "execution_count": 1,
   "metadata": {},
   "outputs": [],
   "source": [
    "import pandas as pd\n",
    "import numpy as np\n",
    "\n",
    "import practice_code as pc\n",
    "import individual_stats as ind\n",
    "\n",
    "\n",
    "pd.set_option('display.max_columns', None)\n",
    "pd.set_option('display.max_rows', None)\n",
    "\n",
    "import warnings\n",
    "warnings.filterwarnings('ignore')\n",
    "\n",
    "%load_ext autoreload\n",
    "%autoreload 2"
   ]
  },
  {
   "cell_type": "code",
   "execution_count": 2,
   "metadata": {},
   "outputs": [],
   "source": [
    "clutch = pd.read_csv('All seasons for comparison/clutch_time.csv')"
   ]
  },
  {
   "cell_type": "code",
   "execution_count": 3,
   "metadata": {},
   "outputs": [],
   "source": [
    "clutch = pc.add_columns(clutch)"
   ]
  },
  {
   "cell_type": "code",
   "execution_count": 4,
   "metadata": {},
   "outputs": [],
   "source": [
    "col_to_remove = ['a1', 'a2', 'a3','a4','a5','h1','h2','h3','h4','h5', 'play_length', 'entered', 'left', 'possession', 'shot_distance', 'original_x', 'original_y', 'converted_x', 'converted_y', 'num', 'away', 'home', 'outof', 'opponent', 'reason', 'elapsed', 'play_id']\n",
    "clutch = pc.remove_col(clutch, col_to_remove)"
   ]
  },
  {
   "cell_type": "code",
   "execution_count": 5,
   "metadata": {},
   "outputs": [],
   "source": [
    "clutch = pc.remove_junk_rows(clutch, 'event_type')"
   ]
  },
  {
   "cell_type": "code",
   "execution_count": 6,
   "metadata": {},
   "outputs": [],
   "source": [
    "clutch = pc.replace_nan(clutch)"
   ]
  },
  {
   "cell_type": "code",
   "execution_count": 154,
   "metadata": {},
   "outputs": [
    {
     "data": {
      "text/html": [
       "<div>\n",
       "<style scoped>\n",
       "    .dataframe tbody tr th:only-of-type {\n",
       "        vertical-align: middle;\n",
       "    }\n",
       "\n",
       "    .dataframe tbody tr th {\n",
       "        vertical-align: top;\n",
       "    }\n",
       "\n",
       "    .dataframe thead th {\n",
       "        text-align: right;\n",
       "    }\n",
       "</style>\n",
       "<table border=\"1\" class=\"dataframe\">\n",
       "  <thead>\n",
       "    <tr style=\"text-align: right;\">\n",
       "      <th></th>\n",
       "      <th>game_id</th>\n",
       "      <th>data_set</th>\n",
       "      <th>date</th>\n",
       "      <th>a1</th>\n",
       "      <th>a2</th>\n",
       "      <th>a3</th>\n",
       "      <th>a4</th>\n",
       "      <th>a5</th>\n",
       "      <th>h1</th>\n",
       "      <th>h2</th>\n",
       "      <th>h3</th>\n",
       "      <th>h4</th>\n",
       "      <th>h5</th>\n",
       "      <th>period</th>\n",
       "      <th>away_score</th>\n",
       "      <th>home_score</th>\n",
       "      <th>remaining_time</th>\n",
       "      <th>elapsed</th>\n",
       "      <th>play_length</th>\n",
       "      <th>play_id</th>\n",
       "      <th>team</th>\n",
       "      <th>event_type</th>\n",
       "      <th>assist</th>\n",
       "      <th>away</th>\n",
       "      <th>home</th>\n",
       "      <th>block</th>\n",
       "      <th>entered</th>\n",
       "      <th>left</th>\n",
       "      <th>num</th>\n",
       "      <th>opponent</th>\n",
       "      <th>outof</th>\n",
       "      <th>player</th>\n",
       "      <th>points</th>\n",
       "      <th>possession</th>\n",
       "      <th>reason</th>\n",
       "      <th>result</th>\n",
       "      <th>steal</th>\n",
       "      <th>type</th>\n",
       "      <th>shot_distance</th>\n",
       "      <th>original_x</th>\n",
       "      <th>original_y</th>\n",
       "      <th>converted_x</th>\n",
       "      <th>converted_y</th>\n",
       "      <th>description</th>\n",
       "      <th>pts_difference</th>\n",
       "      <th>winner</th>\n",
       "      <th>shots_missed</th>\n",
       "      <th>total_rebound</th>\n",
       "      <th>FT_made</th>\n",
       "      <th>off_rebound</th>\n",
       "      <th>FT_missed</th>\n",
       "      <th>total_blocks</th>\n",
       "      <th>assist_count</th>\n",
       "      <th>shots_made</th>\n",
       "      <th>3pt</th>\n",
       "      <th>3pt_shots</th>\n",
       "      <th>Dunk/Layup</th>\n",
       "      <th>Dunk/Layup_attempts</th>\n",
       "      <th>2pt_med/hard</th>\n",
       "      <th>med/hard_attempts</th>\n",
       "      <th>2fg_attempts</th>\n",
       "    </tr>\n",
       "  </thead>\n",
       "  <tbody>\n",
       "    <tr>\n",
       "      <th>0</th>\n",
       "      <td>=\"0020400001\"</td>\n",
       "      <td>2004-2005 Regular Season</td>\n",
       "      <td>2004-11-02</td>\n",
       "      <td>Jim Jackson</td>\n",
       "      <td>Tracy McGrady</td>\n",
       "      <td>Yao Ming</td>\n",
       "      <td>Charlie Ward</td>\n",
       "      <td>Maurice Taylor</td>\n",
       "      <td>Rasheed Wallace</td>\n",
       "      <td>Richard Hamilton</td>\n",
       "      <td>Ben Wallace</td>\n",
       "      <td>Tayshaun Prince</td>\n",
       "      <td>Chauncey Billups</td>\n",
       "      <td>4</td>\n",
       "      <td>77</td>\n",
       "      <td>83</td>\n",
       "      <td>00:01:41</td>\n",
       "      <td>00:10:19</td>\n",
       "      <td>00:00:00</td>\n",
       "      <td>435</td>\n",
       "      <td>HOU</td>\n",
       "      <td>free throw</td>\n",
       "      <td>NaN</td>\n",
       "      <td>NaN</td>\n",
       "      <td>NaN</td>\n",
       "      <td>NaN</td>\n",
       "      <td>NaN</td>\n",
       "      <td>NaN</td>\n",
       "      <td>2.0</td>\n",
       "      <td>NaN</td>\n",
       "      <td>2.0</td>\n",
       "      <td>Maurice Taylor</td>\n",
       "      <td>1.0</td>\n",
       "      <td>NaN</td>\n",
       "      <td>NaN</td>\n",
       "      <td>made</td>\n",
       "      <td>NaN</td>\n",
       "      <td>Free Throw 2 of 2</td>\n",
       "      <td>NaN</td>\n",
       "      <td>NaN</td>\n",
       "      <td>NaN</td>\n",
       "      <td>NaN</td>\n",
       "      <td>NaN</td>\n",
       "      <td>Taylor Free Throw 2 of 2 (10 PTS)</td>\n",
       "      <td>-6</td>\n",
       "      <td>NaN</td>\n",
       "      <td>0</td>\n",
       "      <td>0</td>\n",
       "      <td>1</td>\n",
       "      <td>0</td>\n",
       "      <td>0</td>\n",
       "      <td>1</td>\n",
       "      <td>1</td>\n",
       "      <td>0</td>\n",
       "      <td>0</td>\n",
       "      <td>0</td>\n",
       "      <td>0</td>\n",
       "      <td>0</td>\n",
       "      <td>0</td>\n",
       "      <td>0</td>\n",
       "      <td>0</td>\n",
       "    </tr>\n",
       "    <tr>\n",
       "      <th>1</th>\n",
       "      <td>=\"0020400001\"</td>\n",
       "      <td>2004-2005 Regular Season</td>\n",
       "      <td>2004-11-02</td>\n",
       "      <td>Jim Jackson</td>\n",
       "      <td>Tracy McGrady</td>\n",
       "      <td>Yao Ming</td>\n",
       "      <td>Charlie Ward</td>\n",
       "      <td>Maurice Taylor</td>\n",
       "      <td>Rasheed Wallace</td>\n",
       "      <td>Richard Hamilton</td>\n",
       "      <td>Ben Wallace</td>\n",
       "      <td>Tayshaun Prince</td>\n",
       "      <td>Chauncey Billups</td>\n",
       "      <td>4</td>\n",
       "      <td>77</td>\n",
       "      <td>83</td>\n",
       "      <td>00:01:21</td>\n",
       "      <td>00:10:39</td>\n",
       "      <td>00:00:20</td>\n",
       "      <td>436</td>\n",
       "      <td>DET</td>\n",
       "      <td>miss</td>\n",
       "      <td>NaN</td>\n",
       "      <td>NaN</td>\n",
       "      <td>NaN</td>\n",
       "      <td>Tracy McGrady</td>\n",
       "      <td>NaN</td>\n",
       "      <td>NaN</td>\n",
       "      <td>NaN</td>\n",
       "      <td>NaN</td>\n",
       "      <td>NaN</td>\n",
       "      <td>Tayshaun Prince</td>\n",
       "      <td>0.0</td>\n",
       "      <td>NaN</td>\n",
       "      <td>NaN</td>\n",
       "      <td>missed</td>\n",
       "      <td>NaN</td>\n",
       "      <td>Layup</td>\n",
       "      <td>0.0</td>\n",
       "      <td>0</td>\n",
       "      <td>0</td>\n",
       "      <td>25</td>\n",
       "      <td>89</td>\n",
       "      <td>McGrady BLOCK (1 BLK), MISS Prince  Layup</td>\n",
       "      <td>-6</td>\n",
       "      <td>NaN</td>\n",
       "      <td>1</td>\n",
       "      <td>0</td>\n",
       "      <td>0</td>\n",
       "      <td>0</td>\n",
       "      <td>0</td>\n",
       "      <td>1</td>\n",
       "      <td>1</td>\n",
       "      <td>0</td>\n",
       "      <td>0</td>\n",
       "      <td>0</td>\n",
       "      <td>0</td>\n",
       "      <td>1</td>\n",
       "      <td>0</td>\n",
       "      <td>0</td>\n",
       "      <td>1</td>\n",
       "    </tr>\n",
       "    <tr>\n",
       "      <th>2</th>\n",
       "      <td>=\"0020400001\"</td>\n",
       "      <td>2004-2005 Regular Season</td>\n",
       "      <td>2004-11-02</td>\n",
       "      <td>Jim Jackson</td>\n",
       "      <td>Tracy McGrady</td>\n",
       "      <td>Yao Ming</td>\n",
       "      <td>Charlie Ward</td>\n",
       "      <td>Maurice Taylor</td>\n",
       "      <td>Rasheed Wallace</td>\n",
       "      <td>Richard Hamilton</td>\n",
       "      <td>Ben Wallace</td>\n",
       "      <td>Tayshaun Prince</td>\n",
       "      <td>Chauncey Billups</td>\n",
       "      <td>4</td>\n",
       "      <td>77</td>\n",
       "      <td>83</td>\n",
       "      <td>00:01:20</td>\n",
       "      <td>00:10:40</td>\n",
       "      <td>00:00:01</td>\n",
       "      <td>437</td>\n",
       "      <td>DET</td>\n",
       "      <td>rebound</td>\n",
       "      <td>NaN</td>\n",
       "      <td>NaN</td>\n",
       "      <td>NaN</td>\n",
       "      <td>NaN</td>\n",
       "      <td>NaN</td>\n",
       "      <td>NaN</td>\n",
       "      <td>NaN</td>\n",
       "      <td>NaN</td>\n",
       "      <td>NaN</td>\n",
       "      <td>Tayshaun Prince</td>\n",
       "      <td>NaN</td>\n",
       "      <td>NaN</td>\n",
       "      <td>NaN</td>\n",
       "      <td>NaN</td>\n",
       "      <td>NaN</td>\n",
       "      <td>rebound offensive</td>\n",
       "      <td>NaN</td>\n",
       "      <td>NaN</td>\n",
       "      <td>NaN</td>\n",
       "      <td>NaN</td>\n",
       "      <td>NaN</td>\n",
       "      <td>Prince REBOUND (Off:1 Def:3)</td>\n",
       "      <td>-6</td>\n",
       "      <td>NaN</td>\n",
       "      <td>0</td>\n",
       "      <td>1</td>\n",
       "      <td>0</td>\n",
       "      <td>1</td>\n",
       "      <td>0</td>\n",
       "      <td>1</td>\n",
       "      <td>1</td>\n",
       "      <td>0</td>\n",
       "      <td>0</td>\n",
       "      <td>0</td>\n",
       "      <td>0</td>\n",
       "      <td>0</td>\n",
       "      <td>0</td>\n",
       "      <td>0</td>\n",
       "      <td>0</td>\n",
       "    </tr>\n",
       "    <tr>\n",
       "      <th>3</th>\n",
       "      <td>=\"0020400001\"</td>\n",
       "      <td>2004-2005 Regular Season</td>\n",
       "      <td>2004-11-02</td>\n",
       "      <td>Jim Jackson</td>\n",
       "      <td>Tracy McGrady</td>\n",
       "      <td>Yao Ming</td>\n",
       "      <td>Charlie Ward</td>\n",
       "      <td>Maurice Taylor</td>\n",
       "      <td>Rasheed Wallace</td>\n",
       "      <td>Richard Hamilton</td>\n",
       "      <td>Ben Wallace</td>\n",
       "      <td>Tayshaun Prince</td>\n",
       "      <td>Chauncey Billups</td>\n",
       "      <td>4</td>\n",
       "      <td>79</td>\n",
       "      <td>85</td>\n",
       "      <td>00:00:58</td>\n",
       "      <td>00:11:02</td>\n",
       "      <td>00:00:12</td>\n",
       "      <td>443</td>\n",
       "      <td>HOU</td>\n",
       "      <td>shot</td>\n",
       "      <td>NaN</td>\n",
       "      <td>NaN</td>\n",
       "      <td>NaN</td>\n",
       "      <td>NaN</td>\n",
       "      <td>NaN</td>\n",
       "      <td>NaN</td>\n",
       "      <td>NaN</td>\n",
       "      <td>NaN</td>\n",
       "      <td>NaN</td>\n",
       "      <td>Maurice Taylor</td>\n",
       "      <td>2.0</td>\n",
       "      <td>NaN</td>\n",
       "      <td>NaN</td>\n",
       "      <td>made</td>\n",
       "      <td>NaN</td>\n",
       "      <td>Jump Shot</td>\n",
       "      <td>17.0</td>\n",
       "      <td>136</td>\n",
       "      <td>100</td>\n",
       "      <td>11.4</td>\n",
       "      <td>15</td>\n",
       "      <td>Taylor 17' Jump Shot (12 PTS)</td>\n",
       "      <td>-6</td>\n",
       "      <td>NaN</td>\n",
       "      <td>0</td>\n",
       "      <td>0</td>\n",
       "      <td>0</td>\n",
       "      <td>0</td>\n",
       "      <td>0</td>\n",
       "      <td>1</td>\n",
       "      <td>1</td>\n",
       "      <td>1</td>\n",
       "      <td>0</td>\n",
       "      <td>0</td>\n",
       "      <td>0</td>\n",
       "      <td>0</td>\n",
       "      <td>1</td>\n",
       "      <td>1</td>\n",
       "      <td>1</td>\n",
       "    </tr>\n",
       "    <tr>\n",
       "      <th>4</th>\n",
       "      <td>=\"0020400001\"</td>\n",
       "      <td>2004-2005 Regular Season</td>\n",
       "      <td>2004-11-02</td>\n",
       "      <td>Jim Jackson</td>\n",
       "      <td>Tracy McGrady</td>\n",
       "      <td>Yao Ming</td>\n",
       "      <td>Charlie Ward</td>\n",
       "      <td>Maurice Taylor</td>\n",
       "      <td>Rasheed Wallace</td>\n",
       "      <td>Richard Hamilton</td>\n",
       "      <td>Ben Wallace</td>\n",
       "      <td>Tayshaun Prince</td>\n",
       "      <td>Chauncey Billups</td>\n",
       "      <td>4</td>\n",
       "      <td>79</td>\n",
       "      <td>85</td>\n",
       "      <td>00:00:40</td>\n",
       "      <td>00:11:20</td>\n",
       "      <td>00:00:18</td>\n",
       "      <td>444</td>\n",
       "      <td>DET</td>\n",
       "      <td>miss</td>\n",
       "      <td>NaN</td>\n",
       "      <td>NaN</td>\n",
       "      <td>NaN</td>\n",
       "      <td>NaN</td>\n",
       "      <td>NaN</td>\n",
       "      <td>NaN</td>\n",
       "      <td>NaN</td>\n",
       "      <td>NaN</td>\n",
       "      <td>NaN</td>\n",
       "      <td>Rasheed Wallace</td>\n",
       "      <td>0.0</td>\n",
       "      <td>NaN</td>\n",
       "      <td>NaN</td>\n",
       "      <td>missed</td>\n",
       "      <td>NaN</td>\n",
       "      <td>Jump Shot</td>\n",
       "      <td>27.0</td>\n",
       "      <td>174</td>\n",
       "      <td>207</td>\n",
       "      <td>42.4</td>\n",
       "      <td>68.3</td>\n",
       "      <td>MISS Wallace 27' 3PT Jump Shot</td>\n",
       "      <td>-6</td>\n",
       "      <td>NaN</td>\n",
       "      <td>1</td>\n",
       "      <td>0</td>\n",
       "      <td>0</td>\n",
       "      <td>0</td>\n",
       "      <td>0</td>\n",
       "      <td>1</td>\n",
       "      <td>1</td>\n",
       "      <td>0</td>\n",
       "      <td>0</td>\n",
       "      <td>1</td>\n",
       "      <td>0</td>\n",
       "      <td>0</td>\n",
       "      <td>0</td>\n",
       "      <td>0</td>\n",
       "      <td>0</td>\n",
       "    </tr>\n",
       "  </tbody>\n",
       "</table>\n",
       "</div>"
      ],
      "text/plain": [
       "         game_id                  data_set        date           a1  \\\n",
       "0  =\"0020400001\"  2004-2005 Regular Season  2004-11-02  Jim Jackson   \n",
       "1  =\"0020400001\"  2004-2005 Regular Season  2004-11-02  Jim Jackson   \n",
       "2  =\"0020400001\"  2004-2005 Regular Season  2004-11-02  Jim Jackson   \n",
       "3  =\"0020400001\"  2004-2005 Regular Season  2004-11-02  Jim Jackson   \n",
       "4  =\"0020400001\"  2004-2005 Regular Season  2004-11-02  Jim Jackson   \n",
       "\n",
       "              a2        a3            a4              a5               h1  \\\n",
       "0  Tracy McGrady  Yao Ming  Charlie Ward  Maurice Taylor  Rasheed Wallace   \n",
       "1  Tracy McGrady  Yao Ming  Charlie Ward  Maurice Taylor  Rasheed Wallace   \n",
       "2  Tracy McGrady  Yao Ming  Charlie Ward  Maurice Taylor  Rasheed Wallace   \n",
       "3  Tracy McGrady  Yao Ming  Charlie Ward  Maurice Taylor  Rasheed Wallace   \n",
       "4  Tracy McGrady  Yao Ming  Charlie Ward  Maurice Taylor  Rasheed Wallace   \n",
       "\n",
       "                 h2           h3               h4                h5  period  \\\n",
       "0  Richard Hamilton  Ben Wallace  Tayshaun Prince  Chauncey Billups       4   \n",
       "1  Richard Hamilton  Ben Wallace  Tayshaun Prince  Chauncey Billups       4   \n",
       "2  Richard Hamilton  Ben Wallace  Tayshaun Prince  Chauncey Billups       4   \n",
       "3  Richard Hamilton  Ben Wallace  Tayshaun Prince  Chauncey Billups       4   \n",
       "4  Richard Hamilton  Ben Wallace  Tayshaun Prince  Chauncey Billups       4   \n",
       "\n",
       "   away_score  home_score remaining_time   elapsed play_length  play_id team  \\\n",
       "0          77          83       00:01:41  00:10:19    00:00:00      435  HOU   \n",
       "1          77          83       00:01:21  00:10:39    00:00:20      436  DET   \n",
       "2          77          83       00:01:20  00:10:40    00:00:01      437  DET   \n",
       "3          79          85       00:00:58  00:11:02    00:00:12      443  HOU   \n",
       "4          79          85       00:00:40  00:11:20    00:00:18      444  DET   \n",
       "\n",
       "   event_type assist away home          block entered left  num opponent  \\\n",
       "0  free throw    NaN  NaN  NaN            NaN     NaN  NaN  2.0      NaN   \n",
       "1        miss    NaN  NaN  NaN  Tracy McGrady     NaN  NaN  NaN      NaN   \n",
       "2     rebound    NaN  NaN  NaN            NaN     NaN  NaN  NaN      NaN   \n",
       "3        shot    NaN  NaN  NaN            NaN     NaN  NaN  NaN      NaN   \n",
       "4        miss    NaN  NaN  NaN            NaN     NaN  NaN  NaN      NaN   \n",
       "\n",
       "   outof           player  points possession reason  result steal  \\\n",
       "0    2.0   Maurice Taylor     1.0        NaN    NaN    made   NaN   \n",
       "1    NaN  Tayshaun Prince     0.0        NaN    NaN  missed   NaN   \n",
       "2    NaN  Tayshaun Prince     NaN        NaN    NaN     NaN   NaN   \n",
       "3    NaN   Maurice Taylor     2.0        NaN    NaN    made   NaN   \n",
       "4    NaN  Rasheed Wallace     0.0        NaN    NaN  missed   NaN   \n",
       "\n",
       "                type  shot_distance original_x original_y converted_x  \\\n",
       "0  Free Throw 2 of 2            NaN        NaN        NaN         NaN   \n",
       "1              Layup            0.0          0          0          25   \n",
       "2  rebound offensive            NaN        NaN        NaN         NaN   \n",
       "3          Jump Shot           17.0        136        100        11.4   \n",
       "4          Jump Shot           27.0        174        207        42.4   \n",
       "\n",
       "  converted_y                                description  pts_difference  \\\n",
       "0         NaN          Taylor Free Throw 2 of 2 (10 PTS)              -6   \n",
       "1          89  McGrady BLOCK (1 BLK), MISS Prince  Layup              -6   \n",
       "2         NaN               Prince REBOUND (Off:1 Def:3)              -6   \n",
       "3          15              Taylor 17' Jump Shot (12 PTS)              -6   \n",
       "4        68.3             MISS Wallace 27' 3PT Jump Shot              -6   \n",
       "\n",
       "  winner  shots_missed  total_rebound  FT_made  off_rebound  FT_missed  \\\n",
       "0    NaN             0              0        1            0          0   \n",
       "1    NaN             1              0        0            0          0   \n",
       "2    NaN             0              1        0            1          0   \n",
       "3    NaN             0              0        0            0          0   \n",
       "4    NaN             1              0        0            0          0   \n",
       "\n",
       "   total_blocks  assist_count  shots_made  3pt 3pt_shots  Dunk/Layup  \\\n",
       "0             1             1           0    0         0           0   \n",
       "1             1             1           0    0         0           0   \n",
       "2             1             1           0    0         0           0   \n",
       "3             1             1           1    0         0           0   \n",
       "4             1             1           0    0         1           0   \n",
       "\n",
       "   Dunk/Layup_attempts  2pt_med/hard med/hard_attempts 2fg_attempts  \n",
       "0                    0             0                 0            0  \n",
       "1                    1             0                 0            1  \n",
       "2                    0             0                 0            0  \n",
       "3                    0             1                 1            1  \n",
       "4                    0             0                 0            0  "
      ]
     },
     "execution_count": 154,
     "metadata": {},
     "output_type": "execute_result"
    }
   ],
   "source": [
    "clutch.head()"
   ]
  },
  {
   "cell_type": "code",
   "execution_count": 17,
   "metadata": {},
   "outputs": [],
   "source": [
    "clutch = pc.remove_not_imp_games(clutch, 'game_id')"
   ]
  },
  {
   "cell_type": "markdown",
   "metadata": {},
   "source": [
    "# 3pt stats for all players"
   ]
  },
  {
   "cell_type": "code",
   "execution_count": 110,
   "metadata": {},
   "outputs": [],
   "source": [
    "x = clutch[['player', '3pt', '3pt_shots']]\n",
    "x = x[x['3pt_shots']==1]\n",
    "threes = x.groupby('player').sum()\n",
    "threes['3pt%'] = round((threes['3pt']/ threes['3pt_shots'])*100,2)\n",
    "threes.reset_index(level=0, inplace=True)"
   ]
  },
  {
   "cell_type": "markdown",
   "metadata": {},
   "source": [
    "# 2pt stats for all players"
   ]
  },
  {
   "cell_type": "code",
   "execution_count": 108,
   "metadata": {},
   "outputs": [],
   "source": [
    "x = clutch[['player', '2pt_med/hard', 'Dunk/Layup', '2fg_attempts']]\n",
    "x = x[x['2fg_attempts']==1]\n",
    "twos = x.groupby('player').sum()\n",
    "twos['2fg_made'] = twos['2pt_med/hard'] + twos['Dunk/Layup']\n",
    "twos['2pt%'] = round((twos['2fg_made']/ twos['2fg_attempts'])*100,2)\n",
    "twos = twos.drop(['2pt_med/hard', 'Dunk/Layup'], axis = 1)\n",
    "twos.reset_index(level=0, inplace=True)"
   ]
  },
  {
   "cell_type": "code",
   "execution_count": 130,
   "metadata": {
    "scrolled": true
   },
   "outputs": [],
   "source": [
    "games = pc.get_total_games(clutch)\n",
    "games.reset_index(level=0, inplace=True)\n",
    "games = games.drop('index', axis = 1)\n"
   ]
  },
  {
   "cell_type": "markdown",
   "metadata": {},
   "source": [
    "# Total Shots"
   ]
  },
  {
   "cell_type": "code",
   "execution_count": 179,
   "metadata": {},
   "outputs": [],
   "source": [
    "x = clutch[['player', 'shots_missed', 'shots_made']]\n",
    "x = x[(x['shots_missed'] ==1) | x['shots_made']==1]\n",
    "x['total_shots'] = x['shots_missed'] + x['shots_made']\n",
    "x = x.drop('shots_missed', axis =1)\n",
    "total_fg = x.groupby('player').sum()\n",
    "total_fg.reset_index(level=0, inplace=True)\n",
    "total_fg['shooting%'] = round((total_fg['shots_made']/total_fg['total_shots'])*100,2)"
   ]
  },
  {
   "cell_type": "markdown",
   "metadata": {},
   "source": [
    "# FT stats"
   ]
  },
  {
   "cell_type": "code",
   "execution_count": 180,
   "metadata": {},
   "outputs": [],
   "source": [
    "x = clutch[['player', 'FT_missed', 'FT_made']]\n",
    "x = x[(x['FT_missed'] ==1) | x['FT_made']==1]\n",
    "x['FT_Attempts'] = x['FT_missed'] + x['FT_made']\n",
    "x = x.drop('FT_missed', axis =1)\n",
    "FT = x.groupby('player').sum()\n",
    "FT.reset_index(level=0, inplace=True)\n",
    "FT['FT%'] = round((FT['FT_made']/FT['FT_Attempts'])*100,2)"
   ]
  },
  {
   "cell_type": "markdown",
   "metadata": {},
   "source": [
    "# off rebounds, assists, & block stats"
   ]
  },
  {
   "cell_type": "code",
   "execution_count": 83,
   "metadata": {},
   "outputs": [],
   "source": [
    "clutch['assist_count'] = (clutch['assist']!='')*1\n",
    "clutch['total_blocks'] = (clutch['block']!='')*1"
   ]
  },
  {
   "cell_type": "code",
   "execution_count": 111,
   "metadata": {},
   "outputs": [],
   "source": [
    "x = clutch[['player', 'assist_count']]\n",
    "x = x[x['assist_count']==1]\n",
    "asts = x.groupby('player').sum()\n",
    "asts.reset_index(level=0, inplace=True)"
   ]
  },
  {
   "cell_type": "code",
   "execution_count": 112,
   "metadata": {},
   "outputs": [],
   "source": [
    "x = clutch[['player', 'total_blocks']]\n",
    "x = x[x['total_blocks']==1]\n",
    "blks = x.groupby('player').sum()\n",
    "blks.reset_index(level=0, inplace=True)"
   ]
  },
  {
   "cell_type": "code",
   "execution_count": 113,
   "metadata": {},
   "outputs": [],
   "source": [
    "x = clutch[['player', 'off_rebound']]\n",
    "x = x[x['off_rebound']==1]\n",
    "off_rebound = x.groupby('player').sum()\n",
    "off_rebound.reset_index(level=0, inplace=True)"
   ]
  },
  {
   "cell_type": "code",
   "execution_count": 218,
   "metadata": {},
   "outputs": [],
   "source": [
    "non_shooting_stats = pd.merge(pd.merge(asts, blks, on= 'player', how='outer'), off_rebound, on= 'player', how='outer')"
   ]
  },
  {
   "cell_type": "code",
   "execution_count": 219,
   "metadata": {},
   "outputs": [],
   "source": [
    "shooting_stats = pd.merge(pd.merge(games, twos, on= 'player', how='outer'), threes, on= 'player', how='outer')"
   ]
  },
  {
   "cell_type": "code",
   "execution_count": 220,
   "metadata": {},
   "outputs": [],
   "source": [
    "full_stats = pd.merge(pd.merge(shooting_stats, total_fg, on= 'player', how='outer'), FT, on= 'player', how='outer')"
   ]
  },
  {
   "cell_type": "code",
   "execution_count": 221,
   "metadata": {},
   "outputs": [],
   "source": [
    "full_stats = pd.merge(full_stats, non_shooting_stats, on= 'player', how='outer')"
   ]
  },
  {
   "cell_type": "code",
   "execution_count": 222,
   "metadata": {},
   "outputs": [],
   "source": [
    "full_stats = full_stats.fillna(0)"
   ]
  },
  {
   "cell_type": "code",
   "execution_count": 223,
   "metadata": {},
   "outputs": [],
   "source": [
    "cols = ['2fg_attempts', '2fg_made', '3pt','3pt_shots', 'shots_made', 'total_shots', 'FT_made', 'FT_Attempts', 'assist_count', 'total_blocks','off_rebound']"
   ]
  },
  {
   "cell_type": "code",
   "execution_count": 224,
   "metadata": {},
   "outputs": [],
   "source": [
    "def get_ints(df, col):\n",
    "    for name in col:\n",
    "        df[col] = df[col].astype(np.int64)\n",
    "    return df"
   ]
  },
  {
   "cell_type": "code",
   "execution_count": 225,
   "metadata": {},
   "outputs": [],
   "source": [
    "full_stats = get_ints(full_stats, cols)"
   ]
  },
  {
   "cell_type": "code",
   "execution_count": 227,
   "metadata": {},
   "outputs": [
    {
     "data": {
      "text/plain": [
       "Index(['player', 'total_games', '2pt_attempts', '2pt_made', '2pt%', '3pt_made',\n",
       "       '3pt_attempts', '3pt%', 'shots_made', 'total_shots', 'shooting%',\n",
       "       'FT_made', 'FT_Attempts', 'FT%', 'total_assists', 'total_blocks',\n",
       "       'off_rebound'],\n",
       "      dtype='object')"
      ]
     },
     "execution_count": 227,
     "metadata": {},
     "output_type": "execute_result"
    }
   ],
   "source": [
    "full_stats.columns"
   ]
  },
  {
   "cell_type": "markdown",
   "metadata": {},
   "source": []
  },
  {
   "cell_type": "code",
   "execution_count": 226,
   "metadata": {},
   "outputs": [],
   "source": [
    "full_stats = full_stats.rename(columns={'2fg_attempts':'2pt_attempts', '2fg_made':'2pt_made', 'assist_count': 'total_assists', '3pt': '3pt_made', '3pt_shots': '3pt_attempts'})"
   ]
  },
  {
   "cell_type": "code",
   "execution_count": 228,
   "metadata": {},
   "outputs": [],
   "source": [
    "full_stats = full_stats[['player', 'total_games', 'shots_made', 'total_shots', 'shooting%','2pt_made', '2pt_attempts', '2pt%', '3pt_made','3pt_attempts', '3pt%','FT_made', 'FT_Attempts', 'FT%', 'total_assists', 'total_blocks', 'off_rebound']]"
   ]
  },
  {
   "cell_type": "code",
   "execution_count": 230,
   "metadata": {},
   "outputs": [],
   "source": [
    "full_stats.to_csv('stats_for_flask', encoding='utf-8', index=False)"
   ]
  },
  {
   "cell_type": "code",
   "execution_count": null,
   "metadata": {},
   "outputs": [],
   "source": []
  },
  {
   "cell_type": "code",
   "execution_count": 7,
   "metadata": {},
   "outputs": [],
   "source": [
    "import pickle"
   ]
  },
  {
   "cell_type": "code",
   "execution_count": 13,
   "metadata": {},
   "outputs": [],
   "source": [
    "clutch_stats = pd.read_csv('All seasons for comparison/stats_for_flask')"
   ]
  },
  {
   "cell_type": "code",
   "execution_count": 14,
   "metadata": {},
   "outputs": [],
   "source": [
    "#Get complete stats for a player\n",
    "def player_stat(name1, name2, name3):\n",
    "    player1 = (clutch_stats.loc[clutch_stats['player'] == name1]) \n",
    "    player2 = (clutch_stats.loc[clutch_stats['player'] == name2])\n",
    "    player3 = (clutch_stats.loc[clutch_stats['player'] == name3])\n",
    "    both = pd.merge(pd.merge(player1,player2, how = 'outer'), player3, how = 'outer')\n",
    "    both = both.T\n",
    "    both.reset_index(level=0, inplace=True)\n",
    "    both.columns = both.iloc[0]\n",
    "    stats = both.reindex(both.index.drop(0))\n",
    "    stats = stats.rename(columns={'player':' '})\n",
    "    stats = stats.set_index(' ')\n",
    "    stats = stats.drop(['shots_made', '2pt_made', '3pt_made', 'FT_made'])\n",
    "    return stats"
   ]
  },
  {
   "cell_type": "code",
   "execution_count": 9,
   "metadata": {},
   "outputs": [],
   "source": [
    "f = player_stat('LeBron James', 'Joe Johnson', 'Kobe Bryant')\n"
   ]
  },
  {
   "cell_type": "code",
   "execution_count": 10,
   "metadata": {},
   "outputs": [
    {
     "data": {
      "text/html": [
       "<div>\n",
       "<style scoped>\n",
       "    .dataframe tbody tr th:only-of-type {\n",
       "        vertical-align: middle;\n",
       "    }\n",
       "\n",
       "    .dataframe tbody tr th {\n",
       "        vertical-align: top;\n",
       "    }\n",
       "\n",
       "    .dataframe thead th {\n",
       "        text-align: right;\n",
       "    }\n",
       "</style>\n",
       "<table border=\"1\" class=\"dataframe\">\n",
       "  <thead>\n",
       "    <tr style=\"text-align: right;\">\n",
       "      <th></th>\n",
       "      <th>player</th>\n",
       "      <th>total_games</th>\n",
       "      <th>shots_made</th>\n",
       "      <th>total_shots</th>\n",
       "      <th>shooting%</th>\n",
       "      <th>2pt_made</th>\n",
       "      <th>2pt_attempts</th>\n",
       "      <th>2pt%</th>\n",
       "      <th>3pt_made</th>\n",
       "      <th>3pt_attempts</th>\n",
       "      <th>3pt%</th>\n",
       "      <th>FT_made</th>\n",
       "      <th>FT_Attempts</th>\n",
       "      <th>FT%</th>\n",
       "      <th>total_assists</th>\n",
       "      <th>total_blocks</th>\n",
       "      <th>off_rebound</th>\n",
       "    </tr>\n",
       "  </thead>\n",
       "  <tbody>\n",
       "    <tr>\n",
       "      <th>0</th>\n",
       "      <td>LeBron James</td>\n",
       "      <td>358</td>\n",
       "      <td>338</td>\n",
       "      <td>770</td>\n",
       "      <td>43.90</td>\n",
       "      <td>260</td>\n",
       "      <td>496</td>\n",
       "      <td>52.42</td>\n",
       "      <td>78</td>\n",
       "      <td>274</td>\n",
       "      <td>28.47</td>\n",
       "      <td>453</td>\n",
       "      <td>615</td>\n",
       "      <td>73.66</td>\n",
       "      <td>80</td>\n",
       "      <td>44</td>\n",
       "      <td>52</td>\n",
       "    </tr>\n",
       "    <tr>\n",
       "      <th>1</th>\n",
       "      <td>Dirk Nowitzki</td>\n",
       "      <td>341</td>\n",
       "      <td>249</td>\n",
       "      <td>607</td>\n",
       "      <td>41.02</td>\n",
       "      <td>198</td>\n",
       "      <td>445</td>\n",
       "      <td>44.49</td>\n",
       "      <td>51</td>\n",
       "      <td>162</td>\n",
       "      <td>31.48</td>\n",
       "      <td>320</td>\n",
       "      <td>362</td>\n",
       "      <td>88.40</td>\n",
       "      <td>126</td>\n",
       "      <td>21</td>\n",
       "      <td>37</td>\n",
       "    </tr>\n",
       "    <tr>\n",
       "      <th>2</th>\n",
       "      <td>Joe Johnson</td>\n",
       "      <td>309</td>\n",
       "      <td>237</td>\n",
       "      <td>604</td>\n",
       "      <td>39.24</td>\n",
       "      <td>164</td>\n",
       "      <td>398</td>\n",
       "      <td>41.21</td>\n",
       "      <td>73</td>\n",
       "      <td>206</td>\n",
       "      <td>35.44</td>\n",
       "      <td>221</td>\n",
       "      <td>267</td>\n",
       "      <td>82.77</td>\n",
       "      <td>80</td>\n",
       "      <td>30</td>\n",
       "      <td>23</td>\n",
       "    </tr>\n",
       "    <tr>\n",
       "      <th>3</th>\n",
       "      <td>Chris Paul</td>\n",
       "      <td>308</td>\n",
       "      <td>203</td>\n",
       "      <td>532</td>\n",
       "      <td>38.16</td>\n",
       "      <td>180</td>\n",
       "      <td>416</td>\n",
       "      <td>43.27</td>\n",
       "      <td>23</td>\n",
       "      <td>116</td>\n",
       "      <td>19.83</td>\n",
       "      <td>375</td>\n",
       "      <td>437</td>\n",
       "      <td>85.81</td>\n",
       "      <td>26</td>\n",
       "      <td>28</td>\n",
       "      <td>21</td>\n",
       "    </tr>\n",
       "    <tr>\n",
       "      <th>4</th>\n",
       "      <td>Carmelo Anthony</td>\n",
       "      <td>306</td>\n",
       "      <td>240</td>\n",
       "      <td>602</td>\n",
       "      <td>39.87</td>\n",
       "      <td>194</td>\n",
       "      <td>455</td>\n",
       "      <td>42.64</td>\n",
       "      <td>46</td>\n",
       "      <td>147</td>\n",
       "      <td>31.29</td>\n",
       "      <td>298</td>\n",
       "      <td>365</td>\n",
       "      <td>81.64</td>\n",
       "      <td>89</td>\n",
       "      <td>49</td>\n",
       "      <td>67</td>\n",
       "    </tr>\n",
       "  </tbody>\n",
       "</table>\n",
       "</div>"
      ],
      "text/plain": [
       "            player  total_games  shots_made  total_shots  shooting%  2pt_made  \\\n",
       "0     LeBron James          358         338          770      43.90       260   \n",
       "1    Dirk Nowitzki          341         249          607      41.02       198   \n",
       "2      Joe Johnson          309         237          604      39.24       164   \n",
       "3       Chris Paul          308         203          532      38.16       180   \n",
       "4  Carmelo Anthony          306         240          602      39.87       194   \n",
       "\n",
       "   2pt_attempts   2pt%  3pt_made  3pt_attempts   3pt%  FT_made  FT_Attempts  \\\n",
       "0           496  52.42        78           274  28.47      453          615   \n",
       "1           445  44.49        51           162  31.48      320          362   \n",
       "2           398  41.21        73           206  35.44      221          267   \n",
       "3           416  43.27        23           116  19.83      375          437   \n",
       "4           455  42.64        46           147  31.29      298          365   \n",
       "\n",
       "     FT%  total_assists  total_blocks  off_rebound  \n",
       "0  73.66             80            44           52  \n",
       "1  88.40            126            21           37  \n",
       "2  82.77             80            30           23  \n",
       "3  85.81             26            28           21  \n",
       "4  81.64             89            49           67  "
      ]
     },
     "execution_count": 10,
     "metadata": {},
     "output_type": "execute_result"
    }
   ],
   "source": [
    "clutch_stats.head()"
   ]
  },
  {
   "cell_type": "code",
   "execution_count": 23,
   "metadata": {},
   "outputs": [
    {
     "data": {
      "text/plain": [
       "58.36944937833037"
      ]
     },
     "execution_count": 23,
     "metadata": {},
     "output_type": "execute_result"
    }
   ],
   "source": [
    "clutch_stats.total_shots.mean()"
   ]
  },
  {
   "cell_type": "code",
   "execution_count": 19,
   "metadata": {},
   "outputs": [],
   "source": [
    "x = (clutch_stats.total_games > clutch_stats.total_games.mean())"
   ]
  },
  {
   "cell_type": "code",
   "execution_count": 20,
   "metadata": {},
   "outputs": [
    {
     "data": {
      "text/plain": [
       "False    760\n",
       "True     366\n",
       "Name: total_games, dtype: int64"
      ]
     },
     "execution_count": 20,
     "metadata": {},
     "output_type": "execute_result"
    }
   ],
   "source": [
    "x.value_counts()"
   ]
  },
  {
   "cell_type": "code",
   "execution_count": 25,
   "metadata": {},
   "outputs": [],
   "source": [
    "q = clutch_stats.total_shots>clutch_stats.total_shots.mean()"
   ]
  },
  {
   "cell_type": "code",
   "execution_count": 26,
   "metadata": {},
   "outputs": [
    {
     "data": {
      "text/plain": [
       "False    809\n",
       "True     317\n",
       "Name: total_shots, dtype: int64"
      ]
     },
     "execution_count": 26,
     "metadata": {},
     "output_type": "execute_result"
    }
   ],
   "source": [
    "q.value_counts()"
   ]
  },
  {
   "cell_type": "code",
   "execution_count": 27,
   "metadata": {},
   "outputs": [
    {
     "data": {
      "text/plain": [
       "0.28152753108348133"
      ]
     },
     "execution_count": 27,
     "metadata": {},
     "output_type": "execute_result"
    }
   ],
   "source": [
    "317/(317+809)"
   ]
  },
  {
   "cell_type": "code",
   "execution_count": null,
   "metadata": {},
   "outputs": [],
   "source": []
  }
 ],
 "metadata": {
  "kernelspec": {
   "display_name": "Python 3",
   "language": "python",
   "name": "python3"
  },
  "language_info": {
   "codemirror_mode": {
    "name": "ipython",
    "version": 3
   },
   "file_extension": ".py",
   "mimetype": "text/x-python",
   "name": "python",
   "nbconvert_exporter": "python",
   "pygments_lexer": "ipython3",
   "version": "3.6.5"
  }
 },
 "nbformat": 4,
 "nbformat_minor": 2
}
